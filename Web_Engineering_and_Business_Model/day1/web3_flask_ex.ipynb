{
 "cells": [
  {
   "cell_type": "markdown",
   "metadata": {},
   "source": [
    "# Flaskのことはじめ"
   ]
  },
  {
   "cell_type": "markdown",
   "metadata": {},
   "source": [
    "---"
   ]
  },
  {
   "cell_type": "markdown",
   "metadata": {},
   "source": [
    "## Flaskとは\n",
    "\n",
    "- Flaskとは、PythonのWebフレームワークの1つ\n",
    "    - 超軽量 （Webフレームワーク djangoとの比較）\n",
    "- 数行でWebアプリケーションが作れる！\n",
    "- iLectでは、ポートが限られているため、Apacheのポートを閉じて、Fluskに使用します\n",
    "\n",
    "```\n",
    "$ apachectl stop\n",
    "\n",
    "```"
   ]
  },
  {
   "cell_type": "markdown",
   "metadata": {},
   "source": [
    "---"
   ]
  },
  {
   "cell_type": "markdown",
   "metadata": {},
   "source": [
    "## インストール\n",
    "- iLectには予めインストールしてあるので必要ない\n",
    "- gunicornをpipで各自インストール"
   ]
  },
  {
   "cell_type": "markdown",
   "metadata": {},
   "source": [
    "```\n",
    "# install\n",
    "pip install gunicorn\n",
    "```"
   ]
  },
  {
   "cell_type": "markdown",
   "metadata": {},
   "source": [
    "##  !!!app0.py をFlaskで起動したいときは以下のコマンドをうつ !!!\n",
    "#### ファイル名が変わったら 「ファイル名（拡張子抜き）:app」となる\n",
    "\n",
    "# $gunicorn -e SCRIPT_NAME='/a' -b 0.0.0.0:5000 app0:app --reload"
   ]
  },
  {
   "cell_type": "markdown",
   "metadata": {},
   "source": [
    "---"
   ]
  },
  {
   "cell_type": "markdown",
   "metadata": {},
   "source": [
    "## Hello World !\n",
    "-  home画面でフォルダを作成\"app_test\"\n",
    "- \"app_test\" に\"app0.py\"を作成\n",
    "- language > pythonを選択し、下記を記入 -> 保存\n",
    "- home画面でterminalを起動 -> 起動コマンドをたたく"
   ]
  },
  {
   "cell_type": "markdown",
   "metadata": {},
   "source": [
    "```python\n",
    "# app0.py\n",
    "from flask import Flask\n",
    "app = Flask(__name__)\n",
    "\n",
    "@app.route(\"/\")\n",
    "def index():\n",
    "    return \"Hello World!\"\n",
    "```"
   ]
  },
  {
   "cell_type": "markdown",
   "metadata": {},
   "source": [
    "```\n",
    "#app0.pyのあるディレクトリに移動\n",
    "$cd userspace/app_test/\n",
    "#app0.pyがあるか確認\n",
    "$ls \n",
    "$gunicorn -e SCRIPT_NAME='/a' -b 0.0.0.0:5000 app0:app --reload\n",
    "```"
   ]
  },
  {
   "cell_type": "markdown",
   "metadata": {},
   "source": [
    "```\n",
    "# サイトが出力されました ；） おめでとう！ でもアクセスするURL は https://a.proxy.ilect.net/a/ \n",
    " * Running on http://localhost:5000/\n",
    " \n",
    "# iLectにおいては \n",
    "https://a.proxy.ilect.net/a/ \n",
    "#でアクセスします \n",
    "```"
   ]
  },
  {
   "cell_type": "markdown",
   "metadata": {},
   "source": [
    "---"
   ]
  },
  {
   "cell_type": "markdown",
   "metadata": {},
   "source": [
    "## HTMLへの書き出し\n",
    "\n",
    "- HTML template を用いてHTMLを書き出し\n",
    "- \"app_test\"内に\"templates\"フォルダを作成 \n",
    "    - Flaskでは \"templates\"フォルダから、templateを呼び出す設定があらかじめされている\n",
    "    - \"templates\"フォルダに\"index0.html\" を作成。下記HTMLを記入\n",
    "    -  templatesを使用するには flaskライブラリからtemplate をimportする\n",
    "- \"app0.py\"の def index 関数の中身を下記に書き換え、指定のtemplateを呼び出す \n",
    "\n"
   ]
  },
  {
   "cell_type": "markdown",
   "metadata": {},
   "source": [
    "```html\n",
    "<!-- templates/index.html -->\n",
    "<!DOCTYPE html>\n",
    "<html lang=\"en\">\n",
    "<head>\n",
    "    <meta charset=\"UTF-8\">\n",
    "    <title>Document</title>\n",
    "</head>\n",
    "<body>\n",
    "    <p>Hello {{ message }}  !!!</p>\n",
    "</body>\n",
    "</html>\n",
    "```"
   ]
  },
  {
   "cell_type": "markdown",
   "metadata": {},
   "source": [
    "```python\n",
    "# app0.py\n",
    "# render_templateを追加\n",
    "from flask import Flask, render_template\n",
    "\n",
    "def index():\n",
    "    # 「templates/index.html」のテンプレートを使う\n",
    "    # 「message」という変数に\"Hello\"と代入した状態で、テンプレート内で使う\n",
    "    return render_template('index.html', message=\"Web lab\")\n",
    "```\n",
    "\n",
    "***"
   ]
  },
  {
   "cell_type": "markdown",
   "metadata": {},
   "source": [
    "## 静的ファイルと関連付ける\n",
    "- \"app_test\"に\"static\"フォルダを作成　\n",
    "    - 画像,CSS,JavaScriptなどhtmlと関連させる静的ファイルは　\"static\"フォルダに格納\n",
    "    - \"/static/****\" はFlaskが自動認識し、ルーティングしてくれる\n",
    "- \"/static/\"下に、app.js, style.css, image.png を作成 \n"
   ]
  },
  {
   "cell_type": "markdown",
   "metadata": {},
   "source": [
    "---"
   ]
  },
  {
   "cell_type": "markdown",
   "metadata": {},
   "source": [
    "## 動的にリクエストを扱う GET\n",
    "- request をimport\n",
    "- GETクエリの送り方\n",
    "    - GETメソッドはURLの末尾\"?\"+\"パラメーター名=値\"でデータ送信\n",
    "    - パラメータを追加したい場合は\"&\"でつなげる\n",
    "    - URLに記載するため、誰からでも見ることができる"
   ]
  },
  {
   "cell_type": "markdown",
   "metadata": {},
   "source": [
    "```python\n",
    "# requestを追加する\n",
    "from flask import Flask, render_template, request\n",
    "\n",
    "@app.route('/hello')\n",
    "def hello():\n",
    "    # request.argsにクエリパラメータが含まれている\n",
    "    name = request.args.get(\"name\", \"Mr. Who\")\n",
    "    return 'Hello World '  + name\n",
    "```"
   ]
  },
  {
   "cell_type": "markdown",
   "metadata": {},
   "source": [
    "```\n",
    "#下のURLでアクセス\n",
    "https://a.proxy.ilect.net/a/hello?name=Hanako\n",
    "```"
   ]
  },
  {
   "cell_type": "markdown",
   "metadata": {},
   "source": [
    "```python\n",
    "@app.route(\"/hello2\")\n",
    "def hello2():\n",
    "    # request.argsにクエリパラメータが含まれている\n",
    "    name = request.args.get(\"name\", \"Mr.Who\")\n",
    "    msg = request.args.get(\"msg\", \"No Message\")\n",
    "    return 'Hello %s san! %s' % (name, msg)\n",
    "```"
   ]
  },
  {
   "cell_type": "markdown",
   "metadata": {},
   "source": [
    "``` \n",
    "# iLectでは下のURLでアクセス\n",
    "# https://a.proxy.ilect.net/a/hello2?name=Hanako&msg=\"How are you?\"\n",
    "```"
   ]
  },
  {
   "cell_type": "markdown",
   "metadata": {},
   "source": [
    "## 動的にリクエストを扱う POST\n",
    "- FlaskでPOST通信を受けつけて、POSTパラメータを取得\n",
    "- POSTメソッド\n",
    "    - POSTメソッドはHTTP通信でリクエストされる ->送信データはURL上に現れない \n",
    "    - POSTメソッドはGETよりも大量のデータを送信できる\n",
    "    "
   ]
  },
  {
   "cell_type": "markdown",
   "metadata": {},
   "source": [
    "```python\n",
    "# methodsにPOSTを指定すると、POSTリクエストを受けられる\n",
    "@app.route('/get_price', methods=['POST'])\n",
    "def get_price():\n",
    "    # request.formにPOSTデータがある\n",
    "    goods = request.form[\"goods\"]\n",
    "    return 'You get ' + goods\n",
    "```"
   ]
  },
  {
   "cell_type": "markdown",
   "metadata": {},
   "source": [
    "---"
   ]
  }
 ],
 "metadata": {
  "kernelspec": {
   "display_name": "Python 3",
   "language": "python",
   "name": "python3"
  },
  "language_info": {
   "codemirror_mode": {
    "name": "ipython",
    "version": 3
   },
   "file_extension": ".py",
   "mimetype": "text/x-python",
   "name": "python",
   "nbconvert_exporter": "python",
   "pygments_lexer": "ipython3",
   "version": "3.6.0"
  }
 },
 "nbformat": 4,
 "nbformat_minor": 2
}
