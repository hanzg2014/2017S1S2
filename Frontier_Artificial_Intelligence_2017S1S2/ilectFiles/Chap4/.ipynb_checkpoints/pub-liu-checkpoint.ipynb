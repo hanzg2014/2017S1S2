{
 "cells": [
  {
   "cell_type": "markdown",
   "metadata": {
    "deletable": true,
    "editable": true
   },
   "source": [
    "# 第4回講義 宿題"
   ]
  },
  {
   "cell_type": "markdown",
   "metadata": {
    "collapsed": true,
    "deletable": true,
    "editable": true
   },
   "source": [
    "## 課題. MNISTデータセットを多層パーセプトロン(MLP)で学習せよ"
   ]
  },
  {
   "cell_type": "markdown",
   "metadata": {
    "deletable": true,
    "editable": true
   },
   "source": [
    "### 注意\n",
    "- homework関数を完成させて提出してください\n",
    "    - 訓練データはtrain_X, train_y, テストデータはtest_Xで与えられます\n",
    "    - train_Xとtrain_yをtrain_X, train_yとvalid_X, valid_yに分けるなどしてモデルを学習させてください\n",
    "    - test_Xに対して予想ラベルpred_yを作り, homework関数の戻り値としてください\\\n",
    "- pred_yのtest_yに対する精度(F値)で評価します\n",
    "- 全体の実行時間がiLect上で60分を超えないようにしてください\n",
    "- homework関数の外には何も書かないでください (必要なものは全てhomework関数に入れてください)\n",
    "- 解答提出時には Answer Cell の内容のみを提出してください"
   ]
  },
  {
   "cell_type": "markdown",
   "metadata": {
    "deletable": true,
    "editable": true
   },
   "source": [
    "- MLPの実装にTensorflowなどのライブラリを使わないでください"
   ]
  },
  {
   "cell_type": "markdown",
   "metadata": {
    "deletable": true,
    "editable": true
   },
   "source": [
    "### ヒント\n",
    "- 出力yはone-of-k表現\n",
    "- 最終層の活性化関数はソフトマックス関数, 誤差関数は多クラス交差エントロピー\n",
    "- 最終層のデルタは教科書参照"
   ]
  },
  {
   "cell_type": "markdown",
   "metadata": {
    "deletable": true,
    "editable": true
   },
   "source": [
    "次のセルのhomework関数を完成させて提出してください"
   ]
  },
  {
   "cell_type": "markdown",
   "metadata": {
    "deletable": true,
    "editable": true
   },
   "source": [
    "# Answer Cell"
   ]
  },
  {
   "cell_type": "code",
   "execution_count": 18,
   "metadata": {
    "collapsed": true,
    "deletable": true,
    "editable": true
   },
   "outputs": [],
   "source": [
    "# Layer1 weights\n",
    "W1 = np.random.uniform(low=-0.08, high=0.08, size=(784, 300)).astype('float32')\n",
    "b1 = np.zeros(300).astype('float32')\n",
    "\n",
    "# Layer2 weights\n",
    "W2 = np.random.uniform(low=-0.08, high=0.08, size=(300, 100)).astype('float32')\n",
    "b2 = np.zeros(100).astype('float32')\n",
    "\n",
    "# Layer3 weights\n",
    "W3 = np.random.uniform(low=-0.08, high=0.08, size=(100, 10)).astype('float32')\n",
    "b3 = np.zeros(10).astype('float32')"
   ]
  },
  {
   "cell_type": "code",
   "execution_count": 70,
   "metadata": {
    "collapsed": true,
    "deletable": true,
    "editable": true
   },
   "outputs": [],
   "source": [
    "def sigmoid(x):\n",
    "    return 1 / (1 + np.exp(-x))\n",
    "\n",
    "\n",
    "def deriv_sigmoid(x):\n",
    "    return sigmoid(x)*(1-sigmoid(x))\n",
    "\n",
    "def softmax(x):\n",
    "    exp_x = np.exp(x)\n",
    "    return exp_x / np.sum(exp_x, axis=1, keepdims=True)\n",
    "\n",
    "\n",
    "def deriv_softmax(x):\n",
    "    return softmax(x)*(1-softmax(x))"
   ]
  },
  {
   "cell_type": "code",
   "execution_count": 20,
   "metadata": {
    "collapsed": true,
    "deletable": true,
    "editable": true
   },
   "outputs": [],
   "source": [
    "def test(x):\n",
    "\n",
    "    # Forward Propagation Layer1\n",
    "    u1 = np.matmul(x, W1) + b1\n",
    "    z1 = sigmoid(u1)\n",
    "\n",
    "    # Forward Propagation Layer2\n",
    "    u2 = np.matmul(z1, W2) + b2\n",
    "    z2 = sigmoid(u2)\n",
    "\n",
    "    # Forward Propagation Layer3\n",
    "    u3 = np.matmul(z2,W3) + b3\n",
    "    z3 = softmax(u3)\n",
    "    y =[]\n",
    "    for one in z3:\n",
    "        y.append(np.argmax(one))\n",
    "    return y"
   ]
  },
  {
   "cell_type": "code",
   "execution_count": 21,
   "metadata": {
    "collapsed": true,
    "deletable": true,
    "editable": true
   },
   "outputs": [],
   "source": [
    "def train(x, t, eps=0.2):\n",
    "    global W1, b1, W2, b2,W3,b3  # to access variables that defined outside of this function.\n",
    "\n",
    "    y_tmp = np.zeros(10).reshape(1, 10)\n",
    "    y_tmp[0,t] = 1.0\n",
    "    train_y=y_tmp\n",
    "    # Forward Propagation Layer1\n",
    "    u1 = np.matmul(x, W1) + b1\n",
    "    z1 = sigmoid(u1)\n",
    "\n",
    "    # Forward Propagation Layer2\n",
    "    u2 = np.matmul(z1, W2) + b2\n",
    "    z2 = sigmoid(u2)\n",
    "\n",
    "    u3 = np.matmul(z2,W3) + b3\n",
    "    z3 = softmax(u3)\n",
    "\n",
    "    # Back Propagation (Cost Function: Negative Loglikelihood)\n",
    "    y = z3\n",
    "    # cost = np.sum(-t * np.log(y) - (1 - t) * np.log(1 - y))\n",
    "    cost = -np.log(y[0,t])\n",
    "    \n",
    "    delta_3 = (y-train_y)\n",
    "    delta_2 = deriv_sigmoid(u2) * np.matmul(delta_3, W3.T)  # Layer2 delta\n",
    "    delta_1 = deriv_sigmoid(u1) * np.matmul(delta_2, W2.T)  # Layer1 delta\n",
    "\n",
    "    # Update Parameters Layer1\n",
    "    dW1 = np.matmul(x.T, delta_1)\n",
    "    db1 = np.matmul(np.ones(len(x)), delta_1)\n",
    "    W1 = W1 - eps * dW1\n",
    "    b1 = b1 - eps * db1\n",
    "\n",
    "    # Update Parameters Layer2\n",
    "    dW2 = np.matmul(z1.T, delta_2)\n",
    "    db2 = np.matmul(np.ones(len(z1)), delta_2)\n",
    "    W2 = W2 - eps * dW2\n",
    "    b2 = b2 - eps * db2\n",
    "\n",
    "    # Update Parameters Layer3\n",
    "    dW3 = np.matmul(z2.T, delta_3)\n",
    "    db3 = np.matmul(np.ones(len(z2)), delta_3)\n",
    "    W3 = W3 - eps * dW3\n",
    "    b3 = b3 - eps * db3\n",
    "\n",
    "    return cost"
   ]
  },
  {
   "cell_type": "code",
   "execution_count": 4,
   "metadata": {
    "collapsed": true,
    "deletable": false,
    "editable": true,
    "ilect": {
     "is_homework": true
    }
   },
   "outputs": [],
   "source": [
    "import matplotlib.pyplot as plt\n",
    "%matplotlib inline\n",
    "\n",
    "def homework(train_X, train_y, test_X):\n",
    "    cost_plt =[]\n",
    "    for epoch in range(30):\n",
    "    # Online Learning\n",
    "        cost_arry = []\n",
    "        for x, y in zip(train_X, train_y):\n",
    "            x = x.reshape(1,len(x))\n",
    "            cost = train(x, y)\n",
    "            cost_arry.append(cost)\n",
    "            \n",
    "        cost_plt.append(np.sum(cost_arry))\n",
    "#         print cost_plt\n",
    "    plt.plot(cost_plt)\n",
    "    pred_y = test(test_X)\n",
    "    return pred_y"
   ]
  },
  {
   "cell_type": "markdown",
   "metadata": {
    "deletable": true,
    "editable": true
   },
   "source": [
    "- 以下のvalidate_homework関数を用いてエラーが起きないか動作確認をして下さい。\n",
    "- 提出に際して、score_homework関数で60分で実行が終わることを確認して下さい。\n",
    "- 評価は以下のscore_homework関数で行われますが、random_stateの値は変更されます。"
   ]
  },
  {
   "cell_type": "markdown",
   "metadata": {
    "deletable": true,
    "editable": true
   },
   "source": [
    "# Checker Cell (for student)"
   ]
  },
  {
   "cell_type": "code",
   "execution_count": 35,
   "metadata": {
    "collapsed": true,
    "deletable": false,
    "editable": true,
    "ilect": {
     "course_id": 4,
     "course_rank": 4,
     "is_evaluation": true
    }
   },
   "outputs": [],
   "source": [
    "from sklearn.utils import shuffle\n",
    "from sklearn.metrics import f1_score\n",
    "from sklearn.datasets import fetch_mldata\n",
    "from sklearn.model_selection import train_test_split\n",
    "import time \n",
    "import numpy as np\n",
    "\n",
    "def load_mnist():\n",
    "    mnist = fetch_mldata('MNIST original')\n",
    "    mnist_X, mnist_y = shuffle(mnist.data.astype('float32'),\n",
    "                               mnist.target.astype('int32'), random_state=42)\n",
    "\n",
    "    mnist_X = mnist_X / 255.0\n",
    "\n",
    "    return train_test_split(mnist_X, mnist_y,\n",
    "                test_size=0.2,\n",
    "                random_state=42)\n",
    "\n",
    "def validate_homework():\n",
    "    train_X, test_X, train_y, test_y = load_mnist()\n",
    "\n",
    "    # validate for small dataset\n",
    "    train_X_mini = train_X[:100]\n",
    "    train_y_mini = train_y[:100]\n",
    "    test_X_mini = test_X[:100]\n",
    "    test_y_mini = test_y[:100]\n",
    "\n",
    "    start = time.time()\n",
    "    pred_y = homework(train_X_mini, train_y_mini, test_X_mini)\n",
    "    print(f1_score(test_y_mini, pred_y, average='macro'))\n",
    "    elapsed_time = time.time() - start\n",
    "    print ('elapsed_time:', elapsed_time)\n",
    "#     print ('elapsed_time:{0}'.format(elapsed_time)) + '[sec]'\n",
    "\n",
    "def score_homework():\n",
    "    train_X, test_X, train_y, test_y = load_mnist()\n",
    "    start = time.time()\n",
    "    pred_y = homework(train_X, train_y, test_X)\n",
    "    print(f1_score(test_y, pred_y, average='macro'))\n",
    "    elapsed_time = time.time() - start\n",
    "    print ('elapsed_time:', elapsed_time)\n",
    "#     print ('elapsed_time:{0}'.format(elapsed_time)) + '[sec]'"
   ]
  },
  {
   "cell_type": "code",
   "execution_count": 67,
   "metadata": {
    "collapsed": true,
    "deletable": true,
    "editable": true
   },
   "outputs": [],
   "source": [
    "N0 = 784\n",
    "N1 = 300\n",
    "N2 = 100\n",
    "N3 = 10"
   ]
  },
  {
   "cell_type": "code",
   "execution_count": 68,
   "metadata": {
    "collapsed": false,
    "deletable": true,
    "editable": true
   },
   "outputs": [],
   "source": [
    "W1 = np.random.uniform(low=-0.08, high=0.08, size=(N0, N1)).astype('float32')\n",
    "b1 = np.zeros(N1).astype('float32')\n",
    "\n",
    "W2 = np.random.uniform(low=-0.08, high=0.08, size=(N1, N2)).astype('float32')\n",
    "b2 = np.zeros(N2).astype('float32')\n",
    "\n",
    "W3 = np.random.uniform(low=-0.08, high=0.08, size=(N2, N3)).astype('float32')\n",
    "b3 = np.zeros(N3).astype('float32')"
   ]
  },
  {
   "cell_type": "code",
   "execution_count": 64,
   "metadata": {
    "collapsed": true,
    "deletable": true,
    "editable": true
   },
   "outputs": [],
   "source": [
    "def train(x, t, eps=0.2):\n",
    "    global W1, b1, W2, b2, W3, b3  # to access variables that defined outside of this function.\n",
    "\n",
    "    y_tmp = np.zeros(10).reshape(1, 10)\n",
    "    y_tmp[0,t] = 1.0\n",
    "    train_y=y_tmp\n",
    "    # Forward Propagation Layer1\n",
    "    u1 = np.matmul(x, W1) + b1\n",
    "    z1 = sigmoid(u1)\n",
    "\n",
    "    # Forward Propagation Layer2\n",
    "    u2 = np.matmul(z1, W2) + b2\n",
    "    z2 = sigmoid(u2)\n",
    "    \n",
    "    # Forward Propagation Layer3\n",
    "    u3 = np.matmul(z2, W3) + b3\n",
    "    z3 = softmax(u3)\n",
    "\n",
    "    # Back Propagation (Cost Function: Negative Loglikelihood)\n",
    "    y = z3\n",
    "    # cost = np.sum(-t * np.log(y) - (1 - t) * np.log(1 - y))\n",
    "    cost = -np.log(y[0,t])\n",
    "    \n",
    "    delta_3 = (y-train_y)\n",
    "    delta_2 = deriv_sigmoid(u2) * np.matmul(delta_3, W3.T)\n",
    "    delta_1 = deriv_sigmoid(u1) * np.matmul(delta_2, W2.T)  # Layer1 delta\n",
    "\n",
    "    # Update Parameters Layer1\n",
    "    dW1 = np.matmul(x.T, delta_1)\n",
    "    db1 = np.matmul(np.ones(len(x)), delta_1)\n",
    "    W1 = W1 - eps * dW1\n",
    "    b1 = b1 - eps * db1\n",
    "\n",
    "    # Update Parameters Layer2\n",
    "    dW2 = np.matmul(z1.T, delta_2)\n",
    "    db2 = np.matmul(np.ones(len(z1)), delta_2)\n",
    "    W2 = W2 - eps * dW2\n",
    "    b2 = b2 - eps * db2\n",
    "    \n",
    "    # Update Parameters Layer3\n",
    "    dW3 = np.matmul(z2.T, delta_3)\n",
    "    db3 = np.matmul(np.ones(len(z2)), delta_3)\n",
    "    W3 = W3 - eps * dW3\n",
    "    b3 = b3 - eps * db3\n",
    "\n",
    "    return cost"
   ]
  },
  {
   "cell_type": "code",
   "execution_count": 65,
   "metadata": {
    "collapsed": true,
    "deletable": true,
    "editable": true
   },
   "outputs": [],
   "source": [
    "def test(x):\n",
    "\n",
    "    # Forward Propagation Layer1\n",
    "    u1 = np.matmul(x, W1) + b1\n",
    "    z1 = sigmoid(u1)\n",
    "    \n",
    "    # Forward Propagation Layer2\n",
    "    u2 = np.matmul(z1, W2) + b2\n",
    "    z2 = sigmoid(u2)\n",
    "    \n",
    "    # Forward Propagation Layer3\n",
    "    u3 = np.matmul(z2, W3) + b3\n",
    "    z3 = softmax(u3)\n",
    "    \n",
    "    y = np.argmax(z3, axis = 1)\n",
    "    \n",
    "#     cost = -np.sum(l*log(y))\n",
    "    return y"
   ]
  },
  {
   "cell_type": "code",
   "execution_count": 57,
   "metadata": {
    "collapsed": true
   },
   "outputs": [],
   "source": [
    "import matplotlib.pyplot as plt\n",
    "%matplotlib inline\n",
    "\n",
    "def homework(train_X, train_y, test_X):\n",
    "    cost_plt =[]\n",
    "    for epoch in range(30):\n",
    "    # Online Learning\n",
    "        cost_arry = []\n",
    "        for x, y in zip(train_X, train_y):\n",
    "            x = x.reshape(1,len(x))\n",
    "            cost = train(x, y)\n",
    "            cost_arry.append(cost)\n",
    "            \n",
    "        cost_plt.append(np.sum(cost_arry))\n",
    "#         print cost_plt\n",
    "    plt.plot(cost_plt)\n",
    "    pred_y = test(test_X)\n",
    "    return pred_y"
   ]
  },
  {
   "cell_type": "code",
   "execution_count": 69,
   "metadata": {
    "collapsed": false,
    "deletable": true,
    "editable": true
   },
   "outputs": [
    {
     "name": "stdout",
     "output_type": "stream",
     "text": [
      "0.687040172471\n",
      "elapsed_time: 3.163609027862549\n"
     ]
    },
    {
     "data": {
      "image/png": "[encoded data removed]",
      "text/plain": [
       "<matplotlib.figure.Figure at 0x11d2767b8>"
      ]
     },
     "metadata": {},
     "output_type": "display_data"
    }
   ],
   "source": [
    "validate_homework()\n",
    "# score_homework()"
   ]
  },
  {
   "cell_type": "code",
   "execution_count": null,
   "metadata": {
    "collapsed": true,
    "deletable": true,
    "editable": true
   },
   "outputs": [],
   "source": [
    "# 0.702428643649\n",
    "# elapsed_time: 4.522694826126099"
   ]
  },
  {
   "cell_type": "code",
   "execution_count": 28,
   "metadata": {
    "collapsed": false,
    "deletable": true,
    "editable": true
   },
   "outputs": [
    {
     "name": "stdout",
     "output_type": "stream",
     "text": [
      "0.975504320021\n",
      "elapsed_time: 2216.869426012039\n"
     ]
    },
    {
     "data": {
      "image/png": "[encoded data removed]",
      "text/plain": [
       "<matplotlib.figure.Figure at 0x122919710>"
      ]
     },
     "metadata": {},
     "output_type": "display_data"
    }
   ],
   "source": [
    "# validate_homework()\n",
    "score_homework()"
   ]
  },
  {
   "cell_type": "code",
   "execution_count": null,
   "metadata": {
    "collapsed": true,
    "deletable": true,
    "editable": true
   },
   "outputs": [],
   "source": []
  },
  {
   "cell_type": "code",
   "execution_count": null,
   "metadata": {
    "collapsed": true,
    "deletable": true,
    "editable": true
   },
   "outputs": [],
   "source": []
  },
  {
   "cell_type": "code",
   "execution_count": 41,
   "metadata": {
    "collapsed": true,
    "deletable": true,
    "editable": true
   },
   "outputs": [],
   "source": [
    "N0 = 784\n",
    "N1 = 400\n",
    "N2 = 100\n",
    "N3 = 10"
   ]
  },
  {
   "cell_type": "code",
   "execution_count": 42,
   "metadata": {
    "collapsed": true,
    "deletable": true,
    "editable": true
   },
   "outputs": [],
   "source": [
    "W1 = np.random.uniform(low=-0.08, high=0.08, size=(N0, N1)).astype('float32')\n",
    "b1 = np.zeros(N1).astype('float32')\n",
    "\n",
    "W2 = np.random.uniform(low=-0.08, high=0.08, size=(N1, N2)).astype('float32')\n",
    "b2 = np.zeros(N2).astype('float32')\n",
    "\n",
    "W3 = np.random.uniform(low=-0.08, high=0.08, size=(N2, N3)).astype('float32')\n",
    "b3 = np.zeros(N3).astype('float32')"
   ]
  },
  {
   "cell_type": "code",
   "execution_count": 43,
   "metadata": {
    "collapsed": true,
    "deletable": true,
    "editable": true
   },
   "outputs": [],
   "source": [
    "def test(x):\n",
    "\n",
    "    # Forward Propagation Layer1\n",
    "    u1 = np.matmul(x, W1) + b1\n",
    "    z1 = sigmoid(u1)\n",
    "    \n",
    "    # Forward Propagation Layer2\n",
    "    u2 = np.matmul(z1, W2) + b2\n",
    "    z2 = sigmoid(u2)\n",
    "    \n",
    "    # Forward Propagation Layer3\n",
    "    u3 = np.matmul(z2, W3) + b3\n",
    "    z3 = softmax(u3)\n",
    "    \n",
    "    y = np.argmax(z3, axis = 1)\n",
    "\n",
    "    return y"
   ]
  },
  {
   "cell_type": "code",
   "execution_count": null,
   "metadata": {
    "collapsed": true,
    "deletable": true,
    "editable": true
   },
   "outputs": [],
   "source": []
  },
  {
   "cell_type": "code",
   "execution_count": 44,
   "metadata": {
    "collapsed": true,
    "deletable": true,
    "editable": true
   },
   "outputs": [],
   "source": [
    "def train(x, t, eps=0.2):\n",
    "    global W1, b1, W2, b2, W3, b3  # to access variables that defined outside of this function.\n",
    "\n",
    "    y_tmp = np.zeros(10).reshape(1, 10)\n",
    "    y_tmp[0,t] = 1.0\n",
    "    train_y=y_tmp\n",
    "    # Forward Propagation Layer1\n",
    "    u1 = np.matmul(x, W1) + b1\n",
    "    z1 = sigmoid(u1)\n",
    "\n",
    "    # Forward Propagation Layer2\n",
    "    u2 = np.matmul(z1, W2) + b2\n",
    "    z2 = sigmoid(u2)\n",
    "    \n",
    "    # Forward Propagation Layer3\n",
    "    u3 = np.matmul(z2, W3) + b3\n",
    "    z3 = softmax(u3)\n",
    "\n",
    "    # Back Propagation (Cost Function: Negative Loglikelihood)\n",
    "    y = z3\n",
    "    # cost = np.sum(-t * np.log(y) - (1 - t) * np.log(1 - y))\n",
    "    cost = -np.log(y[0,t])\n",
    "    \n",
    "    delta_3 = (y-train_y)\n",
    "    delta_2 = deriv_sigmoid(u2) * np.matmul(delta_3, W3.T)\n",
    "    delta_1 = deriv_sigmoid(u1) * np.matmul(delta_2, W2.T)  # Layer1 delta\n",
    "\n",
    "    # Update Parameters Layer1\n",
    "    dW1 = np.matmul(x.T, delta_1)\n",
    "    db1 = np.matmul(np.ones(len(x)), delta_1)\n",
    "    W1 = W1 - eps * dW1\n",
    "    b1 = b1 - eps * db1\n",
    "\n",
    "    # Update Parameters Layer2\n",
    "    dW2 = np.matmul(z1.T, delta_2)\n",
    "    db2 = np.matmul(np.ones(len(z1)), delta_2)\n",
    "    W2 = W2 - eps * dW2\n",
    "    b2 = b2 - eps * db2\n",
    "    \n",
    "    # Update Parameters Layer3\n",
    "    dW3 = np.matmul(z2.T, delta_3)\n",
    "    db3 = np.matmul(np.ones(len(z2)), delta_3)\n",
    "    W3 = W3 - eps * dW3\n",
    "    b3 = b3 - eps * db3\n",
    "\n",
    "    return cost"
   ]
  },
  {
   "cell_type": "code",
   "execution_count": 53,
   "metadata": {
    "collapsed": true,
    "deletable": true,
    "editable": true
   },
   "outputs": [],
   "source": [
    "def homework(train_X, train_y, test_X):\n",
    "    N0 = 784\n",
    "    N1 = 400\n",
    "    N2 = 100\n",
    "    N3 = 10\n",
    "    \n",
    "    W1 = np.random.uniform(low=-0.08, high=0.08, size=(N0, N1)).astype('float32')\n",
    "    b1 = np.zeros(N1).astype('float32')\n",
    "\n",
    "    W2 = np.random.uniform(low=-0.08, high=0.08, size=(N1, N2)).astype('float32')\n",
    "    b2 = np.zeros(N2).astype('float32')\n",
    "\n",
    "    W3 = np.random.uniform(low=-0.08, high=0.08, size=(N2, N3)).astype('float32')\n",
    "    b3 = np.zeros(N3).astype('float32')\n",
    "    \n",
    "    def train(x, t, eps=0.2):\n",
    "        global W1, b1, W2, b2, W3, b3  # to access variables that defined outside of this function.\n",
    "\n",
    "        y_tmp = np.zeros(10).reshape(1, 10)\n",
    "        y_tmp[0,t] = 1.0\n",
    "        train_y=y_tmp\n",
    "        # Forward Propagation Layer1\n",
    "        u1 = np.matmul(x, W1) + b1\n",
    "        z1 = sigmoid(u1)\n",
    "\n",
    "        # Forward Propagation Layer2\n",
    "        u2 = np.matmul(z1, W2) + b2\n",
    "        z2 = sigmoid(u2)\n",
    "\n",
    "        # Forward Propagation Layer3\n",
    "        u3 = np.matmul(z2, W3) + b3\n",
    "        z3 = softmax(u3)\n",
    "\n",
    "        # Back Propagation (Cost Function: Negative Loglikelihood)\n",
    "        y = z3\n",
    "        # cost = np.sum(-t * np.log(y) - (1 - t) * np.log(1 - y))\n",
    "        cost = -np.log(y[0,t])\n",
    "\n",
    "        delta_3 = (y-train_y)\n",
    "        delta_2 = deriv_sigmoid(u2) * np.matmul(delta_3, W3.T)\n",
    "        delta_1 = deriv_sigmoid(u1) * np.matmul(delta_2, W2.T)  # Layer1 delta\n",
    "\n",
    "        # Update Parameters Layer1\n",
    "        dW1 = np.matmul(x.T, delta_1)\n",
    "        db1 = np.matmul(np.ones(len(x)), delta_1)\n",
    "        W1 = W1 - eps * dW1\n",
    "        b1 = b1 - eps * db1\n",
    "\n",
    "        # Update Parameters Layer2\n",
    "        dW2 = np.matmul(z1.T, delta_2)\n",
    "        db2 = np.matmul(np.ones(len(z1)), delta_2)\n",
    "        W2 = W2 - eps * dW2\n",
    "        b2 = b2 - eps * db2\n",
    "\n",
    "        # Update Parameters Layer3\n",
    "        dW3 = np.matmul(z2.T, delta_3)\n",
    "        db3 = np.matmul(np.ones(len(z2)), delta_3)\n",
    "        W3 = W3 - eps * dW3\n",
    "        b3 = b3 - eps * db3\n",
    "\n",
    "        return cost\n",
    "    \n",
    "    def test(x):\n",
    "\n",
    "        # Forward Propagation Layer1\n",
    "        u1 = np.matmul(x, W1) + b1\n",
    "        z1 = sigmoid(u1)\n",
    "\n",
    "        # Forward Propagation Layer2\n",
    "        u2 = np.matmul(z1, W2) + b2\n",
    "        z2 = sigmoid(u2)\n",
    "\n",
    "        # Forward Propagation Layer3\n",
    "        u3 = np.matmul(z2, W3) + b3\n",
    "        z3 = softmax(u3)\n",
    "\n",
    "        y = np.argmax(z3, axis = 1)\n",
    "\n",
    "        return y\n",
    "    \n",
    "    cost_plt =[]\n",
    "    for epoch in range(30):\n",
    "    # Online Learning\n",
    "        cost_arry = []\n",
    "        for x, y in zip(train_X, train_y):\n",
    "            x = x.reshape(1,len(x))\n",
    "            cost = train(x, y)\n",
    "            cost_arry.append(cost)\n",
    "            \n",
    "        cost_plt.append(np.sum(cost_arry))\n",
    "#     plt.plot(cost_plt)\n",
    "    pred_y = test(test_X)\n",
    "    return pred_y"
   ]
  },
  {
   "cell_type": "code",
   "execution_count": 55,
   "metadata": {
    "collapsed": true,
    "deletable": true,
    "editable": true
   },
   "outputs": [],
   "source": [
    "def homework(train_X, train_y, test_X):\n",
    "    N0 = 784\n",
    "    N1 = 400\n",
    "    N2 = 100\n",
    "    N3 = 10\n",
    "    \n",
    "    W1 = np.random.uniform(low=-0.08, high=0.08, size=(N0, N1)).astype('float32')\n",
    "    b1 = np.zeros(N1).astype('float32')\n",
    "\n",
    "    W2 = np.random.uniform(low=-0.08, high=0.08, size=(N1, N2)).astype('float32')\n",
    "    b2 = np.zeros(N2).astype('float32')\n",
    "\n",
    "    W3 = np.random.uniform(low=-0.08, high=0.08, size=(N2, N3)).astype('float32')\n",
    "    b3 = np.zeros(N3).astype('float32')\n",
    "    \n",
    "    def train(x, t, eps=0.2):\n",
    "        global W1, b1, W2, b2, W3, b3  # to access variables that defined outside of this function.\n",
    "\n",
    "        y_tmp = np.zeros(10).reshape(1, 10)\n",
    "        y_tmp[0,t] = 1.0\n",
    "        train_y=y_tmp\n",
    "        # Forward Propagation Layer1\n",
    "        u1 = np.matmul(x, W1) + b1\n",
    "        z1 = sigmoid(u1)\n",
    "\n",
    "        # Forward Propagation Layer2\n",
    "        u2 = np.matmul(z1, W2) + b2\n",
    "        z2 = sigmoid(u2)\n",
    "\n",
    "        # Forward Propagation Layer3\n",
    "        u3 = np.matmul(z2, W3) + b3\n",
    "        z3 = softmax(u3)\n",
    "\n",
    "        # Back Propagation (Cost Function: Negative Loglikelihood)\n",
    "        y = z3\n",
    "        # cost = np.sum(-t * np.log(y) - (1 - t) * np.log(1 - y))\n",
    "        cost = -np.log(y[0,t])\n",
    "\n",
    "        delta_3 = (y-train_y)\n",
    "        delta_2 = deriv_sigmoid(u2) * np.matmul(delta_3, W3.T)\n",
    "        delta_1 = deriv_sigmoid(u1) * np.matmul(delta_2, W2.T)  # Layer1 delta\n",
    "\n",
    "        # Update Parameters Layer1\n",
    "        dW1 = np.matmul(x.T, delta_1)\n",
    "        db1 = np.matmul(np.ones(len(x)), delta_1)\n",
    "        W1 = W1 - eps * dW1\n",
    "        b1 = b1 - eps * db1\n",
    "\n",
    "        # Update Parameters Layer2\n",
    "        dW2 = np.matmul(z1.T, delta_2)\n",
    "        db2 = np.matmul(np.ones(len(z1)), delta_2)\n",
    "        W2 = W2 - eps * dW2\n",
    "        b2 = b2 - eps * db2\n",
    "\n",
    "        # Update Parameters Layer3\n",
    "        dW3 = np.matmul(z2.T, delta_3)\n",
    "        db3 = np.matmul(np.ones(len(z2)), delta_3)\n",
    "        W3 = W3 - eps * dW3\n",
    "        b3 = b3 - eps * db3\n",
    "\n",
    "        return cost\n",
    "    \n",
    "    def test(x):\n",
    "\n",
    "        # Forward Propagation Layer1\n",
    "        u1 = np.matmul(x, W1) + b1\n",
    "        z1 = sigmoid(u1)\n",
    "\n",
    "        # Forward Propagation Layer2\n",
    "        u2 = np.matmul(z1, W2) + b2\n",
    "        z2 = sigmoid(u2)\n",
    "\n",
    "        # Forward Propagation Layer3\n",
    "        u3 = np.matmul(z2, W3) + b3\n",
    "        z3 = softmax(u3)\n",
    "\n",
    "        y = np.argmax(z3, axis = 1)\n",
    "\n",
    "        return y\n",
    "    \n",
    "#     cost_plt =[]\n",
    "    for epoch in range(30):\n",
    "    # Online Learning\n",
    "        cost_arry = []\n",
    "        for x, y in zip(train_X, train_y):\n",
    "            x = x.reshape(1,len(x))\n",
    "            cost = train(x, y)\n",
    "#             cost_arry.append(cost)\n",
    "            \n",
    "#         cost_plt.append(np.sum(cost_arry))\n",
    "# #     plt.plot(cost_plt)\n",
    "    pred_y = test(test_X)\n",
    "    return pred_y"
   ]
  },
  {
   "cell_type": "code",
   "execution_count": null,
   "metadata": {
    "collapsed": true
   },
   "outputs": [],
   "source": []
  }
 ],
 "metadata": {
  "anaconda-cloud": {},
  "kernelspec": {
   "display_name": "Python 3",
   "language": "python",
   "name": "python3"
  },
  "language_info": {
   "codemirror_mode": {
    "name": "ipython",
    "version": 3
   },
   "file_extension": ".py",
   "mimetype": "text/x-python",
   "name": "python",
   "nbconvert_exporter": "python",
   "pygments_lexer": "ipython3",
   "version": "3.5.3"
  }
 },
 "nbformat": 4,
 "nbformat_minor": 1
}
