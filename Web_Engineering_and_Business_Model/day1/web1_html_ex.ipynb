{
 "cells": [
  {
   "cell_type": "markdown",
   "metadata": {
    "collapsed": true
   },
   "source": [
    "## Apacheサーバーを起動する"
   ]
  },
  {
   "cell_type": "markdown",
   "metadata": {},
   "source": [
    "---\n",
    "\n",
    "### terminalでApacheの操作\n",
    "\n",
    "- サーバを起動する\n",
    "```\n",
    "$ apachectl start\n",
    "```\n",
    "\n",
    "- サーバを停止する\n",
    "```\n",
    "$ apachectl stop\n",
    "```\n",
    "\n",
    "- サーバを停止する\n",
    "```\n",
    "$ apachectl restart\n",
    "```"
   ]
  },
  {
   "cell_type": "markdown",
   "metadata": {},
   "source": [
    "---\n",
    "### 公開する情報（html）を作成\n",
    "\n",
    "- 公開用に関連付けられたフォルダ -> \"apache\"\n",
    "- https://a.proxy.ilect.net/a/ "
   ]
  },
  {
   "cell_type": "markdown",
   "metadata": {},
   "source": [
    "---\n",
    "\n",
    "## HTMLとCSSのことはじめ\n"
   ]
  },
  {
   "cell_type": "markdown",
   "metadata": {},
   "source": [
    ">[参考URL]\n",
    "\n",
    ">HTML\n",
    "\n",
    ">http://www.htmq.com/htmlkihon/\n",
    "\n",
    ">CSS\n",
    "\n",
    ">https://techacademy.jp/magazine/4872\n",
    "\n",
    ">カラーコード\n",
    "\n",
    ">http://www.colordic.org/"
   ]
  },
  {
   "cell_type": "markdown",
   "metadata": {},
   "source": [
    "### HTMLとは \n",
    "\n",
    "- HTMLはページの要素や構造を指定するための言語\n",
    "\n",
    "- HTMLはマークアップという記法を使用する\n",
    "\n",
    "-- マークアップ <開きタグ>と</閉じタグ>で囲む\n",
    "```html\n",
    "<タグ名>...</タグ名>\n",
    "```\n",
    "-- 入れ子構造で、上位要素のなかに下位要素を記入していく\n",
    "```html\n",
    "<div>\n",
    "  <p>あいうえお</p>\n",
    "  <p>かきくけこ</p>\n",
    "</div>\n",
    "```\n",
    "\n",
    "-- コメント\n",
    "```html\n",
    "<!--- コメント --->\n",
    "```\n"
   ]
  },
  {
   "cell_type": "markdown",
   "metadata": {},
   "source": [
    "---\n",
    "\n",
    "### 演習1 : 'Hello World' してみる\n",
    "\n",
    "- 'index.html'を作成し、下記を記入\n",
    "\n",
    "```html\n",
    "<html>\n",
    "     <head>\n",
    "          <title>Web工学テスト</title>\n",
    "     </head>\n",
    "     <body>\n",
    "         <h1> Hello world :) </h1>\n",
    "          <p> Hello web工学 :) </p>\n",
    "     </body>\n",
    "</html>\n",
    "\n",
    "```"
   ]
  },
  {
   "cell_type": "markdown",
   "metadata": {},
   "source": [
    "--- \n",
    "### 演習2 : 文字に関わるタグ\n",
    "\n",
    "- 見出しの設定\n",
    "\n",
    "```html\n",
    "<h1>見出し</h1>\n",
    "<h2>見出し</h2>\n",
    "<h3>見出し</h3>\n",
    "<h4>見出し</h4>\n",
    "<h5>見出し</h5>\n",
    "```\n",
    "\n",
    "- 段落の明示\n",
    "\n",
    "```html\n",
    "<p>段落のかたまり</p>\n",
    "```\n",
    "\n",
    "- リスト\n",
    "\n",
    "```html\n",
    "<ul>\n",
    "    <li>リスト</li>\n",
    "    <li>リスト</li>\n",
    "    <li>リスト</li>\n",
    "    <li>リスト</li>\n",
    "</ul>\n",
    "```\n",
    "\n",
    "\n",
    "- ブロック要素 (情報をブロックで囲う)\n",
    "\n",
    "```html\n",
    "<div>段落のかたまり</div>\n",
    "```\n",
    "\n",
    "- インライン要素 (文字列の範囲を指定する)\n",
    "\n",
    "```html\n",
    "<span>段落のかたまり</span>\n",
    "```"
   ]
  },
  {
   "cell_type": "markdown",
   "metadata": {},
   "source": [
    "---\n",
    "\n",
    "### 演習2 : リンクするためのタグ\n",
    "\n",
    "```html\n",
    "< 要素 プロパティ='値' >\n",
    "```\n",
    "\n",
    "- リンク\n",
    "\n",
    "```html\n",
    "<a href=\"example.com\" target=\"_blank\">リンク</a>\n",
    "```\n",
    "\n",
    "- 画像\n",
    "```html\n",
    "<img src=\"img/test.png\" width=\"300\" />\n",
    "```\n",
    "\n"
   ]
  },
  {
   "cell_type": "markdown",
   "metadata": {
    "collapsed": true
   },
   "source": [
    "---\n",
    "\n",
    "### 演習3 :  Class や ID で属性を与える\n",
    "\n",
    "- タグ要素には、idとclassで属性を与えられる\n",
    "\n",
    "- class は 同種のカテゴリの要素に、複数割当できる\n",
    "\n",
    "```html\n",
    "<p class=\"artist\">水木しげる</p>\n",
    "<p class=\"artist\">ウォルト・ディズニー</p>\n",
    "```\n",
    "\n",
    "- id は コンテンツ内に基本的に、一つだけ割り当てられる\n",
    "\n",
    "```html\n",
    "<p id=\"myname\">水木しげる</p>\n",
    " \n",
    "```"
   ]
  },
  {
   "cell_type": "markdown",
   "metadata": {},
   "source": [
    "---\n",
    "\n",
    "### 演習4 : フォーム\n",
    "\n",
    "\n",
    "```html\n",
    "<form action=\"post_res.php\" method=\"post\">\n",
    "     <input type=\"text\" name=\"food\">好物\n",
    "     <input type=\"number\" name=\"num1\">身長\n",
    "     <input type=\"number\" name=\"num2\">体重\n",
    "     <input type=\"submit\" value=\"BMI\">\n",
    "</form>\n",
    "```"
   ]
  },
  {
   "cell_type": "markdown",
   "metadata": {},
   "source": [
    "---\n",
    "\n",
    "### 演習5 : CSS\n",
    "\n",
    "- HTML : 構造\n",
    "- CSS : デザイン\n",
    "- 別ファイル\"style.css\"として保存\n",
    "\n",
    "#### CSSには3種類の書き方があります。\n",
    "- HTMLタグに埋め込む\n",
    "- HTMLファイル内に埋め込む\n",
    "- CSSファイルに記述\n",
    "\n",
    "今回はCSSファイル\"style.css\"を作成し、HTMLに読み込ませて使います。\n",
    "/a/ プロキシ\n",
    "\n",
    "\n",
    "```html\n",
    "<head>\n",
    "    <link rel=\"stylesheet\" href=\"/a/css/style.css\">\n",
    "</head>\n",
    "```\n",
    "\n",
    "基本的な記法\n",
    "```CSS\n",
    "要素名 {\n",
    "  プロパティ名 : 値;\n",
    "  プロパティ名 : 値;\n",
    "  プロパティ名 : 値;\n",
    "}\n",
    "```\n",
    "\n"
   ]
  },
  {
   "cell_type": "markdown",
   "metadata": {},
   "source": [
    "---\n",
    "\n",
    "```CSS\n",
    "\n",
    "/* コメント */\n",
    "\n",
    "body {\n",
    "  background-color: pink;\n",
    "  color : white;\n",
    "  text-align: center;\n",
    "}\n",
    "\n",
    "h1 {\n",
    "  border: 4px solid red;\n",
    "  font-size : 18px;\n",
    "}\n",
    "\n",
    "/*---- \".class名\" class名前で指定した要素に働く ---*/\n",
    ".content {\n",
    "  font-size : 13px;\n",
    "  background-color: white;\n",
    "}\n",
    "\n",
    "/*---- \".id名\" id名前で指定した要素に働く ---*/\n",
    "#bmi{\n",
    "  font-size : 13px;\n",
    "  background-color: white;\n",
    "  padding: 15px;\n",
    "}\n",
    "\n",
    "```"
   ]
  },
  {
   "cell_type": "markdown",
   "metadata": {},
   "source": [
    "### 応用演習 1\n",
    "\n",
    "curl で HTMLファイルを取得し、apache フォルダに保存してみよう\n",
    "\n",
    "http://connolab.com/weben1/"
   ]
  },
  {
   "cell_type": "markdown",
   "metadata": {},
   "source": [
    "### 応用演習 1\n",
    "\n",
    "index.htmlにフォームを貼り付けてみよう\n",
    "\n",
    "```html\n",
    "<form\taction=\"\" method=\"POST\" target=\"_self\">\n",
    "\t<p>名前急募<p>\n",
    "\t\t<div class=\"ss-form-question\">\n",
    "\t\t\t<div class=\"ss-q-title\">名字</div>\n",
    "\t\t\t<input type=\"text\" class=\"ss-q-short\" name=\"sirname\">\n",
    "\t\t\t<div class=\"ss-q-title\">名前</div>\n",
    "\t\t\t<input type=\"text\" class=\"ss-q-short\" name=\"firstname\">\n",
    "\t\t\t<input type=\"submit\" id=\"ss-submit\" name=\"submit\" value=\"送信\" >\n",
    "\t\t</div>\n",
    "</form>\n",
    "\n",
    "```\n"
   ]
  },
  {
   "cell_type": "markdown",
   "metadata": {},
   "source": [
    "### 応用演習 2\n",
    "\n",
    "-- \"style.css\" -> \"test.css\" CSSにスイッチしてみる\n",
    "\n",
    "-- コメントを外し、どの様にデザインが変化するか見てみる"
   ]
  },
  {
   "cell_type": "code",
   "execution_count": null,
   "metadata": {
    "collapsed": true
   },
   "outputs": [],
   "source": []
  }
 ],
 "metadata": {
  "kernelspec": {
   "display_name": "Python 2",
   "language": "python",
   "name": "python2"
  },
  "language_info": {
   "codemirror_mode": {
    "name": "ipython",
    "version": 2
   },
   "file_extension": ".py",
   "mimetype": "text/x-python",
   "name": "python",
   "nbconvert_exporter": "python",
   "pygments_lexer": "ipython2",
   "version": "2.7.7"
  }
 },
 "nbformat": 4,
 "nbformat_minor": 2
}
