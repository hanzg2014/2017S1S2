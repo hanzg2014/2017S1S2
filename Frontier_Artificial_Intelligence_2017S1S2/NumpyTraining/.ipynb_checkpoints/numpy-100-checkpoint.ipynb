{
 "cells": [
  {
   "cell_type": "markdown",
   "metadata": {},
   "source": [
    "# 100 numpy exercises \n",
    "( http://www.labri.fr/perso/nrougier/teaching/numpy.100/ )  \n",
    "(https://github.com/rougier/numpy-100/blob/master/100%20Numpy%20exercises.md)"
   ]
  },
  {
   "cell_type": "markdown",
   "metadata": {},
   "source": [
    "### 1. Import the numpy package under the name np (★☆☆)"
   ]
  },
  {
   "cell_type": "code",
   "execution_count": 1,
   "metadata": {
    "collapsed": true
   },
   "outputs": [],
   "source": [
    "import numpy as np"
   ]
  },
  {
   "cell_type": "markdown",
   "metadata": {
    "collapsed": true
   },
   "source": [
    "### 2. Print the numpy version and the configuration (★☆☆)"
   ]
  },
  {
   "cell_type": "code",
   "execution_count": 2,
   "metadata": {
    "collapsed": false
   },
   "outputs": [
    {
     "name": "stdout",
     "output_type": "stream",
     "text": [
      "1.12.0\n"
     ]
    }
   ],
   "source": [
    "print (np.__version__)\n"
   ]
  },
  {
   "cell_type": "code",
   "execution_count": 3,
   "metadata": {
    "collapsed": false
   },
   "outputs": [
    {
     "name": "stdout",
     "output_type": "stream",
     "text": [
      "blas_opt_info:\n",
      "    define_macros = [('SCIPY_MKL_H', None), ('HAVE_CBLAS', None)]\n",
      "    include_dirs = ['/Users/hanzg/.pyenv/versions/anaconda3-2.5.0/include']\n",
      "    library_dirs = ['/Users/hanzg/.pyenv/versions/anaconda3-2.5.0/lib']\n",
      "    libraries = ['mkl_intel_lp64', 'mkl_intel_thread', 'mkl_core', 'iomp5', 'pthread']\n",
      "blas_mkl_info:\n",
      "    define_macros = [('SCIPY_MKL_H', None), ('HAVE_CBLAS', None)]\n",
      "    include_dirs = ['/Users/hanzg/.pyenv/versions/anaconda3-2.5.0/include']\n",
      "    library_dirs = ['/Users/hanzg/.pyenv/versions/anaconda3-2.5.0/lib']\n",
      "    libraries = ['mkl_intel_lp64', 'mkl_intel_thread', 'mkl_core', 'iomp5', 'pthread']\n",
      "lapack_opt_info:\n",
      "    define_macros = [('SCIPY_MKL_H', None), ('HAVE_CBLAS', None)]\n",
      "    include_dirs = ['/Users/hanzg/.pyenv/versions/anaconda3-2.5.0/include']\n",
      "    library_dirs = ['/Users/hanzg/.pyenv/versions/anaconda3-2.5.0/lib']\n",
      "    libraries = ['mkl_intel_lp64', 'mkl_intel_thread', 'mkl_core', 'iomp5', 'pthread']\n",
      "lapack_mkl_info:\n",
      "    define_macros = [('SCIPY_MKL_H', None), ('HAVE_CBLAS', None)]\n",
      "    include_dirs = ['/Users/hanzg/.pyenv/versions/anaconda3-2.5.0/include']\n",
      "    library_dirs = ['/Users/hanzg/.pyenv/versions/anaconda3-2.5.0/lib']\n",
      "    libraries = ['mkl_intel_lp64', 'mkl_intel_thread', 'mkl_core', 'iomp5', 'pthread']\n"
     ]
    }
   ],
   "source": [
    "np.show_config() #^?^ show_config()?"
   ]
  },
  {
   "cell_type": "markdown",
   "metadata": {
    "collapsed": true
   },
   "source": [
    "### 3. Create a null vector of size 10 (★☆☆)"
   ]
  },
  {
   "cell_type": "code",
   "execution_count": 303,
   "metadata": {
    "collapsed": false
   },
   "outputs": [
    {
     "data": {
      "text/plain": [
       "array([ 0.,  0.,  0.,  0.,  0.,  0.,  0.,  0.,  0.,  0.])"
      ]
     },
     "execution_count": 303,
     "metadata": {},
     "output_type": "execute_result"
    }
   ],
   "source": [
    "z = np.zeros(10)\n",
    "z"
   ]
  },
  {
   "cell_type": "markdown",
   "metadata": {},
   "source": [
    "### 4. How to find the memory size of any array (★☆☆)"
   ]
  },
  {
   "cell_type": "code",
   "execution_count": 306,
   "metadata": {
    "collapsed": false
   },
   "outputs": [
    {
     "data": {
      "text/plain": [
       "dtype('float64')"
      ]
     },
     "execution_count": 306,
     "metadata": {},
     "output_type": "execute_result"
    }
   ],
   "source": [
    "Z = np.zeros((10,10))\n",
    "Z.dtype #float64 occupies 8 bytes"
   ]
  },
  {
   "cell_type": "code",
   "execution_count": 307,
   "metadata": {
    "collapsed": false
   },
   "outputs": [
    {
     "data": {
      "text/plain": [
       "800"
      ]
     },
     "execution_count": 307,
     "metadata": {},
     "output_type": "execute_result"
    }
   ],
   "source": [
    "Z.itemsize*Z.size"
   ]
  },
  {
   "cell_type": "markdown",
   "metadata": {
    "collapsed": true
   },
   "source": [
    "### 5. How to get the documentation of the numpy add function from the command line? (★☆☆)"
   ]
  },
  {
   "cell_type": "code",
   "execution_count": 317,
   "metadata": {
    "collapsed": false
   },
   "outputs": [],
   "source": [
    "#run `python -c \"import numpy; numpy.info(numpy.add)\"` #^?^ ERROR: File `'python.py'` not found."
   ]
  },
  {
   "cell_type": "code",
   "execution_count": 318,
   "metadata": {
    "collapsed": false,
    "scrolled": false
   },
   "outputs": [
    {
     "name": "stdout",
     "output_type": "stream",
     "text": [
      "add(x1, x2[, out])\r\n",
      "\r\n",
      "Add arguments element-wise.\r\n",
      "\r\n",
      "Parameters\r\n",
      "----------\r\n",
      "x1, x2 : array_like\r\n",
      "    The arrays to be added.  If ``x1.shape != x2.shape``, they must be\r\n",
      "    broadcastable to a common shape (which may be the shape of one or\r\n",
      "    the other).\r\n",
      "\r\n",
      "Returns\r\n",
      "-------\r\n",
      "add : ndarray or scalar\r\n",
      "    The sum of `x1` and `x2`, element-wise.  Returns a scalar if\r\n",
      "    both  `x1` and `x2` are scalars.\r\n",
      "\r\n",
      "Notes\r\n",
      "-----\r\n",
      "Equivalent to `x1` + `x2` in terms of array broadcasting.\r\n",
      "\r\n",
      "Examples\r\n",
      "--------\r\n",
      ">>> np.add(1.0, 4.0)\r\n",
      "5.0\r\n",
      ">>> x1 = np.arange(9.0).reshape((3, 3))\r\n",
      ">>> x2 = np.arange(3.0)\r\n",
      ">>> np.add(x1, x2)\r\n",
      "array([[  0.,   2.,   4.],\r\n",
      "       [  3.,   5.,   7.],\r\n",
      "       [  6.,   8.,  10.]])\r\n"
     ]
    }
   ],
   "source": [
    "!python -c \"import numpy; numpy.info(numpy.add)\""
   ]
  },
  {
   "cell_type": "markdown",
   "metadata": {},
   "source": [
    "#### My solution"
   ]
  },
  {
   "cell_type": "code",
   "execution_count": 308,
   "metadata": {
    "collapsed": false,
    "scrolled": true
   },
   "outputs": [
    {
     "name": "stdout",
     "output_type": "stream",
     "text": [
      "Help on ufunc object:\n",
      "\n",
      "add = class ufunc(builtins.object)\n",
      " |  Functions that operate element by element on whole arrays.\n",
      " |  \n",
      " |  To see the documentation for a specific ufunc, use np.info().  For\n",
      " |  example, np.info(np.sin).  Because ufuncs are written in C\n",
      " |  (for speed) and linked into Python with NumPy's ufunc facility,\n",
      " |  Python's help() function finds this page whenever help() is called\n",
      " |  on a ufunc.\n",
      " |  \n",
      " |  A detailed explanation of ufuncs can be found in the \"ufuncs.rst\"\n",
      " |  file in the NumPy reference guide.\n",
      " |  \n",
      " |  Unary ufuncs:\n",
      " |  =============\n",
      " |  \n",
      " |  op(X, out=None)\n",
      " |  Apply op to X elementwise\n",
      " |  \n",
      " |  Parameters\n",
      " |  ----------\n",
      " |  X : array_like\n",
      " |      Input array.\n",
      " |  out : array_like\n",
      " |      An array to store the output. Must be the same shape as `X`.\n",
      " |  \n",
      " |  Returns\n",
      " |  -------\n",
      " |  r : array_like\n",
      " |      `r` will have the same shape as `X`; if out is provided, `r`\n",
      " |      will be equal to out.\n",
      " |  \n",
      " |  Binary ufuncs:\n",
      " |  ==============\n",
      " |  \n",
      " |  op(X, Y, out=None)\n",
      " |  Apply `op` to `X` and `Y` elementwise. May \"broadcast\" to make\n",
      " |  the shapes of `X` and `Y` congruent.\n",
      " |  \n",
      " |  The broadcasting rules are:\n",
      " |  \n",
      " |  * Dimensions of length 1 may be prepended to either array.\n",
      " |  * Arrays may be repeated along dimensions of length 1.\n",
      " |  \n",
      " |  Parameters\n",
      " |  ----------\n",
      " |  X : array_like\n",
      " |      First input array.\n",
      " |  Y : array_like\n",
      " |      Second input array.\n",
      " |  out : array_like\n",
      " |      An array to store the output. Must be the same shape as the\n",
      " |      output would have.\n",
      " |  \n",
      " |  Returns\n",
      " |  -------\n",
      " |  r : array_like\n",
      " |      The return value; if out is provided, `r` will be equal to out.\n",
      " |  \n",
      " |  Methods defined here:\n",
      " |  \n",
      " |  __call__(self, /, *args, **kwargs)\n",
      " |      Call self as a function.\n",
      " |  \n",
      " |  __repr__(self, /)\n",
      " |      Return repr(self).\n",
      " |  \n",
      " |  __str__(self, /)\n",
      " |      Return str(self).\n",
      " |  \n",
      " |  accumulate(...)\n",
      " |      accumulate(array, axis=0, dtype=None, out=None, keepdims=None)\n",
      " |      \n",
      " |      Accumulate the result of applying the operator to all elements.\n",
      " |      \n",
      " |      For a one-dimensional array, accumulate produces results equivalent to::\n",
      " |      \n",
      " |        r = np.empty(len(A))\n",
      " |        t = op.identity        # op = the ufunc being applied to A's  elements\n",
      " |        for i in range(len(A)):\n",
      " |            t = op(t, A[i])\n",
      " |            r[i] = t\n",
      " |        return r\n",
      " |      \n",
      " |      For example, add.accumulate() is equivalent to np.cumsum().\n",
      " |      \n",
      " |      For a multi-dimensional array, accumulate is applied along only one\n",
      " |      axis (axis zero by default; see Examples below) so repeated use is\n",
      " |      necessary if one wants to accumulate over multiple axes.\n",
      " |      \n",
      " |      Parameters\n",
      " |      ----------\n",
      " |      array : array_like\n",
      " |          The array to act on.\n",
      " |      axis : int, optional\n",
      " |          The axis along which to apply the accumulation; default is zero.\n",
      " |      dtype : data-type code, optional\n",
      " |          The data-type used to represent the intermediate results. Defaults\n",
      " |          to the data-type of the output array if such is provided, or the\n",
      " |          the data-type of the input array if no output array is provided.\n",
      " |      out : ndarray, optional\n",
      " |          A location into which the result is stored. If not provided a\n",
      " |          freshly-allocated array is returned.\n",
      " |      keepdims : bool\n",
      " |          Has no effect. Deprecated, and will be removed in future.\n",
      " |      \n",
      " |      Returns\n",
      " |      -------\n",
      " |      r : ndarray\n",
      " |          The accumulated values. If `out` was supplied, `r` is a reference to\n",
      " |          `out`.\n",
      " |      \n",
      " |      Examples\n",
      " |      --------\n",
      " |      1-D array examples:\n",
      " |      \n",
      " |      >>> np.add.accumulate([2, 3, 5])\n",
      " |      array([ 2,  5, 10])\n",
      " |      >>> np.multiply.accumulate([2, 3, 5])\n",
      " |      array([ 2,  6, 30])\n",
      " |      \n",
      " |      2-D array examples:\n",
      " |      \n",
      " |      >>> I = np.eye(2)\n",
      " |      >>> I\n",
      " |      array([[ 1.,  0.],\n",
      " |             [ 0.,  1.]])\n",
      " |      \n",
      " |      Accumulate along axis 0 (rows), down columns:\n",
      " |      \n",
      " |      >>> np.add.accumulate(I, 0)\n",
      " |      array([[ 1.,  0.],\n",
      " |             [ 1.,  1.]])\n",
      " |      >>> np.add.accumulate(I) # no axis specified = axis zero\n",
      " |      array([[ 1.,  0.],\n",
      " |             [ 1.,  1.]])\n",
      " |      \n",
      " |      Accumulate along axis 1 (columns), through rows:\n",
      " |      \n",
      " |      >>> np.add.accumulate(I, 1)\n",
      " |      array([[ 1.,  1.],\n",
      " |             [ 0.,  1.]])\n",
      " |  \n",
      " |  at(...)\n",
      " |      at(a, indices, b=None)\n",
      " |      \n",
      " |      Performs unbuffered in place operation on operand 'a' for elements\n",
      " |      specified by 'indices'. For addition ufunc, this method is equivalent to\n",
      " |      `a[indices] += b`, except that results are accumulated for elements that\n",
      " |      are indexed more than once. For example, `a[[0,0]] += 1` will only\n",
      " |      increment the first element once because of buffering, whereas\n",
      " |      `add.at(a, [0,0], 1)` will increment the first element twice.\n",
      " |      \n",
      " |      .. versionadded:: 1.8.0\n",
      " |      \n",
      " |      Parameters\n",
      " |      ----------\n",
      " |      a : array_like\n",
      " |          The array to perform in place operation on.\n",
      " |      indices : array_like or tuple\n",
      " |          Array like index object or slice object for indexing into first\n",
      " |          operand. If first operand has multiple dimensions, indices can be a\n",
      " |          tuple of array like index objects or slice objects.\n",
      " |      b : array_like\n",
      " |          Second operand for ufuncs requiring two operands. Operand must be\n",
      " |          broadcastable over first operand after indexing or slicing.\n",
      " |      \n",
      " |      Examples\n",
      " |      --------\n",
      " |      Set items 0 and 1 to their negative values:\n",
      " |      \n",
      " |      >>> a = np.array([1, 2, 3, 4])\n",
      " |      >>> np.negative.at(a, [0, 1])\n",
      " |      >>> print(a)\n",
      " |      array([-1, -2, 3, 4])\n",
      " |      \n",
      " |      ::\n",
      " |      \n",
      " |      Increment items 0 and 1, and increment item 2 twice:\n",
      " |      \n",
      " |      >>> a = np.array([1, 2, 3, 4])\n",
      " |      >>> np.add.at(a, [0, 1, 2, 2], 1)\n",
      " |      >>> print(a)\n",
      " |      array([2, 3, 5, 4])\n",
      " |      \n",
      " |      ::\n",
      " |      \n",
      " |      Add items 0 and 1 in first array to second array,\n",
      " |      and store results in first array:\n",
      " |      \n",
      " |      >>> a = np.array([1, 2, 3, 4])\n",
      " |      >>> b = np.array([1, 2])\n",
      " |      >>> np.add.at(a, [0, 1], b)\n",
      " |      >>> print(a)\n",
      " |      array([2, 4, 3, 4])\n",
      " |  \n",
      " |  outer(...)\n",
      " |      outer(A, B, **kwargs)\n",
      " |      \n",
      " |      Apply the ufunc `op` to all pairs (a, b) with a in `A` and b in `B`.\n",
      " |      \n",
      " |      Let ``M = A.ndim``, ``N = B.ndim``. Then the result, `C`, of\n",
      " |      ``op.outer(A, B)`` is an array of dimension M + N such that:\n",
      " |      \n",
      " |      .. math:: C[i_0, ..., i_{M-1}, j_0, ..., j_{N-1}] =\n",
      " |         op(A[i_0, ..., i_{M-1}], B[j_0, ..., j_{N-1}])\n",
      " |      \n",
      " |      For `A` and `B` one-dimensional, this is equivalent to::\n",
      " |      \n",
      " |        r = empty(len(A),len(B))\n",
      " |        for i in range(len(A)):\n",
      " |            for j in range(len(B)):\n",
      " |                r[i,j] = op(A[i], B[j]) # op = ufunc in question\n",
      " |      \n",
      " |      Parameters\n",
      " |      ----------\n",
      " |      A : array_like\n",
      " |          First array\n",
      " |      B : array_like\n",
      " |          Second array\n",
      " |      kwargs : any\n",
      " |          Arguments to pass on to the ufunc. Typically `dtype` or `out`.\n",
      " |      \n",
      " |      Returns\n",
      " |      -------\n",
      " |      r : ndarray\n",
      " |          Output array\n",
      " |      \n",
      " |      See Also\n",
      " |      --------\n",
      " |      numpy.outer\n",
      " |      \n",
      " |      Examples\n",
      " |      --------\n",
      " |      >>> np.multiply.outer([1, 2, 3], [4, 5, 6])\n",
      " |      array([[ 4,  5,  6],\n",
      " |             [ 8, 10, 12],\n",
      " |             [12, 15, 18]])\n",
      " |      \n",
      " |      A multi-dimensional example:\n",
      " |      \n",
      " |      >>> A = np.array([[1, 2, 3], [4, 5, 6]])\n",
      " |      >>> A.shape\n",
      " |      (2, 3)\n",
      " |      >>> B = np.array([[1, 2, 3, 4]])\n",
      " |      >>> B.shape\n",
      " |      (1, 4)\n",
      " |      >>> C = np.multiply.outer(A, B)\n",
      " |      >>> C.shape; C\n",
      " |      (2, 3, 1, 4)\n",
      " |      array([[[[ 1,  2,  3,  4]],\n",
      " |              [[ 2,  4,  6,  8]],\n",
      " |              [[ 3,  6,  9, 12]]],\n",
      " |             [[[ 4,  8, 12, 16]],\n",
      " |              [[ 5, 10, 15, 20]],\n",
      " |              [[ 6, 12, 18, 24]]]])\n",
      " |  \n",
      " |  reduce(...)\n",
      " |      reduce(a, axis=0, dtype=None, out=None, keepdims=False)\n",
      " |      \n",
      " |      Reduces `a`'s dimension by one, by applying ufunc along one axis.\n",
      " |      \n",
      " |      Let :math:`a.shape = (N_0, ..., N_i, ..., N_{M-1})`.  Then\n",
      " |      :math:`ufunc.reduce(a, axis=i)[k_0, ..,k_{i-1}, k_{i+1}, .., k_{M-1}]` =\n",
      " |      the result of iterating `j` over :math:`range(N_i)`, cumulatively applying\n",
      " |      ufunc to each :math:`a[k_0, ..,k_{i-1}, j, k_{i+1}, .., k_{M-1}]`.\n",
      " |      For a one-dimensional array, reduce produces results equivalent to:\n",
      " |      ::\n",
      " |      \n",
      " |       r = op.identity # op = ufunc\n",
      " |       for i in range(len(A)):\n",
      " |         r = op(r, A[i])\n",
      " |       return r\n",
      " |      \n",
      " |      For example, add.reduce() is equivalent to sum().\n",
      " |      \n",
      " |      Parameters\n",
      " |      ----------\n",
      " |      a : array_like\n",
      " |          The array to act on.\n",
      " |      axis : None or int or tuple of ints, optional\n",
      " |          Axis or axes along which a reduction is performed.\n",
      " |          The default (`axis` = 0) is perform a reduction over the first\n",
      " |          dimension of the input array. `axis` may be negative, in\n",
      " |          which case it counts from the last to the first axis.\n",
      " |      \n",
      " |          .. versionadded:: 1.7.0\n",
      " |      \n",
      " |          If this is `None`, a reduction is performed over all the axes.\n",
      " |          If this is a tuple of ints, a reduction is performed on multiple\n",
      " |          axes, instead of a single axis or all the axes as before.\n",
      " |      \n",
      " |          For operations which are either not commutative or not associative,\n",
      " |          doing a reduction over multiple axes is not well-defined. The\n",
      " |          ufuncs do not currently raise an exception in this case, but will\n",
      " |          likely do so in the future.\n",
      " |      dtype : data-type code, optional\n",
      " |          The type used to represent the intermediate results. Defaults\n",
      " |          to the data-type of the output array if this is provided, or\n",
      " |          the data-type of the input array if no output array is provided.\n",
      " |      out : ndarray, optional\n",
      " |          A location into which the result is stored. If not provided, a\n",
      " |          freshly-allocated array is returned.\n",
      " |      keepdims : bool, optional\n",
      " |          If this is set to True, the axes which are reduced are left\n",
      " |          in the result as dimensions with size one. With this option,\n",
      " |          the result will broadcast correctly against the original `arr`.\n",
      " |      \n",
      " |          .. versionadded:: 1.7.0\n",
      " |      \n",
      " |      Returns\n",
      " |      -------\n",
      " |      r : ndarray\n",
      " |          The reduced array. If `out` was supplied, `r` is a reference to it.\n",
      " |      \n",
      " |      Examples\n",
      " |      --------\n",
      " |      >>> np.multiply.reduce([2,3,5])\n",
      " |      30\n",
      " |      \n",
      " |      A multi-dimensional array example:\n",
      " |      \n",
      " |      >>> X = np.arange(8).reshape((2,2,2))\n",
      " |      >>> X\n",
      " |      array([[[0, 1],\n",
      " |              [2, 3]],\n",
      " |             [[4, 5],\n",
      " |              [6, 7]]])\n",
      " |      >>> np.add.reduce(X, 0)\n",
      " |      array([[ 4,  6],\n",
      " |             [ 8, 10]])\n",
      " |      >>> np.add.reduce(X) # confirm: default axis value is 0\n",
      " |      array([[ 4,  6],\n",
      " |             [ 8, 10]])\n",
      " |      >>> np.add.reduce(X, 1)\n",
      " |      array([[ 2,  4],\n",
      " |             [10, 12]])\n",
      " |      >>> np.add.reduce(X, 2)\n",
      " |      array([[ 1,  5],\n",
      " |             [ 9, 13]])\n",
      " |  \n",
      " |  reduceat(...)\n",
      " |      reduceat(a, indices, axis=0, dtype=None, out=None)\n",
      " |      \n",
      " |      Performs a (local) reduce with specified slices over a single axis.\n",
      " |      \n",
      " |      For i in ``range(len(indices))``, `reduceat` computes\n",
      " |      ``ufunc.reduce(a[indices[i]:indices[i+1]])``, which becomes the i-th\n",
      " |      generalized \"row\" parallel to `axis` in the final result (i.e., in a\n",
      " |      2-D array, for example, if `axis = 0`, it becomes the i-th row, but if\n",
      " |      `axis = 1`, it becomes the i-th column).  There are three exceptions to this:\n",
      " |      \n",
      " |      * when ``i = len(indices) - 1`` (so for the last index),\n",
      " |        ``indices[i+1] = a.shape[axis]``.\n",
      " |      * if ``indices[i] >= indices[i + 1]``, the i-th generalized \"row\" is\n",
      " |        simply ``a[indices[i]]``.\n",
      " |      * if ``indices[i] >= len(a)`` or ``indices[i] < 0``, an error is raised.\n",
      " |      \n",
      " |      The shape of the output depends on the size of `indices`, and may be\n",
      " |      larger than `a` (this happens if ``len(indices) > a.shape[axis]``).\n",
      " |      \n",
      " |      Parameters\n",
      " |      ----------\n",
      " |      a : array_like\n",
      " |          The array to act on.\n",
      " |      indices : array_like\n",
      " |          Paired indices, comma separated (not colon), specifying slices to\n",
      " |          reduce.\n",
      " |      axis : int, optional\n",
      " |          The axis along which to apply the reduceat.\n",
      " |      dtype : data-type code, optional\n",
      " |          The type used to represent the intermediate results. Defaults\n",
      " |          to the data type of the output array if this is provided, or\n",
      " |          the data type of the input array if no output array is provided.\n",
      " |      out : ndarray, optional\n",
      " |          A location into which the result is stored. If not provided a\n",
      " |          freshly-allocated array is returned.\n",
      " |      \n",
      " |      Returns\n",
      " |      -------\n",
      " |      r : ndarray\n",
      " |          The reduced values. If `out` was supplied, `r` is a reference to\n",
      " |          `out`.\n",
      " |      \n",
      " |      Notes\n",
      " |      -----\n",
      " |      A descriptive example:\n",
      " |      \n",
      " |      If `a` is 1-D, the function `ufunc.accumulate(a)` is the same as\n",
      " |      ``ufunc.reduceat(a, indices)[::2]`` where `indices` is\n",
      " |      ``range(len(array) - 1)`` with a zero placed\n",
      " |      in every other element:\n",
      " |      ``indices = zeros(2 * len(a) - 1)``, ``indices[1::2] = range(1, len(a))``.\n",
      " |      \n",
      " |      Don't be fooled by this attribute's name: `reduceat(a)` is not\n",
      " |      necessarily smaller than `a`.\n",
      " |      \n",
      " |      Examples\n",
      " |      --------\n",
      " |      To take the running sum of four successive values:\n",
      " |      \n",
      " |      >>> np.add.reduceat(np.arange(8),[0,4, 1,5, 2,6, 3,7])[::2]\n",
      " |      array([ 6, 10, 14, 18])\n",
      " |      \n",
      " |      A 2-D example:\n",
      " |      \n",
      " |      >>> x = np.linspace(0, 15, 16).reshape(4,4)\n",
      " |      >>> x\n",
      " |      array([[  0.,   1.,   2.,   3.],\n",
      " |             [  4.,   5.,   6.,   7.],\n",
      " |             [  8.,   9.,  10.,  11.],\n",
      " |             [ 12.,  13.,  14.,  15.]])\n",
      " |      \n",
      " |      ::\n",
      " |      \n",
      " |       # reduce such that the result has the following five rows:\n",
      " |       # [row1 + row2 + row3]\n",
      " |       # [row4]\n",
      " |       # [row2]\n",
      " |       # [row3]\n",
      " |       # [row1 + row2 + row3 + row4]\n",
      " |      \n",
      " |      >>> np.add.reduceat(x, [0, 3, 1, 2, 0])\n",
      " |      array([[ 12.,  15.,  18.,  21.],\n",
      " |             [ 12.,  13.,  14.,  15.],\n",
      " |             [  4.,   5.,   6.,   7.],\n",
      " |             [  8.,   9.,  10.,  11.],\n",
      " |             [ 24.,  28.,  32.,  36.]])\n",
      " |      \n",
      " |      ::\n",
      " |      \n",
      " |       # reduce such that result has the following two columns:\n",
      " |       # [col1 * col2 * col3, col4]\n",
      " |      \n",
      " |      >>> np.multiply.reduceat(x, [0, 3], 1)\n",
      " |      array([[    0.,     3.],\n",
      " |             [  120.,     7.],\n",
      " |             [  720.,    11.],\n",
      " |             [ 2184.,    15.]])\n",
      " |  \n",
      " |  ----------------------------------------------------------------------\n",
      " |  Data descriptors defined here:\n",
      " |  \n",
      " |  identity\n",
      " |      The identity value.\n",
      " |      \n",
      " |      Data attribute containing the identity element for the ufunc, if it has one.\n",
      " |      If it does not, the attribute value is None.\n",
      " |      \n",
      " |      Examples\n",
      " |      --------\n",
      " |      >>> np.add.identity\n",
      " |      0\n",
      " |      >>> np.multiply.identity\n",
      " |      1\n",
      " |      >>> np.power.identity\n",
      " |      1\n",
      " |      >>> print(np.exp.identity)\n",
      " |      None\n",
      " |  \n",
      " |  nargs\n",
      " |      The number of arguments.\n",
      " |      \n",
      " |      Data attribute containing the number of arguments the ufunc takes, including\n",
      " |      optional ones.\n",
      " |      \n",
      " |      Notes\n",
      " |      -----\n",
      " |      Typically this value will be one more than what you might expect because all\n",
      " |      ufuncs take  the optional \"out\" argument.\n",
      " |      \n",
      " |      Examples\n",
      " |      --------\n",
      " |      >>> np.add.nargs\n",
      " |      3\n",
      " |      >>> np.multiply.nargs\n",
      " |      3\n",
      " |      >>> np.power.nargs\n",
      " |      3\n",
      " |      >>> np.exp.nargs\n",
      " |      2\n",
      " |  \n",
      " |  nin\n",
      " |      The number of inputs.\n",
      " |      \n",
      " |      Data attribute containing the number of arguments the ufunc treats as input.\n",
      " |      \n",
      " |      Examples\n",
      " |      --------\n",
      " |      >>> np.add.nin\n",
      " |      2\n",
      " |      >>> np.multiply.nin\n",
      " |      2\n",
      " |      >>> np.power.nin\n",
      " |      2\n",
      " |      >>> np.exp.nin\n",
      " |      1\n",
      " |  \n",
      " |  nout\n",
      " |      The number of outputs.\n",
      " |      \n",
      " |      Data attribute containing the number of arguments the ufunc treats as output.\n",
      " |      \n",
      " |      Notes\n",
      " |      -----\n",
      " |      Since all ufuncs can take output arguments, this will always be (at least) 1.\n",
      " |      \n",
      " |      Examples\n",
      " |      --------\n",
      " |      >>> np.add.nout\n",
      " |      1\n",
      " |      >>> np.multiply.nout\n",
      " |      1\n",
      " |      >>> np.power.nout\n",
      " |      1\n",
      " |      >>> np.exp.nout\n",
      " |      1\n",
      " |  \n",
      " |  ntypes\n",
      " |      The number of types.\n",
      " |      \n",
      " |      The number of numerical NumPy types - of which there are 18 total - on which\n",
      " |      the ufunc can operate.\n",
      " |      \n",
      " |      See Also\n",
      " |      --------\n",
      " |      numpy.ufunc.types\n",
      " |      \n",
      " |      Examples\n",
      " |      --------\n",
      " |      >>> np.add.ntypes\n",
      " |      18\n",
      " |      >>> np.multiply.ntypes\n",
      " |      18\n",
      " |      >>> np.power.ntypes\n",
      " |      17\n",
      " |      >>> np.exp.ntypes\n",
      " |      7\n",
      " |      >>> np.remainder.ntypes\n",
      " |      14\n",
      " |  \n",
      " |  signature\n",
      " |  \n",
      " |  types\n",
      " |      Returns a list with types grouped input->output.\n",
      " |      \n",
      " |      Data attribute listing the data-type \"Domain-Range\" groupings the ufunc can\n",
      " |      deliver. The data-types are given using the character codes.\n",
      " |      \n",
      " |      See Also\n",
      " |      --------\n",
      " |      numpy.ufunc.ntypes\n",
      " |      \n",
      " |      Examples\n",
      " |      --------\n",
      " |      >>> np.add.types\n",
      " |      ['??->?', 'bb->b', 'BB->B', 'hh->h', 'HH->H', 'ii->i', 'II->I', 'll->l',\n",
      " |      'LL->L', 'qq->q', 'QQ->Q', 'ff->f', 'dd->d', 'gg->g', 'FF->F', 'DD->D',\n",
      " |      'GG->G', 'OO->O']\n",
      " |      \n",
      " |      >>> np.multiply.types\n",
      " |      ['??->?', 'bb->b', 'BB->B', 'hh->h', 'HH->H', 'ii->i', 'II->I', 'll->l',\n",
      " |      'LL->L', 'qq->q', 'QQ->Q', 'ff->f', 'dd->d', 'gg->g', 'FF->F', 'DD->D',\n",
      " |      'GG->G', 'OO->O']\n",
      " |      \n",
      " |      >>> np.power.types\n",
      " |      ['bb->b', 'BB->B', 'hh->h', 'HH->H', 'ii->i', 'II->I', 'll->l', 'LL->L',\n",
      " |      'qq->q', 'QQ->Q', 'ff->f', 'dd->d', 'gg->g', 'FF->F', 'DD->D', 'GG->G',\n",
      " |      'OO->O']\n",
      " |      \n",
      " |      >>> np.exp.types\n",
      " |      ['f->f', 'd->d', 'g->g', 'F->F', 'D->D', 'G->G', 'O->O']\n",
      " |      \n",
      " |      >>> np.remainder.types\n",
      " |      ['bb->b', 'BB->B', 'hh->h', 'HH->H', 'ii->i', 'II->I', 'll->l', 'LL->L',\n",
      " |      'qq->q', 'QQ->Q', 'ff->f', 'dd->d', 'gg->g', 'OO->O']\n",
      "\n"
     ]
    }
   ],
   "source": [
    "help(np.add) "
   ]
  },
  {
   "cell_type": "code",
   "execution_count": 8,
   "metadata": {
    "collapsed": false
   },
   "outputs": [
    {
     "data": {
      "text/plain": [
       "100"
      ]
     },
     "execution_count": 8,
     "metadata": {},
     "output_type": "execute_result"
    }
   ],
   "source": [
    "z.size"
   ]
  },
  {
   "cell_type": "code",
   "execution_count": 9,
   "metadata": {
    "collapsed": false
   },
   "outputs": [
    {
     "data": {
      "text/plain": [
       "8"
      ]
     },
     "execution_count": 9,
     "metadata": {},
     "output_type": "execute_result"
    }
   ],
   "source": [
    "z.itemsize"
   ]
  },
  {
   "cell_type": "code",
   "execution_count": 10,
   "metadata": {
    "collapsed": false
   },
   "outputs": [
    {
     "name": "stdout",
     "output_type": "stream",
     "text": [
      "[[ 0.  0.  0.  0.  0.  0.  0.  0.  0.  0.]\n",
      " [ 0.  0.  0.  0.  0.  0.  0.  0.  0.  0.]\n",
      " [ 0.  0.  0.  0.  0.  0.  0.  0.  0.  0.]\n",
      " [ 0.  0.  0.  0.  0.  0.  0.  0.  0.  0.]\n",
      " [ 0.  0.  0.  0.  0.  0.  0.  0.  0.  0.]\n",
      " [ 0.  0.  0.  0.  0.  0.  0.  0.  0.  0.]\n",
      " [ 0.  0.  0.  0.  0.  0.  0.  0.  0.  0.]\n",
      " [ 0.  0.  0.  0.  0.  0.  0.  0.  0.  0.]\n",
      " [ 0.  0.  0.  0.  0.  0.  0.  0.  0.  0.]\n",
      " [ 0.  0.  0.  0.  0.  0.  0.  0.  0.  0.]]\n"
     ]
    }
   ],
   "source": [
    "print (z)"
   ]
  },
  {
   "cell_type": "markdown",
   "metadata": {
    "collapsed": true
   },
   "source": [
    "### 6. Create a null vector of size 10 but the fifth value which is 1 (★☆☆)"
   ]
  },
  {
   "cell_type": "code",
   "execution_count": 320,
   "metadata": {
    "collapsed": false
   },
   "outputs": [
    {
     "data": {
      "text/plain": [
       "array([ 0.46937807,  0.87797773,  0.35506066,  0.57895522,  1.        ,\n",
       "        0.837703  ,  0.25614186,  0.5963887 ,  0.19736902,  0.0262696 ])"
      ]
     },
     "execution_count": 320,
     "metadata": {},
     "output_type": "execute_result"
    }
   ],
   "source": [
    "Z = np.random.random(10)\n",
    "Z[4] = 1\n",
    "Z"
   ]
  },
  {
   "cell_type": "markdown",
   "metadata": {
    "collapsed": true
   },
   "source": [
    "### 7. Create a vector with values ranging from 10 to 49 (★☆☆)"
   ]
  },
  {
   "cell_type": "code",
   "execution_count": 322,
   "metadata": {
    "collapsed": false
   },
   "outputs": [
    {
     "data": {
      "text/plain": [
       "array([10, 11, 12, 13, 14, 15, 16, 17, 18, 19, 20, 21, 22, 23, 24, 25, 26,\n",
       "       27, 28, 29, 30, 31, 32, 33, 34, 35, 36, 37, 38, 39, 40, 41, 42, 43,\n",
       "       44, 45, 46, 47, 48, 49])"
      ]
     },
     "execution_count": 322,
     "metadata": {},
     "output_type": "execute_result"
    }
   ],
   "source": [
    "np.arange(10,50)"
   ]
  },
  {
   "cell_type": "markdown",
   "metadata": {
    "collapsed": true
   },
   "source": [
    "### 8. Reverse a vector (first element becomes last) (★☆☆)"
   ]
  },
  {
   "cell_type": "code",
   "execution_count": 323,
   "metadata": {
    "collapsed": false
   },
   "outputs": [
    {
     "data": {
      "text/plain": [
       "array([49, 48, 47, 46, 45, 44, 43, 42, 41, 40, 39, 38, 37, 36, 35, 34, 33,\n",
       "       32, 31, 30, 29, 28, 27, 26, 25, 24, 23, 22, 21, 20, 19, 18, 17, 16,\n",
       "       15, 14, 13, 12, 11, 10,  9,  8,  7,  6,  5,  4,  3,  2,  1,  0])"
      ]
     },
     "execution_count": 323,
     "metadata": {},
     "output_type": "execute_result"
    }
   ],
   "source": [
    "Z = np.arange(50)\n",
    "Z[::-1]"
   ]
  },
  {
   "cell_type": "markdown",
   "metadata": {},
   "source": [
    "### 9. Create a 3x3 matrix with values ranging from 0 to 8 (★☆☆)"
   ]
  },
  {
   "cell_type": "code",
   "execution_count": 324,
   "metadata": {
    "collapsed": false,
    "scrolled": false
   },
   "outputs": [
    {
     "data": {
      "text/plain": [
       "array([[0, 1, 2],\n",
       "       [3, 4, 5],\n",
       "       [6, 7, 8]])"
      ]
     },
     "execution_count": 324,
     "metadata": {},
     "output_type": "execute_result"
    }
   ],
   "source": [
    "np.arange(0,9).reshape(3,3)"
   ]
  },
  {
   "cell_type": "markdown",
   "metadata": {},
   "source": [
    "### 10. Find indices of non-zero elements from [1,2,0,0,4,0] (★☆☆)"
   ]
  },
  {
   "cell_type": "code",
   "execution_count": 329,
   "metadata": {
    "collapsed": false
   },
   "outputs": [
    {
     "data": {
      "text/plain": [
       "(array([0, 1, 4]),)"
      ]
     },
     "execution_count": 329,
     "metadata": {},
     "output_type": "execute_result"
    }
   ],
   "source": [
    "Z = np.nonzero([1,2,0,0,4,0])\n",
    "Z #tuple type"
   ]
  },
  {
   "cell_type": "markdown",
   "metadata": {},
   "source": [
    "### 11. Create a 3x3 identity matrix (★☆☆)"
   ]
  },
  {
   "cell_type": "code",
   "execution_count": 331,
   "metadata": {
    "collapsed": false
   },
   "outputs": [
    {
     "data": {
      "text/plain": [
       "array([[ 1.,  0.,  0.],\n",
       "       [ 0.,  1.,  0.],\n",
       "       [ 0.,  0.,  1.]])"
      ]
     },
     "execution_count": 331,
     "metadata": {},
     "output_type": "execute_result"
    }
   ],
   "source": [
    "Z = np.eye(3)\n",
    "Z"
   ]
  },
  {
   "cell_type": "markdown",
   "metadata": {},
   "source": [
    "### 12. Create a 3x3x3 array with random values (★☆☆)"
   ]
  },
  {
   "cell_type": "code",
   "execution_count": 334,
   "metadata": {
    "collapsed": false
   },
   "outputs": [
    {
     "data": {
      "text/plain": [
       "array([[[ 0.85251296,  0.02040971,  0.02438156],\n",
       "        [ 0.72825261,  0.1094073 ,  0.08439685],\n",
       "        [ 0.28189019,  0.39519301,  0.9178116 ]],\n",
       "\n",
       "       [[ 0.1462066 ,  0.84654966,  0.18785799],\n",
       "        [ 0.28623353,  0.14123667,  0.62240703],\n",
       "        [ 0.96865407,  0.19721165,  0.59561673]],\n",
       "\n",
       "       [[ 0.96695458,  0.93635317,  0.86975932],\n",
       "        [ 0.77836616,  0.72085438,  0.23568886],\n",
       "        [ 0.68888303,  0.58919403,  0.74995615]]])"
      ]
     },
     "execution_count": 334,
     "metadata": {},
     "output_type": "execute_result"
    }
   ],
   "source": [
    "Z = np.random.random((3,3,3)) #the shape should be as a tuple (3,3,3)\n",
    "Z"
   ]
  },
  {
   "cell_type": "markdown",
   "metadata": {},
   "source": [
    "### 13. Create a 10x10 array with random values and find the minimum and maximum values (★☆☆)"
   ]
  },
  {
   "cell_type": "code",
   "execution_count": 337,
   "metadata": {
    "collapsed": false
   },
   "outputs": [
    {
     "data": {
      "text/plain": [
       "(0.99412943675560717, 0.0019059606314421051)"
      ]
     },
     "execution_count": 337,
     "metadata": {},
     "output_type": "execute_result"
    }
   ],
   "source": [
    "Z = np.random.random((10,10))\n",
    "Z.max(),Z.min()"
   ]
  },
  {
   "cell_type": "markdown",
   "metadata": {},
   "source": [
    "### 14. Create a random vector of size 30 and find the mean value (★☆☆)"
   ]
  },
  {
   "cell_type": "code",
   "execution_count": 340,
   "metadata": {
    "collapsed": false
   },
   "outputs": [
    {
     "data": {
      "text/plain": [
       "0.50614543465060957"
      ]
     },
     "execution_count": 340,
     "metadata": {},
     "output_type": "execute_result"
    }
   ],
   "source": [
    "Z = np.random.random(30)\n",
    "Z.mean()"
   ]
  },
  {
   "cell_type": "markdown",
   "metadata": {},
   "source": [
    "### 15.Create a 2d array with 1 on the border and 0 inside (★☆☆)"
   ]
  },
  {
   "cell_type": "code",
   "execution_count": 344,
   "metadata": {
    "collapsed": false
   },
   "outputs": [
    {
     "data": {
      "text/plain": [
       "array([[ 1.,  1.,  1.,  1.,  1.],\n",
       "       [ 1.,  0.,  0.,  0.,  1.],\n",
       "       [ 1.,  0.,  0.,  0.,  1.],\n",
       "       [ 1.,  0.,  0.,  0.,  1.],\n",
       "       [ 1.,  1.,  1.,  1.,  1.]])"
      ]
     },
     "execution_count": 344,
     "metadata": {},
     "output_type": "execute_result"
    }
   ],
   "source": [
    "Z = np.ones((5,5))\n",
    "Z[1:-1,1:-1] = 0\n",
    "Z"
   ]
  },
  {
   "cell_type": "markdown",
   "metadata": {},
   "source": [
    "### 16. How to add a border (filled with 0's) around an existing array? (★☆☆)"
   ]
  },
  {
   "cell_type": "code",
   "execution_count": 349,
   "metadata": {
    "collapsed": false
   },
   "outputs": [
    {
     "data": {
      "text/plain": [
       "array([[ 0.,  0.,  0.,  0.,  0.,  0.,  0.],\n",
       "       [ 0.,  1.,  1.,  1.,  1.,  1.,  0.],\n",
       "       [ 0.,  1.,  1.,  1.,  1.,  1.,  0.],\n",
       "       [ 0.,  1.,  1.,  1.,  1.,  1.,  0.],\n",
       "       [ 0.,  1.,  1.,  1.,  1.,  1.,  0.],\n",
       "       [ 0.,  1.,  1.,  1.,  1.,  1.,  0.],\n",
       "       [ 0.,  0.,  0.,  0.,  0.,  0.,  0.]])"
      ]
     },
     "execution_count": 349,
     "metadata": {},
     "output_type": "execute_result"
    }
   ],
   "source": [
    "Z = np.ones((5,5)) \n",
    "np.pad(Z,pad_width = 1, mode = 'constant', constant_values = 0) #^*^ numpy.pad: https://docs.scipy.org/doc/numpy/reference/generated/numpy.pad.html"
   ]
  },
  {
   "cell_type": "markdown",
   "metadata": {},
   "source": [
    "### 17. What is the result of the following expression? (★☆☆)"
   ]
  },
  {
   "cell_type": "code",
   "execution_count": 351,
   "metadata": {
    "collapsed": false
   },
   "outputs": [
    {
     "data": {
      "text/plain": [
       "nan"
      ]
     },
     "execution_count": 351,
     "metadata": {},
     "output_type": "execute_result"
    }
   ],
   "source": [
    "0 * np.nan"
   ]
  },
  {
   "cell_type": "code",
   "execution_count": 352,
   "metadata": {
    "collapsed": false
   },
   "outputs": [
    {
     "data": {
      "text/plain": [
       "False"
      ]
     },
     "execution_count": 352,
     "metadata": {},
     "output_type": "execute_result"
    }
   ],
   "source": [
    "np.nan == np.nan"
   ]
  },
  {
   "cell_type": "code",
   "execution_count": 354,
   "metadata": {
    "collapsed": false
   },
   "outputs": [
    {
     "data": {
      "text/plain": [
       "False"
      ]
     },
     "execution_count": 354,
     "metadata": {},
     "output_type": "execute_result"
    }
   ],
   "source": [
    "np.inf > np.nan"
   ]
  },
  {
   "cell_type": "code",
   "execution_count": 355,
   "metadata": {
    "collapsed": false
   },
   "outputs": [
    {
     "data": {
      "text/plain": [
       "nan"
      ]
     },
     "execution_count": 355,
     "metadata": {},
     "output_type": "execute_result"
    }
   ],
   "source": [
    "np.nan - np.nan"
   ]
  },
  {
   "cell_type": "code",
   "execution_count": 356,
   "metadata": {
    "collapsed": false
   },
   "outputs": [
    {
     "data": {
      "text/plain": [
       "False"
      ]
     },
     "execution_count": 356,
     "metadata": {},
     "output_type": "execute_result"
    }
   ],
   "source": [
    "0.3 == 3 * 0.1"
   ]
  },
  {
   "cell_type": "code",
   "execution_count": 357,
   "metadata": {
    "collapsed": false
   },
   "outputs": [
    {
     "data": {
      "text/plain": [
       "0.30000000000000004"
      ]
     },
     "execution_count": 357,
     "metadata": {},
     "output_type": "execute_result"
    }
   ],
   "source": [
    "#3*0.1"
   ]
  },
  {
   "cell_type": "markdown",
   "metadata": {},
   "source": [
    "### 18. Create a 5x5 matrix with values 1,2,3,4 just below the diagonal (★☆☆)"
   ]
  },
  {
   "cell_type": "code",
   "execution_count": 362,
   "metadata": {
    "collapsed": false
   },
   "outputs": [
    {
     "data": {
      "text/plain": [
       "array([[0, 0, 0, 0],\n",
       "       [0, 1, 0, 0],\n",
       "       [0, 0, 2, 0],\n",
       "       [0, 0, 0, 3]])"
      ]
     },
     "execution_count": 362,
     "metadata": {},
     "output_type": "execute_result"
    }
   ],
   "source": [
    "np.diag(np.arange(4), k = 0)"
   ]
  },
  {
   "cell_type": "code",
   "execution_count": 363,
   "metadata": {
    "collapsed": false
   },
   "outputs": [
    {
     "data": {
      "text/plain": [
       "array([[0, 0, 0, 0, 0],\n",
       "       [1, 0, 0, 0, 0],\n",
       "       [0, 2, 0, 0, 0],\n",
       "       [0, 0, 3, 0, 0],\n",
       "       [0, 0, 0, 4, 0]])"
      ]
     },
     "execution_count": 363,
     "metadata": {},
     "output_type": "execute_result"
    }
   ],
   "source": [
    "np.diag(1 + np.arange(4), k=-1)"
   ]
  },
  {
   "cell_type": "markdown",
   "metadata": {},
   "source": [
    "### 19. Create a 8x8 matrix and fill it with a checkerboard pattern (★☆☆)"
   ]
  },
  {
   "cell_type": "code",
   "execution_count": 368,
   "metadata": {
    "collapsed": false
   },
   "outputs": [
    {
     "data": {
      "text/plain": [
       "array([[0, 1, 0, 1, 0, 1, 0, 1],\n",
       "       [1, 0, 1, 0, 1, 0, 1, 0],\n",
       "       [0, 1, 0, 1, 0, 1, 0, 1],\n",
       "       [1, 0, 1, 0, 1, 0, 1, 0],\n",
       "       [0, 1, 0, 1, 0, 1, 0, 1],\n",
       "       [1, 0, 1, 0, 1, 0, 1, 0],\n",
       "       [0, 1, 0, 1, 0, 1, 0, 1],\n",
       "       [1, 0, 1, 0, 1, 0, 1, 0]])"
      ]
     },
     "execution_count": 368,
     "metadata": {},
     "output_type": "execute_result"
    }
   ],
   "source": [
    "Z = np.zeros((8,8),dtype=int)\n",
    "Z[1::2,::2] = 1\n",
    "Z[::2,1::2] = 1\n",
    "Z"
   ]
  },
  {
   "cell_type": "markdown",
   "metadata": {},
   "source": [
    "### 20. Consider a (6,7,8) shape array, what is the index (x,y,z) of the 100th element?"
   ]
  },
  {
   "cell_type": "markdown",
   "metadata": {},
   "source": [
    "#### Their solution"
   ]
  },
  {
   "cell_type": "code",
   "execution_count": 319,
   "metadata": {
    "collapsed": false
   },
   "outputs": [
    {
     "data": {
      "text/plain": [
       "(1, 5, 4)"
      ]
     },
     "execution_count": 319,
     "metadata": {},
     "output_type": "execute_result"
    }
   ],
   "source": [
    "Z = np.random.random((6,7,8))\n",
    "np.unravel_index(100,Z.shape)"
   ]
  },
  {
   "cell_type": "markdown",
   "metadata": {},
   "source": [
    "#### My solution"
   ]
  },
  {
   "cell_type": "code",
   "execution_count": 322,
   "metadata": {
    "collapsed": false
   },
   "outputs": [
    {
     "data": {
      "text/plain": [
       "0.33140520568758558"
      ]
     },
     "execution_count": 322,
     "metadata": {},
     "output_type": "execute_result"
    }
   ],
   "source": [
    "Z[100//56,100%56//8,(100%56)%8]"
   ]
  },
  {
   "cell_type": "code",
   "execution_count": 321,
   "metadata": {
    "collapsed": false,
    "scrolled": true
   },
   "outputs": [
    {
     "data": {
      "text/plain": [
       "0.33140520568758558"
      ]
     },
     "execution_count": 321,
     "metadata": {},
     "output_type": "execute_result"
    }
   ],
   "source": [
    "Z.flatten()[100]"
   ]
  },
  {
   "cell_type": "markdown",
   "metadata": {},
   "source": [
    "### 21. Create a checkerboard 8x8 matrix using the tile function (★☆☆)"
   ]
  },
  {
   "cell_type": "code",
   "execution_count": 395,
   "metadata": {
    "collapsed": false
   },
   "outputs": [
    {
     "data": {
      "text/plain": [
       "array([[0, 1],\n",
       "       [1, 0]])"
      ]
     },
     "execution_count": 395,
     "metadata": {},
     "output_type": "execute_result"
    }
   ],
   "source": [
    "np.array([[0,1],[1,0]])"
   ]
  },
  {
   "cell_type": "code",
   "execution_count": 396,
   "metadata": {
    "collapsed": false
   },
   "outputs": [
    {
     "data": {
      "text/plain": [
       "array([[0, 1, 0, 1, 0, 1, 0, 1],\n",
       "       [1, 0, 1, 0, 1, 0, 1, 0],\n",
       "       [0, 1, 0, 1, 0, 1, 0, 1],\n",
       "       [1, 0, 1, 0, 1, 0, 1, 0],\n",
       "       [0, 1, 0, 1, 0, 1, 0, 1],\n",
       "       [1, 0, 1, 0, 1, 0, 1, 0],\n",
       "       [0, 1, 0, 1, 0, 1, 0, 1],\n",
       "       [1, 0, 1, 0, 1, 0, 1, 0]])"
      ]
     },
     "execution_count": 396,
     "metadata": {},
     "output_type": "execute_result"
    }
   ],
   "source": [
    "np.tile(np.array([[0,1],[1,0]]),(4,4))"
   ]
  },
  {
   "cell_type": "markdown",
   "metadata": {},
   "source": [
    "### 22. Normalize a 5x5 random matrix (★☆☆)"
   ]
  },
  {
   "cell_type": "code",
   "execution_count": 401,
   "metadata": {
    "collapsed": false
   },
   "outputs": [
    {
     "data": {
      "text/plain": [
       "array([[ 0.20936567,  0.31796651,  0.57173178,  0.78588419,  0.31485275],\n",
       "       [ 0.68863708,  0.08626318,  0.20652899,  0.1169288 ,  0.45021389],\n",
       "       [ 0.59085111,  0.81157903,  0.07139666,  0.95970017,  0.62780412],\n",
       "       [ 0.8079448 ,  0.75363945,  0.29656622,  0.24929122,  0.30144745],\n",
       "       [ 0.92973026,  0.25260032,  0.9942387 ,  0.00145471,  0.75763168]])"
      ]
     },
     "execution_count": 401,
     "metadata": {},
     "output_type": "execute_result"
    }
   ],
   "source": [
    "Z = np.random.random((5,5))\n",
    "Z"
   ]
  },
  {
   "cell_type": "code",
   "execution_count": 402,
   "metadata": {
    "collapsed": false
   },
   "outputs": [
    {
     "data": {
      "text/plain": [
       "array([[ 0.20644782,  0.31504867,  0.56881394,  0.78296634,  0.3119349 ],\n",
       "       [ 0.68571923,  0.08334533,  0.20361115,  0.11401095,  0.44729604],\n",
       "       [ 0.58793326,  0.80866118,  0.06847881,  0.95678232,  0.62488627],\n",
       "       [ 0.80502695,  0.75072161,  0.29364837,  0.24637337,  0.2985296 ],\n",
       "       [ 0.92681241,  0.24968247,  0.99132085, -0.00146314,  0.75471384]])"
      ]
     },
     "execution_count": 402,
     "metadata": {},
     "output_type": "execute_result"
    }
   ],
   "source": [
    "Z-Z.min()/Z.max()-Z.min()"
   ]
  },
  {
   "cell_type": "markdown",
   "metadata": {},
   "source": [
    "### 23. Create a custom dtype that describes a color as four unsigned bytes (RGBA) (★☆☆)"
   ]
  },
  {
   "cell_type": "code",
   "execution_count": 418,
   "metadata": {
    "collapsed": false
   },
   "outputs": [],
   "source": [
    "color = np.dtype([(\"r\",np.ubyte,1),\n",
    "                 (\"g\",np.ubyte,1),\n",
    "                 (\"b\",np.ubyte,1),\n",
    "                 (\"a\",np.ubyte,1)]) #^?^ test = np.dtype([(\"r\",np.ubyte,1)?"
   ]
  },
  {
   "cell_type": "markdown",
   "metadata": {},
   "source": [
    "### 24. Multiply a 5x3 matrix by a 3x2 matrix (real matrix product) (★☆☆)"
   ]
  },
  {
   "cell_type": "code",
   "execution_count": 430,
   "metadata": {
    "collapsed": false
   },
   "outputs": [],
   "source": [
    "A = np.random.random((5,3))\n",
    "B = np.random.random((3,2))"
   ]
  },
  {
   "cell_type": "markdown",
   "metadata": {},
   "source": [
    "#### Solution1"
   ]
  },
  {
   "cell_type": "code",
   "execution_count": 431,
   "metadata": {
    "collapsed": false
   },
   "outputs": [
    {
     "data": {
      "text/plain": [
       "array([[ 0.30818588,  0.60489729],\n",
       "       [ 1.14773158,  1.52282234],\n",
       "       [ 0.41393972,  0.3950827 ],\n",
       "       [ 1.1391056 ,  1.20586926],\n",
       "       [ 1.29999598,  1.63816228]])"
      ]
     },
     "execution_count": 431,
     "metadata": {},
     "output_type": "execute_result"
    }
   ],
   "source": [
    "np.dot(A,B) #solution1"
   ]
  },
  {
   "cell_type": "markdown",
   "metadata": {},
   "source": [
    "#### Solution2"
   ]
  },
  {
   "cell_type": "code",
   "execution_count": 434,
   "metadata": {
    "collapsed": false
   },
   "outputs": [
    {
     "data": {
      "text/plain": [
       "array([[ 0.30818588,  0.60489729],\n",
       "       [ 1.14773158,  1.52282234],\n",
       "       [ 0.41393972,  0.3950827 ],\n",
       "       [ 1.1391056 ,  1.20586926],\n",
       "       [ 1.29999598,  1.63816228]])"
      ]
     },
     "execution_count": 434,
     "metadata": {},
     "output_type": "execute_result"
    }
   ],
   "source": [
    "A.dot(B) #solution2"
   ]
  },
  {
   "cell_type": "markdown",
   "metadata": {},
   "source": [
    "#### Solution3 for Python3 or above"
   ]
  },
  {
   "cell_type": "code",
   "execution_count": 436,
   "metadata": {
    "collapsed": false,
    "scrolled": true
   },
   "outputs": [
    {
     "data": {
      "text/plain": [
       "array([[ 0.30818588,  0.60489729],\n",
       "       [ 1.14773158,  1.52282234],\n",
       "       [ 0.41393972,  0.3950827 ],\n",
       "       [ 1.1391056 ,  1.20586926],\n",
       "       [ 1.29999598,  1.63816228]])"
      ]
     },
     "execution_count": 436,
     "metadata": {},
     "output_type": "execute_result"
    }
   ],
   "source": [
    "A @ B #solution3 for Python3 or above"
   ]
  },
  {
   "cell_type": "markdown",
   "metadata": {},
   "source": [
    "### 25. Given a 1D array, negate all elements which are between 3 and 8, in place. (★☆☆)"
   ]
  },
  {
   "cell_type": "code",
   "execution_count": 438,
   "metadata": {
    "collapsed": false
   },
   "outputs": [
    {
     "data": {
      "text/plain": [
       "array([ 0,  1,  2,  3,  4,  5,  6,  7,  8,  9, 10, 11])"
      ]
     },
     "execution_count": 438,
     "metadata": {},
     "output_type": "execute_result"
    }
   ],
   "source": [
    "Z = np.arange(12)\n",
    "Z"
   ]
  },
  {
   "cell_type": "code",
   "execution_count": 443,
   "metadata": {
    "collapsed": false
   },
   "outputs": [
    {
     "data": {
      "text/plain": [
       "array([ 0,  1,  2,  3, -4, -5, -6, -7,  8,  9, 10, 11])"
      ]
     },
     "execution_count": 443,
     "metadata": {},
     "output_type": "execute_result"
    }
   ],
   "source": [
    "Z[(Z < 8) & (Z > 3)] *= -1\n",
    "Z"
   ]
  },
  {
   "cell_type": "markdown",
   "metadata": {},
   "source": [
    "### 26. What is the output of the following script? (★☆☆)"
   ]
  },
  {
   "cell_type": "code",
   "execution_count": 444,
   "metadata": {
    "collapsed": false
   },
   "outputs": [
    {
     "data": {
      "text/plain": [
       "9"
      ]
     },
     "execution_count": 444,
     "metadata": {},
     "output_type": "execute_result"
    }
   ],
   "source": [
    "sum(range(5),-1) #sum(), sum up, then minus 1"
   ]
  },
  {
   "cell_type": "code",
   "execution_count": 446,
   "metadata": {
    "collapsed": false
   },
   "outputs": [
    {
     "data": {
      "text/plain": [
       "10"
      ]
     },
     "execution_count": 446,
     "metadata": {},
     "output_type": "execute_result"
    }
   ],
   "source": [
    "np.sum(range(5),-1) #np.sum(), along the last axis"
   ]
  },
  {
   "cell_type": "markdown",
   "metadata": {},
   "source": [
    "### 27. Consider an integer vector Z, which of these expressions are legal? (★☆☆)"
   ]
  },
  {
   "cell_type": "code",
   "execution_count": 449,
   "metadata": {
    "collapsed": false
   },
   "outputs": [
    {
     "data": {
      "text/plain": [
       "array([3, 7, 1, 6, 0, 7, 2, 1, 9, 4])"
      ]
     },
     "execution_count": 449,
     "metadata": {},
     "output_type": "execute_result"
    }
   ],
   "source": [
    "Z = np.random.randint(0,10,10)\n",
    "Z"
   ]
  },
  {
   "cell_type": "code",
   "execution_count": 450,
   "metadata": {
    "collapsed": false
   },
   "outputs": [
    {
     "data": {
      "text/plain": [
       "array([       27,    823543,         1,     46656,         1,    823543,\n",
       "               4,         1, 387420489,       256])"
      ]
     },
     "execution_count": 450,
     "metadata": {},
     "output_type": "execute_result"
    }
   ],
   "source": [
    "Z**Z"
   ]
  },
  {
   "cell_type": "code",
   "execution_count": 461,
   "metadata": {
    "collapsed": false
   },
   "outputs": [
    {
     "data": {
      "text/plain": [
       "array([False, False, False, False, False, False, False, False, False, False], dtype=bool)"
      ]
     },
     "execution_count": 461,
     "metadata": {},
     "output_type": "execute_result"
    }
   ],
   "source": [
    "Z <- Z"
   ]
  },
  {
   "cell_type": "code",
   "execution_count": 462,
   "metadata": {
    "collapsed": false
   },
   "outputs": [
    {
     "data": {
      "text/plain": [
       "array([ 0.+3.j,  0.+7.j,  0.+1.j,  0.+6.j,  0.+0.j,  0.+7.j,  0.+2.j,\n",
       "        0.+1.j,  0.+9.j,  0.+4.j])"
      ]
     },
     "execution_count": 462,
     "metadata": {},
     "output_type": "execute_result"
    }
   ],
   "source": [
    "1j*Z"
   ]
  },
  {
   "cell_type": "code",
   "execution_count": null,
   "metadata": {
    "collapsed": true
   },
   "outputs": [],
   "source": []
  },
  {
   "cell_type": "code",
   "execution_count": 451,
   "metadata": {
    "collapsed": false,
    "scrolled": true
   },
   "outputs": [
    {
     "data": {
      "text/plain": [
       "array([  4,  64,   1,  32,   0,  64,   2,   1, 256,   8])"
      ]
     },
     "execution_count": 451,
     "metadata": {},
     "output_type": "execute_result"
    }
   ],
   "source": [
    "2 << Z >> 2"
   ]
  },
  {
   "cell_type": "code",
   "execution_count": 495,
   "metadata": {
    "collapsed": false
   },
   "outputs": [
    {
     "data": {
      "text/plain": [
       "array([  24,  384,    6,  192,    3,  384,   12,    6, 1536,   48])"
      ]
     },
     "execution_count": 495,
     "metadata": {},
     "output_type": "execute_result"
    }
   ],
   "source": [
    "2<<Z   # ^?^ pow(2,z + 1)?"
   ]
  },
  {
   "cell_type": "code",
   "execution_count": null,
   "metadata": {
    "collapsed": true
   },
   "outputs": [],
   "source": []
  },
  {
   "cell_type": "code",
   "execution_count": 473,
   "metadata": {
    "collapsed": false
   },
   "outputs": [
    {
     "data": {
      "text/plain": [
       "array([0, 1, 0, 1, 0, 1, 0, 0, 2, 1])"
      ]
     },
     "execution_count": 473,
     "metadata": {},
     "output_type": "execute_result"
    }
   ],
   "source": [
    "Z >> 2 #right shift for 2 bits, with 0s filled in from the left"
   ]
  },
  {
   "cell_type": "code",
   "execution_count": null,
   "metadata": {
    "collapsed": true
   },
   "outputs": [],
   "source": [
    "Z << 2 #left shift for 2 bits, with 0s filled in from the right"
   ]
  },
  {
   "cell_type": "code",
   "execution_count": 494,
   "metadata": {
    "collapsed": false
   },
   "outputs": [
    {
     "data": {
      "text/plain": [
       "-32"
      ]
     },
     "execution_count": 494,
     "metadata": {},
     "output_type": "execute_result"
    }
   ],
   "source": [
    "-127 >> 2 #2's complement?\n"
   ]
  },
  {
   "cell_type": "code",
   "execution_count": null,
   "metadata": {
    "collapsed": true
   },
   "outputs": [],
   "source": []
  },
  {
   "cell_type": "code",
   "execution_count": 463,
   "metadata": {
    "collapsed": false,
    "scrolled": true
   },
   "outputs": [
    {
     "data": {
      "text/plain": [
       "array([ 3.,  7.,  1.,  6.,  0.,  7.,  2.,  1.,  9.,  4.])"
      ]
     },
     "execution_count": 463,
     "metadata": {},
     "output_type": "execute_result"
    }
   ],
   "source": [
    "Z/1/1"
   ]
  },
  {
   "cell_type": "code",
   "execution_count": null,
   "metadata": {
    "collapsed": true
   },
   "outputs": [],
   "source": [
    "Z <- Z"
   ]
  },
  {
   "cell_type": "code",
   "execution_count": 496,
   "metadata": {
    "collapsed": false
   },
   "outputs": [
    {
     "ename": "ValueError",
     "evalue": "The truth value of an array with more than one element is ambiguous. Use a.any() or a.all()",
     "output_type": "error",
     "traceback": [
      "\u001b[0;31m---------------------------------------------------------------------------\u001b[0m",
      "\u001b[0;31mValueError\u001b[0m                                Traceback (most recent call last)",
      "\u001b[0;32m<ipython-input-496-6a7a0f3065d7>\u001b[0m in \u001b[0;36m<module>\u001b[0;34m()\u001b[0m\n\u001b[0;32m----> 1\u001b[0;31m \u001b[0mZ\u001b[0m\u001b[0;34m<\u001b[0m\u001b[0mZ\u001b[0m\u001b[0;34m>\u001b[0m\u001b[0mZ\u001b[0m \u001b[0;31m#^?^ the order of concatenation?\u001b[0m\u001b[0;34m\u001b[0m\u001b[0m\n\u001b[0m\u001b[1;32m      2\u001b[0m \u001b[0;34m(\u001b[0m\u001b[0mZ\u001b[0m\u001b[0;34m<\u001b[0m\u001b[0mZ\u001b[0m\u001b[0;34m)\u001b[0m\u001b[0;34m>\u001b[0m\u001b[0mZ\u001b[0m\u001b[0;34m\u001b[0m\u001b[0m\n\u001b[1;32m      3\u001b[0m \u001b[0mZ\u001b[0m\u001b[0;34m<\u001b[0m\u001b[0;34m(\u001b[0m\u001b[0mZ\u001b[0m\u001b[0;34m>\u001b[0m\u001b[0mZ\u001b[0m\u001b[0;34m)\u001b[0m\u001b[0;34m\u001b[0m\u001b[0m\n",
      "\u001b[0;31mValueError\u001b[0m: The truth value of an array with more than one element is ambiguous. Use a.any() or a.all()"
     ]
    }
   ],
   "source": [
    "Z<Z>Z #^?^ the order of concatenation?\n",
    "(Z<Z)>Z\n",
    "Z<(Z>Z)"
   ]
  },
  {
   "cell_type": "markdown",
   "metadata": {},
   "source": [
    "### 28. What are the result of the following expressions?"
   ]
  },
  {
   "cell_type": "code",
   "execution_count": 506,
   "metadata": {
    "collapsed": false,
    "scrolled": true
   },
   "outputs": [
    {
     "name": "stderr",
     "output_type": "stream",
     "text": [
      "/Users/hanzg/.pyenv/versions/anaconda3-2.5.0/lib/python3.5/site-packages/ipykernel/__main__.py:1: RuntimeWarning: invalid value encountered in true_divide\n",
      "  if __name__ == '__main__':\n"
     ]
    },
    {
     "data": {
      "text/plain": [
       "nan"
      ]
     },
     "execution_count": 506,
     "metadata": {},
     "output_type": "execute_result"
    }
   ],
   "source": [
    "np.array(0) / np.array(0) #^?^ np.array(0)"
   ]
  },
  {
   "cell_type": "code",
   "execution_count": 507,
   "metadata": {
    "collapsed": false
   },
   "outputs": [
    {
     "name": "stderr",
     "output_type": "stream",
     "text": [
      "/Users/hanzg/.pyenv/versions/anaconda3-2.5.0/lib/python3.5/site-packages/ipykernel/__main__.py:1: RuntimeWarning: divide by zero encountered in floor_divide\n",
      "  if __name__ == '__main__':\n"
     ]
    },
    {
     "data": {
      "text/plain": [
       "0"
      ]
     },
     "execution_count": 507,
     "metadata": {},
     "output_type": "execute_result"
    }
   ],
   "source": [
    "np.array(0) // np.array(0) "
   ]
  },
  {
   "cell_type": "code",
   "execution_count": 508,
   "metadata": {
    "collapsed": false
   },
   "outputs": [
    {
     "data": {
      "text/plain": [
       "array([-9223372036854775808])"
      ]
     },
     "execution_count": 508,
     "metadata": {},
     "output_type": "execute_result"
    }
   ],
   "source": [
    "np.array([np.nan]).astype(int)"
   ]
  },
  {
   "cell_type": "code",
   "execution_count": 509,
   "metadata": {
    "collapsed": false
   },
   "outputs": [
    {
     "data": {
      "text/plain": [
       "array([ -9.22337204e+18])"
      ]
     },
     "execution_count": 509,
     "metadata": {},
     "output_type": "execute_result"
    }
   ],
   "source": [
    "np.array([np.nan]).astype(int).astype(float)"
   ]
  },
  {
   "cell_type": "markdown",
   "metadata": {},
   "source": [
    "### 29. How to round away from zero a float array ? (★☆☆)"
   ]
  },
  {
   "cell_type": "code",
   "execution_count": 510,
   "metadata": {
    "collapsed": false
   },
   "outputs": [
    {
     "data": {
      "text/plain": [
       "array([-5.83444393, -5.45501451,  0.16768349,  4.94148358, -5.24809363,\n",
       "       -0.3253481 ,  1.29319381, -8.21089825,  2.20495641, -1.80475405])"
      ]
     },
     "execution_count": 510,
     "metadata": {},
     "output_type": "execute_result"
    }
   ],
   "source": [
    "Z = np.random.uniform(-10,+10,10)\n",
    "Z"
   ]
  },
  {
   "cell_type": "code",
   "execution_count": 515,
   "metadata": {
    "collapsed": false
   },
   "outputs": [
    {
     "data": {
      "text/plain": [
       "(array([ 6.,  6.,  1.,  5.,  6.,  1.,  2.,  9.,  3.,  2.]),\n",
       " array([-5.83444393, -5.45501451,  0.16768349,  4.94148358, -5.24809363,\n",
       "        -0.3253481 ,  1.29319381, -8.21089825,  2.20495641, -1.80475405]))"
      ]
     },
     "execution_count": 515,
     "metadata": {},
     "output_type": "execute_result"
    }
   ],
   "source": [
    "np.ceil(np.abs(Z)), Z"
   ]
  },
  {
   "cell_type": "code",
   "execution_count": 511,
   "metadata": {
    "collapsed": false
   },
   "outputs": [
    {
     "data": {
      "text/plain": [
       "array([-6., -6.,  1.,  5., -6., -1.,  2., -9.,  3., -2.])"
      ]
     },
     "execution_count": 511,
     "metadata": {},
     "output_type": "execute_result"
    }
   ],
   "source": [
    "np.copysign(np.ceil(np.abs(Z)), Z)"
   ]
  },
  {
   "cell_type": "markdown",
   "metadata": {},
   "source": [
    "### 30. How to find common values between two arrays? (★☆☆)"
   ]
  },
  {
   "cell_type": "code",
   "execution_count": 518,
   "metadata": {
    "collapsed": false
   },
   "outputs": [
    {
     "data": {
      "text/plain": [
       "(array([3, 6, 2, 2, 7, 8, 5, 1, 6, 6]), array([2, 8, 5, 1, 8, 4, 5, 5, 3, 6]))"
      ]
     },
     "execution_count": 518,
     "metadata": {},
     "output_type": "execute_result"
    }
   ],
   "source": [
    "Z1 = np.random.randint(0,10,10)\n",
    "Z2 = np.random.randint(0,10,10)\n",
    "Z1,Z2"
   ]
  },
  {
   "cell_type": "code",
   "execution_count": 519,
   "metadata": {
    "collapsed": false
   },
   "outputs": [
    {
     "data": {
      "text/plain": [
       "array([1, 2, 3, 5, 6, 8])"
      ]
     },
     "execution_count": 519,
     "metadata": {},
     "output_type": "execute_result"
    }
   ],
   "source": [
    "np.intersect1d(Z1,Z2)"
   ]
  },
  {
   "cell_type": "markdown",
   "metadata": {},
   "source": [
    "### 31. How to ignore all numpy warnings (not recommended)? (★☆☆)"
   ]
  },
  {
   "cell_type": "code",
   "execution_count": 546,
   "metadata": {
    "collapsed": false
   },
   "outputs": [
    {
     "data": {
      "text/plain": [
       "(array([ inf]),\n",
       " {'divide': 'ignore',\n",
       "  'invalid': 'ignore',\n",
       "  'over': 'ignore',\n",
       "  'under': 'ignore'})"
      ]
     },
     "execution_count": 546,
     "metadata": {},
     "output_type": "execute_result"
    }
   ],
   "source": [
    "defaults = np.seterr(all='ignore')\n",
    "Z = np.ones(1) / 0  #the warnings supposed to be generated by Numpy becomes ignored now\n",
    "Z, defaults"
   ]
  },
  {
   "cell_type": "code",
   "execution_count": 542,
   "metadata": {
    "collapsed": true
   },
   "outputs": [],
   "source": [
    "# Back to sanity\n",
    "_ = np.seterr(**defaults)"
   ]
  },
  {
   "cell_type": "code",
   "execution_count": 551,
   "metadata": {
    "collapsed": false
   },
   "outputs": [
    {
     "data": {
      "text/plain": [
       "(array([ inf]),\n",
       " {'divide': 'ignore',\n",
       "  'invalid': 'ignore',\n",
       "  'over': 'ignore',\n",
       "  'under': 'ignore'})"
      ]
     },
     "execution_count": 551,
     "metadata": {},
     "output_type": "execute_result"
    }
   ],
   "source": [
    "#^?^ not working?\n",
    "#back to sanity\n",
    "_ = np.seterr(**defaults)\n",
    "Z = np.ones(1) / 0\n",
    "Z, _"
   ]
  },
  {
   "cell_type": "code",
   "execution_count": 556,
   "metadata": {
    "collapsed": true
   },
   "outputs": [],
   "source": [
    "#with context manager\n",
    "with np.errstate(divide='ignore'):\n",
    "    Z = np.ones(1) / 0"
   ]
  },
  {
   "cell_type": "markdown",
   "metadata": {},
   "source": [
    "### 32. Is the following expressions true? (★☆☆)"
   ]
  },
  {
   "cell_type": "code",
   "execution_count": 558,
   "metadata": {
    "collapsed": false
   },
   "outputs": [
    {
     "data": {
      "text/plain": [
       "nan"
      ]
     },
     "execution_count": 558,
     "metadata": {},
     "output_type": "execute_result"
    }
   ],
   "source": [
    "np.sqrt(-1)"
   ]
  },
  {
   "cell_type": "code",
   "execution_count": 559,
   "metadata": {
    "collapsed": false
   },
   "outputs": [
    {
     "data": {
      "text/plain": [
       "1j"
      ]
     },
     "execution_count": 559,
     "metadata": {},
     "output_type": "execute_result"
    }
   ],
   "source": [
    "np.emath.sqrt(-1) #with complex number"
   ]
  },
  {
   "cell_type": "code",
   "execution_count": 557,
   "metadata": {
    "collapsed": false
   },
   "outputs": [
    {
     "data": {
      "text/plain": [
       "False"
      ]
     },
     "execution_count": 557,
     "metadata": {},
     "output_type": "execute_result"
    }
   ],
   "source": [
    "np.sqrt(-1) == np.emath.sqrt(-1)"
   ]
  },
  {
   "cell_type": "markdown",
   "metadata": {},
   "source": [
    "### 33. How to get the dates of yesterday, today and tomorrow? (★☆☆)"
   ]
  },
  {
   "cell_type": "code",
   "execution_count": 573,
   "metadata": {
    "collapsed": false
   },
   "outputs": [],
   "source": [
    "yesterday = np.datetime64('today','D') - np.timedelta64(1, 'D')\n",
    "today = np.datetime64('today', 'D')\n",
    "tomorrow = np.datetime64('today','D') + np.timedelta64(1,'D')"
   ]
  },
  {
   "cell_type": "code",
   "execution_count": 574,
   "metadata": {
    "collapsed": false
   },
   "outputs": [
    {
     "data": {
      "text/plain": [
       "(numpy.datetime64('2017-04-15'),\n",
       " numpy.datetime64('2017-04-16'),\n",
       " numpy.datetime64('2017-04-17'))"
      ]
     },
     "execution_count": 574,
     "metadata": {},
     "output_type": "execute_result"
    }
   ],
   "source": [
    "yesterday, today, tomorrow"
   ]
  },
  {
   "cell_type": "markdown",
   "metadata": {},
   "source": [
    "### 34. How to get all the dates corresponding to the month of July 2016? (★★☆)"
   ]
  },
  {
   "cell_type": "code",
   "execution_count": 589,
   "metadata": {
    "collapsed": false
   },
   "outputs": [
    {
     "data": {
      "text/plain": [
       "array(['2016-07-01', '2016-07-02', '2016-07-03', '2016-07-04',\n",
       "       '2016-07-05', '2016-07-06', '2016-07-07', '2016-07-08',\n",
       "       '2016-07-09', '2016-07-10', '2016-07-11', '2016-07-12',\n",
       "       '2016-07-13', '2016-07-14', '2016-07-15', '2016-07-16',\n",
       "       '2016-07-17', '2016-07-18', '2016-07-19', '2016-07-20',\n",
       "       '2016-07-21', '2016-07-22', '2016-07-23', '2016-07-24',\n",
       "       '2016-07-25', '2016-07-26', '2016-07-27', '2016-07-28',\n",
       "       '2016-07-29', '2016-07-30', '2016-07-31'], dtype='datetime64[D]')"
      ]
     },
     "execution_count": 589,
     "metadata": {},
     "output_type": "execute_result"
    }
   ],
   "source": [
    "np.arange('2016-07', '2016-08', dtype = 'datetime64[D]') #datetime64[M] is optional"
   ]
  },
  {
   "cell_type": "markdown",
   "metadata": {},
   "source": [
    "## 35. How to compute ((A+B)*(-A/2)) in place (without copy)? (★★☆)"
   ]
  },
  {
   "cell_type": "code",
   "execution_count": 614,
   "metadata": {
    "collapsed": false
   },
   "outputs": [
    {
     "data": {
      "text/plain": [
       "(array([ 1.,  1.,  1.]), array([ 2.,  2.,  2.]), array([ 3.,  3.,  3.]))"
      ]
     },
     "execution_count": 614,
     "metadata": {},
     "output_type": "execute_result"
    }
   ],
   "source": [
    "A = np.ones(3)*1\n",
    "B = np.ones(3)*2\n",
    "C = np.ones(3)*3\n",
    "A,B,C"
   ]
  },
  {
   "cell_type": "code",
   "execution_count": 615,
   "metadata": {
    "collapsed": false
   },
   "outputs": [
    {
     "data": {
      "text/plain": [
       "(array([ 1.,  1.,  1.]), array([ 3.,  3.,  3.]), array([ 3.,  3.,  3.]))"
      ]
     },
     "execution_count": 615,
     "metadata": {},
     "output_type": "execute_result"
    }
   ],
   "source": [
    "np.add(A,B,out = B)\n",
    "A,B,C"
   ]
  },
  {
   "cell_type": "code",
   "execution_count": 616,
   "metadata": {
    "collapsed": false
   },
   "outputs": [
    {
     "data": {
      "text/plain": [
       "(array([ 0.5,  0.5,  0.5]), array([ 3.,  3.,  3.]), array([ 3.,  3.,  3.]))"
      ]
     },
     "execution_count": 616,
     "metadata": {},
     "output_type": "execute_result"
    }
   ],
   "source": [
    "np.divide(A,2, out = A)\n",
    "A,B,C"
   ]
  },
  {
   "cell_type": "code",
   "execution_count": 617,
   "metadata": {
    "collapsed": false
   },
   "outputs": [
    {
     "data": {
      "text/plain": [
       "(array([-0.5, -0.5, -0.5]), array([ 3.,  3.,  3.]), array([ 3.,  3.,  3.]))"
      ]
     },
     "execution_count": 617,
     "metadata": {},
     "output_type": "execute_result"
    }
   ],
   "source": [
    "np.negative(A, out = A)\n",
    "A,B,C"
   ]
  },
  {
   "cell_type": "code",
   "execution_count": 618,
   "metadata": {
    "collapsed": false,
    "scrolled": true
   },
   "outputs": [
    {
     "data": {
      "text/plain": [
       "(array([-1.5, -1.5, -1.5]), array([ 3.,  3.,  3.]), array([ 3.,  3.,  3.]))"
      ]
     },
     "execution_count": 618,
     "metadata": {},
     "output_type": "execute_result"
    }
   ],
   "source": [
    "np.multiply(A, B, out = A)\n",
    "A,B,C"
   ]
  },
  {
   "cell_type": "markdown",
   "metadata": {},
   "source": [
    "### 36. Extract the integer part of a random array using 5 different methods (★★☆)"
   ]
  },
  {
   "cell_type": "code",
   "execution_count": 620,
   "metadata": {
    "collapsed": false
   },
   "outputs": [
    {
     "data": {
      "text/plain": [
       "array([ 7.01843308,  4.83948271,  8.18627892,  5.65228203,  8.8623302 ,\n",
       "        2.82721522,  4.16574847,  8.54583522,  4.12780231,  0.26110065])"
      ]
     },
     "execution_count": 620,
     "metadata": {},
     "output_type": "execute_result"
    }
   ],
   "source": [
    "Z = np.random.uniform(0,10,10)\n",
    "Z"
   ]
  },
  {
   "cell_type": "code",
   "execution_count": 621,
   "metadata": {
    "collapsed": false
   },
   "outputs": [
    {
     "data": {
      "text/plain": [
       "array([ 7.,  4.,  8.,  5.,  8.,  2.,  4.,  8.,  4.,  0.])"
      ]
     },
     "execution_count": 621,
     "metadata": {},
     "output_type": "execute_result"
    }
   ],
   "source": [
    "Z - Z%1"
   ]
  },
  {
   "cell_type": "code",
   "execution_count": 624,
   "metadata": {
    "collapsed": false
   },
   "outputs": [
    {
     "data": {
      "text/plain": [
       "array([ 7.,  4.,  8.,  5.,  8.,  2.,  4.,  8.,  4.,  0.])"
      ]
     },
     "execution_count": 624,
     "metadata": {},
     "output_type": "execute_result"
    }
   ],
   "source": [
    "np.floor(Z)"
   ]
  },
  {
   "cell_type": "code",
   "execution_count": 626,
   "metadata": {
    "collapsed": false
   },
   "outputs": [
    {
     "data": {
      "text/plain": [
       "array([ 7.,  4.,  8.,  5.,  8.,  2.,  4.,  8.,  4.,  0.])"
      ]
     },
     "execution_count": 626,
     "metadata": {},
     "output_type": "execute_result"
    }
   ],
   "source": [
    "np.ceil(Z)-1"
   ]
  },
  {
   "cell_type": "code",
   "execution_count": 627,
   "metadata": {
    "collapsed": false
   },
   "outputs": [
    {
     "data": {
      "text/plain": [
       "array([7, 4, 8, 5, 8, 2, 4, 8, 4, 0])"
      ]
     },
     "execution_count": 627,
     "metadata": {},
     "output_type": "execute_result"
    }
   ],
   "source": [
    "Z.astype(int)"
   ]
  },
  {
   "cell_type": "code",
   "execution_count": 628,
   "metadata": {
    "collapsed": false
   },
   "outputs": [
    {
     "data": {
      "text/plain": [
       "array([ 7.,  4.,  8.,  5.,  8.,  2.,  4.,  8.,  4.,  0.])"
      ]
     },
     "execution_count": 628,
     "metadata": {},
     "output_type": "execute_result"
    }
   ],
   "source": [
    "np.trunc(Z)"
   ]
  },
  {
   "cell_type": "markdown",
   "metadata": {},
   "source": [
    "### 37. Create a 5x5 matrix with row values ranging from 0 to 4 (★★☆)"
   ]
  },
  {
   "cell_type": "code",
   "execution_count": 640,
   "metadata": {
    "collapsed": false
   },
   "outputs": [
    {
     "data": {
      "text/plain": [
       "array([[ 0.,  1.,  2.,  3.,  4.],\n",
       "       [ 0.,  1.,  2.,  3.,  4.],\n",
       "       [ 0.,  1.,  2.,  3.,  4.],\n",
       "       [ 0.,  1.,  2.,  3.,  4.],\n",
       "       [ 0.,  1.,  2.,  3.,  4.]])"
      ]
     },
     "execution_count": 640,
     "metadata": {},
     "output_type": "execute_result"
    }
   ],
   "source": [
    "Z = np.zeros((5,5))\n",
    "Z += np.arange(5) #propagation\n",
    "Z"
   ]
  },
  {
   "cell_type": "markdown",
   "metadata": {},
   "source": [
    "### 38. Consider a generator function that generates 10 integers and use it to build an array (★☆☆)"
   ]
  },
  {
   "cell_type": "code",
   "execution_count": 646,
   "metadata": {
    "collapsed": true
   },
   "outputs": [],
   "source": [
    "def generate():\n",
    "    for x in range(10):\n",
    "        yield x"
   ]
  },
  {
   "cell_type": "code",
   "execution_count": 653,
   "metadata": {
    "collapsed": false
   },
   "outputs": [
    {
     "data": {
      "text/plain": [
       "array([ 0.,  1.,  2.,  3.,  4.,  5.,  6.,  7.,  8.,  9.])"
      ]
     },
     "execution_count": 653,
     "metadata": {},
     "output_type": "execute_result"
    }
   ],
   "source": [
    "Z = np.fromiter(generate(),dtype=float,count=-1)  #^?^ fromiter(); default count = -1 means all data will be read  #https://docs.scipy.org/doc/numpy/reference/generated/numpy.fromiter.html\n",
    "Z"
   ]
  },
  {
   "cell_type": "markdown",
   "metadata": {},
   "source": [
    "### 39. Create a vector of size 10 with values ranging from 0 to 1, both excluded (★★☆)"
   ]
  },
  {
   "cell_type": "code",
   "execution_count": 662,
   "metadata": {
    "collapsed": false
   },
   "outputs": [
    {
     "data": {
      "text/plain": [
       "array([ 0.90909091,  1.81818182,  2.72727273,  3.63636364,  4.54545455,\n",
       "        5.45454545,  6.36363636,  7.27272727,  8.18181818,  9.09090909])"
      ]
     },
     "execution_count": 662,
     "metadata": {},
     "output_type": "execute_result"
    }
   ],
   "source": [
    "np.linspace(0,10,12, endpoint= True)[1:-1]"
   ]
  },
  {
   "cell_type": "markdown",
   "metadata": {},
   "source": [
    "### 40. Create a random vector of size 10 and sort it (★★☆)"
   ]
  },
  {
   "cell_type": "code",
   "execution_count": 3,
   "metadata": {
    "collapsed": false
   },
   "outputs": [],
   "source": [
    "Z = np.random.random(10)\n",
    "Z.sort()"
   ]
  },
  {
   "cell_type": "code",
   "execution_count": 4,
   "metadata": {
    "collapsed": false
   },
   "outputs": [
    {
     "data": {
      "text/plain": [
       "array([ 0.00574671,  0.2977225 ,  0.44216926,  0.56832259,  0.57400374,\n",
       "        0.62029067,  0.78693547,  0.78993535,  0.822849  ,  0.8337766 ])"
      ]
     },
     "execution_count": 4,
     "metadata": {},
     "output_type": "execute_result"
    }
   ],
   "source": [
    "Z"
   ]
  },
  {
   "cell_type": "markdown",
   "metadata": {
    "collapsed": true
   },
   "source": [
    "### 41. How to sum a small array faster than np.sum? (★★☆)"
   ]
  },
  {
   "cell_type": "code",
   "execution_count": 22,
   "metadata": {
    "collapsed": false
   },
   "outputs": [
    {
     "data": {
      "text/plain": [
       "array([ 0.26055286,  0.86102059,  0.7632628 ,  0.98787986,  0.58561718,\n",
       "        0.17761368,  0.68964756,  0.39639237,  0.33902173,  0.80209473])"
      ]
     },
     "execution_count": 22,
     "metadata": {},
     "output_type": "execute_result"
    }
   ],
   "source": [
    "Z = np.random.random(10)\n",
    "Z"
   ]
  },
  {
   "cell_type": "code",
   "execution_count": 24,
   "metadata": {
    "collapsed": false
   },
   "outputs": [
    {
     "name": "stdout",
     "output_type": "stream",
     "text": [
      "The slowest run took 9.78 times longer than the fastest. This could mean that an intermediate result is being cached.\n",
      "100000 loops, best of 3: 3.24 µs per loop\n"
     ]
    }
   ],
   "source": [
    "%timeit np.sum(Z)"
   ]
  },
  {
   "cell_type": "code",
   "execution_count": 25,
   "metadata": {
    "collapsed": false
   },
   "outputs": [
    {
     "name": "stdout",
     "output_type": "stream",
     "text": [
      "The slowest run took 19.18 times longer than the fastest. This could mean that an intermediate result is being cached.\n",
      "1000000 loops, best of 3: 1.33 µs per loop\n"
     ]
    }
   ],
   "source": [
    "%timeit np.add.reduce(Z)"
   ]
  },
  {
   "cell_type": "markdown",
   "metadata": {},
   "source": [
    "^?^ why add.reduce is faster?"
   ]
  },
  {
   "cell_type": "markdown",
   "metadata": {},
   "source": [
    "### 42. Consider two random array A and B, check if they are equal (★★☆)"
   ]
  },
  {
   "cell_type": "code",
   "execution_count": 48,
   "metadata": {
    "collapsed": false
   },
   "outputs": [
    {
     "name": "stdout",
     "output_type": "stream",
     "text": [
      "[1 1 1 0 0] [1 0 1 1 0]\n",
      "False\n",
      "False\n"
     ]
    }
   ],
   "source": [
    "A = np.random.randint(0,2,5)\n",
    "B = np.random.randint(0,2,5)\n",
    "\n",
    "print (A,B)\n",
    "# Assuming identical shape of the arrays and a tolerance for the comparison of values\n",
    "equal = np.allclose(A,B) #^?^ allclose?\n",
    "print(equal)\n",
    "\n",
    "# Checking both the shape and the element values, no tolerance (values have to be exactly equal)\n",
    "equal = np.array_equal(A,B)\n",
    "print(equal)"
   ]
  },
  {
   "cell_type": "markdown",
   "metadata": {},
   "source": [
    "### 43. Make an array immutable (read-only) (★★☆)"
   ]
  },
  {
   "cell_type": "code",
   "execution_count": 49,
   "metadata": {
    "collapsed": false
   },
   "outputs": [
    {
     "data": {
      "text/plain": [
       "array([ 0.,  0.,  0.,  0.,  0.,  0.,  0.,  0.,  0.,  0.])"
      ]
     },
     "execution_count": 49,
     "metadata": {},
     "output_type": "execute_result"
    }
   ],
   "source": [
    "Z = np.zeros(10)\n",
    "Z"
   ]
  },
  {
   "cell_type": "code",
   "execution_count": 50,
   "metadata": {
    "collapsed": true
   },
   "outputs": [],
   "source": [
    "Z.flags.writeable = False"
   ]
  },
  {
   "cell_type": "code",
   "execution_count": 51,
   "metadata": {
    "collapsed": false
   },
   "outputs": [
    {
     "data": {
      "text/plain": [
       "  C_CONTIGUOUS : True\n",
       "  F_CONTIGUOUS : True\n",
       "  OWNDATA : True\n",
       "  WRITEABLE : False\n",
       "  ALIGNED : True\n",
       "  UPDATEIFCOPY : False"
      ]
     },
     "execution_count": 51,
     "metadata": {},
     "output_type": "execute_result"
    }
   ],
   "source": [
    "Z.flags"
   ]
  },
  {
   "cell_type": "code",
   "execution_count": 54,
   "metadata": {
    "collapsed": false
   },
   "outputs": [
    {
     "ename": "ValueError",
     "evalue": "assignment destination is read-only",
     "output_type": "error",
     "traceback": [
      "\u001b[0;31m---------------------------------------------------------------------------\u001b[0m",
      "\u001b[0;31mValueError\u001b[0m                                Traceback (most recent call last)",
      "\u001b[0;32m<ipython-input-54-9a9646b941d1>\u001b[0m in \u001b[0;36m<module>\u001b[0;34m()\u001b[0m\n\u001b[0;32m----> 1\u001b[0;31m \u001b[0mZ\u001b[0m\u001b[0;34m[\u001b[0m\u001b[0;36m0\u001b[0m\u001b[0;34m]\u001b[0m \u001b[0;34m=\u001b[0m \u001b[0;36m1\u001b[0m \u001b[0;31m#read-only\u001b[0m\u001b[0;34m\u001b[0m\u001b[0m\n\u001b[0m",
      "\u001b[0;31mValueError\u001b[0m: assignment destination is read-only"
     ]
    }
   ],
   "source": [
    "Z[0] = 1 #read-only"
   ]
  },
  {
   "cell_type": "markdown",
   "metadata": {},
   "source": [
    "### 44. Consider a random 10x2 matrix representing cartesian coordinates, convert them to polar coordinates (★★☆)"
   ]
  },
  {
   "cell_type": "code",
   "execution_count": 56,
   "metadata": {
    "collapsed": false,
    "scrolled": true
   },
   "outputs": [
    {
     "data": {
      "text/plain": [
       "array([[ 0.8231246 ,  0.0945745 ],\n",
       "       [ 0.06927747,  0.56994457],\n",
       "       [ 0.42431978,  0.54424658],\n",
       "       [ 0.93880001,  0.25668879],\n",
       "       [ 0.00956234,  0.845604  ],\n",
       "       [ 0.16238074,  0.07672982],\n",
       "       [ 0.54722871,  0.77376274],\n",
       "       [ 0.54929705,  0.90531682],\n",
       "       [ 0.56815124,  0.09128723],\n",
       "       [ 0.70787372,  0.7128303 ]])"
      ]
     },
     "execution_count": 56,
     "metadata": {},
     "output_type": "execute_result"
    }
   ],
   "source": [
    "Z = np.random.random((10,2))\n",
    "Z"
   ]
  },
  {
   "cell_type": "code",
   "execution_count": 68,
   "metadata": {
    "collapsed": true
   },
   "outputs": [],
   "source": [
    "X = Z[:,0]\n",
    "Y = Z[:,1]"
   ]
  },
  {
   "cell_type": "code",
   "execution_count": 83,
   "metadata": {
    "collapsed": true
   },
   "outputs": [],
   "source": [
    "R = np.sqrt(X**2 + Y**2)\n",
    "TH = np.arctan2(Y,X) #^?^ arctan2"
   ]
  },
  {
   "cell_type": "code",
   "execution_count": 85,
   "metadata": {
    "collapsed": false
   },
   "outputs": [
    {
     "name": "stdout",
     "output_type": "stream",
     "text": [
      "[ 0.82853995  0.57413951  0.69010986  0.97325978  0.84565807  0.17959669\n",
      "  0.94771727  1.05892672  0.57543825  1.00459556] [ 0.11439532  1.44983847  0.90859004  0.26689878  1.55948852  0.44143138\n",
      "  0.95523406  1.02543154  0.15931254  0.78888697]\n"
     ]
    }
   ],
   "source": [
    "print (R,TH)"
   ]
  },
  {
   "cell_type": "markdown",
   "metadata": {},
   "source": [
    "### 45. Create random vector of size 10 and replace the maximum value by 0 (★★☆)"
   ]
  },
  {
   "cell_type": "code",
   "execution_count": 89,
   "metadata": {
    "collapsed": false
   },
   "outputs": [
    {
     "data": {
      "text/plain": [
       "array([ 0.03335648,  0.7403817 ,  0.92640715,  0.56528033,  0.08828252,\n",
       "        0.07221941,  0.47051614,  0.7091285 ,  0.50095591,  0.47181983])"
      ]
     },
     "execution_count": 89,
     "metadata": {},
     "output_type": "execute_result"
    }
   ],
   "source": [
    "Z = np.random.random(10)\n",
    "Z"
   ]
  },
  {
   "cell_type": "code",
   "execution_count": 90,
   "metadata": {
    "collapsed": false
   },
   "outputs": [
    {
     "data": {
      "text/plain": [
       "array([ 0.03335648,  0.7403817 ,  0.        ,  0.56528033,  0.08828252,\n",
       "        0.07221941,  0.47051614,  0.7091285 ,  0.50095591,  0.47181983])"
      ]
     },
     "execution_count": 90,
     "metadata": {},
     "output_type": "execute_result"
    }
   ],
   "source": [
    "Z[Z.argmax()] = 0\n",
    "Z"
   ]
  },
  {
   "cell_type": "markdown",
   "metadata": {},
   "source": [
    "### 46. Create a structured array with x and y coordinates covering the [0,1]x[0,1] area (★★☆)"
   ]
  },
  {
   "cell_type": "code",
   "execution_count": 134,
   "metadata": {
    "collapsed": false
   },
   "outputs": [],
   "source": [
    "Z = np.zeros((5,5), [('x',float),('y',float)])\n",
    "Z['x'], Z['y'] = np.meshgrid(np.linspace(0,1,5),np.linspace(0,1,5))"
   ]
  },
  {
   "cell_type": "code",
   "execution_count": 127,
   "metadata": {
    "collapsed": false
   },
   "outputs": [],
   "source": [
    "m = np.meshgrid(np.linspace(0,1,5),np.linspace(0,1,5))"
   ]
  },
  {
   "cell_type": "code",
   "execution_count": 139,
   "metadata": {
    "collapsed": false
   },
   "outputs": [
    {
     "data": {
      "text/plain": [
       "( 0.25,  0.)"
      ]
     },
     "execution_count": 139,
     "metadata": {},
     "output_type": "execute_result"
    }
   ],
   "source": [
    "Z[0][1]"
   ]
  },
  {
   "cell_type": "code",
   "execution_count": 126,
   "metadata": {
    "collapsed": false
   },
   "outputs": [
    {
     "data": {
      "text/plain": [
       "array([[( 0.  ,  0.  ), ( 0.25,  0.  ), ( 0.5 ,  0.  ), ( 0.75,  0.  ),\n",
       "        ( 1.  ,  0.  )],\n",
       "       [( 0.  ,  0.25), ( 0.25,  0.25), ( 0.5 ,  0.25), ( 0.75,  0.25),\n",
       "        ( 1.  ,  0.25)],\n",
       "       [( 0.  ,  0.5 ), ( 0.25,  0.5 ), ( 0.5 ,  0.5 ), ( 0.75,  0.5 ),\n",
       "        ( 1.  ,  0.5 )],\n",
       "       [( 0.  ,  0.75), ( 0.25,  0.75), ( 0.5 ,  0.75), ( 0.75,  0.75),\n",
       "        ( 1.  ,  0.75)],\n",
       "       [( 0.  ,  1.  ), ( 0.25,  1.  ), ( 0.5 ,  1.  ), ( 0.75,  1.  ),\n",
       "        ( 1.  ,  1.  )]], \n",
       "      dtype=[('x', '<f8'), ('y', '<f8')])"
      ]
     },
     "execution_count": 126,
     "metadata": {},
     "output_type": "execute_result"
    }
   ],
   "source": [
    "Z"
   ]
  },
  {
   "cell_type": "code",
   "execution_count": 129,
   "metadata": {
    "collapsed": false
   },
   "outputs": [
    {
     "name": "stdout",
     "output_type": "stream",
     "text": [
      "[[( 0.  ,  0.  ) ( 0.25,  0.  ) ( 0.5 ,  0.  ) ( 0.75,  0.  )\n",
      "  ( 1.  ,  0.  )]\n",
      " [( 0.  ,  0.25) ( 0.25,  0.25) ( 0.5 ,  0.25) ( 0.75,  0.25)\n",
      "  ( 1.  ,  0.25)]\n",
      " [( 0.  ,  0.5 ) ( 0.25,  0.5 ) ( 0.5 ,  0.5 ) ( 0.75,  0.5 )\n",
      "  ( 1.  ,  0.5 )]\n",
      " [( 0.  ,  0.75) ( 0.25,  0.75) ( 0.5 ,  0.75) ( 0.75,  0.75)\n",
      "  ( 1.  ,  0.75)]\n",
      " [( 0.  ,  1.  ) ( 0.25,  1.  ) ( 0.5 ,  1.  ) ( 0.75,  1.  )\n",
      "  ( 1.  ,  1.  )]]\n"
     ]
    }
   ],
   "source": [
    "print(Z) #^?^ how to output in a certain format"
   ]
  },
  {
   "cell_type": "markdown",
   "metadata": {},
   "source": [
    "### 47. Given two arrays, X and Y, construct the Cauchy matrix C (Cij =1/(xi - yj))"
   ]
  },
  {
   "cell_type": "code",
   "execution_count": 137,
   "metadata": {
    "collapsed": false
   },
   "outputs": [],
   "source": [
    "X = np.arange(8)\n",
    "Y = X + 0.5\n",
    "C = 1.0 / np.subtract.outer(X, Y) #https://docs.scipy.org/doc/numpy/reference/generated/numpy.ufunc.outer.html"
   ]
  },
  {
   "cell_type": "markdown",
   "metadata": {},
   "source": [
    "C"
   ]
  },
  {
   "cell_type": "code",
   "execution_count": 139,
   "metadata": {
    "collapsed": false
   },
   "outputs": [
    {
     "name": "stdout",
     "output_type": "stream",
     "text": [
      "3638.16363712\n"
     ]
    }
   ],
   "source": [
    "print(np.linalg.det(C))"
   ]
  },
  {
   "cell_type": "markdown",
   "metadata": {},
   "source": [
    "### 48. Print the minimum and maximum representable value for each numpy scalar type (★★☆)"
   ]
  },
  {
   "cell_type": "code",
   "execution_count": 149,
   "metadata": {
    "collapsed": false,
    "scrolled": true
   },
   "outputs": [
    {
     "name": "stdout",
     "output_type": "stream",
     "text": [
      "Machine parameters for int8\n",
      "---------------------------------------------------------------\n",
      "min = -128\n",
      "max = 127\n",
      "---------------------------------------------------------------\n",
      "\n",
      "Machine parameters for int32\n",
      "---------------------------------------------------------------\n",
      "min = -2147483648\n",
      "max = 2147483647\n",
      "---------------------------------------------------------------\n",
      "\n",
      "Machine parameters for int64\n",
      "---------------------------------------------------------------\n",
      "min = -9223372036854775808\n",
      "max = 9223372036854775807\n",
      "---------------------------------------------------------------\n",
      "\n"
     ]
    }
   ],
   "source": [
    "for dtype in [np.int8, np.int32, np.int64]:\n",
    "    print(np.iinfo(dtype))\n",
    "#    print(np.iinfo(dtype).min)\n",
    "#    print(np.iinfo(dtype).max)"
   ]
  },
  {
   "cell_type": "code",
   "execution_count": 153,
   "metadata": {
    "collapsed": false,
    "scrolled": true
   },
   "outputs": [
    {
     "name": "stdout",
     "output_type": "stream",
     "text": [
      "Machine parameters for float32\n",
      "---------------------------------------------------------------\n",
      "precision =   6   resolution = 1.0000000e-06\n",
      "machep =    -23   eps =        1.1920929e-07\n",
      "negep =     -24   epsneg =     5.9604645e-08\n",
      "minexp =   -126   tiny =       1.1754944e-38\n",
      "maxexp =    128   max =        3.4028235e+38\n",
      "nexp =        8   min =        -max\n",
      "---------------------------------------------------------------\n",
      "\n",
      "Machine parameters for float64\n",
      "---------------------------------------------------------------\n",
      "precision =  15   resolution = 1.0000000000000001e-15\n",
      "machep =    -52   eps =        2.2204460492503131e-16\n",
      "negep =     -53   epsneg =     1.1102230246251565e-16\n",
      "minexp =  -1022   tiny =       2.2250738585072014e-308\n",
      "maxexp =   1024   max =        1.7976931348623157e+308\n",
      "nexp =       11   min =        -max\n",
      "---------------------------------------------------------------\n",
      "\n"
     ]
    }
   ],
   "source": [
    "for dtype in [np.float32, np.float64]:\n",
    "    print(np.finfo(dtype))\n",
    "#    print(np.finfo(dtype).min)\n",
    "#    print(np.finfo(dtype).max)\n",
    "#    print(np.finfo(dtype).eps)  #^?^ what is eps?"
   ]
  },
  {
   "cell_type": "markdown",
   "metadata": {},
   "source": [
    "### 49. How to print all the values of an array? (★★☆)"
   ]
  },
  {
   "cell_type": "code",
   "execution_count": 180,
   "metadata": {
    "collapsed": false,
    "scrolled": true
   },
   "outputs": [
    {
     "name": "stdout",
     "output_type": "stream",
     "text": [
      "[[ 0.13976509  0.80629573  0.8675884  ...,  0.59720471  0.23986353\n",
      "   0.99802276]\n",
      " [ 0.62846794  0.36930092  0.21257882 ...,  0.35805292  0.46042803\n",
      "   0.1307832 ]\n",
      " [ 0.46902815  0.05752314  0.17436754 ...,  0.37818637  0.68256145\n",
      "   0.84252132]\n",
      " ..., \n",
      " [ 0.89133869  0.56009113  0.29949115 ...,  0.94170903  0.81213262\n",
      "   0.02649304]\n",
      " [ 0.22769615  0.39433683  0.99220753 ...,  0.89645826  0.32778343\n",
      "   0.56514695]\n",
      " [ 0.74576096  0.08461795  0.705803   ...,  0.35139903  0.78202111\n",
      "   0.66057269]]\n"
     ]
    }
   ],
   "source": [
    "np.set_printoptions(threshold=5)  #^?^ https://docs.scipy.org/doc/numpy/reference/generated/numpy.set_printoptions.html\n",
    "Z = np.random.random((16,16))\n",
    "print(Z)"
   ]
  },
  {
   "cell_type": "code",
   "execution_count": 181,
   "metadata": {
    "collapsed": false,
    "scrolled": true
   },
   "outputs": [
    {
     "name": "stdout",
     "output_type": "stream",
     "text": [
      "[[ 0.13976509  0.80629573  0.8675884   0.45811506  0.80169783  0.2188205\n",
      "   0.55025006  0.76526472  0.69993527  0.54135354  0.84304892  0.19731636\n",
      "   0.03768601  0.59720471  0.23986353  0.99802276]\n",
      " [ 0.62846794  0.36930092  0.21257882  0.96355138  0.49972051  0.3564305\n",
      "   0.70363004  0.49237203  0.05805038  0.44829256  0.60973719  0.02526343\n",
      "   0.15867396  0.35805292  0.46042803  0.1307832 ]\n",
      " [ 0.46902815  0.05752314  0.17436754  0.34677052  0.51564847  0.20318069\n",
      "   0.04071276  0.36997317  0.65023385  0.00580055  0.01300148  0.21747419\n",
      "   0.98594877  0.37818637  0.68256145  0.84252132]\n",
      " [ 0.68988114  0.9347479   0.09999228  0.35065201  0.75495355  0.44704488\n",
      "   0.07518489  0.38801482  0.05622536  0.61518365  0.809372    0.76388841\n",
      "   0.77229913  0.14764717  0.5443776   0.10039076]\n",
      " [ 0.24268979  0.41235056  0.9104172   0.48739652  0.67414643  0.2860625\n",
      "   0.00647316  0.70218918  0.43822332  0.83493063  0.89548406  0.35893928\n",
      "   0.82952754  0.01072823  0.71477371  0.71523669]\n",
      " [ 0.98044305  0.12089674  0.78491405  0.28335148  0.73737851  0.33335\n",
      "   0.53476124  0.57764954  0.46314689  0.55139469  0.25174841  0.45205298\n",
      "   0.50043026  0.67703512  0.632784    0.2299229 ]\n",
      " [ 0.89288822  0.30782125  0.52829939  0.23220907  0.69605165  0.26741968\n",
      "   0.85390857  0.4644267   0.95158118  0.1794807   0.91993518  0.48919994\n",
      "   0.57995783  0.96906323  0.57132067  0.98407175]\n",
      " [ 0.2919209   0.6686168   0.85888902  0.36937093  0.64865855  0.93447751\n",
      "   0.00316014  0.32363761  0.4389013   0.21842015  0.79802754  0.76880444\n",
      "   0.15030554  0.98623398  0.91175829  0.73206099]\n",
      " [ 0.92563032  0.96947222  0.9526189   0.12595642  0.89403009  0.77839879\n",
      "   0.07846307  0.64763458  0.9053174   0.12517335  0.53903942  0.92241367\n",
      "   0.57085692  0.40635287  0.85103133  0.66541734]\n",
      " [ 0.32266809  0.21454192  0.24505499  0.38011572  0.25056864  0.19910166\n",
      "   0.08306882  0.35820654  0.67006807  0.34223303  0.3101046   0.64513099\n",
      "   0.24258289  0.50607294  0.1979257   0.14515297]\n",
      " [ 0.12306769  0.12666792  0.1789128   0.41744794  0.96019114  0.37287275\n",
      "   0.69421225  0.47207613  0.84312662  0.36066113  0.62374801  0.23951284\n",
      "   0.08811951  0.27968738  0.74005062  0.3744237 ]\n",
      " [ 0.39519898  0.91590016  0.95477347  0.824549    0.0284136   0.90435989\n",
      "   0.91916895  0.99528271  0.71706554  0.32985446  0.84424915  0.66797328\n",
      "   0.73603529  0.95875907  0.36395806  0.10403865]\n",
      " [ 0.20549082  0.3789287   0.61436707  0.76040295  0.27953051  0.99756216\n",
      "   0.96993103  0.06716411  0.18764973  0.96061237  0.6844256   0.01379142\n",
      "   0.20217322  0.28093235  0.79877241  0.63214036]\n",
      " [ 0.89133869  0.56009113  0.29949115  0.9379105   0.2905728   0.36555578\n",
      "   0.86594495  0.94300065  0.17666473  0.77118157  0.80824608  0.24734643\n",
      "   0.3919185   0.94170903  0.81213262  0.02649304]\n",
      " [ 0.22769615  0.39433683  0.99220753  0.77724389  0.26430187  0.30203202\n",
      "   0.94261297  0.04633869  0.05567628  0.11444368  0.5199545   0.77485637\n",
      "   0.23343791  0.89645826  0.32778343  0.56514695]\n",
      " [ 0.74576096  0.08461795  0.705803    0.52241438  0.37807191  0.49483167\n",
      "   0.82819406  0.50600867  0.03500074  0.59314354  0.99225186  0.24820735\n",
      "   0.41092853  0.35139903  0.78202111  0.66057269]]\n"
     ]
    }
   ],
   "source": [
    "np.set_printoptions(threshold=np.nan)\n",
    "print(Z)"
   ]
  },
  {
   "cell_type": "markdown",
   "metadata": {
    "collapsed": true
   },
   "source": [
    "### 50. How to find the closest value (to a given scalar) in an array? (★★☆)"
   ]
  },
  {
   "cell_type": "code",
   "execution_count": 21,
   "metadata": {
    "collapsed": false
   },
   "outputs": [],
   "source": [
    "Z = np.arange(100)\n",
    "v = np.random.uniform(0,100)\n",
    "index = (np.abs(Z-v)).argmin()"
   ]
  },
  {
   "cell_type": "code",
   "execution_count": 22,
   "metadata": {
    "collapsed": false
   },
   "outputs": [
    {
     "data": {
      "text/plain": [
       "(31.244210488645273, 31)"
      ]
     },
     "execution_count": 22,
     "metadata": {},
     "output_type": "execute_result"
    }
   ],
   "source": [
    "v, Z[index]"
   ]
  },
  {
   "cell_type": "markdown",
   "metadata": {},
   "source": [
    "### 51. Create a structured array representing a position (x,y) and a color (r,g,b) (★★☆)"
   ]
  },
  {
   "cell_type": "code",
   "execution_count": 30,
   "metadata": {
    "collapsed": false
   },
   "outputs": [],
   "source": [
    "Z = np.zeros(10,\n",
    "         [('position',[('x', float, 1),  #datatype\n",
    "                       ('y', float, 1)]),\n",
    "          ('color',[('r',float,1),('g',float,1),('b',float,1)])]) #^?^ ('r', float, 1)"
   ]
  },
  {
   "cell_type": "code",
   "execution_count": 29,
   "metadata": {
    "collapsed": false
   },
   "outputs": [
    {
     "data": {
      "text/plain": [
       "array([(( 0.,  0.), ( 0.,  0.,  0.)), (( 0.,  0.), ( 0.,  0.,  0.)),\n",
       "       (( 0.,  0.), ( 0.,  0.,  0.)), (( 0.,  0.), ( 0.,  0.,  0.)),\n",
       "       (( 0.,  0.), ( 0.,  0.,  0.)), (( 0.,  0.), ( 0.,  0.,  0.)),\n",
       "       (( 0.,  0.), ( 0.,  0.,  0.)), (( 0.,  0.), ( 0.,  0.,  0.)),\n",
       "       (( 0.,  0.), ( 0.,  0.,  0.)), (( 0.,  0.), ( 0.,  0.,  0.))], \n",
       "      dtype=[('position', [('x', '<f8'), ('y', '<f8')]), ('color', [('r', '<f8'), ('g', '<f8'), ('b', '<f8')])])"
      ]
     },
     "execution_count": 29,
     "metadata": {},
     "output_type": "execute_result"
    }
   ],
   "source": [
    "Z"
   ]
  },
  {
   "cell_type": "markdown",
   "metadata": {},
   "source": [
    "### 52. Consider a random vector with shape (100,2) representing coordinates, find point by point distances (★★☆)"
   ]
  },
  {
   "cell_type": "markdown",
   "metadata": {},
   "source": [
    "#### Solution using numpy"
   ]
  },
  {
   "cell_type": "code",
   "execution_count": 68,
   "metadata": {
    "collapsed": true
   },
   "outputs": [],
   "source": [
    "Z = np.random.random((100,2))\n",
    "X,Y = np.atleast_2d(Z[:,0], Z[:,1]) #change 1-dimension arrays into 2-d ones"
   ]
  },
  {
   "cell_type": "code",
   "execution_count": 66,
   "metadata": {
    "collapsed": false
   },
   "outputs": [],
   "source": [
    "np.set_printoptions(threshold = np.nan) # print the whole array"
   ]
  },
  {
   "cell_type": "code",
   "execution_count": 67,
   "metadata": {
    "collapsed": false,
    "scrolled": true
   },
   "outputs": [
    {
     "data": {
      "text/plain": [
       "array([[  0.00000000e+00,   9.26803535e-02,   1.68260170e-01,\n",
       "          5.95634274e-02,   1.52579577e-01,   2.72667111e-01,\n",
       "          1.04498864e-02,   1.51663804e-01,   5.13037038e-01,\n",
       "          1.98306229e-02,   3.07039685e-02,   1.46916151e-01,\n",
       "          5.34957799e-02,   4.20851247e-01,   7.91130574e-02,\n",
       "          1.21931091e-01,   5.97342062e-01,   9.32462623e-02,\n",
       "          7.62568733e-02,   4.57347384e-02,   5.48364395e-01,\n",
       "          2.34142736e-01,   4.01439196e-02,   5.12033680e-01,\n",
       "          9.49070273e-02,   5.93195836e-02,   3.37823589e-01,\n",
       "          5.30963759e-01,   8.61680151e-02,   5.00460913e-01,\n",
       "          3.54555987e-01,   5.99059757e-01,   7.99750739e-01,\n",
       "          2.35200411e-02,   3.92031141e-01,   6.65793452e-01,\n",
       "          5.41627074e-02,   3.05738635e-01,   3.64904413e-01,\n",
       "          7.67286019e-02,   3.87270211e-01,   3.39406277e-01,\n",
       "          7.52384213e-01,   3.46272473e-01,   5.50131946e-01,\n",
       "          4.62465695e-02,   1.34455566e-01,   7.33296701e-02,\n",
       "          2.83290724e-03,   7.07066300e-01,   2.08876113e-01,\n",
       "          8.95134590e-01,   2.10534609e-01,   2.83418515e-01,\n",
       "          3.24425903e-01,   3.60437242e-01,   3.90171801e-01,\n",
       "          5.75852450e-01,   3.00707679e-01,   7.29768143e-01,\n",
       "          4.33654682e-01,   5.58379783e-03,   7.39611717e-01,\n",
       "          1.39445992e-01,   7.46876118e-01,   2.58826382e-01,\n",
       "          2.27304320e-01,   4.23239195e-01,   1.27083948e-01,\n",
       "          2.42876428e-02,   3.30569146e-01,   3.25363237e-01,\n",
       "          3.07639289e-01,   2.68322624e-02,   4.44688537e-01,\n",
       "          5.49715742e-01,   2.61655226e-01,   6.29726983e-02,\n",
       "          6.33968131e-01,   6.00681752e-01,   4.11442874e-01,\n",
       "          2.75528087e-01,   7.48296689e-01,   4.89382338e-01,\n",
       "          2.34903631e-02,   1.33902472e-01,   3.92490350e-01,\n",
       "          3.26670117e-02,   5.06888950e-01,   2.90493782e-01,\n",
       "          1.33243282e-01,   3.22909941e-01,   3.96933088e-02,\n",
       "          4.02450228e-02,   1.36575142e-01,   1.17105129e-02,\n",
       "          7.32777352e-02,   1.64881095e-03,   5.34475449e-02,\n",
       "          2.41810984e-02],\n",
       "       [  9.26803535e-02,   0.00000000e+00,   2.95927319e-01,\n",
       "          3.22381667e-02,   3.63786756e-02,   6.69944200e-01,\n",
       "          1.60905089e-01,   4.18101420e-01,   4.36986971e-01,\n",
       "          1.95192989e-01,   1.74410207e-01,   1.09960867e-01,\n",
       "          2.84027343e-01,   2.61769673e-01,   2.68828423e-01,\n",
       "          4.26354283e-01,   7.31834024e-01,   3.04173393e-02,\n",
       "          3.36691222e-01,   1.65137793e-01,   2.58956524e-01,\n",
       "          1.37099400e-01,   1.84535555e-01,   6.26246210e-01,\n",
       "          1.26249009e-01,   1.47622920e-01,   3.21046919e-01,\n",
       "          2.92544107e-01,   3.63718719e-02,   2.37260800e-01,\n",
       "          2.58615707e-01,   4.82978031e-01,   9.11889091e-01,\n",
       "          2.08996583e-01,   2.65067647e-01,   5.95920738e-01,\n",
       "          1.75502944e-01,   2.58037146e-01,   3.97059559e-01,\n",
       "          8.68072558e-02,   2.40637984e-01,   4.87076333e-01,\n",
       "          8.74189794e-01,   3.25913540e-01,   6.70206958e-01,\n",
       "          1.03877573e-01,   4.48184415e-01,   9.16817769e-03,\n",
       "          6.32362601e-02,   8.55404742e-01,   7.84462180e-02,\n",
       "          9.82121741e-01,   2.98881908e-01,   8.07413087e-02,\n",
       "          2.28470843e-01,   3.84924478e-01,   1.56028617e-01,\n",
       "          4.27470493e-01,   2.51941757e-01,   8.34452376e-01,\n",
       "          7.08802155e-01,   7.44302648e-02,   8.15205670e-01,\n",
       "          7.48238995e-03,   7.75518134e-01,   1.62214486e-01,\n",
       "          2.42112927e-01,   6.15010376e-01,   2.86720304e-03,\n",
       "          6.43204235e-02,   3.75884117e-01,   1.74301693e-01,\n",
       "          4.63376825e-01,   1.08100611e-01,   6.30995726e-01,\n",
       "          2.76377477e-01,   5.74106955e-01,   8.76620572e-02,\n",
       "          8.45746749e-01,   7.66926334e-01,   7.48023738e-01,\n",
       "          3.83488832e-01,   7.50695188e-01,   3.48527624e-01,\n",
       "          5.71812831e-02,   4.18049868e-01,   8.08602038e-01,\n",
       "          1.35685426e-01,   7.32696852e-01,   8.93125318e-02,\n",
       "          3.39993520e-01,   4.67499963e-01,   1.95372195e-01,\n",
       "          2.05688927e-02,   3.20524593e-01,   5.20526013e-02,\n",
       "          3.27648508e-01,   1.17921100e-01,   7.50922823e-02,\n",
       "          5.69998852e-02],\n",
       "       [  1.68260170e-01,   2.95927319e-01,   0.00000000e+00,\n",
       "          3.67391295e-01,   2.08545217e-01,   2.61859099e-01,\n",
       "          1.98693889e-01,   7.18694920e-02,   1.76631991e-01,\n",
       "          1.42199249e-01,   6.43315176e-02,   8.07457156e-02,\n",
       "          2.34150621e-01,   2.30581328e-01,   4.07958338e-02,\n",
       "          2.24651668e-01,   1.32382755e-01,   1.54901724e-01,\n",
       "          1.97721276e-01,   3.89324963e-02,   4.69393722e-01,\n",
       "          1.37499309e-01,   5.12365521e-02,   9.56854242e-02,\n",
       "          3.82574709e-02,   4.26160638e-01,   7.77638349e-02,\n",
       "          3.67731514e-01,   4.25286222e-01,   4.12165933e-01,\n",
       "          1.45351308e-01,   2.43065822e-01,   2.38371141e-01,\n",
       "          1.88145533e-01,   1.86046629e-01,   2.38410954e-01,\n",
       "          4.02152176e-01,   9.22549473e-02,   6.05888407e-02,\n",
       "          6.44064275e-02,   2.08782104e-01,   2.97730297e-02,\n",
       "          2.11628525e-01,   8.22839578e-02,   1.11839985e-01,\n",
       "          3.89433130e-01,   2.19162046e-01,   3.39030720e-01,\n",
       "          1.81055349e-01,   1.85827566e-01,   1.97381076e-01,\n",
       "          2.95976141e-01,   6.94079893e-03,   3.29268197e-01,\n",
       "          1.40046773e-01,   6.24534619e-02,   3.60630493e-01,\n",
       "          2.63745332e-01,   9.21721789e-02,   2.02027210e-01,\n",
       "          9.11544146e-02,   2.30046736e-01,   2.12884417e-01,\n",
       "          3.03304969e-01,   2.30434741e-01,   1.35696198e-01,\n",
       "          3.71812341e-02,   6.11410230e-02,   3.25250540e-01,\n",
       "          3.07805629e-01,   4.50304972e-02,   2.09563553e-01,\n",
       "          2.13762524e-02,   6.50609000e-02,   6.81922242e-02,\n",
       "          4.34537876e-01,   9.40148411e-02,   6.15187067e-02,\n",
       "          1.52798027e-01,   1.33190405e-01,   1.26721967e-01,\n",
       "          1.50085675e-02,   2.41323277e-01,   2.26496531e-01,\n",
       "          2.99353623e-01,   1.14022642e-01,   2.29905600e-01,\n",
       "          5.28096871e-02,   9.96416880e-02,   3.19340723e-01,\n",
       "          2.54951323e-02,   2.50053774e-02,   3.34362977e-01,\n",
       "          2.93634695e-01,   1.32172008e-02,   2.43248191e-01,\n",
       "          2.53665375e-01,   1.55591664e-01,   7.29886481e-02,\n",
       "          1.05875329e-01],\n",
       "       [  5.95634274e-02,   3.22381667e-02,   3.67391295e-01,\n",
       "          0.00000000e+00,   1.30676998e-01,   5.72515814e-01,\n",
       "          9.64712571e-02,   4.00004190e-01,   6.53492407e-01,\n",
       "          1.43656356e-01,   1.67600747e-01,   2.14300685e-01,\n",
       "          1.88693111e-01,   4.61316848e-01,   2.68215346e-01,\n",
       "          3.27643051e-01,   9.05580155e-01,   1.00311188e-01,\n",
       "          2.49789635e-01,   1.82850470e-01,   4.73729549e-01,\n",
       "          2.77443623e-01,   1.85424569e-01,   7.91272109e-01,\n",
       "          1.98565939e-01,   4.59684463e-02,   4.85633333e-01,\n",
       "          5.15789780e-01,   2.47088407e-03,   4.44344752e-01,\n",
       "          4.38386966e-01,   7.23217623e-01,   1.12918162e+00,\n",
       "          1.38242234e-01,   4.56711133e-01,   8.42075757e-01,\n",
       "          6.66710561e-02,   4.19089942e-01,   5.56803888e-01,\n",
       "          1.52334728e-01,   4.30787727e-01,   6.00249774e-01,\n",
       "          1.08011843e+00,   4.93394901e-01,   8.40550169e-01,\n",
       "          2.34720507e-02,   3.51953591e-01,   7.31082023e-03,\n",
       "          4.01282079e-02,   1.04328709e+00,   2.02620101e-01,\n",
       "          1.22335268e+00,   3.99361120e-01,   2.14899020e-01,\n",
       "          3.99450562e-01,   5.45641412e-01,   3.30102701e-01,\n",
       "          6.65706438e-01,   4.11687504e-01,   1.04295075e+00,\n",
       "          7.80149766e-01,   3.13937322e-02,   1.03554742e+00,\n",
       "          7.01572298e-02,   1.01190980e+00,   3.11764176e-01,\n",
       "          3.68665842e-01,   7.28277239e-01,   5.01344281e-02,\n",
       "          1.24423776e-02,   5.23454042e-01,   3.44093735e-01,\n",
       "          5.64884183e-01,   1.25851610e-01,   7.51657035e-01,\n",
       "          4.97240933e-01,   5.67839159e-01,   1.43209241e-01,\n",
       "          9.92818041e-01,   9.28250411e-01,   7.73125710e-01,\n",
       "          4.95914209e-01,   9.94740014e-01,   5.66162924e-01,\n",
       "          1.06761772e-02,   3.71291221e-01,   7.57060067e-01,\n",
       "          1.50722210e-01,   8.47686279e-01,   2.28868204e-01,\n",
       "          3.56839880e-01,   5.77808954e-01,   9.10317765e-02,\n",
       "          4.41406619e-03,   3.52467103e-01,   1.84657204e-02,\n",
       "          2.22409063e-01,   7.99818019e-02,   1.24476308e-01,\n",
       "          7.96707196e-02],\n",
       "       [  1.52579577e-01,   3.63786756e-02,   2.08545217e-01,\n",
       "          1.30676998e-01,   0.00000000e+00,   7.12584170e-01,\n",
       "          2.42340440e-01,   4.01056842e-01,   2.28746234e-01,\n",
       "          2.51656283e-01,   1.83298914e-01,   3.43488770e-02,\n",
       "          3.79084316e-01,   1.02989830e-01,   2.54463226e-01,\n",
       "          5.01361203e-01,   5.09465428e-01,   8.06045589e-03,\n",
       "          4.10917908e-01,   1.50240394e-01,   1.23510848e-01,\n",
       "          3.46332528e-02,   1.83207451e-01,   4.21899127e-01,\n",
       "          6.96100430e-02,   2.97909453e-01,   1.60581839e-01,\n",
       "          1.29244318e-01,   1.44398536e-01,   1.03127491e-01,\n",
       "          1.04621021e-01,   2.57174372e-01,   6.40402294e-01,\n",
       "          2.87054130e-01,   1.05924420e-01,   3.47161679e-01,\n",
       "          3.24179808e-01,   1.12382901e-01,   2.26698626e-01,\n",
       "          4.60095939e-02,   8.99366453e-02,   3.38954568e-01,\n",
       "          6.14253256e-01,   1.62876214e-01,   4.57021252e-01,\n",
       "          2.36731524e-01,   5.16895625e-01,   8.03622664e-02,\n",
       "          1.20819551e-01,   6.10113456e-01,   8.00334948e-03,\n",
       "          6.87886728e-01,   1.86848354e-01,   2.12312271e-02,\n",
       "          8.58896804e-02,   2.15836813e-01,   5.51239704e-02,\n",
       "          2.14947033e-01,   1.08335605e-01,   5.76842316e-01,\n",
       "          5.72806562e-01,   1.55082693e-01,   5.51845389e-01,\n",
       "          1.73529370e-02,   5.06854840e-01,   4.76599025e-02,\n",
       "          1.20559593e-01,   4.52185304e-01,   3.01704527e-02,\n",
       "          1.65973608e-01,   2.16970398e-01,   5.14827647e-02,\n",
       "          3.27726424e-01,   1.05762755e-01,   4.60381677e-01,\n",
       "          1.27714920e-01,   5.26496909e-01,   5.49846095e-02,\n",
       "          6.32438749e-01,   5.50178601e-01,   6.51727343e-01,\n",
       "          2.49467735e-01,   4.80777950e-01,   1.60248393e-01,\n",
       "          1.53959034e-01,   4.32342984e-01,   7.85468289e-01,\n",
       "          1.29678086e-01,   5.56382166e-01,   2.23029669e-02,\n",
       "          2.97338905e-01,   3.24113762e-01,   3.26866449e-01,\n",
       "          9.56074477e-02,   2.65819053e-01,   1.29867370e-01,\n",
       "          4.27676856e-01,   1.76277541e-01,   5.14193693e-02,\n",
       "          6.42975310e-02],\n",
       "       [  2.72667111e-01,   6.69944200e-01,   2.61859099e-01,\n",
       "          5.72515814e-01,   7.12584170e-01,   0.00000000e+00,\n",
       "          1.99560275e-01,   5.94783218e-02,   8.65265670e-01,\n",
       "          1.45469020e-01,   1.73458473e-01,   5.37203499e-01,\n",
       "          1.13792579e-01,   9.57598765e-01,   1.22950607e-01,\n",
       "          3.72248167e-02,   5.70865872e-01,   5.71355573e-01,\n",
       "          6.76834478e-02,   2.11836859e-01,   1.33122191e+00,\n",
       "          7.07761817e-01,   1.73515600e-01,   5.35384801e-01,\n",
       "          3.81222781e-01,   4.12052715e-01,   6.24906647e-01,\n",
       "          1.20252988e+00,   6.46013667e-01,   1.23863898e+00,\n",
       "          7.84959897e-01,   1.00706802e+00,   7.72921372e-01,\n",
       "          1.48813487e-01,   8.72443230e-01,   9.74775160e-01,\n",
       "          3.47958460e-01,   6.58651854e-01,   5.58674544e-01,\n",
       "          4.12841484e-01,   9.08767717e-01,   3.49429878e-01,\n",
       "          7.17941428e-01,   6.37545210e-01,   5.56170876e-01,\n",
       "          4.38532275e-01,   2.84666190e-02,   6.28727691e-01,\n",
       "          3.29965787e-01,   6.38060569e-01,   7.66413478e-01,\n",
       "          8.93964254e-01,   3.52990981e-01,   9.75783945e-01,\n",
       "          7.64001389e-01,   5.68607730e-01,   1.10427366e+00,\n",
       "          1.05086437e+00,   6.57119435e-01,   7.27065382e-01,\n",
       "          2.30954194e-01,   3.36469478e-01,   7.83062142e-01,\n",
       "          7.64015637e-01,   8.68005671e-01,   7.22006024e-01,\n",
       "          4.90453267e-01,   3.44526885e-01,   7.52104785e-01,\n",
       "          4.22279730e-01,   5.10548906e-01,   8.76932141e-01,\n",
       "          3.13579037e-01,   2.69541407e-01,   3.69269193e-01,\n",
       "          1.29394186e+00,   6.46852466e-02,   3.80097541e-01,\n",
       "          4.79891429e-01,   5.23303085e-01,   1.33355987e-01,\n",
       "          3.66141230e-01,   9.14214906e-01,   9.70686817e-01,\n",
       "          4.28641901e-01,   3.59256668e-02,   3.42527002e-02,\n",
       "          2.34483113e-01,   3.57975096e-01,   9.74239432e-01,\n",
       "          1.24687306e-01,   3.42102690e-01,   2.59801429e-01,\n",
       "          5.21099200e-01,   1.58148716e-01,   3.90060883e-01,\n",
       "          9.59600731e-02,   2.31913072e-01,   3.83100516e-01,\n",
       "          3.59153040e-01],\n",
       "       [  1.04498864e-02,   1.60905089e-01,   1.98693889e-01,\n",
       "          9.64712571e-02,   2.42340440e-01,   1.99560275e-01,\n",
       "          0.00000000e+00,   1.28109269e-01,   6.26309956e-01,\n",
       "          7.34495462e-03,   3.69530697e-02,   2.22011756e-01,\n",
       "          1.73824330e-02,   5.47789407e-01,   7.69444741e-02,\n",
       "          6.87774332e-02,   6.53306755e-01,   1.64895779e-01,\n",
       "          3.58364979e-02,   6.37736390e-02,   7.07806392e-01,\n",
       "          3.31882051e-01,   4.82771357e-02,   5.70126355e-01,\n",
       "          1.46616795e-01,   5.26187220e-02,   4.24426264e-01,\n",
       "          6.81501328e-01,   1.27547276e-01,   6.52144105e-01,\n",
       "          4.62470677e-01,   7.27351562e-01,   8.72105293e-01,\n",
       "          3.74681286e-03,   5.09862166e-01,   7.85549661e-01,\n",
       "          3.83457917e-02,   3.98165991e-01,   4.39534374e-01,\n",
       "          1.31291471e-01,   5.09004961e-01,   3.76488042e-01,\n",
       "          8.19623825e-01,   4.34422839e-01,   6.08348254e-01,\n",
       "          5.18626479e-02,   7.99235805e-02,   1.26314078e-01,\n",
       "          2.29808393e-02,   7.63739733e-01,   3.09639532e-01,\n",
       "          9.79310050e-01,   2.57226893e-01,   4.02608392e-01,\n",
       "          4.30021141e-01,   4.36999890e-01,   5.26783902e-01,\n",
       "          7.10673726e-01,   3.93022338e-01,   8.01428332e-01,\n",
       "          4.31827612e-01,   1.86215800e-02,   8.20758198e-01,\n",
       "          2.24296831e-01,   8.42523689e-01,   3.58903452e-01,\n",
       "          2.96956145e-01,   4.50707873e-01,   2.06171187e-01,\n",
       "          4.12864230e-02,   3.99106767e-01,   4.42687553e-01,\n",
       "          3.39875881e-01,   5.32151674e-02,   4.75304882e-01,\n",
       "          7.07254983e-01,   2.31170142e-01,   1.11705830e-01,\n",
       "          6.65995394e-01,   6.46425446e-01,   3.83972400e-01,\n",
       "          3.21090208e-01,   8.51701394e-01,   6.17116034e-01,\n",
       "          4.32945855e-02,   9.89054693e-02,   3.27390412e-01,\n",
       "          5.35796194e-02,   5.27374407e-01,   4.10782851e-01,\n",
       "          1.31964632e-01,   3.59908037e-01,   1.75587203e-02,\n",
       "          7.97303687e-02,   1.44267660e-01,   3.34741359e-02,\n",
       "          2.93377072e-02,   5.66891701e-03,   1.01217765e-01,\n",
       "          6.24518673e-02],\n",
       "       [  1.51663804e-01,   4.18101420e-01,   7.18694920e-02,\n",
       "          4.00004190e-01,   4.01056842e-01,   5.94783218e-02,\n",
       "          1.28109269e-01,   0.00000000e+00,   4.72814814e-01,\n",
       "          7.42282396e-02,   5.29774217e-02,   2.51178698e-01,\n",
       "          1.01001450e-01,   5.43584854e-01,   1.69824497e-02,\n",
       "          5.84214950e-02,   3.01809558e-01,   3.01977849e-01,\n",
       "          6.07947609e-02,   6.14181524e-02,   8.49834490e-01,\n",
       "          3.67449455e-01,   4.71561264e-02,   2.64730513e-01,\n",
       "          1.49770614e-01,   3.44113727e-01,   2.99150430e-01,\n",
       "          7.35939337e-01,   4.65321404e-01,   7.74507623e-01,\n",
       "          4.13522673e-01,   5.78652270e-01,   4.59509118e-01,\n",
       "          9.72531751e-02,   4.78359476e-01,   5.61182052e-01,\n",
       "          2.99756664e-01,   3.22635056e-01,   2.57513370e-01,\n",
       "          1.77827732e-01,   5.07554130e-01,   1.34487782e-01,\n",
       "          4.17727367e-01,   3.07952802e-01,   2.83737839e-01,\n",
       "          3.40581980e-01,   5.16153469e-02,   4.16278167e-01,\n",
       "          1.87278217e-01,   3.63539163e-01,   4.24923833e-01,\n",
       "          5.50723063e-01,   1.23106235e-01,   5.95708734e-01,\n",
       "          3.99602336e-01,   2.63421035e-01,   6.78893444e-01,\n",
       "          6.10379840e-01,   3.21699315e-01,   4.17543959e-01,\n",
       "          1.03493395e-01,   2.13324451e-01,   4.51735615e-01,\n",
       "          4.71154253e-01,   5.03941740e-01,   3.74500215e-01,\n",
       "          2.08543863e-01,   1.48180076e-01,   4.74868735e-01,\n",
       "          2.94020943e-01,   2.24713949e-01,   4.90155497e-01,\n",
       "          1.11400019e-01,   1.02947724e-01,   1.64684236e-01,\n",
       "          8.14477385e-01,   1.52083161e-02,   1.59266150e-01,\n",
       "          2.64928143e-01,   2.77642657e-01,   6.89583253e-02,\n",
       "          1.34987661e-01,   5.32908545e-01,   5.49895684e-01,\n",
       "          2.93393103e-01,   6.91038740e-03,   6.49370519e-02,\n",
       "          7.92721170e-02,   1.74657435e-01,   5.90472289e-01,\n",
       "          1.19410520e-02,   1.28151874e-01,   2.22537952e-01,\n",
       "          3.38938669e-01,   2.36536390e-02,   2.47276816e-01,\n",
       "          1.01198020e-01,   1.24761414e-01,   1.65918564e-01,\n",
       "          1.68106177e-01],\n",
       "       [  5.13037038e-01,   4.36986971e-01,   1.76631991e-01,\n",
       "          6.53492407e-01,   2.28746234e-01,   8.65265670e-01,\n",
       "          6.26309956e-01,   4.72814814e-01,   0.00000000e+00,\n",
       "          5.58881314e-01,   3.86910474e-01,   1.20924104e-01,\n",
       "          7.54485477e-01,   4.43920767e-02,   3.74325981e-01,\n",
       "          7.86126408e-01,   1.31526680e-01,   2.43631617e-01,\n",
       "          7.17389103e-01,   3.06611472e-01,   1.94264155e-01,\n",
       "          8.54544077e-02,   3.60538244e-01,   1.00585294e-01,\n",
       "          1.67531254e-01,   8.89962648e-01,   2.10891249e-02,\n",
       "          1.01900950e-01,   7.03629413e-01,   1.63098225e-01,\n",
       "          2.41623019e-02,   5.43945536e-03,   1.49926455e-01,\n",
       "          6.43600449e-01,   2.91117961e-02,   1.23273889e-02,\n",
       "          8.94362607e-01,   2.71039965e-02,   3.57619503e-02,\n",
       "          1.95556061e-01,   4.51244106e-02,   1.42224145e-01,\n",
       "          1.47865920e-01,   1.87885947e-02,   1.10134505e-01,\n",
       "          8.01087282e-01,   7.80683318e-01,   5.53913583e-01,\n",
       "          4.92782205e-01,   1.66583178e-01,   1.58017738e-01,\n",
       "          1.53259285e-01,   1.13585355e-01,   2.37873142e-01,\n",
       "          3.43857367e-02,   3.22579968e-02,   1.83723719e-01,\n",
       "          1.42845042e-02,   2.88241651e-02,   1.25573967e-01,\n",
       "          3.38193007e-01,   5.81006964e-01,   1.01656419e-01,\n",
       "          3.71882874e-01,   6.84966613e-02,   6.75902337e-02,\n",
       "          6.27479180e-02,   1.94419296e-01,   4.24741844e-01,\n",
       "          6.60673785e-01,   4.79803753e-02,   7.97703750e-02,\n",
       "          1.58281945e-01,   3.14519950e-01,   1.85803339e-01,\n",
       "          1.56295442e-01,   4.95959900e-01,   2.17258643e-01,\n",
       "          2.35866095e-01,   1.69398922e-01,   4.84720907e-01,\n",
       "          1.09879815e-01,   5.33697714e-02,   1.70208609e-02,\n",
       "          6.39708837e-01,   5.74043742e-01,   7.61194338e-01,\n",
       "          3.17417948e-01,   2.46077679e-01,   2.19119333e-01,\n",
       "          3.36282390e-01,   1.41051986e-01,   8.34982078e-01,\n",
       "          5.54956900e-01,   2.86475724e-01,   5.63942351e-01,\n",
       "          8.02850660e-01,   5.20119673e-01,   2.38169886e-01,\n",
       "          3.23578728e-01],\n",
       "       [  1.98306229e-02,   1.95192989e-01,   1.42199249e-01,\n",
       "          1.43656356e-01,   2.51656283e-01,   1.45469020e-01,\n",
       "          7.34495462e-03,   7.42282396e-02,   5.58881314e-01,\n",
       "          0.00000000e+00,   1.62992267e-02,   2.00805895e-01,\n",
       "          1.53627735e-02,   5.15708662e-01,   3.83783554e-02,\n",
       "          4.49641471e-02,   5.41119044e-01,   1.69962925e-01,\n",
       "          1.98700423e-02,   3.80382534e-02,   7.09313979e-01,\n",
       "          3.10996909e-01,   2.33766890e-02,   4.68967478e-01,\n",
       "          1.20389437e-01,   9.92558961e-02,   3.65263641e-01,\n",
       "          6.62318035e-01,   1.82767319e-01,   6.49318413e-01,\n",
       "          4.20604466e-01,   6.60268744e-01,   7.44260374e-01,\n",
       "          3.23218334e-03,   4.71675910e-01,   7.00637838e-01,\n",
       "          7.82044789e-02,   3.50712731e-01,   3.67303212e-01,\n",
       "          1.15396429e-01,   4.77871710e-01,   2.91791825e-01,\n",
       "          6.94642395e-01,   3.74887713e-01,   5.02537937e-01,\n",
       "          9.71617269e-02,   5.18453362e-02,   1.69348410e-01,\n",
       "          3.74162653e-02,   6.39740554e-01,   3.07860581e-01,\n",
       "          8.46959403e-01,   1.98087903e-01,   4.18641891e-01,\n",
       "          3.92759628e-01,   3.66704769e-01,   5.31965031e-01,\n",
       "          6.54938300e-01,   3.46592362e-01,   6.80561534e-01,\n",
       "          3.28369309e-01,   4.07920464e-02,   7.02970132e-01,\n",
       "          2.55184973e-01,   7.31308614e-01,   3.33064180e-01,\n",
       "          2.47622680e-01,   3.51900998e-01,   2.42650926e-01,\n",
       "          7.72703543e-02,   3.29049552e-01,   4.23618336e-01,\n",
       "          2.58711353e-01,   3.96190975e-02,   3.74371231e-01,\n",
       "          7.00452040e-01,   1.56427873e-01,   9.63740939e-02,\n",
       "          5.43121639e-01,   5.30612891e-01,   2.85122920e-01,\n",
       "          2.49446835e-01,   7.44849789e-01,   5.69759373e-01,\n",
       "          7.84893619e-02,   5.43740985e-02,   2.43284599e-01,\n",
       "          3.44686305e-02,   4.16813525e-01,   4.23514992e-01,\n",
       "          7.88316145e-02,   2.77692660e-01,   4.41183592e-02,\n",
       "          1.16061254e-01,   9.05060034e-02,   5.97889809e-02,\n",
       "          2.48995347e-02,   1.00504966e-02,   9.00815568e-02,\n",
       "          6.17298883e-02],\n",
       "       [  3.07039685e-02,   1.74410207e-01,   6.43315176e-02,\n",
       "          1.67600747e-01,   1.83298914e-01,   1.73458473e-01,\n",
       "          3.69530697e-02,   5.29774217e-02,   3.86910474e-01,\n",
       "          1.62992267e-02,   0.00000000e+00,   1.15212185e-01,\n",
       "          6.08068559e-02,   3.67012370e-01,   1.17750705e-02,\n",
       "          8.46573569e-02,   3.79606964e-01,   1.15246128e-01,\n",
       "          5.50482867e-02,   4.66450924e-03,   5.63251268e-01,\n",
       "          2.03136683e-01,   7.62078545e-04,   3.16848949e-01,\n",
       "          5.28938989e-02,   1.66155379e-01,   2.28545581e-01,\n",
       "          5.03535366e-01,   2.10639626e-01,   5.06474725e-01,\n",
       "          2.80677044e-01,   4.73668198e-01,   5.50037989e-01,\n",
       "          3.39383686e-02,   3.25693689e-01,   5.03937886e-01,\n",
       "          1.47124136e-01,   2.20409106e-01,   2.28887866e-01,\n",
       "          5.58432911e-02,   3.35358598e-01,   1.77837168e-01,\n",
       "          5.08515787e-01,   2.36235839e-01,   3.45438442e-01,\n",
       "          1.50369868e-01,   8.84603469e-02,   1.72911527e-01,\n",
       "          4.38883469e-02,   4.65186181e-01,   2.16934751e-01,\n",
       "          6.36232785e-01,   1.01230420e-01,   3.27925776e-01,\n",
       "          2.59956079e-01,   2.28382178e-01,   4.12525934e-01,\n",
       "          4.73670705e-01,   2.17469854e-01,   4.94319565e-01,\n",
       "          2.33657365e-01,   6.24388141e-02,   5.10474739e-01,\n",
       "          2.14256707e-01,   5.31203459e-01,   2.17696899e-01,\n",
       "          1.38088553e-01,   2.32805534e-01,   2.13314884e-01,\n",
       "          1.09389105e-01,   1.98985457e-01,   2.98106060e-01,\n",
       "          1.53281017e-01,   1.05941739e-02,   2.49912955e-01,\n",
       "          5.47609734e-01,   1.20308994e-01,   4.32280807e-02,\n",
       "          3.94342731e-01,   3.75517259e-01,   2.20819572e-01,\n",
       "          1.40658909e-01,   5.41558809e-01,   4.04316186e-01,\n",
       "          1.06983781e-01,   5.43083666e-02,   2.31937491e-01,\n",
       "          5.14448986e-03,   2.92413381e-01,   3.28254084e-01,\n",
       "          3.61276476e-02,   1.66412291e-01,   1.05455521e-01,\n",
       "          1.26097737e-01,   3.81911173e-02,   7.70542248e-02,\n",
       "          7.56300042e-02,   2.21209346e-02,   4.22781041e-02,\n",
       "          3.42838761e-02],\n",
       "       [  1.46916151e-01,   1.09960867e-01,   8.07457156e-02,\n",
       "          2.14300685e-01,   3.43488770e-02,   5.37203499e-01,\n",
       "          2.22011756e-01,   2.51178698e-01,   1.20924104e-01,\n",
       "          2.00805895e-01,   1.15212185e-01,   0.00000000e+00,\n",
       "          3.26965986e-01,   7.30483201e-02,   1.46155458e-01,\n",
       "          3.96865403e-01,   2.82779379e-01,   2.47127890e-02,\n",
       "          3.28620168e-01,   7.79193202e-02,   1.77452471e-01,\n",
       "          1.23891710e-02,   1.07548914e-01,   2.18431512e-01,\n",
       "          1.33435171e-02,   3.58360960e-01,   5.58555665e-02,\n",
       "          1.37140242e-01,   2.46416271e-01,   1.44442614e-01,\n",
       "          4.54057416e-02,   1.57648199e-01,   3.90578586e-01,\n",
       "          2.46227695e-01,   5.91160503e-02,   2.07521960e-01,\n",
       "          3.66408881e-01,   3.41123376e-02,   8.96762003e-02,\n",
       "          1.19301915e-02,   5.92636521e-02,   1.57902726e-01,\n",
       "          3.67589376e-01,   5.81854578e-02,   2.44278029e-01,\n",
       "          3.00730801e-01,   4.03139910e-01,   1.63789940e-01,\n",
       "          1.30212452e-01,   3.60073550e-01,   2.56472852e-02,\n",
       "          4.35000420e-01,   6.19692170e-02,   8.39616479e-02,\n",
       "          3.47447749e-02,   8.36793780e-02,   1.04885398e-01,\n",
       "          1.41506604e-01,   3.20623350e-02,   3.40676365e-01,\n",
       "          3.34394770e-01,   1.76405639e-01,   3.26661676e-01,\n",
       "          9.25249709e-02,   3.02206600e-01,   1.66531952e-02,\n",
       "          2.69867052e-02,   2.37939466e-01,   1.13650922e-01,\n",
       "          2.17033149e-01,   8.12287798e-02,   4.27970992e-02,\n",
       "          1.51312420e-01,   6.20356941e-02,   2.43459310e-01,\n",
       "          1.64009344e-01,   3.31230116e-01,   1.90854218e-02,\n",
       "          3.72183781e-01,   3.11042081e-01,   4.09588983e-01,\n",
       "          9.89129049e-02,   2.88815975e-01,   1.00041766e-01,\n",
       "          2.04854226e-01,   2.95443609e-01,   5.53883325e-01,\n",
       "          7.21105851e-02,   3.15004607e-01,   7.89619624e-02,\n",
       "          1.60237213e-01,   1.48000080e-01,   3.39198853e-01,\n",
       "          1.58744915e-01,   1.31995993e-01,   1.63927038e-01,\n",
       "          3.66741735e-01,   1.57323481e-01,   2.34557104e-02,\n",
       "          5.24333036e-02],\n",
       "       [  5.34957799e-02,   2.84027343e-01,   2.34150621e-01,\n",
       "          1.88693111e-01,   3.79084316e-01,   1.13792579e-01,\n",
       "          1.73824330e-02,   1.01001450e-01,   7.54485477e-01,\n",
       "          1.53627735e-02,   6.08068559e-02,   3.26965986e-01,\n",
       "          0.00000000e+00,   7.08858983e-01,   8.23651272e-02,\n",
       "          2.09331206e-02,   6.92553327e-01,   2.78223242e-01,\n",
       "          6.75733984e-03,   9.91532871e-02,   9.23199716e-01,\n",
       "          4.63748263e-01,   7.23458881e-02,   6.17112215e-01,\n",
       "          2.21555202e-01,   9.30448114e-02,   5.24998918e-01,\n",
       "          8.76570041e-01,   2.28859642e-01,   8.56315453e-01,\n",
       "          5.96423083e-01,   8.73440037e-01,   9.23304227e-01,\n",
       "          6.38787554e-03,   6.57276803e-01,   9.13105104e-01,\n",
       "          6.47876069e-02,   5.11169019e-01,   5.19767131e-01,\n",
       "          2.14496156e-01,   6.64374048e-01,   4.06441992e-01,\n",
       "          8.66134447e-01,   5.36648078e-01,   6.53276790e-01,\n",
       "          1.06210875e-01,   2.84300262e-02,   2.35568773e-01,\n",
       "          7.98822175e-02,   7.98228678e-01,   4.54130379e-01,\n",
       "          1.04234438e+00,   3.10645140e-01,   5.77313328e-01,\n",
       "          5.63413737e-01,   5.20433793e-01,   7.16937331e-01,\n",
       "          8.69854019e-01,   5.06376922e-01,   8.55112278e-01,\n",
       "          4.06911803e-01,   7.07844355e-02,   8.87111350e-01,\n",
       "          3.65457108e-01,   9.29127739e-01,   4.91185573e-01,\n",
       "          3.82152664e-01,   4.62616841e-01,   3.43168907e-01,\n",
       "          1.04673909e-01,   4.73169492e-01,   5.98559295e-01,\n",
       "          3.65776861e-01,   1.04206167e-01,   4.89926250e-01,\n",
       "          9.16462876e-01,   1.85989714e-01,   1.88287847e-01,\n",
       "          6.71890926e-01,   6.71875844e-01,   3.30934782e-01,\n",
       "          3.67249396e-01,   9.49539745e-01,   7.71889415e-01,\n",
       "          1.09623678e-01,   6.27041076e-02,   2.36866979e-01,\n",
       "          9.54934197e-02,   5.25462704e-01,   5.85222913e-01,\n",
       "          1.31536517e-01,   3.90938306e-01,   3.02345004e-02,\n",
       "          1.69856553e-01,   1.54143766e-01,   9.79123136e-02,\n",
       "          1.56012700e-03,   3.87480271e-02,   1.78649287e-01,\n",
       "          1.33590378e-01],\n",
       "       [  4.20851247e-01,   2.61769673e-01,   2.30581328e-01,\n",
       "          4.61316848e-01,   1.02989830e-01,   9.57598765e-01,\n",
       "          5.47789407e-01,   5.43584854e-01,   4.43920767e-02,\n",
       "          5.15708662e-01,   3.67012370e-01,   7.30483201e-02,\n",
       "          7.08858983e-01,   0.00000000e+00,   4.00053358e-01,\n",
       "          7.98902596e-01,   3.05351126e-01,   1.35549294e-01,\n",
       "          7.06331895e-01,   2.93628492e-01,   5.72080782e-02,\n",
       "          2.71977047e-02,   3.49807261e-01,   2.47616446e-01,\n",
       "          1.41386286e-01,   7.17615624e-01,   5.74181597e-02,\n",
       "          1.71996604e-02,   4.90691820e-01,   3.95128838e-02,\n",
       "          1.08288482e-02,   4.26337492e-02,   3.53534820e-01,\n",
       "          5.87493331e-01,   2.92380244e-03,   9.50018331e-02,\n",
       "          7.41803167e-01,   3.34704699e-02,   1.07858141e-01,\n",
       "          1.43944449e-01,   7.20722970e-04,   2.59545570e-01,\n",
       "          3.46927554e-01,   5.53339474e-02,   2.68031623e-01,\n",
       "          6.26644080e-01,   8.04056897e-01,   3.64645563e-01,\n",
       "          3.84607715e-01,   3.67831859e-01,   5.36263664e-02,\n",
       "          3.62417910e-01,   1.66828772e-01,   8.38348980e-02,\n",
       "          1.12296953e-02,   9.89878534e-02,   4.77518198e-02,\n",
       "          2.20662302e-02,   3.28365572e-02,   3.13097517e-01,\n",
       "          5.16099514e-01,   4.57698894e-01,   2.77919561e-01,\n",
       "          1.97576580e-01,   2.23164879e-01,   1.99685722e-02,\n",
       "          8.32120126e-02,   3.48950778e-01,   2.39760818e-01,\n",
       "          5.03256536e-01,   1.17564018e-01,   8.92354758e-03,\n",
       "          2.69373439e-01,   2.69493947e-01,   3.43988713e-01,\n",
       "          3.95560972e-02,   6.18645327e-01,   1.66803556e-01,\n",
       "          4.44952541e-01,   3.56078085e-01,   6.62712464e-01,\n",
       "          1.92955877e-01,   1.94497095e-01,   8.14836698e-03,\n",
       "          4.82951135e-01,   6.27732231e-01,   9.20577431e-01,\n",
       "          2.87663327e-01,   4.31169127e-01,   7.23631400e-02,\n",
       "          3.95824905e-01,   2.52585598e-01,   7.16326359e-01,\n",
       "          3.87163968e-01,   3.43679341e-01,   4.27195777e-01,\n",
       "          7.66229147e-01,   4.42402563e-01,   1.78275876e-01,\n",
       "          2.43278086e-01],\n",
       "       [  7.91130574e-02,   2.68828423e-01,   4.07958338e-02,\n",
       "          2.68215346e-01,   2.54463226e-01,   1.22950607e-01,\n",
       "          7.69444741e-02,   1.69824497e-02,   3.74325981e-01,\n",
       "          3.83783554e-02,   1.17750705e-02,   1.46155458e-01,\n",
       "          8.23651272e-02,   4.00053358e-01,   0.00000000e+00,\n",
       "          7.56053213e-02,   2.97733063e-01,   1.76185425e-01,\n",
       "          5.89169191e-02,   1.38400880e-02,   6.45265582e-01,\n",
       "          2.40976824e-01,   8.07082442e-03,   2.48595759e-01,\n",
       "          7.11822643e-02,   2.53569805e-01,   2.18032827e-01,\n",
       "          5.58582151e-01,   3.22018375e-01,   5.81144514e-01,\n",
       "          2.96700015e-01,   4.65815176e-01,   4.54415226e-01,\n",
       "          6.19757043e-02,   3.48911715e-01,   4.72598994e-01,\n",
       "          2.23919282e-01,   2.25383915e-01,   1.99514575e-01,\n",
       "          8.71395937e-02,   3.68019181e-01,   1.22952550e-01,\n",
       "          4.14797937e-01,   2.25729275e-01,   2.71734636e-01,\n",
       "          2.39751817e-01,   7.39811579e-02,   2.73258513e-01,\n",
       "          1.01051100e-01,   3.69585106e-01,   2.78180529e-01,\n",
       "          5.38698638e-01,   7.92562774e-02,   4.15485243e-01,\n",
       "          2.80742411e-01,   2.01848754e-01,   4.92300868e-01,\n",
       "          4.81081207e-01,   2.23619146e-01,   4.06727355e-01,\n",
       "          1.45442600e-01,   1.26677926e-01,   4.29244664e-01,\n",
       "          3.09451293e-01,   4.61900514e-01,   2.50366805e-01,\n",
       "          1.34289187e-01,   1.58510517e-01,   3.13445354e-01,\n",
       "          1.91060982e-01,   1.70422418e-01,   3.43726081e-01,\n",
       "          1.01167088e-01,   3.64896833e-02,   1.74015622e-01,\n",
       "          6.19274315e-01,   5.77137954e-02,   7.35105384e-02,\n",
       "          2.92974001e-01,   2.86425599e-01,   1.30658616e-01,\n",
       "          1.03610947e-01,   4.79635517e-01,   4.19568793e-01,\n",
       "          1.88532499e-01,   2.60469655e-02,   1.48333526e-01,\n",
       "          2.29605800e-02,   2.02244630e-01,   4.12236149e-01,\n",
       "          7.42763210e-03,   1.14429649e-01,   1.64746207e-01,\n",
       "          2.14652187e-01,   1.13322328e-02,   1.48693447e-01,\n",
       "          9.20826087e-02,   6.27827146e-02,   7.72318370e-02,\n",
       "          7.87861510e-02],\n",
       "       [  1.21931091e-01,   4.26354283e-01,   2.24651668e-01,\n",
       "          3.27643051e-01,   5.01361203e-01,   3.72248167e-02,\n",
       "          6.87774332e-02,   5.84214950e-02,   7.86126408e-01,\n",
       "          4.49641471e-02,   8.46573569e-02,   3.96865403e-01,\n",
       "          2.09331206e-02,   7.98902596e-01,   7.56053213e-02,\n",
       "          0.00000000e+00,   6.23038876e-01,   3.82281465e-01,\n",
       "          5.38481556e-03,   1.23960898e-01,   1.08201168e+00,\n",
       "          5.49491068e-01,   9.15776145e-02,   5.64367606e-01,\n",
       "          2.68575601e-01,   2.01579439e-01,   5.49988311e-01,\n",
       "          1.00058029e+00,   3.82013446e-01,   1.00383101e+00,\n",
       "          6.59935325e-01,   9.15774329e-01,   8.43181741e-01,\n",
       "          4.05233318e-02,   7.32644898e-01,   9.24864601e-01,\n",
       "          1.57705659e-01,   5.56387508e-01,   5.18458383e-01,\n",
       "          2.77811780e-01,   7.52195716e-01,   3.62282137e-01,\n",
       "          7.86512146e-01,   5.62172371e-01,   5.94153817e-01,\n",
       "          2.21261993e-01,   6.34158808e-04,   3.79684012e-01,\n",
       "          1.61934919e-01,   7.12786020e-01,   5.68474593e-01,\n",
       "          9.64000156e-01,   3.08528164e-01,   7.28935156e-01,\n",
       "          6.31746238e-01,   5.23129101e-01,   8.65328693e-01,\n",
       "          9.32393768e-01,   5.52940466e-01,   7.84212609e-01,\n",
       "          3.10226878e-01,   1.58748817e-01,   8.26939800e-01,\n",
       "          5.14366433e-01,   8.87949103e-01,   5.71635084e-01,\n",
       "          4.09271469e-01,   3.92315542e-01,   4.95927598e-01,\n",
       "          2.14523390e-01,   4.70738286e-01,   7.00142906e-01,\n",
       "          3.23228991e-01,   1.51553375e-01,   4.18810559e-01,\n",
       "          1.06243481e+00,   1.09713594e-01,   2.48421853e-01,\n",
       "          5.71252385e-01,   5.90374936e-01,   2.23215480e-01,\n",
       "          3.46991057e-01,   9.19698333e-01,   8.41250544e-01,\n",
       "          2.20284464e-01,   2.53330971e-02,   1.24043489e-01,\n",
       "          1.31458705e-01,   4.34082471e-01,   7.33005485e-01,\n",
       "          1.05143483e-01,   3.50168287e-01,   1.00379605e-01,\n",
       "          2.95479012e-01,   1.32977764e-01,   1.97568250e-01,\n",
       "          1.38109393e-02,   9.58655342e-02,   2.43957528e-01,\n",
       "          2.06907871e-01],\n",
       "       [  5.97342062e-01,   7.31834024e-01,   1.32382755e-01,\n",
       "          9.05580155e-01,   5.09465428e-01,   5.70865872e-01,\n",
       "          6.53306755e-01,   3.01809558e-01,   1.31526680e-01,\n",
       "          5.41119044e-01,   3.79606964e-01,   2.82779379e-01,\n",
       "          6.92553327e-01,   3.05351126e-01,   2.97733063e-01,\n",
       "          6.23038876e-01,   0.00000000e+00,   4.67971882e-01,\n",
       "          6.07077047e-01,   3.14794035e-01,   6.26594317e-01,\n",
       "          3.04304109e-01,   3.46424588e-01,   4.14881088e-03,\n",
       "          2.57844420e-01,   1.03247545e+00,   1.08854266e-01,\n",
       "          4.56223479e-01,   9.88522380e-01,   5.64481833e-01,\n",
       "          2.11513332e-01,   1.75128639e-01,   1.66976804e-02,\n",
       "          6.26239580e-01,   2.50991082e-01,   1.12660013e-01,\n",
       "          9.95954202e-01,   1.60962165e-01,   5.85203992e-02,\n",
       "          3.20873814e-01,   2.95747139e-01,   3.82129481e-02,\n",
       "          9.69984664e-03,   1.09382995e-01,   1.42969427e-03,\n",
       "          9.70512884e-01,   6.02649344e-01,   8.34629396e-01,\n",
       "          6.14790886e-01,   4.88195166e-03,   4.36015328e-01,\n",
       "          3.71503540e-02,   1.02487750e-01,   6.09699202e-01,\n",
       "          2.28435913e-01,   6.50409592e-02,   5.69396101e-01,\n",
       "          2.30835135e-01,   1.65169350e-01,   9.48882298e-03,\n",
       "          8.70160229e-02,   7.06302616e-01,   1.74082182e-02,\n",
       "          6.98750399e-01,   3.79621150e-02,   2.78841494e-01,\n",
       "          1.35068973e-01,   2.84329770e-02,   7.52439441e-01,\n",
       "          8.33131182e-01,   6.15147113e-02,   3.52074986e-01,\n",
       "          5.18085512e-02,   3.76202575e-01,   2.18696408e-02,\n",
       "          5.61442384e-01,   2.51379150e-01,   3.29648966e-01,\n",
       "          1.61164335e-02,   2.73779690e-03,   1.82440705e-01,\n",
       "          6.21763031e-02,   5.38592522e-02,   2.38654662e-01,\n",
       "          8.16986722e-01,   3.99951846e-01,   4.05499544e-01,\n",
       "          3.50632124e-01,   3.10059474e-02,   5.84745037e-01,\n",
       "          2.22514977e-01,   4.35401401e-02,   8.84961076e-01,\n",
       "          7.84090128e-01,   1.93245840e-01,   7.22070889e-01,\n",
       "          7.14980122e-01,   5.74972279e-01,   3.59515680e-01,\n",
       "          4.49532050e-01],\n",
       "       [  9.32462623e-02,   3.04173393e-02,   1.54901724e-01,\n",
       "          1.00311188e-01,   8.06045589e-03,   5.71355573e-01,\n",
       "          1.64895779e-01,   3.01977849e-01,   2.43631617e-01,\n",
       "          1.69962925e-01,   1.15246128e-01,   2.47127890e-02,\n",
       "          2.78223242e-01,   1.35549294e-01,   1.76185425e-01,\n",
       "          3.82281465e-01,   4.67971882e-01,   0.00000000e+00,\n",
       "          3.04005253e-01,   9.13363260e-02,   1.89453286e-01,\n",
       "          4.42966110e-02,   1.16027877e-01,   3.84104960e-01,\n",
       "          3.92378605e-02,   2.30387504e-01,   1.54217863e-01,\n",
       "          1.84071687e-01,   1.19210468e-01,   1.61732944e-01,\n",
       "          1.19335121e-01,   2.84883313e-01,   6.10153818e-01,\n",
       "          2.00338244e-01,   1.29697137e-01,   3.64559671e-01,\n",
       "          2.47748154e-01,   1.12976733e-01,   2.07918721e-01,\n",
       "          1.98336408e-02,   1.18236273e-01,   2.86126082e-01,\n",
       "          5.80148621e-01,   1.57763727e-01,   4.18534689e-01,\n",
       "          1.79448098e-01,   3.95913264e-01,   6.29480039e-02,\n",
       "          7.05950273e-02,   5.67197229e-01,   2.35125124e-02,\n",
       "          6.66912128e-01,   1.46569345e-01,   5.54545574e-02,\n",
       "          9.94219772e-02,   1.99031389e-01,   1.02293525e-01,\n",
       "          2.50150711e-01,   1.09009096e-01,   5.47200082e-01,\n",
       "          4.83693513e-01,   1.00141528e-01,   5.30793210e-01,\n",
       "          2.49389365e-02,   4.99253775e-01,   5.84607087e-02,\n",
       "          1.01474579e-01,   3.88767624e-01,   3.38167337e-02,\n",
       "          1.16767081e-01,   1.93385443e-01,   7.81023764e-02,\n",
       "          2.71385610e-01,   5.60313340e-02,   3.99274512e-01,\n",
       "          1.90615436e-01,   4.17951201e-01,   2.39506491e-02,\n",
       "          5.68769158e-01,   4.99376958e-01,   5.41610615e-01,\n",
       "          2.06084398e-01,   4.80517625e-01,   1.90864975e-01,\n",
       "          1.07001501e-01,   3.25142214e-01,   6.45898732e-01,\n",
       "          7.43520523e-02,   4.85014402e-01,   5.68944757e-02,\n",
       "          2.17320008e-01,   2.71639497e-01,   2.42785458e-01,\n",
       "          6.55713102e-02,   1.93316804e-01,   8.30526677e-02,\n",
       "          3.19749390e-01,   1.10622594e-01,   2.02863545e-02,\n",
       "          2.68765889e-02],\n",
       "       [  7.62568733e-02,   3.36691222e-01,   1.97721276e-01,\n",
       "          2.49789635e-01,   4.10917908e-01,   6.76834478e-02,\n",
       "          3.58364979e-02,   6.07947609e-02,   7.17389103e-01,\n",
       "          1.98700423e-02,   5.50482867e-02,   3.28620168e-01,\n",
       "          6.75733984e-03,   7.06331895e-01,   5.89169191e-02,\n",
       "          5.38481556e-03,   6.07077047e-01,   3.04005253e-01,\n",
       "          0.00000000e+00,   9.00089851e-02,   9.55768803e-01,\n",
       "          4.68309363e-01,   6.28402722e-02,   5.42175900e-01,\n",
       "          2.15829043e-01,   1.48608104e-01,   4.92547282e-01,\n",
       "          8.88799736e-01,   2.97971332e-01,   8.83946153e-01,\n",
       "          5.82571053e-01,   8.38395977e-01,   8.25100029e-01,\n",
       "          1.64317429e-02,   6.48001763e-01,   8.60435557e-01,\n",
       "          1.12973728e-01,   4.90318285e-01,   4.73737883e-01,\n",
       "          2.18743296e-01,   6.62132203e-01,   3.44453309e-01,\n",
       "          7.70014175e-01,   5.04026950e-01,   5.74012803e-01,\n",
       "          1.61943476e-01,   8.74185423e-03,   2.94642047e-01,\n",
       "          1.08478415e-01,   7.01808542e-01,   4.76874486e-01,\n",
       "          9.41295525e-01,   2.73619672e-01,   6.18806452e-01,\n",
       "          5.53592887e-01,   4.76434312e-01,   7.50306521e-01,\n",
       "          8.46154140e-01,   4.86468399e-01,   7.63341881e-01,\n",
       "          3.22929006e-01,   1.05782173e-01,   7.99307207e-01,\n",
       "          4.16862050e-01,   8.49129061e-01,   4.91391422e-01,\n",
       "          3.56924122e-01,   3.86349500e-01,   3.99129643e-01,\n",
       "          1.53022020e-01,   4.28467961e-01,   6.07070795e-01,\n",
       "          3.06526903e-01,   1.07354223e-01,   4.12036130e-01,\n",
       "          9.41055346e-01,   1.25511914e-01,   1.92389482e-01,\n",
       "          5.73683187e-01,   5.81838934e-01,   2.48301140e-01,\n",
       "          3.18421508e-01,   8.74507443e-01,   7.55194561e-01,\n",
       "          1.57558209e-01,   2.99072423e-02,   1.63662653e-01,\n",
       "          9.28636144e-02,   4.37419375e-01,   6.23760947e-01,\n",
       "          9.45932481e-02,   3.31255740e-01,   6.52790486e-02,\n",
       "          2.21117975e-01,   1.17646768e-01,   1.37783467e-01,\n",
       "          5.15861116e-03,   5.61022111e-02,   1.86556374e-01,\n",
       "          1.50124764e-01],\n",
       "       [  4.57347384e-02,   1.65137793e-01,   3.89324963e-02,\n",
       "          1.82850470e-01,   1.50240394e-01,   2.11836859e-01,\n",
       "          6.37736390e-02,   6.14181524e-02,   3.06611472e-01,\n",
       "          3.80382534e-02,   4.66450924e-03,   7.79193202e-02,\n",
       "          9.91532871e-02,   2.93628492e-01,   1.38400880e-02,\n",
       "          1.23960898e-01,   3.14794035e-01,   9.13363260e-02,\n",
       "          9.00089851e-02,   0.00000000e+00,   4.84610140e-01,\n",
       "          1.52259910e-01,   2.45922235e-03,   2.55487792e-01,\n",
       "          2.76137953e-02,   2.07595833e-01,   1.67961955e-01,\n",
       "          4.21395182e-01,   2.26633949e-01,   4.30672451e-01,\n",
       "          2.14614358e-01,   3.84416621e-01,   4.68561981e-01,\n",
       "          6.30299194e-02,   2.55203851e-01,   4.12194068e-01,\n",
       "          1.91174722e-01,   1.61329663e-01,   1.69941373e-01,\n",
       "          3.32761135e-02,   2.65535245e-01,   1.36285648e-01,\n",
       "          4.31370382e-01,   1.74554194e-01,   2.82002709e-01,\n",
       "          1.83771174e-01,   1.26765628e-01,   1.76634642e-01,\n",
       "          5.52152442e-02,   3.94866008e-01,   1.72439172e-01,\n",
       "          5.45656451e-01,   6.48421177e-02,   2.79921591e-01,\n",
       "          1.97278512e-01,   1.69096809e-01,   3.49298675e-01,\n",
       "          3.85340605e-01,   1.58898613e-01,   4.16264231e-01,\n",
       "          2.07618249e-01,   8.13996648e-02,   4.27994387e-01,\n",
       "          1.93447538e-01,   4.42761373e-01,   1.63273695e-01,\n",
       "          9.20024752e-02,   1.91013236e-01,   1.98402210e-01,\n",
       "          1.31888059e-01,   1.44665422e-01,   2.36141706e-01,\n",
       "          1.16183881e-01,   6.09200723e-03,   2.05298911e-01,\n",
       "          4.66548949e-01,   1.23981288e-01,   2.44358119e-02,\n",
       "          3.39441629e-01,   3.15339796e-01,   2.12301350e-01,\n",
       "          9.95798299e-02,   4.50291861e-01,   3.23883100e-01,\n",
       "          1.27443417e-01,   7.37025029e-02,   2.52560532e-01,\n",
       "          1.58638389e-03,   2.49799769e-01,   2.78164548e-01,\n",
       "          3.13910602e-02,   1.25977988e-01,   1.47617266e-01,\n",
       "          1.35119289e-01,   2.77478701e-02,   9.25090029e-02,\n",
       "          1.17679580e-01,   3.88989255e-02,   2.58730062e-02,\n",
       "          2.81124007e-02],\n",
       "       [  5.48364395e-01,   2.58956524e-01,   4.69393722e-01,\n",
       "          4.73729549e-01,   1.23510848e-01,   1.33122191e+00,\n",
       "          7.07806392e-01,   8.49834490e-01,   1.94264155e-01,\n",
       "          7.09313979e-01,   5.63251268e-01,   1.77452471e-01,\n",
       "          9.23199716e-01,   5.72080782e-02,   6.45265582e-01,\n",
       "          1.08201168e+00,   6.26594317e-01,   1.89453286e-01,\n",
       "          9.55768803e-01,   4.84610140e-01,   0.00000000e+00,\n",
       "          1.00342847e-01,   5.52416107e-01,   5.42832461e-01,\n",
       "          2.87920207e-01,   7.90082506e-01,   2.25961898e-01,\n",
       "          1.54554957e-02,   4.80197030e-01,   1.88177242e-03,\n",
       "          1.14275281e-01,   1.71493256e-01,   6.85508777e-01,\n",
       "          7.76603333e-01,   8.52505333e-02,   2.72819121e-01,\n",
       "          8.40813528e-01,   1.69565125e-01,   3.20008665e-01,\n",
       "          2.64933947e-01,   6.29681723e-02,   5.48581760e-01,\n",
       "          6.79799135e-01,   2.22569157e-01,   5.72845411e-01,\n",
       "          6.85283064e-01,   1.09798117e+00,   3.64056722e-01,\n",
       "          4.88410034e-01,   7.12913542e-01,   8.25771111e-02,\n",
       "          6.87883792e-01,   3.89231387e-01,   5.05026504e-02,\n",
       "          1.08142458e-01,   3.04463491e-01,   1.36690881e-02,\n",
       "          1.18284551e-01,   1.66935258e-01,   6.31360210e-01,\n",
       "          8.97078599e-01,   5.54866993e-01,   5.76905576e-01,\n",
       "          1.79443030e-01,   4.88765038e-01,   1.00356226e-01,\n",
       "          2.54017561e-01,   6.80594237e-01,   2.17673943e-01,\n",
       "          5.66075759e-01,   3.33379931e-01,   5.18023108e-02,\n",
       "          5.57540116e-01,   4.23720966e-01,   6.75845238e-01,\n",
       "          2.36444017e-03,   9.78050318e-01,   2.94484955e-01,\n",
       "          8.20962144e-01,   6.98736805e-01,   1.06865377e+00,\n",
       "          4.43135496e-01,   4.40459167e-01,   9.63506129e-02,\n",
       "          5.43637613e-01,   9.29809907e-01,   1.34639491e+00,\n",
       "          4.60856754e-01,   7.96920274e-01,   4.44767122e-02,\n",
       "          6.70415352e-01,   5.36526777e-01,   8.51788932e-01,\n",
       "          4.18881369e-01,   6.07471791e-01,   5.03877257e-01,\n",
       "          9.96218860e-01,   5.89095390e-01,   2.98450246e-01,\n",
       "          3.54421137e-01],\n",
       "       [  2.34142736e-01,   1.37099400e-01,   1.37499309e-01,\n",
       "          2.77443623e-01,   3.46332528e-02,   7.07761817e-01,\n",
       "          3.31882051e-01,   3.67449455e-01,   8.54544077e-02,\n",
       "          3.10996909e-01,   2.03136683e-01,   1.23891710e-02,\n",
       "          4.63748263e-01,   2.71977047e-02,   2.40976824e-01,\n",
       "          5.49491068e-01,   3.04304109e-01,   4.42966110e-02,\n",
       "          4.68309363e-01,   1.52259910e-01,   1.00342847e-01,\n",
       "          0.00000000e+00,   1.92855851e-01,   2.39058263e-01,\n",
       "          5.07130513e-02,   4.69232669e-01,   5.06946284e-02,\n",
       "          6.70995958e-02,   3.05703129e-01,   7.52738831e-02,\n",
       "          1.91341905e-02,   1.05761091e-01,   3.92101635e-01,\n",
       "          3.65295122e-01,   2.24537334e-02,   1.62671795e-01,\n",
       "          4.86391130e-01,   2.40899382e-02,   9.59388711e-02,\n",
       "          4.75163367e-02,   1.92398024e-02,   2.03701111e-01,\n",
       "          3.75091435e-01,   5.12796236e-02,   2.64164247e-01,\n",
       "          3.97927709e-01,   5.56721631e-01,   2.08771244e-01,\n",
       "          2.07466353e-01,   3.79285093e-01,   1.24285129e-02,\n",
       "          4.22980362e-01,   1.00557638e-01,   5.28622799e-02,\n",
       "          1.16145419e-02,   8.80754288e-02,   5.32777334e-02,\n",
       "          8.39384228e-02,   2.22965637e-02,   3.43868166e-01,\n",
       "          4.20401225e-01,   2.62459168e-01,   3.19855885e-01,\n",
       "          1.00997212e-01,   2.80360934e-01,   1.05719512e-03,\n",
       "          4.16842943e-02,   2.92439494e-01,   1.29168022e-01,\n",
       "          3.00541705e-01,   9.44521086e-02,   9.17675978e-03,\n",
       "          2.02881030e-01,   1.28809285e-01,   2.94232509e-01,\n",
       "          8.79043984e-02,   4.52384100e-01,   6.11348863e-02,\n",
       "          4.18556690e-01,   3.43298691e-01,   5.24302970e-01,\n",
       "          1.37113657e-01,   2.59035177e-01,   5.13322040e-02,\n",
       "          2.85185056e-01,   4.25472718e-01,   7.11761166e-01,\n",
       "          1.44162908e-01,   3.75630180e-01,   4.62283458e-02,\n",
       "          2.52188385e-01,   1.94212861e-01,   4.64376167e-01,\n",
       "          2.17650789e-01,   2.14031986e-01,   2.40955124e-01,\n",
       "          5.11788359e-01,   2.50947586e-01,   6.71063498e-02,\n",
       "          1.07850998e-01],\n",
       "       [  4.01439196e-02,   1.84535555e-01,   5.12365521e-02,\n",
       "          1.85424569e-01,   1.83207451e-01,   1.73515600e-01,\n",
       "          4.82771357e-02,   4.71561264e-02,   3.60538244e-01,\n",
       "          2.33766890e-02,   7.62078545e-04,   1.07548914e-01,\n",
       "          7.23458881e-02,   3.49807261e-01,   8.07082442e-03,\n",
       "          9.15776145e-02,   3.46424588e-01,   1.16027877e-01,\n",
       "          6.28402722e-02,   2.45922235e-03,   5.52416107e-01,\n",
       "          1.92855851e-01,   0.00000000e+00,   2.86782917e-01,\n",
       "          4.65001484e-02,   1.89041585e-01,   2.07898797e-01,\n",
       "          4.87442826e-01,   2.30383508e-01,   4.95245363e-01,\n",
       "          2.62761926e-01,   4.45600509e-01,   5.10103560e-01,\n",
       "          4.39778618e-02,   3.07714303e-01,   4.71443469e-01,\n",
       "          1.69031404e-01,   2.02643370e-01,   2.05681848e-01,\n",
       "          5.22659954e-02,   3.19067173e-01,   1.55323610e-01,\n",
       "          4.70070158e-01,   2.15289569e-01,   3.13935624e-01,\n",
       "          1.71369873e-01,   9.42420932e-02,   1.87538421e-01,\n",
       "          5.37104686e-02,   4.28308005e-01,   2.12132066e-01,\n",
       "          5.93503288e-01,   8.53772178e-02,   3.26358571e-01,\n",
       "          2.43726798e-01,   2.05536232e-01,   4.05551720e-01,\n",
       "          4.48288884e-01,   2.00030454e-01,   4.56601642e-01,\n",
       "          2.10074423e-01,   7.54782645e-02,   4.72560326e-01,\n",
       "          2.21348809e-01,   4.93559349e-01,   2.05621213e-01,\n",
       "          1.22479447e-01,   2.07131179e-01,   2.22807570e-01,\n",
       "          1.26176341e-01,   1.77174661e-01,   2.86031580e-01,\n",
       "          1.32428177e-01,   1.10992364e-02,   2.23210946e-01,\n",
       "          5.34462212e-01,   1.08941519e-01,   4.05221358e-02,\n",
       "          3.60764357e-01,   3.42452537e-01,   2.01720913e-01,\n",
       "          1.21118617e-01,   5.04318330e-01,   3.82345775e-01,\n",
       "          1.23193320e-01,   5.27175583e-02,   2.21858828e-01,\n",
       "          4.61966446e-03,   2.63983271e-01,   3.25545820e-01,\n",
       "          2.78635284e-02,   1.44667168e-01,   1.24054893e-01,\n",
       "          1.40294278e-01,   2.86589307e-02,   9.03141552e-02,\n",
       "          8.73683246e-02,   3.08037363e-02,   4.09702246e-02,\n",
       "          3.72989046e-02],\n",
       "       [  5.12033680e-01,   6.26246210e-01,   9.56854242e-02,\n",
       "          7.91272109e-01,   4.21899127e-01,   5.35384801e-01,\n",
       "          5.70126355e-01,   2.64730513e-01,   1.00585294e-01,\n",
       "          4.68967478e-01,   3.16848949e-01,   2.18431512e-01,\n",
       "          6.17112215e-01,   2.47616446e-01,   2.48595759e-01,\n",
       "          5.64367606e-01,   4.14881088e-03,   3.84104960e-01,\n",
       "          5.42175900e-01,   2.55487792e-01,   5.42832461e-01,\n",
       "          2.39058263e-01,   2.86782917e-01,   0.00000000e+00,\n",
       "          1.97926401e-01,   9.19844711e-01,   7.25158375e-02,\n",
       "          3.88171401e-01,   8.68084240e-01,   4.84181464e-01,\n",
       "          1.61639117e-01,   1.43492258e-01,   3.20618316e-02,\n",
       "          5.49199418e-01,   1.98080506e-01,   9.45855894e-02,\n",
       "          8.88650371e-01,   1.15710431e-01,   3.22890211e-02,\n",
       "          2.53157209e-01,   2.37456238e-01,   2.23817098e-02,\n",
       "          2.30744412e-02,   7.32777251e-02,   7.50733580e-04,\n",
       "          8.58523186e-01,   5.47202997e-01,   7.22953409e-01,\n",
       "          5.25425913e-01,   1.78303208e-02,   3.56414065e-01,\n",
       "          5.55353856e-02,   6.72922755e-02,   5.16260716e-01,\n",
       "          1.75190607e-01,   3.73076464e-02,   4.83554939e-01,\n",
       "          1.90535255e-01,   1.19156761e-01,   1.96622810e-02,\n",
       "          8.63267767e-02,   6.11368296e-01,   2.50067816e-02,\n",
       "          5.95217852e-01,   4.02306283e-02,   2.17227144e-01,\n",
       "          9.18835928e-02,   2.34183693e-02,   6.44898996e-01,\n",
       "          7.27766524e-01,   3.38371128e-02,   2.84903569e-01,\n",
       "          3.34809363e-02,   3.07588700e-01,   1.83516601e-02,\n",
       "          4.83941718e-01,   2.30079697e-01,   2.61681245e-01,\n",
       "          2.89411114e-02,   9.89067472e-03,   1.79055553e-01,\n",
       "          3.63512943e-02,   5.26437823e-02,   1.92304079e-01,\n",
       "          7.12129779e-01,   3.56223727e-01,   3.92198887e-01,\n",
       "          2.86295570e-01,   3.49716723e-02,   4.93739863e-01,\n",
       "          1.84229569e-01,   2.58587770e-02,   7.87771977e-01,\n",
       "          6.77812470e-01,   1.55168983e-01,   6.23788021e-01,\n",
       "          6.41572626e-01,   4.93583977e-01,   2.88442966e-01,\n",
       "          3.70958796e-01],\n",
       "       [  9.49070273e-02,   1.26249009e-01,   3.82574709e-02,\n",
       "          1.98565939e-01,   6.96100430e-02,   3.81222781e-01,\n",
       "          1.46616795e-01,   1.49770614e-01,   1.67531254e-01,\n",
       "          1.20389437e-01,   5.28938989e-02,   1.33435171e-02,\n",
       "          2.21555202e-01,   1.41386286e-01,   7.11822643e-02,\n",
       "          2.68575601e-01,   2.57844420e-01,   3.92378605e-02,\n",
       "          2.15829043e-01,   2.76137953e-02,   2.87920207e-01,\n",
       "          5.07130513e-02,   4.65001484e-02,   1.97926401e-01,\n",
       "          0.00000000e+00,   2.94530652e-01,   7.46767540e-02,\n",
       "          2.33891359e-01,   2.37123561e-01,   2.45551324e-01,\n",
       "          9.09555893e-02,   2.20849265e-01,   3.80716618e-01,\n",
       "          1.59084319e-01,   1.16275620e-01,   2.57954122e-01,\n",
       "          2.91262954e-01,   6.15604680e-02,   9.28471497e-02,\n",
       "          3.68265949e-03,   1.22054589e-01,   1.17391599e-01,\n",
       "          3.52640475e-01,   7.86393738e-02,   2.23028366e-01,\n",
       "          2.50202088e-01,   2.72525802e-01,   1.64961816e-01,\n",
       "          8.98330857e-02,   3.33682417e-01,   7.09164117e-02,\n",
       "          4.37294459e-01,   3.68730680e-02,   1.52881545e-01,\n",
       "          7.86138027e-02,   8.93438016e-02,   1.90924065e-01,\n",
       "          2.14041714e-01,   5.95801692e-02,   3.31371340e-01,\n",
       "          2.47512012e-01,   1.29665876e-01,   3.28379282e-01,\n",
       "          1.26466675e-01,   3.21127211e-01,   5.66118818e-02,\n",
       "          2.90141601e-02,   1.84177601e-01,   1.42308325e-01,\n",
       "          1.77267675e-01,   7.81066165e-02,   1.03018273e-01,\n",
       "          1.06137748e-01,   2.32110528e-02,   1.92758845e-01,\n",
       "          2.70809726e-01,   2.18245435e-01,   4.52884639e-03,\n",
       "          3.18882341e-01,   2.74172547e-01,   2.95357931e-01,\n",
       "          7.02056674e-02,   3.17099487e-01,   1.66363188e-01,\n",
       "          1.68026768e-01,   1.83213047e-01,   4.01031920e-01,\n",
       "          2.62217377e-02,   2.51332361e-01,   1.48466518e-01,\n",
       "          8.34855929e-02,   1.07866547e-01,   2.54582481e-01,\n",
       "          1.43791831e-01,   6.49982244e-02,   1.27574771e-01,\n",
       "          2.52259731e-01,   9.72918740e-02,   8.63373883e-03,\n",
       "          2.91287090e-02],\n",
       "       [  5.93195836e-02,   1.47622920e-01,   4.26160638e-01,\n",
       "          4.59684463e-02,   2.97909453e-01,   4.12052715e-01,\n",
       "          5.26187220e-02,   3.44113727e-01,   8.89962648e-01,\n",
       "          9.92558961e-02,   1.66155379e-01,   3.58360960e-01,\n",
       "          9.30448114e-02,   7.17615624e-01,   2.53569805e-01,\n",
       "          2.01579439e-01,   1.03247545e+00,   2.30387504e-01,\n",
       "          1.48608104e-01,   2.07595833e-01,   7.90082506e-01,\n",
       "          4.69232669e-01,   1.89041585e-01,   9.19844711e-01,\n",
       "          2.94530652e-01,   0.00000000e+00,   6.63680769e-01,\n",
       "          8.18624247e-01,   5.58290453e-02,   7.45421850e-01,\n",
       "          6.57017313e-01,   9.91310929e-01,   1.29468044e+00,\n",
       "          7.67107326e-02,   6.95339614e-01,   1.09669867e+00,\n",
       "          3.18530176e-03,   6.06446271e-01,   7.12908290e-01,\n",
       "          2.51685621e-01,   6.75857951e-01,   6.80256178e-01,\n",
       "          1.23408632e+00,   6.74805286e-01,   9.70571378e-01,\n",
       "          3.85161480e-03,   2.24068625e-01,   8.82836028e-02,\n",
       "          5.90706113e-02,   1.17469444e+00,   3.95916321e-01,\n",
       "          1.41496090e+00,   4.93134448e-01,   4.42553744e-01,\n",
       "          6.12007914e-01,   7.05332258e-01,   5.97313991e-01,\n",
       "          9.44689169e-01,   5.98544625e-01,   1.20520188e+00,\n",
       "          7.82792972e-01,   3.33486999e-02,   1.21704217e+00,\n",
       "          2.21514864e-01,   1.22234446e+00,   5.09754072e-01,\n",
       "          5.08413223e-01,   7.91588865e-01,   1.87895018e-01,\n",
       "          1.92339983e-02,   6.66139852e-01,   5.76771551e-01,\n",
       "          6.33758655e-01,   1.65115474e-01,   8.22157734e-01,\n",
       "          8.11698118e-01,   5.02641410e-01,   2.30107221e-01,\n",
       "          1.07189934e+00,   1.03449022e+00,   7.20447934e-01,\n",
       "          5.90493778e-01,   1.22043930e+00,   8.28041523e-01,\n",
       "          2.35927778e-02,   2.88853698e-01,   6.21166021e-01,\n",
       "          1.79843931e-01,   8.99254231e-01,   4.59686669e-01,\n",
       "          3.47792458e-01,   6.57005311e-01,   1.76020747e-02,\n",
       "          5.85959590e-02,   3.62522189e-01,   3.77866031e-02,\n",
       "          1.10852732e-01,   6.74382524e-02,   2.08270003e-01,\n",
       "          1.40748107e-01],\n",
       "       [  3.37823589e-01,   3.21046919e-01,   7.77638349e-02,\n",
       "          4.85633333e-01,   1.60581839e-01,   6.24906647e-01,\n",
       "          4.24426264e-01,   2.99150430e-01,   2.10891249e-02,\n",
       "          3.65263641e-01,   2.28545581e-01,   5.58555665e-02,\n",
       "          5.24998918e-01,   5.74181597e-02,   2.18032827e-01,\n",
       "          5.49988311e-01,   1.08854266e-01,   1.54217863e-01,\n",
       "          4.92547282e-01,   1.67961955e-01,   2.25961898e-01,\n",
       "          5.06946284e-02,   2.07898797e-01,   7.25158375e-02,\n",
       "          7.46767540e-02,   6.63680769e-01,   0.00000000e+00,\n",
       "          1.37096784e-01,   5.35779323e-01,   1.87576887e-01,\n",
       "          1.88591925e-02,   4.65316800e-02,   1.61103706e-01,\n",
       "          4.35030478e-01,   3.44283176e-02,   5.52698512e-02,\n",
       "          6.60863643e-01,   5.09496791e-03,   8.31719628e-03,\n",
       "          9.88049533e-02,   5.04201379e-02,   7.34668317e-02,\n",
       "          1.49995811e-01,   6.67524831e-05,   8.57188777e-02,\n",
       "          5.92425618e-01,   5.45882985e-01,   4.10855514e-01,\n",
       "          3.26863294e-01,   1.53721614e-01,   1.13014565e-01,\n",
       "          1.83762209e-01,   3.86344167e-02,   2.04376151e-01,\n",
       "          2.25014044e-02,   5.96929126e-03,   1.81867149e-01,\n",
       "          5.56790332e-02,   5.89597156e-03,   1.30583164e-01,\n",
       "          2.31008140e-01,   3.99696867e-01,   1.17155782e-01,\n",
       "          2.80922197e-01,   9.86322493e-02,   3.96983251e-02,\n",
       "          1.14213843e-02,   1.23271027e-01,   3.21813514e-01,\n",
       "          4.74352067e-01,   1.06865575e-02,   7.00718654e-02,\n",
       "          8.03402965e-02,   1.78027090e-01,   1.20496040e-01,\n",
       "          1.91656262e-01,   3.28584328e-01,   1.12220200e-01,\n",
       "          1.88910077e-01,   1.35654531e-01,   3.39484806e-01,\n",
       "          4.27782727e-02,   9.06995502e-02,   4.25720743e-02,\n",
       "          4.57763614e-01,   3.77932907e-01,   5.54138550e-01,\n",
       "          1.77679328e-01,   1.74319767e-01,   1.89580210e-01,\n",
       "          1.92110195e-01,   7.03219875e-02,   6.02929645e-01,\n",
       "          3.98712265e-01,   1.54878023e-01,   3.91297598e-01,\n",
       "          5.64618012e-01,   3.39979352e-01,   1.28687105e-01,\n",
       "          1.93472796e-01],\n",
       "       [  5.30963759e-01,   2.92544107e-01,   3.67731514e-01,\n",
       "          5.15789780e-01,   1.29244318e-01,   1.20252988e+00,\n",
       "          6.81501328e-01,   7.35939337e-01,   1.01900950e-01,\n",
       "          6.62318035e-01,   5.03535366e-01,   1.37140242e-01,\n",
       "          8.76570041e-01,   1.71996604e-02,   5.58582151e-01,\n",
       "          1.00058029e+00,   4.56223479e-01,   1.84071687e-01,\n",
       "          8.88799736e-01,   4.21395182e-01,   1.54554957e-02,\n",
       "          6.70995958e-02,   4.87442826e-01,   3.88171401e-01,\n",
       "          2.33891359e-01,   8.18624247e-01,   1.37096784e-01,\n",
       "          0.00000000e+00,   5.34557784e-01,   9.13780071e-03,\n",
       "          5.53107959e-02,   8.40007621e-02,   4.98519032e-01,\n",
       "          7.36816950e-01,   3.42235555e-02,   1.58438483e-01,\n",
       "          8.57413511e-01,   9.84231286e-02,   2.09760981e-01,\n",
       "          2.25874408e-01,   2.27322619e-02,   4.10288331e-01,\n",
       "          4.95228752e-01,   1.33647660e-01,   4.11857700e-01,\n",
       "          7.15600879e-01,   1.01031202e+00,   4.05146337e-01,\n",
       "          4.80763530e-01,   5.26592950e-01,   7.63553001e-02,\n",
       "          4.98191775e-01,   2.88712525e-01,   7.40424591e-02,\n",
       "          5.47977306e-02,   1.97430085e-01,   2.74649637e-02,\n",
       "          4.82263918e-02,   9.71600442e-02,   4.53712740e-01,\n",
       "          7.21727111e-01,   5.55719586e-01,   4.06247261e-01,\n",
       "          2.13248231e-01,   3.31344158e-01,   6.10205771e-02,\n",
       "          1.73634718e-01,   5.20183607e-01,   2.57440438e-01,\n",
       "          5.86984036e-01,   2.24322172e-01,   2.67777627e-02,\n",
       "          4.22659090e-01,   3.79554949e-01,   5.13446987e-01,\n",
       "          5.89455820e-03,   8.33589102e-01,   2.54488987e-01,\n",
       "          6.28964463e-01,   5.20414640e-01,   8.92098246e-01,\n",
       "          3.25180575e-01,   2.91278563e-01,   3.56787297e-02,\n",
       "          5.64287836e-01,   8.25354002e-01,   1.17898951e+00,\n",
       "          4.07544960e-01,   6.18386228e-01,   6.38223418e-02,\n",
       "          5.64065982e-01,   4.01602468e-01,   8.48346866e-01,\n",
       "          4.46848497e-01,   5.02889315e-01,   5.12954071e-01,\n",
       "          9.43989112e-01,   5.62973560e-01,   2.63911524e-01,\n",
       "          3.31346852e-01],\n",
       "       [  8.61680151e-02,   3.63718719e-02,   4.25286222e-01,\n",
       "          2.47088407e-03,   1.44398536e-01,   6.46013667e-01,\n",
       "          1.27547276e-01,   4.65321404e-01,   7.03629413e-01,\n",
       "          1.82767319e-01,   2.10639626e-01,   2.46416271e-01,\n",
       "          2.28859642e-01,   4.90691820e-01,   3.22018375e-01,\n",
       "          3.82013446e-01,   9.88522380e-01,   1.19210468e-01,\n",
       "          2.97971332e-01,   2.26633949e-01,   4.80197030e-01,\n",
       "          3.05703129e-01,   2.30383508e-01,   8.68084240e-01,\n",
       "          2.37123561e-01,   5.58290453e-02,   5.35779323e-01,\n",
       "          5.34557784e-01,   0.00000000e+00,   4.54348250e-01,\n",
       "          4.75991714e-01,   7.70727209e-01,   1.21766513e+00,\n",
       "          1.74958274e-01,   4.90771078e-01,   9.00325029e-01,\n",
       "          8.15709894e-02,   4.62146901e-01,   6.15752968e-01,\n",
       "          1.85009412e-01,   4.60513293e-01,   6.71850858e-01,\n",
       "          1.16793337e+00,   5.43484165e-01,   9.19781379e-01,\n",
       "          3.20283328e-02,   4.08785012e-01,   9.34003374e-03,\n",
       "          6.25026334e-02,   1.13230782e+00,   2.20367801e-01,\n",
       "          1.31227376e+00,   4.55994773e-01,   2.20304828e-01,\n",
       "          4.35018368e-01,   6.03260462e-01,   3.38361996e-01,\n",
       "          7.06202025e-01,   4.54226208e-01,   1.12788802e+00,\n",
       "          8.67926619e-01,   5.08699079e-02,   1.11732520e+00,\n",
       "          7.33659364e-02,   1.08787897e+00,   3.42240885e-01,\n",
       "          4.16418145e-01,   8.08843597e-01,   5.13495982e-02,\n",
       "          2.40296629e-02,   5.82255341e-01,   3.68211234e-01,\n",
       "          6.35422366e-01,   1.61910279e-01,   8.32826025e-01,\n",
       "          5.08376349e-01,   6.45224755e-01,   1.76537995e-01,\n",
       "          1.08526262e+00,   1.01475816e+00,   8.62662142e-01,\n",
       "          5.59289222e-01,   1.06715761e+00,   6.03419015e-01,\n",
       "          2.22203833e-02,   4.33569068e-01,   8.44993493e-01,\n",
       "          1.90563827e-01,   9.35553765e-01,   2.35826221e-01,\n",
       "          4.18136847e-01,   6.48122713e-01,   1.13934663e-01,\n",
       "          1.21571068e-02,   4.12632627e-01,   3.43474401e-02,\n",
       "          2.65118564e-01,   1.10255140e-01,   1.55761754e-01,\n",
       "          1.07042086e-01],\n",
       "       [  5.00460913e-01,   2.37260800e-01,   4.12165933e-01,\n",
       "          4.44344752e-01,   1.03127491e-01,   1.23863898e+00,\n",
       "          6.52144105e-01,   7.74507623e-01,   1.63098225e-01,\n",
       "          6.49318413e-01,   5.06474725e-01,   1.44442614e-01,\n",
       "          8.56315453e-01,   3.95128838e-02,   5.81144514e-01,\n",
       "          1.00383101e+00,   5.64481833e-01,   1.61732944e-01,\n",
       "          8.83946153e-01,   4.30672451e-01,   1.88177242e-03,\n",
       "          7.52738831e-02,   4.95245363e-01,   4.84181464e-01,\n",
       "          2.45551324e-01,   7.45421850e-01,   1.87576887e-01,\n",
       "          9.13780071e-03,   4.54348250e-01,   0.00000000e+00,\n",
       "          8.75595676e-02,   1.45627137e-01,   6.25221456e-01,\n",
       "          7.15763774e-01,   6.28861570e-02,   2.39588097e-01,\n",
       "          7.91314457e-01,   1.36093067e-01,   2.74240616e-01,\n",
       "          2.26106359e-01,   4.37003009e-02,   4.86700049e-01,\n",
       "          6.18442851e-01,   1.84629533e-01,   5.13089045e-01,\n",
       "          6.44568420e-01,   1.01826907e+00,   3.39228893e-01,\n",
       "          4.45121480e-01,   6.48131251e-01,   6.32748029e-02,\n",
       "          6.30588276e-01,   3.36995638e-01,   4.19951902e-02,\n",
       "          8.17582025e-02,   2.59844403e-01,   8.53138143e-03,\n",
       "          9.74867238e-02,   1.33676688e-01,   5.72554487e-01,\n",
       "          8.17056285e-01,   5.11019387e-01,   5.22153460e-01,\n",
       "          1.62680466e-01,   4.40670249e-01,   7.48758941e-02,\n",
       "          2.12173856e-01,   6.11891464e-01,   2.00290690e-01,\n",
       "          5.27013485e-01,   2.86033348e-01,   3.39813983e-02,\n",
       "          4.94848060e-01,   3.75677060e-01,   6.07710277e-01,\n",
       "          1.53398501e-03,   8.95167243e-01,   2.53772390e-01,\n",
       "          7.47900728e-01,   6.32180812e-01,   9.80866041e-01,\n",
       "          3.87420429e-01,   3.96134795e-01,   7.51604843e-02,\n",
       "          5.05354549e-01,   8.52818440e-01,   1.24918227e+00,\n",
       "          4.09552146e-01,   7.22891292e-01,   3.55358825e-02,\n",
       "          6.03007157e-01,   4.75228456e-01,   7.96813304e-01,\n",
       "          3.87711905e-01,   5.43023124e-01,   4.64082309e-01,\n",
       "          9.26020182e-01,   5.37725407e-01,   2.58439108e-01,\n",
       "          3.13682807e-01],\n",
       "       [  3.54555987e-01,   2.58615707e-01,   1.45351308e-01,\n",
       "          4.38386966e-01,   1.04621021e-01,   7.84959897e-01,\n",
       "          4.62470677e-01,   4.13522673e-01,   2.41623019e-02,\n",
       "          4.20604466e-01,   2.80677044e-01,   4.54057416e-02,\n",
       "          5.96423083e-01,   1.08288482e-02,   2.96700015e-01,\n",
       "          6.59935325e-01,   2.11513332e-01,   1.19335121e-01,\n",
       "          5.82571053e-01,   2.14614358e-01,   1.14275281e-01,\n",
       "          1.91341905e-02,   2.62761926e-01,   1.61639117e-01,\n",
       "          9.09555893e-02,   6.57017313e-01,   1.88591925e-02,\n",
       "          5.53107959e-02,   4.75991714e-01,   8.75595676e-02,\n",
       "          0.00000000e+00,   3.54630317e-02,   2.65171103e-01,\n",
       "          4.89883186e-01,   2.60665312e-03,   7.07576422e-02,\n",
       "          6.69682840e-01,   6.31219732e-03,   5.18862100e-02,\n",
       "          1.01614314e-01,   7.60938383e-03,   1.64575254e-01,\n",
       "          2.55748241e-01,   1.78973029e-02,   1.79614121e-01,\n",
       "          5.75867766e-01,   6.61573969e-01,   3.53219725e-01,\n",
       "          3.29389606e-01,   2.68136001e-01,   5.86126099e-02,\n",
       "          2.81717231e-01,   9.40833277e-02,   1.14361082e-01,\n",
       "          9.33826550e-04,   4.57318059e-02,   8.72668015e-02,\n",
       "          2.67020097e-02,   6.14184111e-03,   2.27958494e-01,\n",
       "          3.77517992e-01,   4.00622085e-01,   2.02594632e-01,\n",
       "          2.06808638e-01,   1.63863945e-01,   1.11964887e-02,\n",
       "          3.55080830e-02,   2.38019037e-01,   2.47114759e-01,\n",
       "          4.57135171e-01,   5.75615106e-02,   1.86365233e-02,\n",
       "          1.72184454e-01,   2.04274677e-01,   2.34590064e-01,\n",
       "          9.04437827e-02,   4.71225254e-01,   1.19786233e-01,\n",
       "          3.24753293e-01,   2.51497690e-01,   5.04679769e-01,\n",
       "          1.12397314e-01,   1.44231773e-01,   1.12971499e-02,\n",
       "          4.38801798e-01,   4.92982779e-01,   7.38370279e-01,\n",
       "          2.14737763e-01,   3.07819495e-01,   1.02024123e-01,\n",
       "          2.85260491e-01,   1.58901554e-01,   6.31512725e-01,\n",
       "          3.60501369e-01,   2.40458259e-01,   3.79864744e-01,\n",
       "          6.45762674e-01,   3.67861143e-01,   1.32729987e-01,\n",
       "          1.95292634e-01],\n",
       "       [  5.99059757e-01,   4.82978031e-01,   2.43065822e-01,\n",
       "          7.23217623e-01,   2.57174372e-01,   1.00706802e+00,\n",
       "          7.27351562e-01,   5.78652270e-01,   5.43945536e-03,\n",
       "          6.60268744e-01,   4.73668198e-01,   1.57648199e-01,\n",
       "          8.73440037e-01,   4.26337492e-02,   4.65815176e-01,\n",
       "          9.15774329e-01,   1.75128639e-01,   2.84883313e-01,\n",
       "          8.38395977e-01,   3.84416621e-01,   1.71493256e-01,\n",
       "          1.05761091e-01,   4.45600509e-01,   1.43492258e-01,\n",
       "          2.20849265e-01,   9.91310929e-01,   4.65316800e-02,\n",
       "          8.40007621e-02,   7.70727209e-01,   1.45627137e-01,\n",
       "          3.54630317e-02,   0.00000000e+00,   1.80420376e-01,\n",
       "          7.50806081e-01,   3.34957182e-02,   1.17114416e-02,\n",
       "          1.00180774e+00,   4.92197557e-02,   6.88907581e-02,\n",
       "          2.47598858e-01,   4.72174426e-02,   2.01656689e-01,\n",
       "          1.82294660e-01,   4.30786190e-02,   1.52593128e-01,\n",
       "          8.93388791e-01,   9.11003301e-01,   6.11645243e-01,\n",
       "          5.72152596e-01,   2.08759990e-01,   1.77601393e-01,\n",
       "          1.74822432e-01,   1.68009612e-01,   2.45450023e-01,\n",
       "          4.77256397e-02,   6.41326792e-02,   1.77813331e-01,\n",
       "          4.97858441e-03,   5.11006386e-02,   1.57110007e-01,\n",
       "          4.24431860e-01,   6.66136476e-01,   1.26541569e-01,\n",
       "          4.05539247e-01,   8.33589201e-02,   8.58175185e-02,\n",
       "          1.01256589e-01,   2.59744378e-01,   4.63014345e-01,\n",
       "          7.43991966e-01,   8.57005590e-02,   8.59959111e-02,\n",
       "          2.21504933e-01,   3.87202107e-01,   2.48678878e-01,\n",
       "          1.34265542e-01,   6.05221657e-01,   2.73577975e-01,\n",
       "          2.96025831e-01,   2.20143160e-01,   5.89935323e-01,\n",
       "          1.64160781e-01,   6.29357600e-02,   1.35072972e-02,\n",
       "          7.20929085e-01,   6.88910585e-01,   8.94868949e-01,\n",
       "          3.93647088e-01,   3.15567359e-01,   2.25643572e-01,\n",
       "          4.26002461e-01,   2.00736526e-01,   9.45989431e-01,\n",
       "          6.21973798e-01,   3.69633158e-01,   6.43055303e-01,\n",
       "          9.27301921e-01,   6.10425837e-01,   2.95511832e-01,\n",
       "          3.88621255e-01],\n",
       "       [  7.99750739e-01,   9.11889091e-01,   2.38371141e-01,\n",
       "          1.12918162e+00,   6.40402294e-01,   7.72921372e-01,\n",
       "          8.72105293e-01,   4.59509118e-01,   1.49926455e-01,\n",
       "          7.44260374e-01,   5.50037989e-01,   3.90578586e-01,\n",
       "          9.23304227e-01,   3.53534820e-01,   4.54415226e-01,\n",
       "          8.43181741e-01,   1.66976804e-02,   6.10153818e-01,\n",
       "          8.25100029e-01,   4.68561981e-01,   6.85508777e-01,\n",
       "          3.92101635e-01,   5.10103560e-01,   3.20618316e-02,\n",
       "          3.80716618e-01,   1.29468044e+00,   1.61103706e-01,\n",
       "          4.98519032e-01,   1.21766513e+00,   6.25221456e-01,\n",
       "          2.65171103e-01,   1.80420376e-01,   0.00000000e+00,\n",
       "          8.44073238e-01,   3.00103669e-01,   1.04408171e-01,\n",
       "          1.25829487e+00,   2.21909468e-01,   1.05988107e-01,\n",
       "          4.53479335e-01,   3.49742950e-01,   1.04640098e-01,\n",
       "          1.01582815e-03,   1.59795724e-01,   2.36934219e-02,\n",
       "          1.22003722e+00,   8.18955104e-01,   1.03881707e+00,\n",
       "          8.14487635e-01,   6.87891461e-03,   5.43838412e-01,\n",
       "          4.44715876e-03,   1.90692059e-01,   7.22142547e-01,\n",
       "          2.89663969e-01,   1.13073941e-01,   6.53235404e-01,\n",
       "          2.43759332e-01,   2.27436422e-01,   1.72434286e-03,\n",
       "          1.66130202e-01,   9.21609145e-01,   4.76985606e-03,\n",
       "          8.59791150e-01,   2.00958848e-02,   3.58636229e-01,\n",
       "          2.14279896e-01,   8.67135491e-02,   9.25325848e-01,\n",
       "          1.06131838e+00,   1.17054951e-01,   4.24404429e-01,\n",
       "          1.26802078e-01,   5.36912429e-01,   7.47845936e-02,\n",
       "          6.12175168e-01,   3.90480118e-01,   4.68173001e-01,\n",
       "          4.16394373e-02,   2.43205319e-02,   2.90125949e-01,\n",
       "          1.36510263e-01,   3.42053093e-02,   2.67934739e-01,\n",
       "          1.04170893e+00,   5.79083436e-01,   5.64612058e-01,\n",
       "          5.09700201e-01,   8.15784039e-02,   6.92268313e-01,\n",
       "          3.61052702e-01,   1.12996293e-01,   1.13715499e+00,\n",
       "          9.92448336e-01,   3.22959398e-01,   9.34456840e-01,\n",
       "          9.49897004e-01,   7.77216956e-01,   5.03901704e-01,\n",
       "          6.14868506e-01],\n",
       "       [  2.35200411e-02,   2.08996583e-01,   1.88145533e-01,\n",
       "          1.38242234e-01,   2.87054130e-01,   1.48813487e-01,\n",
       "          3.74681286e-03,   9.72531751e-02,   6.43600449e-01,\n",
       "          3.23218334e-03,   3.39383686e-02,   2.46227695e-01,\n",
       "          6.38787554e-03,   5.87493331e-01,   6.19757043e-02,\n",
       "          4.05233318e-02,   6.26239580e-01,   2.00338244e-01,\n",
       "          1.64317429e-02,   6.30299194e-02,   7.76603333e-01,\n",
       "          3.65295122e-01,   4.39778618e-02,   5.49199418e-01,\n",
       "          1.59084319e-01,   7.67107326e-02,   4.35030478e-01,\n",
       "          7.36816950e-01,   1.74958274e-01,   7.15763774e-01,\n",
       "          4.89883186e-01,   7.50806081e-01,   8.44073238e-01,\n",
       "          0.00000000e+00,   5.43000215e-01,   7.97042965e-01,\n",
       "          5.55455491e-02,   4.16713246e-01,   4.39088211e-01,\n",
       "          1.49854717e-01,   5.47085283e-01,   3.55066827e-01,\n",
       "          7.90922577e-01,   4.45466475e-01,   5.85239462e-01,\n",
       "          8.02318460e-02,   4.90731706e-02,   1.72514540e-01,\n",
       "          4.23487968e-02,   7.31289810e-01,   3.53425325e-01,\n",
       "          9.53837610e-01,   2.51903311e-01,   4.62297603e-01,\n",
       "          4.58716134e-01,   4.38254282e-01,   5.88225346e-01,\n",
       "          7.42179128e-01,   4.12015441e-01,   7.76466275e-01,\n",
       "          3.85867343e-01,   3.88603283e-02,   8.01061536e-01,\n",
       "          2.77397525e-01,   8.31771345e-01,   3.90873730e-01,\n",
       "          3.05505560e-01,   4.18678761e-01,   2.59652267e-01,\n",
       "          6.97332165e-02,   3.97270300e-01,   4.84793418e-01,\n",
       "          3.18213737e-01,   6.16268811e-02,   4.43512679e-01,\n",
       "          7.71305568e-01,   1.87539323e-01,   1.28211046e-01,\n",
       "          6.24242306e-01,   6.13537491e-01,   3.29981638e-01,\n",
       "          3.09317089e-01,   8.46140136e-01,   6.49810026e-01,\n",
       "          7.24832501e-02,   6.79644651e-02,   2.65443791e-01,\n",
       "          5.71612130e-02,   4.86918149e-01,   4.69327433e-01,\n",
       "          1.10363736e-01,   3.39643432e-01,   2.58559988e-02,\n",
       "          1.17324119e-01,   1.25948057e-01,   5.91857510e-02,\n",
       "          1.40572570e-02,   1.37731640e-02,   1.19350957e-01,\n",
       "          8.17867976e-02],\n",
       "       [  3.92031141e-01,   2.65067647e-01,   1.86046629e-01,\n",
       "          4.56711133e-01,   1.05924420e-01,   8.72443230e-01,\n",
       "          5.09862166e-01,   4.78359476e-01,   2.91117961e-02,\n",
       "          4.71675910e-01,   3.25693689e-01,   5.91160503e-02,\n",
       "          6.57276803e-01,   2.92380244e-03,   3.48911715e-01,\n",
       "          7.32644898e-01,   2.50991082e-01,   1.29697137e-01,\n",
       "          6.48001763e-01,   2.55203851e-01,   8.52505333e-02,\n",
       "          2.24537334e-02,   3.07714303e-01,   1.98080506e-01,\n",
       "          1.16275620e-01,   6.95339614e-01,   3.44283176e-02,\n",
       "          3.42235555e-02,   4.90771078e-01,   6.28861570e-02,\n",
       "          2.60665312e-03,   3.34957182e-02,   3.00103669e-01,\n",
       "          5.43000215e-01,   0.00000000e+00,   7.60235829e-02,\n",
       "          7.13433641e-01,   1.70309705e-02,   7.53651445e-02,\n",
       "          1.23697610e-01,   1.90083132e-03,   2.07519232e-01,\n",
       "          2.92478104e-01,   3.28300911e-02,   2.16870242e-01,\n",
       "          6.08821335e-01,   7.35711129e-01,   3.64986673e-01,\n",
       "          3.61493579e-01,   3.09502494e-01,   5.69742013e-02,\n",
       "          3.12100614e-01,   1.27856275e-01,   1.00980029e-01,\n",
       "          3.73629644e-03,   6.79664058e-02,   6.79697047e-02,\n",
       "          1.96305899e-02,   1.67203860e-02,   2.61900964e-01,\n",
       "          4.41727105e-01,   4.34521265e-01,   2.31632592e-01,\n",
       "          2.06311997e-01,   1.85055086e-01,   1.43773080e-02,\n",
       "          5.69698279e-02,   2.87991468e-01,   2.48200423e-01,\n",
       "          4.86640200e-01,   8.34127987e-02,   1.26807432e-02,\n",
       "          2.16677511e-01,   2.38783909e-01,   2.83524750e-01,\n",
       "          6.38435495e-02,   5.43130930e-01,   1.44423722e-01,\n",
       "          3.77153293e-01,   2.96317422e-01,   5.79724972e-01,\n",
       "          1.49027735e-01,   1.61066687e-01,   5.89008191e-03,\n",
       "          4.67174701e-01,   5.61288924e-01,   8.27821865e-01,\n",
       "          2.52775552e-01,   3.63179198e-01,   8.87598765e-02,\n",
       "          3.39794315e-01,   2.01419084e-01,   6.80636516e-01,\n",
       "          3.79682413e-01,   2.91016917e-01,   4.09006776e-01,\n",
       "          7.10640094e-01,   4.09206003e-01,   1.57021031e-01,\n",
       "          2.21967184e-01],\n",
       "       [  6.65793452e-01,   5.95920738e-01,   2.38410954e-01,\n",
       "          8.42075757e-01,   3.47161679e-01,   9.74775160e-01,\n",
       "          7.85549661e-01,   5.61182052e-01,   1.23273889e-02,\n",
       "          7.00637838e-01,   5.03937886e-01,   2.07521960e-01,\n",
       "          9.13105104e-01,   9.50018331e-02,   4.72598994e-01,\n",
       "          9.24864601e-01,   1.12660013e-01,   3.64559671e-01,\n",
       "          8.60435557e-01,   4.12194068e-01,   2.72819121e-01,\n",
       "          1.62671795e-01,   4.71443469e-01,   9.45855894e-02,\n",
       "          2.57954122e-01,   1.09669867e+00,   5.52698512e-02,\n",
       "          1.58438483e-01,   9.00325029e-01,   2.39588097e-01,\n",
       "          7.07576422e-02,   1.17114416e-02,   1.04408171e-01,\n",
       "          7.97042965e-01,   7.60235829e-02,   0.00000000e+00,\n",
       "          1.09656328e+00,   7.34054966e-02,   5.87786708e-02,\n",
       "          2.97662006e-01,   9.91662567e-02,   1.65879029e-01,\n",
       "          1.08136530e-01,   5.18351325e-02,   9.82670335e-02,\n",
       "          1.00083014e+00,   9.14685653e-01,   7.30363844e-01,\n",
       "          6.47667794e-01,   1.32645871e-01,   2.57811792e-01,\n",
       "          9.70025247e-02,   1.65035657e-01,   3.51973334e-01,\n",
       "          8.77389400e-02,   5.68599343e-02,   2.76732457e-01,\n",
       "          3.19203490e-02,   7.64534646e-02,   8.90783683e-02,\n",
       "          3.55202438e-01,   7.48632814e-01,   6.49114947e-02,\n",
       "          5.19384945e-01,   3.37040442e-02,   1.37605059e-01,\n",
       "          1.16537451e-01,   2.04588228e-01,   5.81723178e-01,\n",
       "          8.43855616e-01,   7.63462570e-02,   1.50797588e-01,\n",
       "          1.88444448e-01,   4.31672498e-01,   1.91954080e-01,\n",
       "          2.25284069e-01,   5.61244102e-01,   3.22586991e-01,\n",
       "          2.13981954e-01,   1.50416303e-01,   5.18568569e-01,\n",
       "          1.46187672e-01,   2.06807095e-02,   4.81918809e-02,\n",
       "          8.20692351e-01,   6.79040959e-01,   8.29726519e-01,\n",
       "          4.30039774e-01,   2.44570485e-01,   3.28617969e-01,\n",
       "          4.15962170e-01,   1.67844094e-01,   1.02328781e+00,\n",
       "          7.28858937e-01,   3.61494435e-01,   7.32979438e-01,\n",
       "          9.61827995e-01,   6.69404540e-01,   3.49158645e-01,\n",
       "          4.51688871e-01],\n",
       "       [  5.41627074e-02,   1.75502944e-01,   4.02152176e-01,\n",
       "          6.66710561e-02,   3.24179808e-01,   3.47958460e-01,\n",
       "          3.83457917e-02,   2.99756664e-01,   8.94362607e-01,\n",
       "          7.82044789e-02,   1.47124136e-01,   3.66408881e-01,\n",
       "          6.47876069e-02,   7.41803167e-01,   2.23919282e-01,\n",
       "          1.57705659e-01,   9.95954202e-01,   2.47748154e-01,\n",
       "          1.12973728e-01,   1.91174722e-01,   8.40813528e-01,\n",
       "          4.86391130e-01,   1.69031404e-01,   8.88650371e-01,\n",
       "          2.91262954e-01,   3.18530176e-03,   6.60863643e-01,\n",
       "          8.57413511e-01,   8.15709894e-02,   7.91314457e-01,\n",
       "          6.69682840e-01,   1.00180774e+00,   1.25829487e+00,\n",
       "          5.55455491e-02,   7.13433641e-01,   1.09656328e+00,\n",
       "          0.00000000e+00,   6.10698729e-01,   7.00030882e-01,\n",
       "          2.53749282e-01,   6.98367030e-01,   6.47420917e-01,\n",
       "          1.19683618e+00,   6.72450538e-01,   9.37535361e-01,\n",
       "          1.13777342e-02,   1.77914609e-01,   1.13674760e-01,\n",
       "          5.98144625e-02,   1.13365316e+00,   4.22040345e-01,\n",
       "          1.38143185e+00,   4.74499033e-01,   4.83225808e-01,\n",
       "          6.25625288e-01,   6.94008285e-01,   6.40484213e-01,\n",
       "          9.62387938e-01,   6.03168331e-01,   1.17137739e+00,\n",
       "          7.26900644e-01,   3.44168901e-02,   1.18823124e+00,\n",
       "          2.54606637e-01,   1.20195624e+00,   5.25825909e-01,\n",
       "          5.02868967e-01,   7.49205519e-01,   2.20973891e-01,\n",
       "          2.74879334e-02,   6.51729970e-01,   6.02435279e-01,\n",
       "          6.00437421e-01,   1.56937842e-01,   7.80158221e-01,\n",
       "          8.58296485e-01,   4.47056155e-01,   2.30087861e-01,\n",
       "          1.02154121e+00,   9.92442052e-01,   6.56259181e-01,\n",
       "          5.66327400e-01,   1.20490110e+00,   8.46335241e-01,\n",
       "          3.26385375e-02,   2.43759145e-01,   5.48046932e-01,\n",
       "          1.67255163e-01,   8.49323693e-01,   4.99452727e-01,\n",
       "          3.12573746e-01,   6.25145276e-01,   6.50550309e-03,\n",
       "          7.59087764e-02,   3.30605787e-01,   4.39999367e-02,\n",
       "          7.85085041e-02,   5.76993693e-02,   2.09574156e-01,\n",
       "          1.42518067e-01],\n",
       "       [  3.05738635e-01,   2.58037146e-01,   9.22549473e-02,\n",
       "          4.19089942e-01,   1.12382901e-01,   6.58651854e-01,\n",
       "          3.98165991e-01,   3.22635056e-01,   2.71039965e-02,\n",
       "          3.50712731e-01,   2.20409106e-01,   3.41123376e-02,\n",
       "          5.11169019e-01,   3.34704699e-02,   2.25383915e-01,\n",
       "          5.56387508e-01,   1.60962165e-01,   1.12976733e-01,\n",
       "          4.90318285e-01,   1.61329663e-01,   1.69565125e-01,\n",
       "          2.40899382e-02,   2.02643370e-01,   1.15710431e-01,\n",
       "          6.15604680e-02,   6.06446271e-01,   5.09496791e-03,\n",
       "          9.84231286e-02,   4.62146901e-01,   1.36093067e-01,\n",
       "          6.31219732e-03,   4.92197557e-02,   2.21909468e-01,\n",
       "          4.16713246e-01,   1.70309705e-02,   7.34054966e-02,\n",
       "          6.10698729e-01,   0.00000000e+00,   2.59001075e-02,\n",
       "          7.71631050e-02,   2.68044339e-02,   1.08286071e-01,\n",
       "          2.09642398e-01,   5.13269768e-03,   1.32464575e-01,\n",
       "          5.33709687e-01,   5.55842240e-01,   3.44227009e-01,\n",
       "          2.88915501e-01,   2.14766417e-01,   7.11035921e-02,\n",
       "          2.45623092e-01,   5.18451038e-02,   1.45014542e-01,\n",
       "          6.88676045e-03,   2.16697712e-02,   1.27298762e-01,\n",
       "          4.83118383e-02,   3.72112827e-05,   1.86165251e-01,\n",
       "          2.88182538e-01,   3.57250997e-01,   1.68437417e-01,\n",
       "          2.17137894e-01,   1.41904807e-01,   1.64262170e-02,\n",
       "          1.24137677e-02,   1.70898551e-01,   2.54904707e-01,\n",
       "          4.20478330e-01,   2.78396527e-02,   3.80794880e-02,\n",
       "          1.13431631e-01,   1.60360840e-01,   1.69117247e-01,\n",
       "          1.42036901e-01,   3.69520769e-01,   9.13333712e-02,\n",
       "          2.54112571e-01,   1.92632500e-01,   3.98341894e-01,\n",
       "          6.58333933e-02,   1.29036284e-01,   3.02072699e-02,\n",
       "          4.03924865e-01,   3.96560986e-01,   6.09328870e-01,\n",
       "          1.65368139e-01,   2.32407666e-01,   1.32532858e-01,\n",
       "          2.10479796e-01,   1.03250864e-01,   5.64277384e-01,\n",
       "          3.39988922e-01,   1.71902601e-01,   3.43886927e-01,\n",
       "          5.54242715e-01,   3.13048456e-01,   1.04770754e-01,\n",
       "          1.63485400e-01],\n",
       "       [  3.64904413e-01,   3.97059559e-01,   6.05888407e-02,\n",
       "          5.56803888e-01,   2.26698626e-01,   5.58674544e-01,\n",
       "          4.39534374e-01,   2.57513370e-01,   3.57619503e-02,\n",
       "          3.67303212e-01,   2.28887866e-01,   8.96762003e-02,\n",
       "          5.19767131e-01,   1.07858141e-01,   1.99514575e-01,\n",
       "          5.18458383e-01,   5.85203992e-02,   2.07918721e-01,\n",
       "          4.73737883e-01,   1.69941373e-01,   3.20008665e-01,\n",
       "          9.59388711e-02,   2.05681848e-01,   3.22890211e-02,\n",
       "          9.28471497e-02,   7.12908290e-01,   8.31719628e-03,\n",
       "          2.09760981e-01,   6.15752968e-01,   2.74240616e-01,\n",
       "          5.18862100e-02,   6.88907581e-02,   1.05988107e-01,\n",
       "          4.39088211e-01,   7.53651445e-02,   5.87786708e-02,\n",
       "          7.00030882e-01,   2.59001075e-02,   0.00000000e+00,\n",
       "          1.26867715e-01,   9.90737629e-02,   3.64057510e-02,\n",
       "          9.47111126e-02,   8.84079860e-03,   4.17326531e-02,\n",
       "          6.46624665e-01,   5.10170819e-01,   4.86540455e-01,\n",
       "          3.62875445e-01,   9.40360084e-02,   1.75441654e-01,\n",
       "          1.30772005e-01,   2.73007598e-02,   2.90514718e-01,\n",
       "          5.81672070e-02,   1.94758940e-04,   2.67679128e-01,\n",
       "          9.05761229e-02,   2.74860152e-02,   8.08566422e-02,\n",
       "          1.59360662e-01,   4.38557683e-01,   7.46333191e-02,\n",
       "          3.62336885e-01,   6.86553624e-02,   8.20258064e-02,\n",
       "          1.94571013e-02,   6.98826033e-02,   4.04980066e-01,\n",
       "          5.26510441e-01,   1.15220268e-03,   1.26460249e-01,\n",
       "          4.37918833e-02,   1.94089257e-01,   6.69122040e-02,\n",
       "          2.77939593e-01,   2.66397625e-01,   1.37872370e-01,\n",
       "          1.18001681e-01,   7.73059618e-02,   2.58984042e-01,\n",
       "          2.06174464e-02,   6.81296743e-02,   8.08576595e-02,\n",
       "          5.10656527e-01,   3.38335409e-01,   4.67201038e-01,\n",
       "          1.86515863e-01,   1.07835734e-01,   2.73549039e-01,\n",
       "          1.62066404e-01,   3.52572445e-02,   6.28060317e-01,\n",
       "          4.62238344e-01,   1.28739452e-01,   4.37862917e-01,\n",
       "          5.53542377e-01,   3.59785260e-01,   1.57310584e-01,\n",
       "          2.25967831e-01],\n",
       "       [  7.67286019e-02,   8.68072558e-02,   6.44064275e-02,\n",
       "          1.52334728e-01,   4.60095939e-02,   4.12841484e-01,\n",
       "          1.31291471e-01,   1.77827732e-01,   1.95556061e-01,\n",
       "          1.15396429e-01,   5.58432911e-02,   1.19301915e-02,\n",
       "          2.14496156e-01,   1.43944449e-01,   8.71395937e-02,\n",
       "          2.77811780e-01,   3.20873814e-01,   1.98336408e-02,\n",
       "          2.18743296e-01,   3.32761135e-02,   2.64933947e-01,\n",
       "          4.75163367e-02,   5.22659954e-02,   2.53157209e-01,\n",
       "          3.68265949e-03,   2.51685621e-01,   9.88049533e-02,\n",
       "          2.25874408e-01,   1.85009412e-01,   2.26106359e-01,\n",
       "          1.01614314e-01,   2.47598858e-01,   4.53479335e-01,\n",
       "          1.49854717e-01,   1.23697610e-01,   2.97662006e-01,\n",
       "          2.53749282e-01,   7.71631050e-02,   1.26867715e-01,\n",
       "          0.00000000e+00,   1.24314053e-01,   1.62648790e-01,\n",
       "          4.23769061e-01,   1.02919334e-01,   2.81477861e-01,\n",
       "          2.07436410e-01,   2.84816057e-01,   1.20502256e-01,\n",
       "          6.74791696e-02,   4.04857854e-01,   5.42551997e-02,\n",
       "          5.12368453e-01,   6.37359660e-02,   1.22591733e-01,\n",
       "          8.62376322e-02,   1.21887901e-01,   1.66962776e-01,\n",
       "          2.32468300e-01,   7.44806115e-02,   3.99340441e-01,\n",
       "          3.08468556e-01,   1.02435438e-01,   3.93558425e-01,\n",
       "          8.82376356e-02,   3.80746370e-01,   5.66912395e-02,\n",
       "          4.74912578e-02,   2.39887536e-01,   1.00597083e-01,\n",
       "          1.40180297e-01,   1.11038835e-01,   9.72116240e-02,\n",
       "          1.49278610e-01,   1.98758421e-02,   2.49727381e-01,\n",
       "          2.53720544e-01,   2.61253996e-01,   8.57214545e-04,\n",
       "          3.90975853e-01,   3.40421440e-01,   3.54884480e-01,\n",
       "          1.05822118e-01,   3.73156520e-01,   1.79465075e-01,\n",
       "          1.31293529e-01,   2.05572042e-01,   4.52923052e-01,\n",
       "          2.70899026e-02,   3.15678694e-01,   1.20391448e-01,\n",
       "          1.09488218e-01,   1.51408278e-01,   2.26731291e-01,\n",
       "          1.04913695e-01,   9.08186055e-02,   9.68674389e-02,\n",
       "          2.47418178e-01,   8.30251229e-02,   2.11758888e-03,\n",
       "          1.60418914e-02],\n",
       "       [  3.87270211e-01,   2.40637984e-01,   2.08782104e-01,\n",
       "          4.30787727e-01,   8.99366453e-02,   9.08767717e-01,\n",
       "          5.09004961e-01,   5.07554130e-01,   4.51244106e-02,\n",
       "          4.77871710e-01,   3.35358598e-01,   5.92636521e-02,\n",
       "          6.64374048e-01,   7.20722970e-04,   3.68019181e-01,\n",
       "          7.52195716e-01,   2.95747139e-01,   1.18236273e-01,\n",
       "          6.62132203e-01,   2.65535245e-01,   6.29681723e-02,\n",
       "          1.92398024e-02,   3.19067173e-01,   2.37456238e-01,\n",
       "          1.22054589e-01,   6.75857951e-01,   5.04201379e-02,\n",
       "          2.27322619e-02,   4.60513293e-01,   4.37003009e-02,\n",
       "          7.60938383e-03,   4.72174426e-02,   3.49742950e-01,\n",
       "          5.47085283e-01,   1.90083132e-03,   9.91662567e-02,\n",
       "          6.98367030e-01,   2.68044339e-02,   9.90737629e-02,\n",
       "          1.24314053e-01,   0.00000000e+00,   2.42296736e-01,\n",
       "          3.41524845e-01,   4.87737669e-02,   2.58370212e-01,\n",
       "          5.88207644e-01,   7.57421402e-01,   3.38692741e-01,\n",
       "          3.53028727e-01,   3.59596625e-01,   4.45334863e-02,\n",
       "          3.62136827e-01,   1.49501755e-01,   7.77221629e-02,\n",
       "          6.94796749e-03,   9.05092523e-02,   4.72361193e-02,\n",
       "          2.72005972e-02,   2.60386672e-02,   3.08425677e-01,\n",
       "          4.90666122e-01,   4.23503918e-01,   2.75393280e-01,\n",
       "          1.81088007e-01,   2.23731036e-01,   1.31127369e-02,\n",
       "          7.08416091e-02,   3.30630715e-01,   2.21219782e-01,\n",
       "          4.68700165e-01,   1.06985104e-01,   5.85092920e-03,\n",
       "          2.50516509e-01,   2.42341400e-01,   3.26696532e-01,\n",
       "          4.56578866e-02,   5.82914940e-01,   1.45608210e-01,\n",
       "          4.30227283e-01,   3.44193243e-01,   6.30181433e-01,\n",
       "          1.76591345e-01,   1.96632467e-01,   1.06079842e-02,\n",
       "          4.49199857e-01,   5.87802515e-01,   8.76830317e-01,\n",
       "          2.59648830e-01,   4.12221792e-01,   6.68661318e-02,\n",
       "          3.65482893e-01,   2.35066145e-01,   6.72590214e-01,\n",
       "          3.58391069e-01,   3.15721664e-01,   3.94842652e-01,\n",
       "          7.19961811e-01,   4.07659556e-01,   1.56410329e-01,\n",
       "          2.17909455e-01],\n",
       "       [  3.39406277e-01,   4.87076333e-01,   2.97730297e-02,\n",
       "          6.00249774e-01,   3.38954568e-01,   3.49429878e-01,\n",
       "          3.76488042e-01,   1.34487782e-01,   1.42224145e-01,\n",
       "          2.91791825e-01,   1.77837168e-01,   1.57902726e-01,\n",
       "          4.06441992e-01,   2.59545570e-01,   1.22952550e-01,\n",
       "          3.62282137e-01,   3.82129481e-02,   2.86126082e-01,\n",
       "          3.44453309e-01,   1.36285648e-01,   5.48581760e-01,\n",
       "          2.03701111e-01,   1.55323610e-01,   2.23817098e-02,\n",
       "          1.17391599e-01,   6.80256178e-01,   7.34668317e-02,\n",
       "          4.10288331e-01,   6.71850858e-01,   4.86700049e-01,\n",
       "          1.64575254e-01,   2.01656689e-01,   1.04640098e-01,\n",
       "          3.55066827e-01,   2.07519232e-01,   1.65879029e-01,\n",
       "          6.47420917e-01,   1.08286071e-01,   3.64057510e-02,\n",
       "          1.62648790e-01,   2.42296736e-01,   0.00000000e+00,\n",
       "          8.62168408e-02,   7.64529689e-02,   2.92131233e-02,\n",
       "          6.34558533e-01,   3.49007767e-01,   5.55394789e-01,\n",
       "          3.57298626e-01,   6.77812253e-02,   3.00070135e-01,\n",
       "          1.47222975e-01,   2.31251356e-02,   4.57982925e-01,\n",
       "          1.69625083e-01,   4.11349993e-02,   4.58820633e-01,\n",
       "          2.41582878e-01,   1.10298104e-01,   8.25433647e-02,\n",
       "          4.39522949e-02,   4.25328957e-01,   9.46725292e-02,\n",
       "          4.79173284e-01,   1.17883399e-01,   1.90838636e-01,\n",
       "          6.11305146e-02,   8.19917166e-03,   5.15201305e-01,\n",
       "          5.28558928e-01,   2.82944930e-02,   2.69352799e-01,\n",
       "          1.11467521e-03,   1.82308202e-01,   9.40487890e-03,\n",
       "          4.98155962e-01,   1.18652134e-01,   1.63867321e-01,\n",
       "          4.96110696e-02,   3.70376430e-02,   1.01824386e-01,\n",
       "          6.87847781e-03,   1.33486817e-01,   2.24642957e-01,\n",
       "          5.17099515e-01,   2.01112340e-01,   2.53625394e-01,\n",
       "          1.61878992e-01,   2.68760128e-02,   4.40920488e-01,\n",
       "          7.81971748e-02,   2.13914348e-04,   5.56391342e-01,\n",
       "          5.03565470e-01,   6.00745048e-02,   4.42313156e-01,\n",
       "          4.25149392e-01,   3.20077785e-01,   1.84182516e-01,\n",
       "          2.42665062e-01],\n",
       "       [  7.52384213e-01,   8.74189794e-01,   2.11628525e-01,\n",
       "          1.08011843e+00,   6.14253256e-01,   7.17941428e-01,\n",
       "          8.19623825e-01,   4.17727367e-01,   1.47865920e-01,\n",
       "          6.94642395e-01,   5.08515787e-01,   3.67589376e-01,\n",
       "          8.66134447e-01,   3.46927554e-01,   4.14797937e-01,\n",
       "          7.86512146e-01,   9.69984664e-03,   5.80148621e-01,\n",
       "          7.70014175e-01,   4.31370382e-01,   6.79799135e-01,\n",
       "          3.75091435e-01,   4.70070158e-01,   2.30744412e-02,\n",
       "          3.52640475e-01,   1.23408632e+00,   1.49995811e-01,\n",
       "          4.95228752e-01,   1.16793337e+00,   6.18442851e-01,\n",
       "          2.55748241e-01,   1.82294660e-01,   1.01582815e-03,\n",
       "          7.90922577e-01,   2.92478104e-01,   1.08136530e-01,\n",
       "          1.19683618e+00,   2.09642398e-01,   9.47111126e-02,\n",
       "          4.23769061e-01,   3.41524845e-01,   8.62168408e-02,\n",
       "          0.00000000e+00,   1.49187990e-01,   1.58181102e-02,\n",
       "          1.16304623e+00,   7.62906408e-01,   9.95014558e-01,\n",
       "          7.68541144e-01,   2.81053962e-03,   5.23204457e-01,\n",
       "          9.66832913e-03,   1.68909320e-01,   7.02302511e-01,\n",
       "          2.78552857e-01,   1.01864500e-01,   6.40570402e-01,\n",
       "          2.44746825e-01,   2.14901847e-01,   9.35780532e-04,\n",
       "          1.41657706e-01,   8.71967526e-01,   5.80309654e-03,\n",
       "          8.27325224e-01,   2.34809611e-02,   3.43400231e-01,\n",
       "          1.96360342e-01,   6.89937462e-02,   8.90021999e-01,\n",
       "          1.00953125e+00,   1.03644968e-01,   4.12208691e-01,\n",
       "          1.06264276e-01,   4.99135415e-01,   5.83996288e-02,\n",
       "          6.07884709e-01,   3.51684932e-01,   4.36773572e-01,\n",
       "          3.07212572e-02,   1.54311692e-02,   2.57728986e-01,\n",
       "          1.17326125e-01,   3.86518979e-02,   2.65083808e-01,\n",
       "          9.90854863e-01,   5.32073831e-01,   5.18735310e-01,\n",
       "          4.71740130e-01,   6.47184156e-02,   6.73487966e-01,\n",
       "          3.25052507e-01,   9.39751707e-02,   1.07709245e+00,\n",
       "          9.46592129e-01,   2.89503321e-01,   8.86186524e-01,\n",
       "          8.91195933e-01,   7.29291228e-01,   4.71271591e-01,\n",
       "          5.77283015e-01],\n",
       "       [  3.46272473e-01,   3.25913540e-01,   8.22839578e-02,\n",
       "          4.93394901e-01,   1.62876214e-01,   6.37545210e-01,\n",
       "          4.34422839e-01,   3.07952802e-01,   1.87885947e-02,\n",
       "          3.74887713e-01,   2.36235839e-01,   5.81854578e-02,\n",
       "          5.36648078e-01,   5.53339474e-02,   2.25729275e-01,\n",
       "          5.62172371e-01,   1.09382995e-01,   1.57763727e-01,\n",
       "          5.04026950e-01,   1.74554194e-01,   2.22569157e-01,\n",
       "          5.12796236e-02,   2.15289569e-01,   7.32777251e-02,\n",
       "          7.86393738e-02,   6.74805286e-01,   6.67524831e-05,\n",
       "          1.33647660e-01,   5.43484165e-01,   1.84629533e-01,\n",
       "          1.78973029e-02,   4.30786190e-02,   1.59795724e-01,\n",
       "          4.45466475e-01,   3.28300911e-02,   5.18351325e-02,\n",
       "          6.72450538e-01,   5.13269768e-03,   8.84079860e-03,\n",
       "          1.02919334e-01,   4.87737669e-02,   7.64529689e-02,\n",
       "          1.49187990e-01,   0.00000000e+00,   8.63032219e-02,\n",
       "          6.02546392e-01,   5.58019964e-01,   4.17220144e-01,\n",
       "          3.34742413e-01,   1.53768880e-01,   1.14054862e-01,\n",
       "          1.81374585e-01,   4.17978783e-02,   2.04630272e-01,\n",
       "          2.18857005e-02,   6.41288086e-03,   1.80377970e-01,\n",
       "          5.21292088e-02,   5.97939175e-03,   1.29581008e-01,\n",
       "          2.36334986e-01,   4.08406816e-01,   1.15528939e-01,\n",
       "          2.84376370e-01,   9.61178903e-02,   3.99230979e-02,\n",
       "          1.31579259e-02,   1.26493349e-01,   3.25916671e-01,\n",
       "          4.83253534e-01,   1.17612400e-02,   6.92032178e-02,\n",
       "          8.38297960e-02,   1.84410406e-01,   1.23397403e-01,\n",
       "          1.88111043e-01,   3.37171052e-01,   1.16807134e-01,\n",
       "          1.90909788e-01,   1.36845220e-01,   3.46967229e-01,\n",
       "          4.55778960e-02,   8.77410241e-02,   3.98745731e-02,\n",
       "          4.66418968e-01,   3.87960469e-01,   5.65072257e-01,\n",
       "          1.84287845e-01,   1.77659367e-01,   1.89629861e-01,\n",
       "          1.99211632e-01,   7.34041925e-02,   6.14526404e-01,\n",
       "          4.05881973e-01,   1.61260867e-01,   3.99480326e-01,\n",
       "          5.76786961e-01,   3.48746487e-01,   1.33500224e-01,\n",
       "          1.99398823e-01],\n",
       "       [  5.50131946e-01,   6.70206958e-01,   1.11839985e-01,\n",
       "          8.40550169e-01,   4.57021252e-01,   5.56170876e-01,\n",
       "          6.08348254e-01,   2.83737839e-01,   1.10134505e-01,\n",
       "          5.02537937e-01,   3.45438442e-01,   2.44278029e-01,\n",
       "          6.53276790e-01,   2.68031623e-01,   2.71734636e-01,\n",
       "          5.94153817e-01,   1.42969427e-03,   4.18534689e-01,\n",
       "          5.74012803e-01,   2.82002709e-01,   5.72845411e-01,\n",
       "          2.64164247e-01,   3.13935624e-01,   7.50733580e-04,\n",
       "          2.23028366e-01,   9.70571378e-01,   8.57188777e-02,\n",
       "          4.11857700e-01,   9.19781379e-01,   5.13089045e-01,\n",
       "          1.79614121e-01,   1.52593128e-01,   2.36934219e-02,\n",
       "          5.85239462e-01,   2.16870242e-01,   9.82670335e-02,\n",
       "          9.37535361e-01,   1.32464575e-01,   4.17326531e-02,\n",
       "          2.81477861e-01,   2.58370212e-01,   2.92131233e-02,\n",
       "          1.58181102e-02,   8.63032219e-02,   0.00000000e+00,\n",
       "          9.08360296e-01,   5.75668079e-01,   7.70296689e-01,\n",
       "          5.64789442e-01,   1.12837969e-02,   3.87555848e-01,\n",
       "          4.52765406e-02,   8.19900475e-02,   5.52448048e-01,\n",
       "          1.94733856e-01,   4.73022927e-02,   5.15600735e-01,\n",
       "          2.03044482e-01,   1.36244402e-01,   1.35653441e-02,\n",
       "          8.85702503e-02,   6.53485941e-01,   1.95471236e-02,\n",
       "          6.37465022e-01,   3.63458621e-02,   2.40651751e-01,\n",
       "          1.08881329e-01,   2.60670912e-02,   6.89160336e-01,\n",
       "          7.74181828e-01,   4.42073442e-02,   3.09864159e-01,\n",
       "          4.16294068e-02,   3.37699207e-01,   2.01986860e-02,\n",
       "          5.11351190e-01,   2.42632000e-01,   2.90400398e-01,\n",
       "          2.36751126e-02,   6.38591372e-03,   1.83737688e-01,\n",
       "          4.70671956e-02,   4.98741622e-02,   2.07773736e-01,\n",
       "          7.58186593e-01,   3.78666192e-01,   4.03027755e-01,\n",
       "          3.14835177e-01,   3.40980936e-02,   5.28823841e-01,\n",
       "          2.02647574e-01,   3.34916568e-02,   8.32612664e-01,\n",
       "          7.23501539e-01,   1.73050407e-01,   6.66914212e-01,\n",
       "          6.77250545e-01,   5.30313070e-01,   3.18548143e-01,\n",
       "          4.04769298e-01],\n",
       "       [  4.62465695e-02,   1.03877573e-01,   3.89433130e-01,\n",
       "          2.34720507e-02,   2.36731524e-01,   4.38532275e-01,\n",
       "          5.18626479e-02,   3.40581980e-01,   8.01087282e-01,\n",
       "          9.71617269e-02,   1.50369868e-01,   3.00730801e-01,\n",
       "          1.06210875e-01,   6.26644080e-01,   2.39751817e-01,\n",
       "          2.21261993e-01,   9.70512884e-01,   1.79448098e-01,\n",
       "          1.61943476e-01,   1.83771174e-01,   6.85283064e-01,\n",
       "          3.97927709e-01,   1.71369873e-01,   8.58523186e-01,\n",
       "          2.50202088e-01,   3.85161480e-03,   5.92425618e-01,\n",
       "          7.15600879e-01,   3.20283328e-02,   6.44568420e-01,\n",
       "          5.75867766e-01,   8.93388791e-01,   1.22003722e+00,\n",
       "          8.02318460e-02,   6.08821335e-01,   1.00083014e+00,\n",
       "          1.13777342e-02,   5.33709687e-01,   6.46624665e-01,\n",
       "          2.07436410e-01,   5.88207644e-01,   6.34558533e-01,\n",
       "          1.16304623e+00,   6.02546392e-01,   9.08360296e-01,\n",
       "          0.00000000e+00,   2.43840083e-01,   5.53115921e-02,\n",
       "          4.10019838e-02,   1.11023361e+00,   3.26123549e-01,\n",
       "          1.33236051e+00,   4.46084782e-01,   3.64706727e-01,\n",
       "          5.33071265e-01,   6.38215717e-01,   5.07001748e-01,\n",
       "          8.44794829e-01,   5.26055583e-01,   1.13220176e+00,\n",
       "          7.57403619e-01,   2.09462136e-02,   1.13882881e+00,\n",
       "          1.67092194e-01,   1.13648885e+00,   4.36163922e-01,\n",
       "          4.49158270e-01,   7.49249385e-01,   1.37946581e-01,\n",
       "          6.84868347e-03,   6.03931287e-01,   4.93908416e-01,\n",
       "          5.91617574e-01,   1.38356980e-01,   7.77537081e-01,\n",
       "          7.06597106e-01,   4.99658959e-01,   1.89491766e-01,\n",
       "          1.02258085e+00,   9.78090788e-01,   7.11415661e-01,\n",
       "          5.41939597e-01,   1.13064398e+00,   7.33912371e-01,\n",
       "          9.36806387e-03,   2.93897936e-01,   6.37533949e-01,\n",
       "          1.55436779e-01,   8.59090895e-01,   3.80594958e-01,\n",
       "          3.30883785e-01,   6.11792861e-01,   2.72964920e-02,\n",
       "          3.26357288e-02,   3.40063380e-01,   2.08186221e-02,\n",
       "          1.28341289e-01,   5.73887268e-02,   1.68973194e-01,\n",
       "          1.09035486e-01],\n",
       "       [  1.34455566e-01,   4.48184415e-01,   2.19162046e-01,\n",
       "          3.51953591e-01,   5.16895625e-01,   2.84666190e-02,\n",
       "          7.99235805e-02,   5.16153469e-02,   7.80683318e-01,\n",
       "          5.18453362e-02,   8.84603469e-02,   4.03139910e-01,\n",
       "          2.84300262e-02,   8.04056897e-01,   7.39811579e-02,\n",
       "          6.34158808e-04,   6.02649344e-01,   3.95913264e-01,\n",
       "          8.74185423e-03,   1.26765628e-01,   1.09798117e+00,\n",
       "          5.56721631e-01,   9.42420932e-02,   5.47202997e-01,\n",
       "          2.72525802e-01,   2.24068625e-01,   5.45882985e-01,\n",
       "          1.01031202e+00,   4.08785012e-01,   1.01826907e+00,\n",
       "          6.61573969e-01,   9.11003301e-01,   8.18955104e-01,\n",
       "          4.90731706e-02,   7.35711129e-01,   9.14685653e-01,\n",
       "          1.77914609e-01,   5.55842240e-01,   5.10170819e-01,\n",
       "          2.84816057e-01,   7.57421402e-01,   3.49007767e-01,\n",
       "          7.62906408e-01,   5.58019964e-01,   5.75668079e-01,\n",
       "          2.43840083e-01,   0.00000000e+00,   4.03425289e-01,\n",
       "          1.76270500e-01,   6.89056801e-01,   5.81266674e-01,\n",
       "          9.38940577e-01,   3.02905618e-01,   7.47508114e-01,\n",
       "          6.34608842e-01,   5.15467186e-01,   8.81473542e-01,\n",
       "          9.31106533e-01,   5.52682573e-01,   7.61948507e-01,\n",
       "          2.90118837e-01,   1.75017703e-01,   8.05915491e-01,\n",
       "          5.35862353e-01,   8.69352080e-01,   5.77542784e-01,\n",
       "          4.07320595e-01,   3.74651989e-01,   5.18797272e-01,\n",
       "          2.34880926e-01,   4.62837753e-01,   7.08638924e-01,\n",
       "          3.10776286e-01,   1.58136916e-01,   4.00660980e-01,\n",
       "          1.07596280e+00,   9.66965032e-02,   2.55364089e-01,\n",
       "          5.46902858e-01,   5.68561892e-01,   2.03441963e-01,\n",
       "          3.37761098e-01,   9.02641278e-01,   8.42080963e-01,\n",
       "          2.40524183e-01,   2.07550588e-02,   1.07035657e-01,\n",
       "          1.36261389e-01,   4.12801897e-01,   7.50679394e-01,\n",
       "          9.94011415e-02,   3.37597863e-01,   1.16556547e-01,\n",
       "          3.16794080e-01,   1.27398793e-01,   2.15351644e-01,\n",
       "          2.03196127e-02,   1.06719527e-01,   2.52058892e-01,\n",
       "          2.17614985e-01],\n",
       "       [  7.33296701e-02,   9.16817769e-03,   3.39030720e-01,\n",
       "          7.31082023e-03,   8.03622664e-02,   6.28727691e-01,\n",
       "          1.26314078e-01,   4.16278167e-01,   5.53913583e-01,\n",
       "          1.69348410e-01,   1.72911527e-01,   1.63789940e-01,\n",
       "          2.35568773e-01,   3.64645563e-01,   2.73258513e-01,\n",
       "          3.79684012e-01,   8.34629396e-01,   6.29480039e-02,\n",
       "          2.94642047e-01,   1.76634642e-01,   3.64056722e-01,\n",
       "          2.08771244e-01,   1.87538421e-01,   7.22953409e-01,\n",
       "          1.64961816e-01,   8.82836028e-02,   4.10855514e-01,\n",
       "          4.05146337e-01,   9.34003374e-03,   3.39228893e-01,\n",
       "          3.53219725e-01,   6.11645243e-01,   1.03881707e+00,\n",
       "          1.72514540e-01,   3.64986673e-01,   7.30363844e-01,\n",
       "          1.13674760e-01,   3.44227009e-01,   4.86540455e-01,\n",
       "          1.20502256e-01,   3.38692741e-01,   5.55394789e-01,\n",
       "          9.95014558e-01,   4.17220144e-01,   7.70296689e-01,\n",
       "          5.53115921e-02,   4.03425289e-01,   0.00000000e+00,\n",
       "          4.80558447e-02,   9.67104462e-01,   1.39042434e-01,\n",
       "          1.12166355e+00,   3.56826183e-01,   1.43466017e-01,\n",
       "          3.17973112e-01,   4.74580789e-01,   2.40317561e-01,\n",
       "          5.53336929e-01,   3.37319261e-01,   9.55899773e-01,\n",
       "          7.59318056e-01,   4.81152343e-02,   9.42049368e-01,\n",
       "          3.23180400e-02,   9.09292919e-01,   2.39249379e-01,\n",
       "          3.11455812e-01,   6.85619790e-01,   1.91560068e-02,\n",
       "          3.14140043e-02,   4.58968669e-01,   2.60319920e-01,\n",
       "          5.25335595e-01,   1.17685550e-01,   7.05618395e-01,\n",
       "          3.85826476e-01,   5.81481116e-01,   1.16307363e-01,\n",
       "          9.36984813e-01,   8.64124674e-01,   7.74822965e-01,\n",
       "          4.49359242e-01,   8.87579430e-01,   4.62822991e-01,\n",
       "          2.70706827e-02,   4.00494996e-01,   7.94964865e-01,\n",
       "          1.44798668e-01,   8.06032026e-01,   1.55245101e-01,\n",
       "          3.55417856e-01,   5.34000201e-01,   1.37891650e-01,\n",
       "          5.36132487e-03,   3.43551542e-01,   2.97747112e-02,\n",
       "          2.74651862e-01,   9.69689486e-02,   1.00007201e-01,\n",
       "          6.69820947e-02],\n",
       "       [  2.83290724e-03,   6.32362601e-02,   1.81055349e-01,\n",
       "          4.01282079e-02,   1.20819551e-01,   3.29965787e-01,\n",
       "          2.29808393e-02,   1.87278217e-01,   4.92782205e-01,\n",
       "          3.74162653e-02,   4.38883469e-02,   1.30212452e-01,\n",
       "          7.98822175e-02,   3.84607715e-01,   1.01051100e-01,\n",
       "          1.61934919e-01,   6.14790886e-01,   7.05950273e-02,\n",
       "          1.08478415e-01,   5.52152442e-02,   4.88410034e-01,\n",
       "          2.07466353e-01,   5.37104686e-02,   5.25425913e-01,\n",
       "          8.98330857e-02,   5.90706113e-02,   3.26863294e-01,\n",
       "          4.80763530e-01,   6.25026334e-02,   4.45121480e-01,\n",
       "          3.29389606e-01,   5.72152596e-01,   8.14487635e-01,\n",
       "          4.23487968e-02,   3.61493579e-01,   6.47667794e-01,\n",
       "          5.98144625e-02,   2.88915501e-01,   3.62875445e-01,\n",
       "          6.74791696e-02,   3.53028727e-01,   3.57298626e-01,\n",
       "          7.68541144e-01,   3.34742413e-01,   5.64789442e-01,\n",
       "          4.10019838e-02,   1.76270500e-01,   4.80558447e-02,\n",
       "          0.00000000e+00,   7.27555734e-01,   1.75461214e-01,\n",
       "          9.05990729e-01,   2.16984521e-01,   2.36910433e-01,\n",
       "          2.98965773e-01,   3.57015759e-01,   3.39138545e-01,\n",
       "          5.42877538e-01,   2.83643508e-01,   7.42828963e-01,\n",
       "          4.73848064e-01,   3.65999158e-03,   7.47659542e-01,\n",
       "          1.03710483e-01,   7.46731466e-01,   2.32534867e-01,\n",
       "          2.20953689e-01,   4.49328688e-01,   9.22778169e-02,\n",
       "          1.67175545e-02,   3.30582314e-01,   2.89624930e-01,\n",
       "          3.26644435e-01,   2.92285540e-02,   4.70007573e-01,\n",
       "          4.92948733e-01,   3.06210686e-01,   5.61076037e-02,\n",
       "          6.64893976e-01,   6.23619082e-01,   4.61519915e-01,\n",
       "          2.86017628e-01,   7.43529277e-01,   4.57124108e-01,\n",
       "          1.49197948e-02,   1.71858682e-01,   4.54807383e-01,\n",
       "          3.90146548e-02,   5.39359532e-01,   2.44442325e-01,\n",
       "          1.58924343e-01,   3.40135201e-01,   5.18739036e-02,\n",
       "          2.27633884e-02,   1.58519474e-01,   4.80334019e-03,\n",
       "          1.03765665e-01,   8.70551072e-03,   4.58127520e-02,\n",
       "          1.77382411e-02],\n",
       "       [  7.07066300e-01,   8.55404742e-01,   1.85827566e-01,\n",
       "          1.04328709e+00,   6.10113456e-01,   6.38060569e-01,\n",
       "          7.63739733e-01,   3.63539163e-01,   1.66583178e-01,\n",
       "          6.39740554e-01,   4.65186181e-01,   3.60073550e-01,\n",
       "          7.98228678e-01,   3.67831859e-01,   3.69585106e-01,\n",
       "          7.12786020e-01,   4.88195166e-03,   5.67197229e-01,\n",
       "          7.01808542e-01,   3.94866008e-01,   7.12913542e-01,\n",
       "          3.79285093e-01,   4.28308005e-01,   1.78303208e-02,\n",
       "          3.33682417e-01,   1.17469444e+00,   1.53721614e-01,\n",
       "          5.26592950e-01,   1.13230782e+00,   6.48131251e-01,\n",
       "          2.68136001e-01,   2.08759990e-01,   6.87891461e-03,\n",
       "          7.31289810e-01,   3.09502494e-01,   1.32645871e-01,\n",
       "          1.13365316e+00,   2.14766417e-01,   9.40360084e-02,\n",
       "          4.04857854e-01,   3.59596625e-01,   6.77812253e-02,\n",
       "          2.81053962e-03,   1.53768880e-01,   1.12837969e-02,\n",
       "          1.11023361e+00,   6.89056801e-01,   9.67104462e-01,\n",
       "          7.27555734e-01,   0.00000000e+00,   5.26315897e-01,\n",
       "          2.22928709e-02,   1.51914975e-01,   7.12506432e-01,\n",
       "          2.89097482e-01,   1.01923896e-01,   6.61324265e-01,\n",
       "          2.73026458e-01,   2.19825332e-01,   5.46985329e-03,\n",
       "          1.05629335e-01,   8.26217705e-01,   1.48340219e-02,\n",
       "          8.17642420e-01,   3.91268327e-02,   3.49495026e-01,\n",
       "          1.89922911e-01,   4.75267177e-02,   8.76571273e-01,\n",
       "          9.63920186e-01,   9.95056748e-02,   4.26316566e-01,\n",
       "          8.48233990e-02,   4.65277320e-01,   3.88617071e-02,\n",
       "          6.41164946e-01,   2.96794775e-01,   4.14758050e-01,\n",
       "          1.49610586e-02,   5.81084777e-03,   2.07749804e-01,\n",
       "          1.01480767e-01,   5.77187182e-02,   2.88521396e-01,\n",
       "          9.46809593e-01,   4.70648263e-01,   4.47176797e-01,\n",
       "          4.35807972e-01,   4.12579878e-02,   6.84720697e-01,\n",
       "          2.82323546e-01,   7.51517774e-02,   1.01247596e+00,\n",
       "          9.12605332e-01,   2.51518412e-01,   8.44390903e-01,\n",
       "          8.19563150e-01,   6.81329610e-01,   4.48173888e-01,\n",
       "          5.47808774e-01],\n",
       "       [  2.08876113e-01,   7.84462180e-02,   1.97381076e-01,\n",
       "          2.02620101e-01,   8.00334948e-03,   7.66413478e-01,\n",
       "          3.09639532e-01,   4.24923833e-01,   1.58017738e-01,\n",
       "          3.07860581e-01,   2.16934751e-01,   2.56472852e-02,\n",
       "          4.54130379e-01,   5.36263664e-02,   2.78180529e-01,\n",
       "          5.68474593e-01,   4.36015328e-01,   2.35125124e-02,\n",
       "          4.76874486e-01,   1.72439172e-01,   8.25771111e-02,\n",
       "          1.24285129e-02,   2.12132066e-01,   3.56414065e-01,\n",
       "          7.09164117e-02,   3.95916321e-01,   1.13014565e-01,\n",
       "          7.63553001e-02,   2.20367801e-01,   6.32748029e-02,\n",
       "          5.86126099e-02,   1.77601393e-01,   5.43838412e-01,\n",
       "          3.53425325e-01,   5.69742013e-02,   2.57811792e-01,\n",
       "          4.22040345e-01,   7.11035921e-02,   1.75441654e-01,\n",
       "          5.42551997e-02,   4.45334863e-02,   3.00070135e-01,\n",
       "          5.23204457e-01,   1.14054862e-01,   3.87555848e-01,\n",
       "          3.26123549e-01,   5.81266674e-01,   1.39042434e-01,\n",
       "          1.75461214e-01,   5.26315897e-01,   0.00000000e+00,\n",
       "          5.80350298e-01,   1.63575311e-01,   1.69750429e-02,\n",
       "          4.51579142e-02,   1.65029753e-01,   3.11600294e-02,\n",
       "          1.40929454e-01,   6.79839453e-02,   4.86559286e-01,\n",
       "          5.41835529e-01,   2.20542907e-01,   4.58377353e-01,\n",
       "          4.64538254e-02,   4.10085311e-01,   1.98740193e-02,\n",
       "          9.15543315e-02,   4.07301077e-01,   6.74713503e-02,\n",
       "          2.40621832e-01,   1.71244073e-01,   1.88905621e-02,\n",
       "          2.94753983e-01,   1.33078160e-01,   4.11797421e-01,\n",
       "          8.09613266e-02,   5.37065036e-01,   6.72489188e-02,\n",
       "          5.64576397e-01,   4.79901882e-01,   6.40222563e-01,\n",
       "          2.16383952e-01,   3.82953737e-01,   9.75760801e-02,\n",
       "          2.26238385e-01,   4.71019101e-01,   8.09228722e-01,\n",
       "          1.55690563e-01,   5.05877143e-01,   1.46065548e-02,\n",
       "          3.08285203e-01,   2.87363023e-01,   4.17404240e-01,\n",
       "          1.56870128e-01,   2.70781110e-01,   1.93499771e-01,\n",
       "          5.05452803e-01,   2.32287741e-01,   6.77917233e-02,\n",
       "          9.51909911e-02],\n",
       "       [  8.95134590e-01,   9.82121741e-01,   2.95976141e-01,\n",
       "          1.22335268e+00,   6.87886728e-01,   8.93964254e-01,\n",
       "          9.79310050e-01,   5.50723063e-01,   1.53259285e-01,\n",
       "          8.46959403e-01,   6.36232785e-01,   4.35000420e-01,\n",
       "          1.04234438e+00,   3.62417910e-01,   5.38698638e-01,\n",
       "          9.64000156e-01,   3.71503540e-02,   6.66912128e-01,\n",
       "          9.41295525e-01,   5.45656451e-01,   6.87883792e-01,\n",
       "          4.22980362e-01,   5.93503288e-01,   5.55353856e-02,\n",
       "          4.37294459e-01,   1.41496090e+00,   1.83762209e-01,\n",
       "          4.98191775e-01,   1.31227376e+00,   6.30588276e-01,\n",
       "          2.81717231e-01,   1.74822432e-01,   4.44715876e-03,\n",
       "          9.53837610e-01,   3.12100614e-01,   9.70025247e-02,\n",
       "          1.38143185e+00,   2.45623092e-01,   1.30772005e-01,\n",
       "          5.12368453e-01,   3.62136827e-01,   1.47222975e-01,\n",
       "          9.66832913e-03,   1.81374585e-01,   4.52765406e-02,\n",
       "          1.33236051e+00,   9.38940577e-01,   1.12166355e+00,\n",
       "          9.05990729e-01,   2.22928709e-02,   5.80350298e-01,\n",
       "          0.00000000e+00,   2.37450694e-01,   7.54485301e-01,\n",
       "          3.09407737e-01,   1.37447003e-01,   6.70825173e-01,\n",
       "          2.38649776e-01,   2.51617538e-01,   9.31472315e-03,\n",
       "          2.24875171e-01,   1.02042367e+00,   7.83593471e-03,\n",
       "          9.18660688e-01,   1.69746760e-02,   3.86169859e-01,\n",
       "          2.51007413e-01,   1.29590675e-01,   9.89857259e-01,\n",
       "          1.16313438e+00,   1.46364992e-01,   4.44170053e-01,\n",
       "          1.73688306e-01,   6.13709138e-01,   1.14931468e-01,\n",
       "          6.12454509e-01,   4.77733805e-01,   5.30800995e-01,\n",
       "          7.23697748e-02,   4.95278065e-02,   3.66149084e-01,\n",
       "          1.79069692e-01,   2.81050916e-02,   2.70374286e-01,\n",
       "          1.14152343e+00,   6.80854214e-01,   6.69104839e-01,\n",
       "          5.87646030e-01,   1.24082304e-01,   7.22658799e-01,\n",
       "          4.39112372e-01,   1.56598134e-01,   1.25891386e+00,\n",
       "          1.08082633e+00,   3.95358443e-01,   1.02962209e+00,\n",
       "          1.07271740e+00,   8.74530437e-01,   5.68748765e-01,\n",
       "          6.89515129e-01],\n",
       "       [  2.10534609e-01,   2.98881908e-01,   6.94079893e-03,\n",
       "          3.99361120e-01,   1.86848354e-01,   3.52990981e-01,\n",
       "          2.57226893e-01,   1.23106235e-01,   1.13585355e-01,\n",
       "          1.98087903e-01,   1.01230420e-01,   6.19692170e-02,\n",
       "          3.10645140e-01,   1.66828772e-01,   7.92562774e-02,\n",
       "          3.08528164e-01,   1.02487750e-01,   1.46569345e-01,\n",
       "          2.73619672e-01,   6.48421177e-02,   3.89231387e-01,\n",
       "          1.00557638e-01,   8.53772178e-02,   6.72922755e-02,\n",
       "          3.68730680e-02,   4.93134448e-01,   3.86344167e-02,\n",
       "          2.88712525e-01,   4.55994773e-01,   3.36995638e-01,\n",
       "          9.40833277e-02,   1.68009612e-01,   1.90692059e-01,\n",
       "          2.51903311e-01,   1.27856275e-01,   1.65035657e-01,\n",
       "          4.74499033e-01,   5.18451038e-02,   2.73007598e-02,\n",
       "          6.37359660e-02,   1.49501755e-01,   2.31251356e-02,\n",
       "          1.68909320e-01,   4.17978783e-02,   8.19900475e-02,\n",
       "          4.46084782e-01,   3.02905618e-01,   3.56826183e-01,\n",
       "          2.16984521e-01,   1.51914975e-01,   1.63575311e-01,\n",
       "          2.37450694e-01,   0.00000000e+00,   2.85801195e-01,\n",
       "          9.19925410e-02,   2.81718162e-02,   2.99948820e-01,\n",
       "          1.86734780e-01,   5.21517603e-02,   1.56943952e-01,\n",
       "          1.10406647e-01,   2.73965937e-01,   1.61050139e-01,\n",
       "          2.91861199e-01,   1.68825240e-01,   9.54240720e-02,\n",
       "          1.45878636e-02,   5.81277355e-02,   3.20085642e-01,\n",
       "          3.52561073e-01,   1.72892387e-02,   1.57359338e-01,\n",
       "          1.96656610e-02,   8.77840834e-02,   6.20203124e-02,\n",
       "          3.53485161e-01,   1.44753590e-01,   6.57134008e-02,\n",
       "          1.39087215e-01,   1.10479519e-01,   1.67996407e-01,\n",
       "          5.33081724e-03,   1.74731893e-01,   1.57645620e-01,\n",
       "          3.41616658e-01,   1.77213855e-01,   3.05824129e-01,\n",
       "          7.83348189e-02,   9.88299889e-02,   2.74024190e-01,\n",
       "          5.89879649e-02,   1.91487557e-02,   4.07923979e-01,\n",
       "          3.20359334e-01,   3.92927261e-02,   2.81340470e-01,\n",
       "          3.35765315e-01,   2.01592207e-01,   7.91838654e-02,\n",
       "          1.22768862e-01],\n",
       "       [  2.83418515e-01,   8.07413087e-02,   3.29268197e-01,\n",
       "          2.14899020e-01,   2.12312271e-02,   9.75783945e-01,\n",
       "          4.02608392e-01,   5.95708734e-01,   2.37873142e-01,\n",
       "          4.18641891e-01,   3.27925776e-01,   8.39616479e-02,\n",
       "          5.77313328e-01,   8.38348980e-02,   4.15485243e-01,\n",
       "          7.28935156e-01,   6.09699202e-01,   5.54545574e-02,\n",
       "          6.18806452e-01,   2.79921591e-01,   5.05026504e-02,\n",
       "          5.28622799e-02,   3.26358571e-01,   5.16260716e-01,\n",
       "          1.52881545e-01,   4.42553744e-01,   2.04376151e-01,\n",
       "          7.40424591e-02,   2.20304828e-01,   4.19951902e-02,\n",
       "          1.14361082e-01,   2.45450023e-01,   7.22142547e-01,\n",
       "          4.62297603e-01,   1.00980029e-01,   3.51973334e-01,\n",
       "          4.83225808e-01,   1.45014542e-01,   2.90514718e-01,\n",
       "          1.22591733e-01,   7.77221629e-02,   4.57982925e-01,\n",
       "          7.02302511e-01,   2.04630272e-01,   5.52448048e-01,\n",
       "          3.64706727e-01,   7.47508114e-01,   1.43466017e-01,\n",
       "          2.36910433e-01,   7.12506432e-01,   1.69750429e-02,\n",
       "          7.54485301e-01,   2.85801195e-01,   0.00000000e+00,\n",
       "          9.76120538e-02,   2.76467021e-01,   1.26954131e-02,\n",
       "          1.91182030e-01,   1.40851086e-01,   6.57687934e-01,\n",
       "          7.50601284e-01,   2.78945797e-01,   6.18760740e-01,\n",
       "          3.96381597e-02,   5.51979804e-01,   6.39741804e-02,\n",
       "          1.85171607e-01,   5.88250861e-01,   5.89362829e-02,\n",
       "          2.80690900e-01,   2.88629709e-01,   4.21585048e-02,\n",
       "          4.52513332e-01,   2.20684773e-01,   5.92661655e-01,\n",
       "          5.95452229e-02,   7.36272084e-01,   1.39475014e-01,\n",
       "          7.68598999e-01,   6.65503294e-01,   8.63742034e-01,\n",
       "          3.53305678e-01,   5.14021307e-01,   1.44053350e-01,\n",
       "          2.65008311e-01,   6.40326225e-01,   1.04557700e+00,\n",
       "          2.53626799e-01,   7.05223612e-01,   4.29736199e-04,\n",
       "          4.61001917e-01,   4.42598497e-01,   4.98178992e-01,\n",
       "          1.79151232e-01,   4.17249024e-01,   2.40568125e-01,\n",
       "          6.37366743e-01,   3.17332329e-01,   1.36125788e-01,\n",
       "          1.59366724e-01],\n",
       "       [  3.24425903e-01,   2.28470843e-01,   1.40046773e-01,\n",
       "          3.99450562e-01,   8.58896804e-02,   7.64001389e-01,\n",
       "          4.30021141e-01,   3.99602336e-01,   3.43857367e-02,\n",
       "          3.92759628e-01,   2.59956079e-01,   3.47447749e-02,\n",
       "          5.63413737e-01,   1.12296953e-02,   2.80742411e-01,\n",
       "          6.31746238e-01,   2.28435913e-01,   9.94219772e-02,\n",
       "          5.53592887e-01,   1.97278512e-01,   1.08142458e-01,\n",
       "          1.16145419e-02,   2.43726798e-01,   1.75190607e-01,\n",
       "          7.86138027e-02,   6.12007914e-01,   2.25014044e-02,\n",
       "          5.47977306e-02,   4.35018368e-01,   8.17582025e-02,\n",
       "          9.33826550e-04,   4.77256397e-02,   2.89663969e-01,\n",
       "          4.58716134e-01,   3.73629644e-03,   8.77389400e-02,\n",
       "          6.25625288e-01,   6.88676045e-03,   5.81672070e-02,\n",
       "          8.62376322e-02,   6.94796749e-03,   1.69625083e-01,\n",
       "          2.78552857e-01,   2.18857005e-02,   1.94733856e-01,\n",
       "          5.33071265e-01,   6.34608842e-01,   3.17973112e-01,\n",
       "          2.98965773e-01,   2.89097482e-01,   4.51579142e-02,\n",
       "          3.09407737e-01,   9.19925410e-02,   9.76120538e-02,\n",
       "          0.00000000e+00,   5.16446860e-02,   7.66345063e-02,\n",
       "          3.61187299e-02,   6.35913676e-03,   2.50025669e-01,\n",
       "          3.83240521e-01,   3.66599908e-01,   2.24996346e-01,\n",
       "          1.80182052e-01,   1.86154792e-01,   5.66359780e-03,\n",
       "          3.34422572e-02,   2.46393518e-01,   2.17797487e-01,\n",
       "          4.19076620e-01,   6.22439022e-02,   1.33210109e-02,\n",
       "          1.75361993e-01,   1.84089257e-01,   2.44125015e-01,\n",
       "          8.68082405e-02,   4.63264614e-01,   1.03385507e-01,\n",
       "          3.41804147e-01,   2.68162380e-01,   5.05187464e-01,\n",
       "          1.14312614e-01,   1.66180859e-01,   1.69041858e-02,\n",
       "          4.01408743e-01,   4.74304414e-01,   7.28565400e-01,\n",
       "          1.95605974e-01,   3.19110315e-01,   8.65332468e-02,\n",
       "          2.74286273e-01,   1.63112418e-01,   5.90982008e-01,\n",
       "          3.25552849e-01,   2.30980501e-01,   3.45712798e-01,\n",
       "          6.12436781e-01,   3.38475129e-01,   1.14792595e-01,\n",
       "          1.72521075e-01],\n",
       "       [  3.60437242e-01,   3.84924478e-01,   6.24534619e-02,\n",
       "          5.45641412e-01,   2.15836813e-01,   5.68607730e-01,\n",
       "          4.36999890e-01,   2.63421035e-01,   3.22579968e-02,\n",
       "          3.66704769e-01,   2.28382178e-01,   8.36793780e-02,\n",
       "          5.20433793e-01,   9.89878534e-02,   2.01848754e-01,\n",
       "          5.23129101e-01,   6.50409592e-02,   1.99031389e-01,\n",
       "          4.76434312e-01,   1.69096809e-01,   3.04463491e-01,\n",
       "          8.80754288e-02,   2.05536232e-01,   3.73076464e-02,\n",
       "          8.93438016e-02,   7.05332258e-01,   5.96929126e-03,\n",
       "          1.97430085e-01,   6.03260462e-01,   2.59844403e-01,\n",
       "          4.57318059e-02,   6.41326792e-02,   1.13073941e-01,\n",
       "          4.38254282e-01,   6.79664058e-02,   5.68599343e-02,\n",
       "          6.94008285e-01,   2.16697712e-02,   1.94758940e-04,\n",
       "          1.21887901e-01,   9.05092523e-02,   4.11349993e-02,\n",
       "          1.01864500e-01,   6.41288086e-03,   4.73022927e-02,\n",
       "          6.38215717e-01,   5.15467186e-01,   4.74580789e-01,\n",
       "          3.57015759e-01,   1.01923896e-01,   1.65029753e-01,\n",
       "          1.37447003e-01,   2.81718162e-02,   2.76467021e-01,\n",
       "          5.16446860e-02,   0.00000000e+00,   2.53533869e-01,\n",
       "          8.39223739e-02,   2.31413617e-02,   8.71569213e-02,\n",
       "          1.69493703e-01,   4.32339074e-01,   7.97964909e-02,\n",
       "          3.49269676e-01,   7.18551707e-02,   7.45711473e-02,\n",
       "          1.72921110e-02,   7.70897185e-02,   3.91703747e-01,\n",
       "          5.18306080e-01,   1.57658013e-03,   1.16796773e-01,\n",
       "          4.84863184e-02,   1.91107031e-01,   7.41217236e-02,\n",
       "          2.63550327e-01,   2.75380771e-01,   1.33295230e-01,\n",
       "          1.27743426e-01,   8.50888040e-02,   2.70631321e-01,\n",
       "          2.30878484e-02,   7.01770157e-02,   7.37655285e-02,\n",
       "          5.02320872e-01,   3.44039149e-01,   4.80107813e-01,\n",
       "          1.84640369e-01,   1.17024189e-01,   2.59810774e-01,\n",
       "          1.66085608e-01,   3.96940412e-02,   6.24151675e-01,\n",
       "          4.52176885e-01,   1.32110266e-01,   4.30440066e-01,\n",
       "          5.55132546e-01,   3.56440072e-01,   1.52305167e-01,\n",
       "          2.20473243e-01],\n",
       "       [  3.90171801e-01,   1.56028617e-01,   3.60630493e-01,\n",
       "          3.30102701e-01,   5.51239704e-02,   1.10427366e+00,\n",
       "          5.26783902e-01,   6.78893444e-01,   1.83723719e-01,\n",
       "          5.31965031e-01,   4.12525934e-01,   1.04885398e-01,\n",
       "          7.16937331e-01,   4.77518198e-02,   4.92300868e-01,\n",
       "          8.65328693e-01,   5.69396101e-01,   1.02293525e-01,\n",
       "          7.50306521e-01,   3.49298675e-01,   1.36690881e-02,\n",
       "          5.32777334e-02,   4.05551720e-01,   4.83554939e-01,\n",
       "          1.90924065e-01,   5.97313991e-01,   1.81867149e-01,\n",
       "          2.74649637e-02,   3.38361996e-01,   8.53138143e-03,\n",
       "          8.72668015e-02,   1.77813331e-01,   6.53235404e-01,\n",
       "          5.88225346e-01,   6.79697047e-02,   2.76732457e-01,\n",
       "          6.40484213e-01,   1.27298762e-01,   2.67679128e-01,\n",
       "          1.66962776e-01,   4.72361193e-02,   4.58820633e-01,\n",
       "          6.40570402e-01,   1.80377970e-01,   5.15600735e-01,\n",
       "          5.07001748e-01,   8.81473542e-01,   2.40317561e-01,\n",
       "          3.39138545e-01,   6.61324265e-01,   3.11600294e-02,\n",
       "          6.70825173e-01,   2.99948820e-01,   1.26954131e-02,\n",
       "          7.66345063e-02,   2.53533869e-01,   0.00000000e+00,\n",
       "          1.27378132e-01,   1.24124899e-01,   5.95461089e-01,\n",
       "          7.70908215e-01,   3.94399120e-01,   5.50491968e-01,\n",
       "          9.67192464e-02,   4.76091669e-01,   5.79535011e-02,\n",
       "          1.86734648e-01,   5.85693486e-01,   1.26150327e-01,\n",
       "          4.04470339e-01,   2.73269236e-01,   2.61682528e-02,\n",
       "          4.60857083e-01,   2.92914769e-01,   5.85373105e-01,\n",
       "          1.72615791e-02,   8.07753391e-01,   1.89685337e-01,\n",
       "          7.41015636e-01,   6.31443632e-01,   9.11579736e-01,\n",
       "          3.57662228e-01,   4.34791097e-01,   9.40113960e-02,\n",
       "          3.85529073e-01,   7.42111266e-01,   1.14072476e+00,\n",
       "          3.26102515e-01,   6.98897848e-01,   9.25723123e-03,\n",
       "          5.24386004e-01,   4.45661364e-01,   6.49720089e-01,\n",
       "          2.82589346e-01,   4.71853547e-01,   3.51600410e-01,\n",
       "          7.82080952e-01,   4.25658739e-01,   1.90853260e-01,\n",
       "          2.31832809e-01],\n",
       "       [  5.75852450e-01,   4.27470493e-01,   2.63745332e-01,\n",
       "          6.65706438e-01,   2.14947033e-01,   1.05086437e+00,\n",
       "          7.10673726e-01,   6.10379840e-01,   1.42845042e-02,\n",
       "          6.54938300e-01,   4.73670705e-01,   1.41506604e-01,\n",
       "          8.69854019e-01,   2.20662302e-02,   4.81081207e-01,\n",
       "          9.32393768e-01,   2.30835135e-01,   2.50150711e-01,\n",
       "          8.46154140e-01,   3.85340605e-01,   1.18284551e-01,\n",
       "          8.39384228e-02,   4.48288884e-01,   1.90535255e-01,\n",
       "          2.14041714e-01,   9.44689169e-01,   5.56790332e-02,\n",
       "          4.82263918e-02,   7.06202025e-01,   9.74867238e-02,\n",
       "          2.67020097e-02,   4.97858441e-03,   2.43759332e-01,\n",
       "          7.42179128e-01,   1.96305899e-02,   3.19203490e-02,\n",
       "          9.62387938e-01,   4.83118383e-02,   9.05761229e-02,\n",
       "          2.32468300e-01,   2.72005972e-02,   2.41582878e-01,\n",
       "          2.44746825e-01,   5.21292088e-02,   2.03044482e-01,\n",
       "          8.44794829e-01,   9.31106533e-01,   5.53336929e-01,\n",
       "          5.42877538e-01,   2.73026458e-01,   1.40929454e-01,\n",
       "          2.38649776e-01,   1.86734780e-01,   1.91182030e-01,\n",
       "          3.61187299e-02,   8.39223739e-02,   1.27378132e-01,\n",
       "          0.00000000e+00,   4.94634625e-02,   2.15458071e-01,\n",
       "          4.87580407e-01,   6.32853542e-01,   1.80333308e-01,\n",
       "          3.48547359e-01,   1.28805915e-01,   6.70946175e-02,\n",
       "          1.07214121e-01,   3.12411550e-01,   4.03275154e-01,\n",
       "          6.99546596e-01,   1.07243790e-01,   5.81223745e-02,\n",
       "          2.59985576e-01,   3.77147326e-01,   3.02161278e-01,\n",
       "          8.76569727e-02,   6.54034919e-01,   2.59432642e-01,\n",
       "          3.65385898e-01,   2.80986276e-01,   6.55842494e-01,\n",
       "          1.92400195e-01,   1.03292550e-01,   4.03960573e-03,\n",
       "          6.76392528e-01,   7.16478422e-01,   9.58925338e-01,\n",
       "          3.88983794e-01,   3.78601337e-01,   1.73551488e-01,\n",
       "          4.51821559e-01,   2.38849133e-01,   9.17918434e-01,\n",
       "          5.71865745e-01,   3.93760056e-01,   6.04611207e-01,\n",
       "          9.27385228e-01,   5.92459475e-01,   2.78496907e-01,\n",
       "          3.66192587e-01],\n",
       "       [  3.00707679e-01,   2.51941757e-01,   9.21721789e-02,\n",
       "          4.11687504e-01,   1.08335605e-01,   6.57119435e-01,\n",
       "          3.93022338e-01,   3.21699315e-01,   2.88241651e-02,\n",
       "          3.46592362e-01,   2.17469854e-01,   3.20623350e-02,\n",
       "          5.06376922e-01,   3.28365572e-02,   2.23619146e-01,\n",
       "          5.52940466e-01,   1.65169350e-01,   1.09009096e-01,\n",
       "          4.86468399e-01,   1.58898613e-01,   1.66935258e-01,\n",
       "          2.22965637e-02,   2.00030454e-01,   1.19156761e-01,\n",
       "          5.95801692e-02,   5.98544625e-01,   5.89597156e-03,\n",
       "          9.71600442e-02,   4.54226208e-01,   1.33676688e-01,\n",
       "          6.14184111e-03,   5.11006386e-02,   2.27436422e-01,\n",
       "          4.12015441e-01,   1.67203860e-02,   7.64534646e-02,\n",
       "          6.03168331e-01,   3.72112827e-05,   2.74860152e-02,\n",
       "          7.44806115e-02,   2.60386672e-02,   1.10298104e-01,\n",
       "          2.14901847e-01,   5.97939175e-03,   1.36244402e-01,\n",
       "          5.26055583e-01,   5.52682573e-01,   3.37319261e-01,\n",
       "          2.83643508e-01,   2.19825332e-01,   6.79839453e-02,\n",
       "          2.51617538e-01,   5.21517603e-02,   1.40851086e-01,\n",
       "          6.35913676e-03,   2.31413617e-02,   1.24124899e-01,\n",
       "          4.94634625e-02,   0.00000000e+00,   1.91185608e-01,\n",
       "          2.91053318e-01,   3.51339188e-01,   1.73355147e-01,\n",
       "          2.11490380e-01,   1.46532428e-01,   1.50152748e-02,\n",
       "          1.23040237e-02,   1.73798991e-01,   2.48786976e-01,\n",
       "          4.13629554e-01,   2.91952016e-02,   3.63982721e-02,\n",
       "          1.15131799e-01,   1.57166412e-01,   1.72208330e-01,\n",
       "          1.39976665e-01,   3.69988336e-01,   8.85387115e-02,\n",
       "          2.58786928e-01,   1.96972220e-01,   4.00567197e-01,\n",
       "          6.70185324e-02,   1.33448241e-01,   3.06734143e-02,\n",
       "          3.97167042e-01,   3.94816716e-01,   6.10037419e-01,\n",
       "          1.62499782e-01,   2.36060784e-01,   1.28618588e-01,\n",
       "          2.09765647e-01,   1.05084807e-01,   5.57618148e-01,\n",
       "          3.33392963e-01,   1.71344060e-01,   3.37787049e-01,\n",
       "          5.49526612e-01,   3.08294919e-01,   1.01664775e-01,\n",
       "          1.59518898e-01],\n",
       "       [  7.29768143e-01,   8.34452376e-01,   2.02027210e-01,\n",
       "          1.04295075e+00,   5.76842316e-01,   7.27065382e-01,\n",
       "          8.01428332e-01,   4.17543959e-01,   1.25573967e-01,\n",
       "          6.80561534e-01,   4.94319565e-01,   3.40676365e-01,\n",
       "          8.55112278e-01,   3.13097517e-01,   4.06727355e-01,\n",
       "          7.84212609e-01,   9.48882298e-03,   5.47200082e-01,\n",
       "          7.63341881e-01,   4.16264231e-01,   6.31360210e-01,\n",
       "          3.43868166e-01,   4.56601642e-01,   1.96622810e-02,\n",
       "          3.31371340e-01,   1.20520188e+00,   1.30583164e-01,\n",
       "          4.53712740e-01,   1.12788802e+00,   5.72554487e-01,\n",
       "          2.27958494e-01,   1.57110007e-01,   1.72434286e-03,\n",
       "          7.76466275e-01,   2.61900964e-01,   8.90783683e-02,\n",
       "          1.17137739e+00,   1.86165251e-01,   8.08566422e-02,\n",
       "          3.99340441e-01,   3.08425677e-01,   8.25433647e-02,\n",
       "          9.35780532e-04,   1.29581008e-01,   1.35653441e-02,\n",
       "          1.13220176e+00,   7.61948507e-01,   9.55899773e-01,\n",
       "          7.42828963e-01,   5.46985329e-03,   4.86559286e-01,\n",
       "          9.31472315e-03,   1.56943952e-01,   6.57687934e-01,\n",
       "          2.50025669e-01,   8.71569213e-02,   5.95461089e-01,\n",
       "          2.15458071e-01,   1.91185608e-01,   0.00000000e+00,\n",
       "          1.50020147e-01,   8.45616777e-01,   2.31307497e-03,\n",
       "          7.85347153e-01,   1.56118766e-02,   3.12999818e-01,\n",
       "          1.77614521e-01,   7.07027112e-02,   8.47698796e-01,\n",
       "          9.78929148e-01,   9.03755872e-02,   3.76866271e-01,\n",
       "          1.02597817e-01,   4.79384976e-01,   6.00614313e-02,\n",
       "          5.61913816e-01,   3.58099123e-01,   4.13290456e-01,\n",
       "          3.76971526e-02,   1.80504254e-02,   2.69708698e-01,\n",
       "          1.08750662e-01,   2.82248894e-02,   2.34988626e-01,\n",
       "          9.59929457e-01,   5.31650452e-01,   5.33994230e-01,\n",
       "          4.54413268e-01,   7.07195879e-02,   6.29507381e-01,\n",
       "          3.20518906e-01,   8.96866441e-02,   1.05619435e+00,\n",
       "          9.11702442e-01,   2.83454162e-01,   8.57152642e-01,\n",
       "          8.82250232e-01,   7.09146802e-01,   4.46901718e-01,\n",
       "          5.52039679e-01],\n",
       "       [  4.33654682e-01,   7.08802155e-01,   9.11544146e-02,\n",
       "          7.80149766e-01,   5.72806562e-01,   2.30954194e-01,\n",
       "          4.31827612e-01,   1.03493395e-01,   3.38193007e-01,\n",
       "          3.28369309e-01,   2.33657365e-01,   3.34394770e-01,\n",
       "          4.06911803e-01,   5.16099514e-01,   1.45442600e-01,\n",
       "          3.10226878e-01,   8.70160229e-02,   4.83693513e-01,\n",
       "          3.22929006e-01,   2.07618249e-01,   8.97078599e-01,\n",
       "          4.20401225e-01,   2.10074423e-01,   8.63267767e-02,\n",
       "          2.47512012e-01,   7.82792972e-01,   2.31008140e-01,\n",
       "          7.21727111e-01,   8.67926619e-01,   8.17056285e-01,\n",
       "          3.77517992e-01,   4.24431860e-01,   1.66130202e-01,\n",
       "          3.85867343e-01,   4.41727105e-01,   3.55202438e-01,\n",
       "          7.26900644e-01,   2.88182538e-01,   1.59360662e-01,\n",
       "          3.08468556e-01,   4.90666122e-01,   4.39522949e-02,\n",
       "          1.41657706e-01,   2.36334986e-01,   8.85702503e-02,\n",
       "          7.57403619e-01,   2.90118837e-01,   7.59318056e-01,\n",
       "          4.73848064e-01,   1.05629335e-01,   5.41835529e-01,\n",
       "          2.24875171e-01,   1.10406647e-01,   7.50601284e-01,\n",
       "          3.83240521e-01,   1.69493703e-01,   7.70908215e-01,\n",
       "          4.87580407e-01,   2.91053318e-01,   1.50020147e-01,\n",
       "          0.00000000e+00,   5.37348567e-01,   1.82035962e-01,\n",
       "          7.26666032e-01,   2.37574910e-01,   4.06537262e-01,\n",
       "          1.98975577e-01,   2.06438197e-02,   7.58321056e-01,\n",
       "          6.61825523e-01,   1.42766514e-01,   5.22419222e-01,\n",
       "          4.01831620e-02,   2.80876826e-01,   2.51954357e-02,\n",
       "          8.34715875e-01,   5.38997800e-02,   3.00002608e-01,\n",
       "          4.52187680e-02,   6.40959917e-02,   1.74743983e-02,\n",
       "          7.92507344e-02,   2.71347178e-01,   4.66815473e-01,\n",
       "          6.54491315e-01,   1.59626849e-01,   1.18240531e-01,\n",
       "          2.45116373e-01,   1.48791301e-02,   7.32063762e-01,\n",
       "          8.72045599e-02,   4.65819591e-02,   6.11005333e-01,\n",
       "          6.76790500e-01,   8.42310867e-02,   5.73981203e-01,\n",
       "          4.09337321e-01,   3.97838112e-01,   3.22956703e-01,\n",
       "          3.75469762e-01],\n",
       "       [  5.58379783e-03,   7.44302648e-02,   2.30046736e-01,\n",
       "          3.13937322e-02,   1.55082693e-01,   3.36469478e-01,\n",
       "          1.86215800e-02,   2.13324451e-01,   5.81006964e-01,\n",
       "          4.07920464e-02,   6.24388141e-02,   1.76405639e-01,\n",
       "          7.07844355e-02,   4.57698894e-01,   1.26677926e-01,\n",
       "          1.58748817e-01,   7.06302616e-01,   1.00141528e-01,\n",
       "          1.05782173e-01,   8.13996648e-02,   5.54866993e-01,\n",
       "          2.62459168e-01,   7.54782645e-02,   6.11368296e-01,\n",
       "          1.29665876e-01,   3.33486999e-02,   3.99696867e-01,\n",
       "          5.55719586e-01,   5.08699079e-02,   5.11019387e-01,\n",
       "          4.00622085e-01,   6.66136476e-01,   9.21609145e-01,\n",
       "          3.88603283e-02,   4.34521265e-01,   7.48632814e-01,\n",
       "          3.44168901e-02,   3.57250997e-01,   4.38557683e-01,\n",
       "          1.02435438e-01,   4.23503918e-01,   4.25328957e-01,\n",
       "          8.71967526e-01,   4.08406816e-01,   6.53485941e-01,\n",
       "          2.09462136e-02,   1.75017703e-01,   4.81152343e-02,\n",
       "          3.65999158e-03,   8.26217705e-01,   2.20542907e-01,\n",
       "          1.02042367e+00,   2.73965937e-01,   2.78945797e-01,\n",
       "          3.66599908e-01,   4.32339074e-01,   3.94399120e-01,\n",
       "          6.32853542e-01,   3.51339188e-01,   8.45616777e-01,\n",
       "          5.37348567e-01,   0.00000000e+00,   8.52421544e-01,\n",
       "          1.23479681e-01,   8.53425684e-01,   2.91336499e-01,\n",
       "          2.81344166e-01,   5.21750147e-01,   1.06507932e-01,\n",
       "          6.59624090e-03,   4.02582548e-01,   3.51333985e-01,\n",
       "          3.90698103e-01,   5.16646501e-02,   5.44915011e-01,\n",
       "          5.63483587e-01,   3.41638422e-01,   8.84227525e-02,\n",
       "          7.53120637e-01,   7.13182649e-01,   5.12163582e-01,\n",
       "          3.49822483e-01,   8.50764326e-01,   5.39414726e-01,\n",
       "          6.37075344e-03,   1.87926671e-01,   4.81943619e-01,\n",
       "          6.24870763e-02,   6.15845264e-01,   2.88833813e-01,\n",
       "          1.93375741e-01,   4.06689591e-01,   3.17032485e-02,\n",
       "          2.13640831e-02,   1.96896660e-01,   2.19602344e-03,\n",
       "          9.29683593e-02,   1.18120143e-02,   7.53058543e-02,\n",
       "          3.74050814e-02],\n",
       "       [  7.39611717e-01,   8.15205670e-01,   2.12884417e-01,\n",
       "          1.03554742e+00,   5.51845389e-01,   7.83062142e-01,\n",
       "          8.20758198e-01,   4.51735615e-01,   1.01656419e-01,\n",
       "          7.02970132e-01,   5.10474739e-01,   3.26661676e-01,\n",
       "          8.87111350e-01,   2.77919561e-01,   4.29244664e-01,\n",
       "          8.26939800e-01,   1.74082182e-02,   5.30793210e-01,\n",
       "          7.99307207e-01,   4.27994387e-01,   5.76905576e-01,\n",
       "          3.19855885e-01,   4.72560326e-01,   2.50067816e-02,\n",
       "          3.28379282e-01,   1.21704217e+00,   1.17155782e-01,\n",
       "          4.06247261e-01,   1.11732520e+00,   5.22153460e-01,\n",
       "          2.02594632e-01,   1.26541569e-01,   4.76985606e-03,\n",
       "          8.01061536e-01,   2.31632592e-01,   6.49114947e-02,\n",
       "          1.18823124e+00,   1.68437417e-01,   7.46333191e-02,\n",
       "          3.93558425e-01,   2.75393280e-01,   9.46725292e-02,\n",
       "          5.80309654e-03,   1.15528939e-01,   1.95471236e-02,\n",
       "          1.13882881e+00,   8.05915491e-01,   9.42049368e-01,\n",
       "          7.47659542e-01,   1.48340219e-02,   4.58377353e-01,\n",
       "          7.83593471e-03,   1.61050139e-01,   6.18760740e-01,\n",
       "          2.24996346e-01,   7.97964909e-02,   5.50491968e-01,\n",
       "          1.80333308e-01,   1.73355147e-01,   2.31307497e-03,\n",
       "          1.82035962e-01,   8.52421544e-01,   0.00000000e+00,\n",
       "          7.59300245e-01,   5.94954384e-03,   2.88696912e-01,\n",
       "          1.70174076e-01,   8.91540360e-02,   8.23353086e-01,\n",
       "          9.81939536e-01,   8.65060720e-02,   3.43978114e-01,\n",
       "          1.16330893e-01,   4.85643733e-01,   7.74458573e-02,\n",
       "          5.09530935e-01,   3.98437919e-01,   4.09986338e-01,\n",
       "          5.77237954e-02,   3.10000088e-02,   3.12307249e-01,\n",
       "          1.15212684e-01,   1.45051959e-02,   2.01732420e-01,\n",
       "          9.61824438e-01,   5.69479894e-01,   5.90935418e-01,\n",
       "          4.63895729e-01,   9.39870783e-02,   5.90588055e-01,\n",
       "          3.44811064e-01,   1.01483707e-01,   1.07780165e+00,\n",
       "          9.04780389e-01,   3.03897756e-01,   8.59506963e-01,\n",
       "          9.18048037e-01,   7.22559000e-01,   4.43396897e-01,\n",
       "          5.51160573e-01],\n",
       "       [  1.39445992e-01,   7.48238995e-03,   3.03304969e-01,\n",
       "          7.01572298e-02,   1.73529370e-02,   7.64015637e-01,\n",
       "          2.24296831e-01,   4.71154253e-01,   3.71882874e-01,\n",
       "          2.55184973e-01,   2.14256707e-01,   9.25249709e-02,\n",
       "          3.65457108e-01,   1.97576580e-01,   3.09451293e-01,\n",
       "          5.14366433e-01,   6.98750399e-01,   2.49389365e-02,\n",
       "          4.16862050e-01,   1.93447538e-01,   1.79443030e-01,\n",
       "          1.00997212e-01,   2.21348809e-01,   5.95217852e-01,\n",
       "          1.26466675e-01,   2.21514864e-01,   2.80922197e-01,\n",
       "          2.13248231e-01,   7.33659364e-02,   1.62680466e-01,\n",
       "          2.06808638e-01,   4.05539247e-01,   8.59791150e-01,\n",
       "          2.77397525e-01,   2.06311997e-01,   5.19384945e-01,\n",
       "          2.54606637e-01,   2.17137894e-01,   3.62336885e-01,\n",
       "          8.82376356e-02,   1.81088007e-01,   4.79173284e-01,\n",
       "          8.27325224e-01,   2.84376370e-01,   6.37465022e-01,\n",
       "          1.67092194e-01,   5.35862353e-01,   3.23180400e-02,\n",
       "          1.03710483e-01,   8.17642420e-01,   4.64538254e-02,\n",
       "          9.18660688e-01,   2.91861199e-01,   3.96381597e-02,\n",
       "          1.80182052e-01,   3.49269676e-01,   9.67192464e-02,\n",
       "          3.48547359e-01,   2.11490380e-01,   7.85347153e-01,\n",
       "          7.26666032e-01,   1.23479681e-01,   7.59300245e-01,\n",
       "          0.00000000e+00,   7.09864223e-01,   1.22457816e-01,\n",
       "          2.19449142e-01,   6.10191702e-01,   2.10098139e-03,\n",
       "          1.14869544e-01,   3.46966496e-01,   1.22587533e-01,\n",
       "          4.60714874e-01,   1.33695585e-01,   6.22830217e-01,\n",
       "          1.95563448e-01,   6.25681556e-01,   9.41218716e-02,\n",
       "          8.28812146e-01,   7.41063022e-01,   7.88748787e-01,\n",
       "          3.73074347e-01,   6.80119961e-01,   2.78383925e-01,\n",
       "          1.05130652e-01,   4.83829717e-01,   8.85638008e-01,\n",
       "          1.63906539e-01,   7.29597968e-01,   4.61544290e-02,\n",
       "          3.74833077e-01,   4.60525550e-01,   2.75108636e-01,\n",
       "          5.25911203e-02,   3.47707046e-01,   9.53015137e-02,\n",
       "          4.14730909e-01,   1.68287168e-01,   8.38037403e-02,\n",
       "          7.71958257e-02],\n",
       "       [  7.46876118e-01,   7.75518134e-01,   2.30434741e-01,\n",
       "          1.01190980e+00,   5.06854840e-01,   8.68005671e-01,\n",
       "          8.42523689e-01,   5.03941740e-01,   6.84966613e-02,\n",
       "          7.31308614e-01,   5.31203459e-01,   3.02206600e-01,\n",
       "          9.29127739e-01,   2.23164879e-01,   4.61900514e-01,\n",
       "          8.87949103e-01,   3.79621150e-02,   4.99253775e-01,\n",
       "          8.49129061e-01,   4.42761373e-01,   4.88765038e-01,\n",
       "          2.80360934e-01,   4.93559349e-01,   4.02306283e-02,\n",
       "          3.21127211e-01,   1.22234446e+00,   9.86322493e-02,\n",
       "          3.31344158e-01,   1.08787897e+00,   4.40670249e-01,\n",
       "          1.63863945e-01,   8.33589201e-02,   2.00958848e-02,\n",
       "          8.31771345e-01,   1.85055086e-01,   3.37040442e-02,\n",
       "          1.20195624e+00,   1.41904807e-01,   6.86553624e-02,\n",
       "          3.80746370e-01,   2.23731036e-01,   1.17883399e-01,\n",
       "          2.34809611e-02,   9.61178903e-02,   3.63458621e-02,\n",
       "          1.13648885e+00,   8.69352080e-01,   9.09292919e-01,\n",
       "          7.46731466e-01,   3.91268327e-02,   4.10085311e-01,\n",
       "          1.69746760e-02,   1.68825240e-01,   5.51979804e-01,\n",
       "          1.86154792e-01,   7.18551707e-02,   4.76091669e-01,\n",
       "          1.28805915e-01,   1.46532428e-01,   1.56118766e-02,\n",
       "          2.37574910e-01,   8.53425684e-01,   5.94954384e-03,\n",
       "          7.09864223e-01,   0.00000000e+00,   2.49425196e-01,\n",
       "          1.59323567e-01,   1.23726227e-01,   7.75724982e-01,\n",
       "          9.75413776e-01,   8.37697527e-02,   2.90926999e-01,\n",
       "          1.41477833e-01,   4.90587915e-01,   1.10700603e-01,\n",
       "          4.25603998e-01,   4.62641056e-01,   4.00816377e-01,\n",
       "          9.78614352e-02,   5.95819193e-02,   3.83107911e-01,\n",
       "          1.28185565e-01,   1.88867685e-03,   1.51893135e-01,\n",
       "          9.53730482e-01,   6.25898927e-01,   6.81289408e-01,\n",
       "          4.74409544e-01,   1.37347900e-01,   5.24258203e-01,\n",
       "          3.82067608e-01,   1.23866297e-01,   1.10042677e+00,\n",
       "          8.83308994e-01,   3.35464788e-01,   8.53283620e-01,\n",
       "          9.66084641e-01,   7.35841817e-01,   4.33367608e-01,\n",
       "          5.43684352e-01],\n",
       "       [  2.58826382e-01,   1.62214486e-01,   1.35696198e-01,\n",
       "          3.11764176e-01,   4.76599025e-02,   7.22006024e-01,\n",
       "          3.58903452e-01,   3.74500215e-01,   6.75902337e-02,\n",
       "          3.33064180e-01,   2.17696899e-01,   1.66531952e-02,\n",
       "          4.91185573e-01,   1.99685722e-02,   2.50366805e-01,\n",
       "          5.71635084e-01,   2.78841494e-01,   5.84607087e-02,\n",
       "          4.91391422e-01,   1.63273695e-01,   1.00356226e-01,\n",
       "          1.05719512e-03,   2.05621213e-01,   2.17227144e-01,\n",
       "          5.66118818e-02,   5.09754072e-01,   3.96983251e-02,\n",
       "          6.10205771e-02,   3.42240885e-01,   7.48758941e-02,\n",
       "          1.11964887e-02,   8.58175185e-02,   3.58636229e-01,\n",
       "          3.90873730e-01,   1.43773080e-02,   1.37605059e-01,\n",
       "          5.25825909e-01,   1.64262170e-02,   8.20258064e-02,\n",
       "          5.66912395e-02,   1.31127369e-02,   1.90838636e-01,\n",
       "          3.43400231e-01,   3.99230979e-02,   2.40651751e-01,\n",
       "          4.36163922e-01,   5.77542784e-01,   2.39249379e-01,\n",
       "          2.32534867e-01,   3.49495026e-01,   1.98740193e-02,\n",
       "          3.86169859e-01,   9.54240720e-02,   6.39741804e-02,\n",
       "          5.66359780e-03,   7.45711473e-02,   5.79535011e-02,\n",
       "          6.70946175e-02,   1.50152748e-02,   3.12999818e-01,\n",
       "          4.06537262e-01,   2.91336499e-01,   2.88696912e-01,\n",
       "          1.22457816e-01,   2.49425196e-01,   0.00000000e+00,\n",
       "          3.66891045e-02,   2.75941498e-01,   1.53473482e-01,\n",
       "          3.33777370e-01,   8.22100535e-02,   8.01044418e-03,\n",
       "          1.91992119e-01,   1.42939843e-01,   2.76512312e-01,\n",
       "          8.52252428e-02,   4.52992007e-01,   7.13663532e-02,\n",
       "          3.92784290e-01,   3.18039197e-01,   5.15848531e-01,\n",
       "          1.27674610e-01,   2.28521847e-01,   3.85240861e-02,\n",
       "          3.17727020e-01,   4.37545134e-01,   7.14098407e-01,\n",
       "          1.57123882e-01,   3.55953580e-01,   5.59985261e-02,\n",
       "          2.56239060e-01,   1.82249747e-01,   4.99982245e-01,\n",
       "          2.47712057e-01,   2.16541933e-01,   2.70034427e-01,\n",
       "          5.39508930e-01,   2.74786814e-01,   7.89792796e-02,\n",
       "          1.24841235e-01],\n",
       "       [  2.27304320e-01,   2.42112927e-01,   3.71812341e-02,\n",
       "          3.68665842e-01,   1.20559593e-01,   4.90453267e-01,\n",
       "          2.96956145e-01,   2.08543863e-01,   6.27479180e-02,\n",
       "          2.47622680e-01,   1.38088553e-01,   2.69867052e-02,\n",
       "          3.82152664e-01,   8.32120126e-02,   1.34289187e-01,\n",
       "          4.09271469e-01,   1.35068973e-01,   1.01474579e-01,\n",
       "          3.56924122e-01,   9.20024752e-02,   2.54017561e-01,\n",
       "          4.16842943e-02,   1.22479447e-01,   9.18835928e-02,\n",
       "          2.90141601e-02,   5.08413223e-01,   1.14213843e-02,\n",
       "          1.73634718e-01,   4.16418145e-01,   2.12173856e-01,\n",
       "          3.55080830e-02,   1.01256589e-01,   2.14279896e-01,\n",
       "          3.05505560e-01,   5.69698279e-02,   1.16537451e-01,\n",
       "          5.02868967e-01,   1.24137677e-02,   1.94571013e-02,\n",
       "          4.74912578e-02,   7.08416091e-02,   6.11305146e-02,\n",
       "          1.96360342e-01,   1.31579259e-02,   1.08881329e-01,\n",
       "          4.49158270e-01,   4.07320595e-01,   3.11455812e-01,\n",
       "          2.20953689e-01,   1.89922911e-01,   9.15543315e-02,\n",
       "          2.51007413e-01,   1.45878636e-02,   1.85171607e-01,\n",
       "          3.34422572e-02,   1.72921110e-02,   1.86734648e-01,\n",
       "          1.07214121e-01,   1.23040237e-02,   1.77614521e-01,\n",
       "          1.98975577e-01,   2.81344166e-01,   1.70174076e-01,\n",
       "          2.19449142e-01,   1.59323567e-01,   3.66891045e-02,\n",
       "          0.00000000e+00,   1.13574668e-01,   2.50791437e-01,\n",
       "          3.48574546e-01,   1.46929171e-02,   7.70187442e-02,\n",
       "          6.09025863e-02,   9.98621291e-02,   1.15280339e-01,\n",
       "          2.24605481e-01,   2.48348229e-01,   5.52821607e-02,\n",
       "          2.02328583e-01,   1.55662350e-01,   2.81024134e-01,\n",
       "          2.76338875e-02,   1.54824160e-01,   8.11741536e-02,\n",
       "          3.35103114e-01,   2.69756087e-01,   4.50574659e-01,\n",
       "          9.90244702e-02,   1.67732320e-01,   1.73967334e-01,\n",
       "          1.20696943e-01,   5.59460263e-02,   4.49859021e-01,\n",
       "          2.92632909e-01,   9.19311535e-02,   2.77412179e-01,\n",
       "          4.16735893e-01,   2.27709366e-01,   6.75700817e-02,\n",
       "          1.15667992e-01],\n",
       "       [  4.23239195e-01,   6.15010376e-01,   6.11410230e-02,\n",
       "          7.28277239e-01,   4.52185304e-01,   3.44526885e-01,\n",
       "          4.50707873e-01,   1.48180076e-01,   1.94419296e-01,\n",
       "          3.51900998e-01,   2.32805534e-01,   2.37939466e-01,\n",
       "          4.62616841e-01,   3.48950778e-01,   1.58510517e-01,\n",
       "          3.92315542e-01,   2.84329770e-02,   3.88767624e-01,\n",
       "          3.86349500e-01,   1.91013236e-01,   6.80594237e-01,\n",
       "          2.92439494e-01,   2.07131179e-01,   2.34183693e-02,\n",
       "          1.84177601e-01,   7.91588865e-01,   1.23271027e-01,\n",
       "          5.20183607e-01,   8.08843597e-01,   6.11891464e-01,\n",
       "          2.38019037e-01,   2.59744378e-01,   8.67135491e-02,\n",
       "          4.18678761e-01,   2.87991468e-01,   2.04588228e-01,\n",
       "          7.49205519e-01,   1.70898551e-01,   6.98826033e-02,\n",
       "          2.39887536e-01,   3.30630715e-01,   8.19917166e-03,\n",
       "          6.89937462e-02,   1.26493349e-01,   2.60670912e-02,\n",
       "          7.49249385e-01,   3.74651989e-01,   6.85619790e-01,\n",
       "          4.49328688e-01,   4.75267177e-02,   4.07301077e-01,\n",
       "          1.29590675e-01,   5.81277355e-02,   5.88250861e-01,\n",
       "          2.46393518e-01,   7.70897185e-02,   5.85693486e-01,\n",
       "          3.12411550e-01,   1.73798991e-01,   7.07027112e-02,\n",
       "          2.06438197e-02,   5.21750147e-01,   8.91540360e-02,\n",
       "          6.10191702e-01,   1.23726227e-01,   2.75941498e-01,\n",
       "          1.13574668e-01,   0.00000000e+00,   6.49162374e-01,\n",
       "          6.39009046e-01,   6.14849241e-02,   3.67016080e-01,\n",
       "          1.07249534e-02,   2.51170643e-01,   4.41333817e-04,\n",
       "          6.21906660e-01,   1.10805471e-01,   2.39452950e-01,\n",
       "          2.12258716e-02,   2.01661661e-02,   7.31815860e-02,\n",
       "          3.00936292e-02,   1.46177531e-01,   3.00456348e-01,\n",
       "          6.27874181e-01,   2.19054544e-01,   2.24410093e-01,\n",
       "          2.23696120e-01,   5.39767886e-03,   5.68595421e-01,\n",
       "          1.00842949e-01,   1.06373347e-02,   6.43739379e-01,\n",
       "          6.22682716e-01,   8.54807576e-02,   5.45742843e-01,\n",
       "          4.76218678e-01,   3.96977907e-01,   2.63224652e-01,\n",
       "          3.27646560e-01],\n",
       "       [  1.27083948e-01,   2.86720304e-03,   3.25250540e-01,\n",
       "          5.01344281e-02,   3.01704527e-02,   7.52104785e-01,\n",
       "          2.06171187e-01,   4.74868735e-01,   4.24741844e-01,\n",
       "          2.42650926e-01,   2.13314884e-01,   1.13650922e-01,\n",
       "          3.43168907e-01,   2.39760818e-01,   3.13445354e-01,\n",
       "          4.95927598e-01,   7.52439441e-01,   3.38167337e-02,\n",
       "          3.99129643e-01,   1.98402210e-01,   2.17673943e-01,\n",
       "          1.29168022e-01,   2.22807570e-01,   6.44898996e-01,\n",
       "          1.42308325e-01,   1.87895018e-01,   3.21813514e-01,\n",
       "          2.57440438e-01,   5.13495982e-02,   2.00290690e-01,\n",
       "          2.47114759e-01,   4.63014345e-01,   9.25325848e-01,\n",
       "          2.59652267e-01,   2.48200423e-01,   5.81723178e-01,\n",
       "          2.20973891e-01,   2.54904707e-01,   4.04980066e-01,\n",
       "          1.00597083e-01,   2.21219782e-01,   5.15201305e-01,\n",
       "          8.90021999e-01,   3.25916671e-01,   6.89160336e-01,\n",
       "          1.37946581e-01,   5.18797272e-01,   1.91560068e-02,\n",
       "          9.22778169e-02,   8.76571273e-01,   6.74713503e-02,\n",
       "          9.89857259e-01,   3.20085642e-01,   5.89362829e-02,\n",
       "          2.17797487e-01,   3.91703747e-01,   1.26150327e-01,\n",
       "          4.03275154e-01,   2.48786976e-01,   8.47698796e-01,\n",
       "          7.58321056e-01,   1.06507932e-01,   8.23353086e-01,\n",
       "          2.10098139e-03,   7.75724982e-01,   1.53473482e-01,\n",
       "          2.50791437e-01,   6.49162374e-01,   0.00000000e+00,\n",
       "          9.32888744e-02,   3.86754565e-01,   1.56198336e-01,\n",
       "          4.93706813e-01,   1.36142156e-01,   6.63702123e-01,\n",
       "          2.36719517e-01,   6.36055644e-01,   1.04393351e-01,\n",
       "          8.79447077e-01,   7.93049741e-01,   8.10314616e-01,\n",
       "          4.06249632e-01,   7.46588059e-01,   3.27306474e-01,\n",
       "          8.47747452e-02,   4.79945648e-01,   8.89010316e-01,\n",
       "          1.66959892e-01,   7.71344690e-01,   6.72028686e-02,\n",
       "          3.85294344e-01,   4.95473694e-01,   2.45119017e-01,\n",
       "          3.79943350e-02,   3.61280266e-01,   7.93373362e-02,\n",
       "          3.90987501e-01,   1.56008637e-01,   9.19884651e-02,\n",
       "          7.79461845e-02],\n",
       "       [  2.42876428e-02,   6.43204235e-02,   3.07805629e-01,\n",
       "          1.24423776e-02,   1.65973608e-01,   4.22279730e-01,\n",
       "          4.12864230e-02,   2.94020943e-01,   6.60673785e-01,\n",
       "          7.72703543e-02,   1.09389105e-01,   2.17033149e-01,\n",
       "          1.04673909e-01,   5.03256536e-01,   1.91060982e-01,\n",
       "          2.14523390e-01,   8.33131182e-01,   1.16767081e-01,\n",
       "          1.53022020e-01,   1.31888059e-01,   5.66075759e-01,\n",
       "          3.00541705e-01,   1.26176341e-01,   7.27766524e-01,\n",
       "          1.77267675e-01,   1.92339983e-02,   4.74352067e-01,\n",
       "          5.86984036e-01,   2.40296629e-02,   5.27013485e-01,\n",
       "          4.57135171e-01,   7.43991966e-01,   1.06131838e+00,\n",
       "          6.97332165e-02,   4.86640200e-01,   8.43855616e-01,\n",
       "          2.74879334e-02,   4.20478330e-01,   5.26510441e-01,\n",
       "          1.40180297e-01,   4.68700165e-01,   5.28558928e-01,\n",
       "          1.00953125e+00,   4.83253534e-01,   7.74181828e-01,\n",
       "          6.84868347e-03,   2.34880926e-01,   3.14140043e-02,\n",
       "          1.67175545e-02,   9.63920186e-01,   2.40621832e-01,\n",
       "          1.16313438e+00,   3.52561073e-01,   2.80690900e-01,\n",
       "          4.19076620e-01,   5.18306080e-01,   4.04470339e-01,\n",
       "          6.99546596e-01,   4.13629554e-01,   9.78929148e-01,\n",
       "          6.61825523e-01,   6.59624090e-03,   9.81939536e-01,\n",
       "          1.14869544e-01,   9.75413776e-01,   3.33777370e-01,\n",
       "          3.48574546e-01,   6.39009046e-01,   9.32888744e-02,\n",
       "          0.00000000e+00,   4.89125746e-01,   3.85789754e-01,\n",
       "          4.91136653e-01,   9.00767025e-02,   6.63832075e-01,\n",
       "          5.82581607e-01,   4.42352505e-01,   1.26224371e-01,\n",
       "          8.92226904e-01,   8.44384543e-01,   6.34915671e-01,\n",
       "          4.40116120e-01,   9.67939278e-01,   5.99047755e-01,\n",
       "          2.27236450e-04,   2.61095829e-01,   5.94769929e-01,\n",
       "          1.06552169e-01,   7.44688403e-01,   2.93528774e-01,\n",
       "          2.71167853e-01,   5.07629171e-01,   3.77240685e-02,\n",
       "          1.22141607e-02,   2.74380704e-01,   4.08596728e-03,\n",
       "          1.29875719e-01,   3.57862509e-02,   1.09315567e-01,\n",
       "          6.27081712e-02],\n",
       "       [  3.30569146e-01,   3.75884117e-01,   4.50304972e-02,\n",
       "          5.23454042e-01,   2.16970398e-01,   5.10548906e-01,\n",
       "          3.99106767e-01,   2.24713949e-01,   4.79803753e-02,\n",
       "          3.29049552e-01,   1.98985457e-01,   8.12287798e-02,\n",
       "          4.73169492e-01,   1.17564018e-01,   1.70422418e-01,\n",
       "          4.70738286e-01,   6.15147113e-02,   1.93385443e-01,\n",
       "          4.28467961e-01,   1.44665422e-01,   3.33379931e-01,\n",
       "          9.44521086e-02,   1.77174661e-01,   3.38371128e-02,\n",
       "          7.81066165e-02,   6.66139852e-01,   1.06865575e-02,\n",
       "          2.24322172e-01,   5.82255341e-01,   2.86033348e-01,\n",
       "          5.75615106e-02,   8.57005590e-02,   1.17054951e-01,\n",
       "          3.97270300e-01,   8.34127987e-02,   7.63462570e-02,\n",
       "          6.51729970e-01,   2.78396527e-02,   1.15220268e-03,\n",
       "          1.11038835e-01,   1.06985104e-01,   2.82944930e-02,\n",
       "          1.03644968e-01,   1.17612400e-02,   4.42073442e-02,\n",
       "          6.03931287e-01,   4.62837753e-01,   4.58968669e-01,\n",
       "          3.30582314e-01,   9.95056748e-02,   1.71244073e-01,\n",
       "          1.46364992e-01,   1.72892387e-02,   2.88629709e-01,\n",
       "          6.22439022e-02,   1.57658013e-03,   2.73269236e-01,\n",
       "          1.07243790e-01,   2.91952016e-02,   9.03755872e-02,\n",
       "          1.42766514e-01,   4.02582548e-01,   8.65060720e-02,\n",
       "          3.46966496e-01,   8.37697527e-02,   8.22100535e-02,\n",
       "          1.46929171e-02,   6.14849241e-02,   3.86754565e-01,\n",
       "          4.89125746e-01,   0.00000000e+00,   1.30700095e-01,\n",
       "          3.35036907e-02,   1.69082636e-01,   5.98967675e-02,\n",
       "          2.92307823e-01,   2.35432770e-01,   1.20128093e-01,\n",
       "          1.15613557e-01,   7.78229183e-02,   2.33557652e-01,\n",
       "          1.26433507e-02,   8.48163144e-02,   9.37273930e-02,\n",
       "          4.74292512e-01,   3.00202181e-01,   4.27290084e-01,\n",
       "          1.60866035e-01,   9.95171279e-02,   2.72635336e-01,\n",
       "          1.36031980e-01,   2.66462880e-02,   5.80339916e-01,\n",
       "          4.31760566e-01,   1.05607070e-01,   4.03802271e-01,\n",
       "          5.04979504e-01,   3.24410754e-01,   1.38466508e-01,\n",
       "          2.02189189e-01],\n",
       "       [  3.25363237e-01,   1.74301693e-01,   2.09563553e-01,\n",
       "          3.44093735e-01,   5.14827647e-02,   8.76932141e-01,\n",
       "          4.42687553e-01,   4.90155497e-01,   7.97703750e-02,\n",
       "          4.23618336e-01,   2.98106060e-01,   4.27970992e-02,\n",
       "          5.98559295e-01,   8.92354758e-03,   3.43726081e-01,\n",
       "          7.00142906e-01,   3.52074986e-01,   7.81023764e-02,\n",
       "          6.07070795e-01,   2.36141706e-01,   5.18023108e-02,\n",
       "          9.17675978e-03,   2.86031580e-01,   2.84903569e-01,\n",
       "          1.03018273e-01,   5.76771551e-01,   7.00718654e-02,\n",
       "          2.67777627e-02,   3.68211234e-01,   3.39813983e-02,\n",
       "          1.86365233e-02,   8.59959111e-02,   4.24404429e-01,\n",
       "          4.84793418e-01,   1.26807432e-02,   1.50797588e-01,\n",
       "          6.02435279e-01,   3.80794880e-02,   1.26460249e-01,\n",
       "          9.72116240e-02,   5.85092920e-03,   2.69352799e-01,\n",
       "          4.12208691e-01,   6.92032178e-02,   3.09864159e-01,\n",
       "          4.93908416e-01,   7.08638924e-01,   2.60319920e-01,\n",
       "          2.89624930e-01,   4.26316566e-01,   1.88905621e-02,\n",
       "          4.44170053e-01,   1.57359338e-01,   4.21585048e-02,\n",
       "          1.33210109e-02,   1.16796773e-01,   2.61682528e-02,\n",
       "          5.81223745e-02,   3.63982721e-02,   3.76866271e-01,\n",
       "          5.22419222e-01,   3.51333985e-01,   3.43978114e-01,\n",
       "          1.22587533e-01,   2.90926999e-01,   8.01044418e-03,\n",
       "          7.70187442e-02,   3.67016080e-01,   1.56198336e-01,\n",
       "          3.85789754e-01,   1.30700095e-01,   0.00000000e+00,\n",
       "          2.73098448e-01,   2.04943726e-01,   3.65844031e-01,\n",
       "          4.10954542e-02,   5.81456844e-01,   1.16300336e-01,\n",
       "          4.88706216e-01,   4.00630927e-01,   6.50396196e-01,\n",
       "          1.94895919e-01,   2.62354950e-01,   3.22153102e-02,\n",
       "          3.67797419e-01,   5.58967680e-01,   8.73233246e-01,\n",
       "          2.25391963e-01,   4.56680544e-01,   3.44729385e-02,\n",
       "          3.54010878e-01,   2.59958720e-01,   5.86260216e-01,\n",
       "          2.81815192e-01,   3.07438158e-01,   3.21673897e-01,\n",
       "          6.53923217e-01,   3.48165682e-01,   1.23201304e-01,\n",
       "          1.72919631e-01],\n",
       "       [  3.07639289e-01,   4.63376825e-01,   2.13762524e-02,\n",
       "          5.64884183e-01,   3.27726424e-01,   3.13579037e-01,\n",
       "          3.39875881e-01,   1.11400019e-01,   1.58281945e-01,\n",
       "          2.58711353e-01,   1.53281017e-01,   1.51312420e-01,\n",
       "          3.65776861e-01,   2.69373439e-01,   1.01167088e-01,\n",
       "          3.23228991e-01,   5.18085512e-02,   2.71385610e-01,\n",
       "          3.06526903e-01,   1.16183881e-01,   5.57540116e-01,\n",
       "          2.02881030e-01,   1.32428177e-01,   3.34809363e-02,\n",
       "          1.06137748e-01,   6.33758655e-01,   8.03402965e-02,\n",
       "          4.22659090e-01,   6.35422366e-01,   4.94848060e-01,\n",
       "          1.72184454e-01,   2.21504933e-01,   1.26802078e-01,\n",
       "          3.18213737e-01,   2.16677511e-01,   1.88444448e-01,\n",
       "          6.00437421e-01,   1.13431631e-01,   4.37918833e-02,\n",
       "          1.49278610e-01,   2.50516509e-01,   1.11467521e-03,\n",
       "          1.06264276e-01,   8.38297960e-02,   4.16294068e-02,\n",
       "          5.91617574e-01,   3.10776286e-01,   5.25335595e-01,\n",
       "          3.26644435e-01,   8.48233990e-02,   2.94753983e-01,\n",
       "          1.73688306e-01,   1.96656610e-02,   4.52513332e-01,\n",
       "          1.75361993e-01,   4.84863184e-02,   4.60857083e-01,\n",
       "          2.59985576e-01,   1.15131799e-01,   1.02597817e-01,\n",
       "          4.01831620e-02,   3.90698103e-01,   1.16330893e-01,\n",
       "          4.60714874e-01,   1.41477833e-01,   1.91992119e-01,\n",
       "          6.09025863e-02,   1.07249534e-02,   4.93706813e-01,\n",
       "          4.91136653e-01,   3.35036907e-02,   2.73098448e-01,\n",
       "          0.00000000e+00,   1.61011596e-01,   1.33326587e-02,\n",
       "          5.08917975e-01,   9.95345611e-02,   1.48833129e-01,\n",
       "          5.99653710e-02,   4.89901127e-02,   9.01469877e-02,\n",
       "          6.58120998e-03,   1.57882822e-01,   2.38896989e-01,\n",
       "          4.80621142e-01,   1.72480895e-01,   2.28138473e-01,\n",
       "          1.40690625e-01,   3.08422724e-02,   4.36647377e-01,\n",
       "          6.06664168e-02,   6.21551486e-04,   5.11447381e-01,\n",
       "          4.71865513e-01,   4.50386218e-02,   4.08795044e-01,\n",
       "          3.83127357e-01,   2.88028289e-01,   1.67740068e-01,\n",
       "          2.20887556e-01],\n",
       "       [  2.68322624e-02,   1.08100611e-01,   6.50609000e-02,\n",
       "          1.25851610e-01,   1.05762755e-01,   2.69541407e-01,\n",
       "          5.32151674e-02,   1.02947724e-01,   3.14519950e-01,\n",
       "          3.96190975e-02,   1.05941739e-02,   6.20356941e-02,\n",
       "          1.04206167e-01,   2.69493947e-01,   3.64896833e-02,\n",
       "          1.51553375e-01,   3.76202575e-01,   5.60313340e-02,\n",
       "          1.07354223e-01,   6.09200723e-03,   4.23720966e-01,\n",
       "          1.28809285e-01,   1.10992364e-02,   3.07588700e-01,\n",
       "          2.32110528e-02,   1.65115474e-01,   1.78027090e-01,\n",
       "          3.79554949e-01,   1.61910279e-01,   3.75677060e-01,\n",
       "          2.04274677e-01,   3.87202107e-01,   5.36912429e-01,\n",
       "          6.16268811e-02,   2.38783909e-01,   4.31672498e-01,\n",
       "          1.56937842e-01,   1.60360840e-01,   1.94089257e-01,\n",
       "          1.98758421e-02,   2.42341400e-01,   1.82308202e-01,\n",
       "          4.99135415e-01,   1.84410406e-01,   3.37699207e-01,\n",
       "          1.38356980e-01,   1.58136916e-01,   1.17685550e-01,\n",
       "          2.92285540e-02,   4.65277320e-01,   1.33078160e-01,\n",
       "          6.13709138e-01,   8.77840834e-02,   2.20684773e-01,\n",
       "          1.84089257e-01,   1.91107031e-01,   2.92914769e-01,\n",
       "          3.77147326e-01,   1.57166412e-01,   4.79384976e-01,\n",
       "          2.80876826e-01,   5.16646501e-02,   4.85643733e-01,\n",
       "          1.33695585e-01,   4.90587915e-01,   1.42939843e-01,\n",
       "          9.98621291e-02,   2.51170643e-01,   1.36142156e-01,\n",
       "          9.00767025e-02,   1.69082636e-01,   2.04943726e-01,\n",
       "          1.61011596e-01,   0.00000000e+00,   2.66101561e-01,\n",
       "          4.12770027e-01,   1.84055180e-01,   1.24788895e-02,\n",
       "          4.16936651e-01,   3.82883962e-01,   2.90243247e-01,\n",
       "          1.32660306e-01,   4.92201564e-01,   3.11431073e-01,\n",
       "          8.53424028e-02,   1.11621574e-01,   3.31137191e-01,\n",
       "          1.57229089e-03,   3.21400358e-01,   2.21152894e-01,\n",
       "          6.51385098e-02,   1.70088567e-01,   1.25816119e-01,\n",
       "          8.57712026e-02,   5.90880184e-02,   5.67153929e-02,\n",
       "          1.27151605e-01,   2.59812625e-02,   1.09480083e-02,\n",
       "          8.11703961e-03],\n",
       "       [  4.44688537e-01,   6.30995726e-01,   6.81922242e-02,\n",
       "          7.51657035e-01,   4.60381677e-01,   3.69269193e-01,\n",
       "          4.75304882e-01,   1.64684236e-01,   1.85803339e-01,\n",
       "          3.74371231e-01,   2.49912955e-01,   2.43459310e-01,\n",
       "          4.89926250e-01,   3.43988713e-01,   1.74015622e-01,\n",
       "          4.18810559e-01,   2.18696408e-02,   3.99274512e-01,\n",
       "          4.12036130e-01,   2.05298911e-01,   6.75845238e-01,\n",
       "          2.94232509e-01,   2.23210946e-01,   1.83516601e-02,\n",
       "          1.92758845e-01,   8.22157734e-01,   1.20496040e-01,\n",
       "          5.13446987e-01,   8.32826025e-01,   6.07710277e-01,\n",
       "          2.34590064e-01,   2.48678878e-01,   7.47845936e-02,\n",
       "          4.43512679e-01,   2.83524750e-01,   1.91954080e-01,\n",
       "          7.80158221e-01,   1.69117247e-01,   6.69122040e-02,\n",
       "          2.49727381e-01,   3.26696532e-01,   9.40487890e-03,\n",
       "          5.83996288e-02,   1.23397403e-01,   2.01986860e-02,\n",
       "          7.77537081e-01,   4.00660980e-01,   7.05618395e-01,\n",
       "          4.70007573e-01,   3.88617071e-02,   4.11797421e-01,\n",
       "          1.14931468e-01,   6.20203124e-02,   5.92661655e-01,\n",
       "          2.44125015e-01,   7.41217236e-02,   5.85373105e-01,\n",
       "          3.02161278e-01,   1.72208330e-01,   6.00614313e-02,\n",
       "          2.51954357e-02,   5.44915011e-01,   7.74458573e-02,\n",
       "          6.22830217e-01,   1.10700603e-01,   2.76512312e-01,\n",
       "          1.15280339e-01,   4.41333817e-04,   6.63702123e-01,\n",
       "          6.63832075e-01,   5.98967675e-02,   3.65844031e-01,\n",
       "          1.33326587e-02,   2.66101561e-01,   0.00000000e+00,\n",
       "          6.16079878e-01,   1.24963837e-01,   2.50360739e-01,\n",
       "          1.68648602e-02,   1.47006971e-02,   8.27886229e-02,\n",
       "          3.20752103e-02,   1.32589444e-01,   2.92796378e-01,\n",
       "          6.52096290e-01,   2.39039146e-01,   2.42775599e-01,\n",
       "          2.38614334e-01,   5.03126731e-03,   5.72268337e-01,\n",
       "          1.13753443e-01,   1.22735857e-02,   6.73513775e-01,\n",
       "          6.43809559e-01,   9.67878320e-02,   5.68146716e-01,\n",
       "          5.04428752e-01,   4.18661350e-01,   2.74997711e-01,\n",
       "          3.42754406e-01],\n",
       "       [  5.49715742e-01,   2.76377477e-01,   4.34537876e-01,\n",
       "          4.97240933e-01,   1.27714920e-01,   1.29394186e+00,\n",
       "          7.07254983e-01,   8.14477385e-01,   1.56295442e-01,\n",
       "          7.00452040e-01,   5.47609734e-01,   1.64009344e-01,\n",
       "          9.16462876e-01,   3.95560972e-02,   6.19274315e-01,\n",
       "          1.06243481e+00,   5.61442384e-01,   1.90615436e-01,\n",
       "          9.41055346e-01,   4.66548949e-01,   2.36444017e-03,\n",
       "          8.79043984e-02,   5.34462212e-01,   4.83941718e-01,\n",
       "          2.70809726e-01,   8.11698118e-01,   1.91656262e-01,\n",
       "          5.89455820e-03,   5.08376349e-01,   1.53398501e-03,\n",
       "          9.04437827e-02,   1.34265542e-01,   6.12175168e-01,\n",
       "          7.71305568e-01,   6.38435495e-02,   2.25284069e-01,\n",
       "          8.58296485e-01,   1.42036901e-01,   2.77939593e-01,\n",
       "          2.53720544e-01,   4.56578866e-02,   4.98155962e-01,\n",
       "          6.07884709e-01,   1.88111043e-01,   5.11351190e-01,\n",
       "          7.06597106e-01,   1.07596280e+00,   3.85826476e-01,\n",
       "          4.92948733e-01,   6.41164946e-01,   8.09613266e-02,\n",
       "          6.12454509e-01,   3.53485161e-01,   5.95452229e-02,\n",
       "          8.68082405e-02,   2.63550327e-01,   1.72615791e-02,\n",
       "          8.76569727e-02,   1.39976665e-01,   5.61913816e-01,\n",
       "          8.34715875e-01,   5.63483587e-01,   5.09530935e-01,\n",
       "          1.95563448e-01,   4.25603998e-01,   8.52252428e-02,\n",
       "          2.24605481e-01,   6.21906660e-01,   2.36719517e-01,\n",
       "          5.82581607e-01,   2.92307823e-01,   4.10954542e-02,\n",
       "          5.08917975e-01,   4.12770027e-01,   6.16079878e-01,\n",
       "          0.00000000e+00,   9.30744222e-01,   2.83375024e-01,\n",
       "          7.48946752e-01,   6.31180159e-01,   1.00794100e+00,\n",
       "          4.00337114e-01,   3.80027221e-01,   7.01626759e-02,\n",
       "          5.59803192e-01,   8.99278168e-01,   1.29257791e+00,\n",
       "          4.46614428e-01,   7.31388052e-01,   5.17083127e-02,\n",
       "          6.36289101e-01,   4.87488894e-01,   8.61585211e-01,\n",
       "          4.36400880e-01,   5.73319872e-01,   5.15135392e-01,\n",
       "          9.87840895e-01,   5.87409577e-01,   2.89657596e-01,\n",
       "          3.51121519e-01],\n",
       "       [  2.61655226e-01,   5.74106955e-01,   9.40148411e-02,\n",
       "          5.67839159e-01,   5.26496909e-01,   6.46852466e-02,\n",
       "          2.31170142e-01,   1.52083161e-02,   4.95959900e-01,\n",
       "          1.56427873e-01,   1.20308994e-01,   3.31230116e-01,\n",
       "          1.85989714e-01,   6.18645327e-01,   5.77137954e-02,\n",
       "          1.09713594e-01,   2.51379150e-01,   4.17951201e-01,\n",
       "          1.25511914e-01,   1.23981288e-01,   9.78050318e-01,\n",
       "          4.52384100e-01,   1.08941519e-01,   2.30079697e-01,\n",
       "          2.18245435e-01,   5.02641410e-01,   3.28584328e-01,\n",
       "          8.33589102e-01,   6.45224755e-01,   8.95167243e-01,\n",
       "          4.71225254e-01,   6.05221657e-01,   3.90480118e-01,\n",
       "          1.87539323e-01,   5.43130930e-01,   5.61244102e-01,\n",
       "          4.47056155e-01,   3.69520769e-01,   2.66397625e-01,\n",
       "          2.61253996e-01,   5.82914940e-01,   1.18652134e-01,\n",
       "          3.51684932e-01,   3.37171052e-01,   2.42632000e-01,\n",
       "          4.99658959e-01,   9.66965032e-02,   5.81481116e-01,\n",
       "          3.06210686e-01,   2.96794775e-01,   5.37065036e-01,\n",
       "          4.77733805e-01,   1.44753590e-01,   7.36272084e-01,\n",
       "          4.63264614e-01,   2.75380771e-01,   8.07753391e-01,\n",
       "          6.54034919e-01,   3.69988336e-01,   3.58099123e-01,\n",
       "          5.38997800e-02,   3.41638422e-01,   3.98437919e-01,\n",
       "          6.25681556e-01,   4.62641056e-01,   4.52992007e-01,\n",
       "          2.48348229e-01,   1.10805471e-01,   6.36055644e-01,\n",
       "          4.42352505e-01,   2.35432770e-01,   5.81456844e-01,\n",
       "          9.95345611e-02,   1.84055180e-01,   1.24963837e-01,\n",
       "          9.30744222e-01,   0.00000000e+00,   2.42334879e-01,\n",
       "          1.94922608e-01,   2.20160452e-01,   2.07603958e-02,\n",
       "          1.38995550e-01,   4.99205796e-01,   6.03833365e-01,\n",
       "          4.41175065e-01,   3.29004842e-02,   2.99038123e-02,\n",
       "          1.51625770e-01,   1.19541841e-01,   7.26652357e-01,\n",
       "          3.25557279e-02,   1.15755531e-01,   3.50074678e-01,\n",
       "          4.92159212e-01,   4.51503296e-02,   3.83073332e-01,\n",
       "          1.81283959e-01,   2.26529479e-01,   2.54642815e-01,\n",
       "          2.69475793e-01],\n",
       "       [  6.29726983e-02,   8.76620572e-02,   6.15187067e-02,\n",
       "          1.43209241e-01,   5.49846095e-02,   3.80097541e-01,\n",
       "          1.11705830e-01,   1.59266150e-01,   2.17258643e-01,\n",
       "          9.63740939e-02,   4.32280807e-02,   1.90854218e-02,\n",
       "          1.88287847e-01,   1.66803556e-01,   7.35105384e-02,\n",
       "          2.48421853e-01,   3.29648966e-01,   2.39506491e-02,\n",
       "          1.92389482e-01,   2.44358119e-02,   2.94484955e-01,\n",
       "          6.11348863e-02,   4.05221358e-02,   2.61681245e-01,\n",
       "          4.52884639e-03,   2.30107221e-01,   1.12220200e-01,\n",
       "          2.54488987e-01,   1.76537995e-01,   2.53772390e-01,\n",
       "          1.19786233e-01,   2.73577975e-01,   4.68173001e-01,\n",
       "          1.28211046e-01,   1.44423722e-01,   3.22586991e-01,\n",
       "          2.30087861e-01,   9.13333712e-02,   1.37872370e-01,\n",
       "          8.57214545e-04,   1.45608210e-01,   1.63867321e-01,\n",
       "          4.36773572e-01,   1.16807134e-01,   2.90400398e-01,\n",
       "          1.89491766e-01,   2.55364089e-01,   1.16307363e-01,\n",
       "          5.61076037e-02,   4.14758050e-01,   6.72489188e-02,\n",
       "          5.30800995e-01,   6.57134008e-02,   1.39475014e-01,\n",
       "          1.03385507e-01,   1.33295230e-01,   1.89685337e-01,\n",
       "          2.59432642e-01,   8.85387115e-02,   4.13290456e-01,\n",
       "          3.00002608e-01,   8.84227525e-02,   4.09986338e-01,\n",
       "          9.41218716e-02,   4.00816377e-01,   7.13663532e-02,\n",
       "          5.52821607e-02,   2.39452950e-01,   1.04393351e-01,\n",
       "          1.26224371e-01,   1.20128093e-01,   1.16300336e-01,\n",
       "          1.48833129e-01,   1.24788895e-02,   2.50360739e-01,\n",
       "          2.83375024e-01,   2.42334879e-01,   0.00000000e+00,\n",
       "          3.93726062e-01,   3.46550798e-01,   3.38710895e-01,\n",
       "          1.08451762e-01,   3.95108668e-01,   2.03744518e-01,\n",
       "          1.18203076e-01,   1.83001921e-01,   4.24816242e-01,\n",
       "          1.85559597e-02,   3.14160603e-01,   1.37847385e-01,\n",
       "          9.72512043e-02,   1.52409189e-01,   2.02297674e-01,\n",
       "          9.73740120e-02,   8.12012696e-02,   8.50315704e-02,\n",
       "          2.19155983e-01,   6.78170392e-02,   6.56972888e-04,\n",
       "          1.10463953e-02],\n",
       "       [  6.33968131e-01,   8.45746749e-01,   1.52798027e-01,\n",
       "          9.92818041e-01,   6.32438749e-01,   4.79891429e-01,\n",
       "          6.65995394e-01,   2.64928143e-01,   2.35866095e-01,\n",
       "          5.43121639e-01,   3.94342731e-01,   3.72183781e-01,\n",
       "          6.71890926e-01,   4.44952541e-01,   2.92974001e-01,\n",
       "          5.71252385e-01,   1.61164335e-02,   5.68769158e-01,\n",
       "          5.73683187e-01,   3.39441629e-01,   8.20962144e-01,\n",
       "          4.18556690e-01,   3.60764357e-01,   2.89411114e-02,\n",
       "          3.18882341e-01,   1.07189934e+00,   1.88910077e-01,\n",
       "          6.28964463e-01,   1.08526262e+00,   7.47900728e-01,\n",
       "          3.24753293e-01,   2.96025831e-01,   4.16394373e-02,\n",
       "          6.24242306e-01,   3.77153293e-01,   2.13981954e-01,\n",
       "          1.02154121e+00,   2.54112571e-01,   1.18001681e-01,\n",
       "          3.90975853e-01,   4.30227283e-01,   4.96110696e-02,\n",
       "          3.07212572e-02,   1.90909788e-01,   2.36751126e-02,\n",
       "          1.02258085e+00,   5.46902858e-01,   9.36984813e-01,\n",
       "          6.64893976e-01,   1.49610586e-02,   5.64576397e-01,\n",
       "          7.23697748e-02,   1.39087215e-01,   7.68598999e-01,\n",
       "          3.41804147e-01,   1.27743426e-01,   7.41015636e-01,\n",
       "          3.65385898e-01,   2.58786928e-01,   3.76971526e-02,\n",
       "          4.52187680e-02,   7.53120637e-01,   5.77237954e-02,\n",
       "          8.28812146e-01,   9.78614352e-02,   3.92784290e-01,\n",
       "          2.02328583e-01,   2.12258716e-02,   8.79447077e-01,\n",
       "          8.92226904e-01,   1.15613557e-01,   4.88706216e-01,\n",
       "          5.99653710e-02,   4.16936651e-01,   1.68648602e-02,\n",
       "          7.48946752e-01,   1.94922608e-01,   3.93726062e-01,\n",
       "          0.00000000e+00,   5.63191511e-03,   1.15369905e-01,\n",
       "          9.03360654e-02,   1.24723087e-01,   3.70316043e-01,\n",
       "          8.78683155e-01,   3.55997470e-01,   3.05942818e-01,\n",
       "          3.82228675e-01,   9.41664007e-03,   7.42938838e-01,\n",
       "          2.10327444e-01,   5.62773275e-02,   8.96000074e-01,\n",
       "          8.67877993e-01,   1.90467198e-01,   7.80782225e-01,\n",
       "          6.84398717e-01,   6.01713100e-01,   4.24962693e-01,\n",
       "          5.10636138e-01],\n",
       "       [  6.00681752e-01,   7.66926334e-01,   1.33190405e-01,\n",
       "          9.28250411e-01,   5.50178601e-01,   5.23303085e-01,\n",
       "          6.46425446e-01,   2.77642657e-01,   1.69398922e-01,\n",
       "          5.30612891e-01,   3.75517259e-01,   3.11042081e-01,\n",
       "          6.71875844e-01,   3.56078085e-01,   2.86425599e-01,\n",
       "          5.90374936e-01,   2.73779690e-03,   4.99376958e-01,\n",
       "          5.81838934e-01,   3.15339796e-01,   6.98736805e-01,\n",
       "          3.43298691e-01,   3.42452537e-01,   9.89067472e-03,\n",
       "          2.74172547e-01,   1.03449022e+00,   1.35654531e-01,\n",
       "          5.20414640e-01,   1.01475816e+00,   6.32180812e-01,\n",
       "          2.51497690e-01,   2.20143160e-01,   2.43205319e-02,\n",
       "          6.13537491e-01,   2.96317422e-01,   1.50416303e-01,\n",
       "          9.92442052e-01,   1.92632500e-01,   7.73059618e-02,\n",
       "          3.40421440e-01,   3.44193243e-01,   3.70376430e-02,\n",
       "          1.54311692e-02,   1.36845220e-01,   6.38591372e-03,\n",
       "          9.78090788e-01,   5.68561892e-01,   8.64124674e-01,\n",
       "          6.23619082e-01,   5.81084777e-03,   4.79901882e-01,\n",
       "          4.95278065e-02,   1.10479519e-01,   6.65503294e-01,\n",
       "          2.68162380e-01,   8.50888040e-02,   6.31443632e-01,\n",
       "          2.80986276e-01,   1.96972220e-01,   1.80504254e-02,\n",
       "          6.40959917e-02,   7.13182649e-01,   3.10000088e-02,\n",
       "          7.41063022e-01,   5.95819193e-02,   3.18039197e-01,\n",
       "          1.55662350e-01,   2.01661661e-02,   7.93049741e-01,\n",
       "          8.44384543e-01,   7.78229183e-02,   4.00630927e-01,\n",
       "          4.89901127e-02,   3.82883962e-01,   1.47006971e-02,\n",
       "          6.31180159e-01,   2.20160452e-01,   3.46550798e-01,\n",
       "          5.63191511e-03,   0.00000000e+00,   1.48269190e-01,\n",
       "          6.73666401e-02,   7.99272548e-02,   2.86985070e-01,\n",
       "          8.29419321e-01,   3.72087576e-01,   3.56265398e-01,\n",
       "          3.53734361e-01,   1.73148582e-02,   6.40468288e-01,\n",
       "          2.08984098e-01,   4.27755002e-02,   8.76058050e-01,\n",
       "          8.06006056e-01,   1.83829695e-01,   7.33815994e-01,\n",
       "          6.90174536e-01,   5.74374118e-01,   3.76724824e-01,\n",
       "          4.64152864e-01],\n",
       "       [  4.11442874e-01,   7.48023738e-01,   1.26721967e-01,\n",
       "          7.73125710e-01,   6.51727343e-01,   1.33355987e-01,\n",
       "          3.83972400e-01,   6.89583253e-02,   4.84720907e-01,\n",
       "          2.85122920e-01,   2.20819572e-01,   4.09588983e-01,\n",
       "          3.30934782e-01,   6.62712464e-01,   1.30658616e-01,\n",
       "          2.23215480e-01,   1.82440705e-01,   5.41610615e-01,\n",
       "          2.48301140e-01,   2.12301350e-01,   1.06865377e+00,\n",
       "          5.24302970e-01,   2.01720913e-01,   1.79055553e-01,\n",
       "          2.95357931e-01,   7.20447934e-01,   3.39484806e-01,\n",
       "          8.92098246e-01,   8.62662142e-01,   9.80866041e-01,\n",
       "          5.04679769e-01,   5.89935323e-01,   2.90125949e-01,\n",
       "          3.29981638e-01,   5.79724972e-01,   5.18568569e-01,\n",
       "          6.56259181e-01,   3.98341894e-01,   2.58984042e-01,\n",
       "          3.54884480e-01,   6.30181433e-01,   1.01824386e-01,\n",
       "          2.57728986e-01,   3.46967229e-01,   1.83737688e-01,\n",
       "          7.11415661e-01,   2.03441963e-01,   7.74822965e-01,\n",
       "          4.61519915e-01,   2.07749804e-01,   6.40222563e-01,\n",
       "          3.66149084e-01,   1.67996407e-01,   8.63742034e-01,\n",
       "          5.05187464e-01,   2.70631321e-01,   9.11579736e-01,\n",
       "          6.55842494e-01,   4.00567197e-01,   2.69708698e-01,\n",
       "          1.74743983e-02,   5.12163582e-01,   3.12307249e-01,\n",
       "          7.88748787e-01,   3.83107911e-01,   5.15848531e-01,\n",
       "          2.81024134e-01,   7.31815860e-02,   8.10314616e-01,\n",
       "          6.34915671e-01,   2.33557652e-01,   6.50396196e-01,\n",
       "          9.01469877e-02,   2.90243247e-01,   8.27886229e-02,\n",
       "          1.00794100e+00,   2.07603958e-02,   3.38710895e-01,\n",
       "          1.15369905e-01,   1.48269190e-01,   0.00000000e+00,\n",
       "          1.41531966e-01,   4.24628656e-01,   6.21933812e-01,\n",
       "          6.31544668e-01,   1.05920562e-01,   4.55681251e-02,\n",
       "          2.50214104e-01,   6.42792639e-02,   8.48224677e-01,\n",
       "          8.06985973e-02,   1.03130793e-01,   5.38832324e-01,\n",
       "          6.78374995e-01,   8.94693015e-02,   5.57886986e-01,\n",
       "          3.24569363e-01,   3.69881595e-01,   3.58380047e-01,\n",
       "          3.93676666e-01],\n",
       "       [  2.75528087e-01,   3.83488832e-01,   1.50085675e-02,\n",
       "          4.95914209e-01,   2.49467735e-01,   3.66141230e-01,\n",
       "          3.21090208e-01,   1.34987661e-01,   1.09879815e-01,\n",
       "          2.49446835e-01,   1.40658909e-01,   9.89129049e-02,\n",
       "          3.67249396e-01,   1.92955877e-01,   1.03610947e-01,\n",
       "          3.46991057e-01,   6.21763031e-02,   2.06084398e-01,\n",
       "          3.18421508e-01,   9.95798299e-02,   4.43135496e-01,\n",
       "          1.37113657e-01,   1.21118617e-01,   3.63512943e-02,\n",
       "          7.02056674e-02,   5.90493778e-01,   4.27782727e-02,\n",
       "          3.25180575e-01,   5.59289222e-01,   3.87420429e-01,\n",
       "          1.12397314e-01,   1.64160781e-01,   1.36510263e-01,\n",
       "          3.09317089e-01,   1.49027735e-01,   1.46187672e-01,\n",
       "          5.66327400e-01,   6.58333933e-02,   2.06174464e-02,\n",
       "          1.05822118e-01,   1.76591345e-01,   6.87847781e-03,\n",
       "          1.17326125e-01,   4.55778960e-02,   4.70671956e-02,\n",
       "          5.41939597e-01,   3.37761098e-01,   4.49359242e-01,\n",
       "          2.86017628e-01,   1.01480767e-01,   2.16383952e-01,\n",
       "          1.79069692e-01,   5.33081724e-03,   3.53305678e-01,\n",
       "          1.14312614e-01,   2.30878484e-02,   3.57662228e-01,\n",
       "          1.92400195e-01,   6.70185324e-02,   1.08750662e-01,\n",
       "          7.92507344e-02,   3.49822483e-01,   1.15212684e-01,\n",
       "          3.73074347e-01,   1.28185565e-01,   1.27674610e-01,\n",
       "          2.76338875e-02,   3.00936292e-02,   4.06249632e-01,\n",
       "          4.40116120e-01,   1.26433507e-02,   1.94895919e-01,\n",
       "          6.58120998e-03,   1.32660306e-01,   3.20752103e-02,\n",
       "          4.00337114e-01,   1.38995550e-01,   1.08451762e-01,\n",
       "          9.03360654e-02,   6.73666401e-02,   1.41531966e-01,\n",
       "          0.00000000e+00,   1.37597407e-01,   1.70684375e-01,\n",
       "          4.28414746e-01,   1.97426313e-01,   2.93069631e-01,\n",
       "          1.18654195e-01,   6.09471354e-02,   3.38672973e-01,\n",
       "          7.08579278e-02,   5.02634212e-03,   4.88562708e-01,\n",
       "          4.07553744e-01,   5.03627655e-02,   3.60486502e-01,\n",
       "          3.90529886e-01,   2.62498006e-01,   1.25538702e-01,\n",
       "          1.78308428e-01],\n",
       "       [  7.48296689e-01,   7.50695188e-01,   2.41323277e-01,\n",
       "          9.94740014e-01,   4.80777950e-01,   9.14214906e-01,\n",
       "          8.51701394e-01,   5.32908545e-01,   5.33697714e-02,\n",
       "          7.44849789e-01,   5.41558809e-01,   2.88815975e-01,\n",
       "          9.49539745e-01,   1.94497095e-01,   4.79635517e-01,\n",
       "          9.19698333e-01,   5.38592522e-02,   4.80517625e-01,\n",
       "          8.74507443e-01,   4.50291861e-01,   4.40459167e-01,\n",
       "          2.59035177e-01,   5.04318330e-01,   5.26437823e-02,\n",
       "          3.17099487e-01,   1.22043930e+00,   9.06995502e-02,\n",
       "          2.91278563e-01,   1.06715761e+00,   3.96134795e-01,\n",
       "          1.44231773e-01,   6.29357600e-02,   3.42053093e-02,\n",
       "          8.46140136e-01,   1.61066687e-01,   2.06807095e-02,\n",
       "          1.20490110e+00,   1.29036284e-01,   6.81296743e-02,\n",
       "          3.73156520e-01,   1.96632467e-01,   1.33486817e-01,\n",
       "          3.86518979e-02,   8.77410241e-02,   4.98741622e-02,\n",
       "          1.13064398e+00,   9.02641278e-01,   8.87579430e-01,\n",
       "          7.43529277e-01,   5.77187182e-02,   3.82953737e-01,\n",
       "          2.81050916e-02,   1.74731893e-01,   5.14021307e-01,\n",
       "          1.66180859e-01,   7.01770157e-02,   4.34791097e-01,\n",
       "          1.03292550e-01,   1.33448241e-01,   2.82248894e-02,\n",
       "          2.71347178e-01,   8.50764326e-01,   1.45051959e-02,\n",
       "          6.80119961e-01,   1.88867685e-03,   2.28521847e-01,\n",
       "          1.54824160e-01,   1.46177531e-01,   7.46588059e-01,\n",
       "          9.67939278e-01,   8.48163144e-02,   2.62354950e-01,\n",
       "          1.57882822e-01,   4.92201564e-01,   1.32589444e-01,\n",
       "          3.80027221e-01,   4.99205796e-01,   3.95108668e-01,\n",
       "          1.24723087e-01,   7.99272548e-02,   4.24628656e-01,\n",
       "          1.37597407e-01,   0.00000000e+00,   1.26752508e-01,\n",
       "          9.45479223e-01,   6.56507499e-01,   7.32193494e-01,\n",
       "          4.79293892e-01,   1.65148050e-01,   4.86740302e-01,\n",
       "          4.03120501e-01,   1.38881103e-01,   1.10887425e+00,\n",
       "          8.67947346e-01,   3.53562019e-01,   8.46563402e-01,\n",
       "          9.89813906e-01,   7.40737535e-01,   4.26949410e-01,\n",
       "          5.37968835e-01],\n",
       "       [  4.89382338e-01,   3.48527624e-01,   2.26496531e-01,\n",
       "          5.66162924e-01,   1.60248393e-01,   9.70686817e-01,\n",
       "          6.17116034e-01,   5.49895684e-01,   1.70208609e-02,\n",
       "          5.69759373e-01,   4.04316186e-01,   1.00041766e-01,\n",
       "          7.71889415e-01,   8.14836698e-03,   4.19568793e-01,\n",
       "          8.41250544e-01,   2.38654662e-01,   1.90864975e-01,\n",
       "          7.55194561e-01,   3.23883100e-01,   9.63506129e-02,\n",
       "          5.13322040e-02,   3.82345775e-01,   1.92304079e-01,\n",
       "          1.66363188e-01,   8.28041523e-01,   4.25720743e-02,\n",
       "          3.56787297e-02,   6.03419015e-01,   7.51604843e-02,\n",
       "          1.12971499e-02,   1.35072972e-02,   2.67934739e-01,\n",
       "          6.49810026e-01,   5.89008191e-03,   4.81918809e-02,\n",
       "          8.46335241e-01,   3.02072699e-02,   8.08576595e-02,\n",
       "          1.79465075e-01,   1.06079842e-02,   2.24642957e-01,\n",
       "          2.65083808e-01,   3.98745731e-02,   2.07773736e-01,\n",
       "          7.33912371e-01,   8.42080963e-01,   4.62822991e-01,\n",
       "          4.57124108e-01,   2.88521396e-01,   9.75760801e-02,\n",
       "          2.70374286e-01,   1.57645620e-01,   1.44053350e-01,\n",
       "          1.69041858e-02,   7.37655285e-02,   9.40113960e-02,\n",
       "          4.03960573e-03,   3.06734143e-02,   2.34988626e-01,\n",
       "          4.66815473e-01,   5.39414726e-01,   2.01732420e-01,\n",
       "          2.78383925e-01,   1.51893135e-01,   3.85240861e-02,\n",
       "          8.11741536e-02,   3.00456348e-01,   3.27306474e-01,\n",
       "          5.99047755e-01,   9.37273930e-02,   3.22153102e-02,\n",
       "          2.38896989e-01,   3.11431073e-01,   2.92796378e-01,\n",
       "          7.01626759e-02,   6.03833365e-01,   2.03744518e-01,\n",
       "          3.70316043e-01,   2.86985070e-01,   6.21933812e-01,\n",
       "          1.70684375e-01,   1.26752508e-01,   0.00000000e+00,\n",
       "          5.77509962e-01,   6.45565139e-01,   9.00734915e-01,\n",
       "          3.24530324e-01,   3.71208173e-01,   1.28928631e-01,\n",
       "          3.99781453e-01,   2.20323178e-01,   8.07660968e-01,\n",
       "          4.80146234e-01,   3.45702564e-01,   5.12069803e-01,\n",
       "          8.27802867e-01,   5.06545500e-01,   2.19797893e-01,\n",
       "          2.97175582e-01],\n",
       "       [  2.34903631e-02,   5.71812831e-02,   2.99353623e-01,\n",
       "          1.06761772e-02,   1.53959034e-01,   4.28641901e-01,\n",
       "          4.32945855e-02,   2.93393103e-01,   6.39708837e-01,\n",
       "          7.84893619e-02,   1.06983781e-01,   2.04854226e-01,\n",
       "          1.09623678e-01,   4.82951135e-01,   1.88532499e-01,\n",
       "          2.20284464e-01,   8.16986722e-01,   1.07001501e-01,\n",
       "          1.57558209e-01,   1.27443417e-01,   5.43637613e-01,\n",
       "          2.85185056e-01,   1.23193320e-01,   7.12129779e-01,\n",
       "          1.68026768e-01,   2.35927778e-02,   4.57763614e-01,\n",
       "          5.64287836e-01,   2.22203833e-02,   5.05354549e-01,\n",
       "          4.38801798e-01,   7.20929085e-01,   1.04170893e+00,\n",
       "          7.24832501e-02,   4.67174701e-01,   8.20692351e-01,\n",
       "          3.26385375e-02,   4.03924865e-01,   5.10656527e-01,\n",
       "          1.31293529e-01,   4.49199857e-01,   5.17099515e-01,\n",
       "          9.90854863e-01,   4.66418968e-01,   7.58186593e-01,\n",
       "          9.36806387e-03,   2.40524183e-01,   2.70706827e-02,\n",
       "          1.49197948e-02,   9.46809593e-01,   2.26238385e-01,\n",
       "          1.14152343e+00,   3.41616658e-01,   2.65008311e-01,\n",
       "          4.01408743e-01,   5.02320872e-01,   3.85529073e-01,\n",
       "          6.76392528e-01,   3.97167042e-01,   9.59929457e-01,\n",
       "          6.54491315e-01,   6.37075344e-03,   9.61824438e-01,\n",
       "          1.05130652e-01,   9.53730482e-01,   3.17727020e-01,\n",
       "          3.35103114e-01,   6.27874181e-01,   8.47747452e-02,\n",
       "          2.27236450e-04,   4.74292512e-01,   3.67797419e-01,\n",
       "          4.80621142e-01,   8.53424028e-02,   6.52096290e-01,\n",
       "          5.59803192e-01,   4.41175065e-01,   1.18203076e-01,\n",
       "          8.78683155e-01,   8.29419321e-01,   6.31544668e-01,\n",
       "          4.28414746e-01,   9.45479223e-01,   5.77509962e-01,\n",
       "          0.00000000e+00,   2.62771112e-01,   5.97799671e-01,\n",
       "          1.02186913e-01,   7.33679064e-01,   2.77448754e-01,\n",
       "          2.67445613e-01,   4.96363464e-01,   4.27928354e-02,\n",
       "          9.28780994e-03,   2.69344083e-01,   2.93070691e-03,\n",
       "          1.35754671e-01,   3.55314737e-02,   1.01737990e-01,\n",
       "          5.72370717e-02],\n",
       "       [  1.33902472e-01,   4.18049868e-01,   1.14022642e-01,\n",
       "          3.71291221e-01,   4.32342984e-01,   3.59256668e-02,\n",
       "          9.89054693e-02,   6.91038740e-03,   5.74043742e-01,\n",
       "          5.43740985e-02,   5.43083666e-02,   2.95443609e-01,\n",
       "          6.27041076e-02,   6.27732231e-01,   2.60469655e-02,\n",
       "          2.53330971e-02,   3.99951846e-01,   3.25142214e-01,\n",
       "          2.99072423e-02,   7.37025029e-02,   9.29809907e-01,\n",
       "          4.25472718e-01,   5.27175583e-02,   3.56223727e-01,\n",
       "          1.83213047e-01,   2.88853698e-01,   3.77932907e-01,\n",
       "          8.25354002e-01,   4.33569068e-01,   8.52818440e-01,\n",
       "          4.92982779e-01,   6.88910585e-01,   5.79083436e-01,\n",
       "          6.79644651e-02,   5.61288924e-01,   6.79040959e-01,\n",
       "          2.43759145e-01,   3.96560986e-01,   3.38335409e-01,\n",
       "          2.05572042e-01,   5.87802515e-01,   2.01112340e-01,\n",
       "          5.32073831e-01,   3.87960469e-01,   3.78666192e-01,\n",
       "          2.93897936e-01,   2.07550588e-02,   4.00494996e-01,\n",
       "          1.71858682e-01,   4.70648263e-01,   4.71019101e-01,\n",
       "          6.80854214e-01,   1.77213855e-01,   6.40326225e-01,\n",
       "          4.74304414e-01,   3.44039149e-01,   7.42111266e-01,\n",
       "          7.16478422e-01,   3.94816716e-01,   5.31650452e-01,\n",
       "          1.59626849e-01,   1.87926671e-01,   5.69479894e-01,\n",
       "          4.83829717e-01,   6.25898927e-01,   4.37545134e-01,\n",
       "          2.69756087e-01,   2.19054544e-01,   4.79945648e-01,\n",
       "          2.61095829e-01,   3.00202181e-01,   5.58967680e-01,\n",
       "          1.72480895e-01,   1.11621574e-01,   2.39039146e-01,\n",
       "          8.99278168e-01,   3.29004842e-02,   1.83001921e-01,\n",
       "          3.55997470e-01,   3.72087576e-01,   1.05920562e-01,\n",
       "          1.97426313e-01,   6.56507499e-01,   6.45565139e-01,\n",
       "          2.62771112e-01,   0.00000000e+00,   6.80044756e-02,\n",
       "          8.85485220e-02,   2.49704908e-01,   6.38152767e-01,\n",
       "          3.20739941e-02,   1.92933351e-01,   1.72240290e-01,\n",
       "          3.19655874e-01,   4.97831612e-02,   2.24277501e-01,\n",
       "          5.98115100e-02,   1.06637415e-01,   1.86029876e-01,\n",
       "          1.74828452e-01],\n",
       "       [  3.92490350e-01,   8.08602038e-01,   2.29905600e-01,\n",
       "          7.57060067e-01,   7.85468289e-01,   3.42527002e-02,\n",
       "          3.27390412e-01,   6.49370519e-02,   7.61194338e-01,\n",
       "          2.43284599e-01,   2.31937491e-01,   5.53883325e-01,\n",
       "          2.36866979e-01,   9.20577431e-01,   1.48333526e-01,\n",
       "          1.24043489e-01,   4.05499544e-01,   6.45898732e-01,\n",
       "          1.63662653e-01,   2.52560532e-01,   1.34639491e+00,\n",
       "          7.11761166e-01,   2.21858828e-01,   3.92198887e-01,\n",
       "          4.01031920e-01,   6.21166021e-01,   5.54138550e-01,\n",
       "          1.17898951e+00,   8.44993493e-01,   1.24918227e+00,\n",
       "          7.38370279e-01,   8.94868949e-01,   5.64612058e-01,\n",
       "          2.65443791e-01,   8.27821865e-01,   8.29726519e-01,\n",
       "          5.48046932e-01,   6.09328870e-01,   4.67201038e-01,\n",
       "          4.52923052e-01,   8.76830317e-01,   2.53625394e-01,\n",
       "          5.18735310e-01,   5.65072257e-01,   4.03027755e-01,\n",
       "          6.37533949e-01,   1.07035657e-01,   7.94964865e-01,\n",
       "          4.54807383e-01,   4.47176797e-01,   8.09228722e-01,\n",
       "          6.69104839e-01,   3.05824129e-01,   1.04557700e+00,\n",
       "          7.28565400e-01,   4.80107813e-01,   1.14072476e+00,\n",
       "          9.58925338e-01,   6.10037419e-01,   5.33994230e-01,\n",
       "          1.18240531e-01,   4.81943619e-01,   5.90935418e-01,\n",
       "          8.85638008e-01,   6.81289408e-01,   7.14098407e-01,\n",
       "          4.50574659e-01,   2.24410093e-01,   8.89010316e-01,\n",
       "          5.94769929e-01,   4.27290084e-01,   8.73233246e-01,\n",
       "          2.28138473e-01,   3.31137191e-01,   2.42775599e-01,\n",
       "          1.29257791e+00,   2.99038123e-02,   4.24816242e-01,\n",
       "          3.05942818e-01,   3.56265398e-01,   4.55681251e-02,\n",
       "          2.93069631e-01,   7.32193494e-01,   9.00734915e-01,\n",
       "          5.97799671e-01,   6.80044756e-02,   0.00000000e+00,\n",
       "          2.87587776e-01,   2.17001975e-01,   1.03636852e+00,\n",
       "          1.18590604e-01,   2.51619333e-01,   4.35357637e-01,\n",
       "          6.81057402e-01,   1.45422300e-01,   5.39192676e-01,\n",
       "          2.18513671e-01,   3.44907366e-01,   4.37302872e-01,\n",
       "          4.41091102e-01],\n",
       "       [  3.26670117e-02,   1.35685426e-01,   5.28096871e-02,\n",
       "          1.50722210e-01,   1.29678086e-01,   2.34483113e-01,\n",
       "          5.35796194e-02,   7.92721170e-02,   3.17417948e-01,\n",
       "          3.44686305e-02,   5.14448986e-03,   7.21105851e-02,\n",
       "          9.54934197e-02,   2.87663327e-01,   2.29605800e-02,\n",
       "          1.31458705e-01,   3.50632124e-01,   7.43520523e-02,\n",
       "          9.28636144e-02,   1.58638389e-03,   4.60856754e-01,\n",
       "          1.44162908e-01,   4.61966446e-03,   2.86295570e-01,\n",
       "          2.62217377e-02,   1.79843931e-01,   1.77679328e-01,\n",
       "          4.07544960e-01,   1.90563827e-01,   4.09552146e-01,\n",
       "          2.14737763e-01,   3.93647088e-01,   5.09700201e-01,\n",
       "          5.71612130e-02,   2.52775552e-01,   4.30039774e-01,\n",
       "          1.67255163e-01,   1.65368139e-01,   1.86515863e-01,\n",
       "          2.70899026e-02,   2.59648830e-01,   1.61878992e-01,\n",
       "          4.71740130e-01,   1.84287845e-01,   3.14835177e-01,\n",
       "          1.55436779e-01,   1.36261389e-01,   1.44798668e-01,\n",
       "          3.90146548e-02,   4.35807972e-01,   1.55690563e-01,\n",
       "          5.87646030e-01,   7.83348189e-02,   2.53626799e-01,\n",
       "          1.95605974e-01,   1.84640369e-01,   3.26102515e-01,\n",
       "          3.88983794e-01,   1.62499782e-01,   4.54413268e-01,\n",
       "          2.45116373e-01,   6.24870763e-02,   4.63895729e-01,\n",
       "          1.63906539e-01,   4.74409544e-01,   1.57123882e-01,\n",
       "          9.90244702e-02,   2.23696120e-01,   1.66959892e-01,\n",
       "          1.06552169e-01,   1.60866035e-01,   2.25391963e-01,\n",
       "          1.40690625e-01,   1.57229089e-03,   2.38614334e-01,\n",
       "          4.46614428e-01,   1.51625770e-01,   1.85559597e-02,\n",
       "          3.82228675e-01,   3.53734361e-01,   2.50214104e-01,\n",
       "          1.18654195e-01,   4.79293892e-01,   3.24530324e-01,\n",
       "          1.02186913e-01,   8.85485220e-02,   2.87587776e-01,\n",
       "          0.00000000e+00,   2.88290987e-01,   2.53210839e-01,\n",
       "          4.68045777e-02,   1.50493148e-01,   1.30119335e-01,\n",
       "          1.07498552e-01,   4.25856535e-02,   7.09543069e-02,\n",
       "          1.15820941e-01,   2.86297400e-02,   1.82476736e-02,\n",
       "          1.68287464e-02],\n",
       "       [  5.06888950e-01,   7.32696852e-01,   9.96416880e-02,\n",
       "          8.47686279e-01,   5.56382166e-01,   3.57975096e-01,\n",
       "          5.27374407e-01,   1.74657435e-01,   2.46077679e-01,\n",
       "          4.16813525e-01,   2.92413381e-01,   3.15004607e-01,\n",
       "          5.25462704e-01,   4.31169127e-01,   2.02244630e-01,\n",
       "          4.34082471e-01,   3.10059474e-02,   4.85014402e-01,\n",
       "          4.37419375e-01,   2.49799769e-01,   7.96920274e-01,\n",
       "          3.75630180e-01,   2.63983271e-01,   3.49716723e-02,\n",
       "          2.51332361e-01,   8.99254231e-01,   1.74319767e-01,\n",
       "          6.18386228e-01,   9.35553765e-01,   7.22891292e-01,\n",
       "          3.07819495e-01,   3.15567359e-01,   8.15784039e-02,\n",
       "          4.86918149e-01,   3.63179198e-01,   2.44570485e-01,\n",
       "          8.49323693e-01,   2.32407666e-01,   1.07835734e-01,\n",
       "          3.15678694e-01,   4.12221792e-01,   2.68760128e-02,\n",
       "          6.47184156e-02,   1.77659367e-01,   3.40980936e-02,\n",
       "          8.59090895e-01,   4.12801897e-01,   8.06032026e-01,\n",
       "          5.39359532e-01,   4.12579878e-02,   5.05877143e-01,\n",
       "          1.24082304e-01,   9.88299889e-02,   7.05223612e-01,\n",
       "          3.19110315e-01,   1.17024189e-01,   6.98897848e-01,\n",
       "          3.78601337e-01,   2.36060784e-01,   7.07195879e-02,\n",
       "          1.48791301e-02,   6.15845264e-01,   9.39870783e-02,\n",
       "          7.29597968e-01,   1.37347900e-01,   3.55953580e-01,\n",
       "          1.67732320e-01,   5.39767886e-03,   7.71344690e-01,\n",
       "          7.44688403e-01,   9.95171279e-02,   4.56680544e-01,\n",
       "          3.08422724e-02,   3.21400358e-01,   5.03126731e-03,\n",
       "          7.31388052e-01,   1.19541841e-01,   3.14160603e-01,\n",
       "          9.41664007e-03,   1.73148582e-02,   6.42792639e-02,\n",
       "          6.09471354e-02,   1.65148050e-01,   3.71208173e-01,\n",
       "          7.33679064e-01,   2.49704908e-01,   2.17001975e-01,\n",
       "          2.88290987e-01,   0.00000000e+00,   6.83330887e-01,\n",
       "          1.33676848e-01,   3.11881863e-02,   7.32054388e-01,\n",
       "          7.34466856e-01,   1.20164052e-01,   6.45270956e-01,\n",
       "          5.35183877e-01,   4.75137762e-01,   3.40888262e-01,\n",
       "          4.10801260e-01],\n",
       "       [  2.90493782e-01,   8.93125318e-02,   3.19340723e-01,\n",
       "          2.28868204e-01,   2.23029669e-02,   9.74239432e-01,\n",
       "          4.10782851e-01,   5.90472289e-01,   2.19119333e-01,\n",
       "          4.23514992e-01,   3.28254084e-01,   7.89619624e-02,\n",
       "          5.85222913e-01,   7.23631400e-02,   4.12236149e-01,\n",
       "          7.33005485e-01,   5.84745037e-01,   5.68944757e-02,\n",
       "          6.23760947e-01,   2.78164548e-01,   4.44767122e-02,\n",
       "          4.62283458e-02,   3.25545820e-01,   4.93739863e-01,\n",
       "          1.48466518e-01,   4.59686669e-01,   1.89580210e-01,\n",
       "          6.38223418e-02,   2.35826221e-01,   3.55358825e-02,\n",
       "          1.02024123e-01,   2.25643572e-01,   6.92268313e-01,\n",
       "          4.69327433e-01,   8.87598765e-02,   3.28617969e-01,\n",
       "          4.99452727e-01,   1.32532858e-01,   2.73549039e-01,\n",
       "          1.20391448e-01,   6.68661318e-02,   4.40920488e-01,\n",
       "          6.73487966e-01,   1.89629861e-01,   5.28823841e-01,\n",
       "          3.80594958e-01,   7.50679394e-01,   1.55245101e-01,\n",
       "          2.44442325e-01,   6.84720697e-01,   1.46065548e-02,\n",
       "          7.22658799e-01,   2.74024190e-01,   4.29736199e-04,\n",
       "          8.65332468e-02,   2.59810774e-01,   9.25723123e-03,\n",
       "          1.73551488e-01,   1.28618588e-01,   6.29507381e-01,\n",
       "          7.32063762e-01,   2.88833813e-01,   5.90588055e-01,\n",
       "          4.61544290e-02,   5.24258203e-01,   5.59985261e-02,\n",
       "          1.73967334e-01,   5.68595421e-01,   6.72028686e-02,\n",
       "          2.93528774e-01,   2.72635336e-01,   3.44729385e-02,\n",
       "          4.36647377e-01,   2.21152894e-01,   5.72268337e-01,\n",
       "          5.17083127e-02,   7.26652357e-01,   1.37847385e-01,\n",
       "          7.42938838e-01,   6.40468288e-01,   8.48224677e-01,\n",
       "          3.38672973e-01,   4.86740302e-01,   1.28928631e-01,\n",
       "          2.77448754e-01,   6.38152767e-01,   1.03636852e+00,\n",
       "          2.53210839e-01,   6.83330887e-01,   0.00000000e+00,\n",
       "          4.54259494e-01,   4.26125872e-01,   5.11754982e-01,\n",
       "          1.90372893e-01,   4.09681391e-01,   2.50772066e-01,\n",
       "          6.45298437e-01,   3.23717266e-01,   1.35557649e-01,\n",
       "          1.61965255e-01],\n",
       "       [  1.33243282e-01,   3.39993520e-01,   2.54951323e-02,\n",
       "          3.56839880e-01,   2.97338905e-01,   1.24687306e-01,\n",
       "          1.31964632e-01,   1.19410520e-02,   3.36282390e-01,\n",
       "          7.88316145e-02,   3.61276476e-02,   1.60237213e-01,\n",
       "          1.31536517e-01,   3.95824905e-01,   7.42763210e-03,\n",
       "          1.05143483e-01,   2.22514977e-01,   2.17320008e-01,\n",
       "          9.45932481e-02,   3.13910602e-02,   6.70415352e-01,\n",
       "          2.52188385e-01,   2.78635284e-02,   1.84229569e-01,\n",
       "          8.34855929e-02,   3.47792458e-01,   1.92110195e-01,\n",
       "          5.64065982e-01,   4.18136847e-01,   6.03007157e-01,\n",
       "          2.85260491e-01,   4.26002461e-01,   3.61052702e-01,\n",
       "          1.10363736e-01,   3.39794315e-01,   4.15962170e-01,\n",
       "          3.12573746e-01,   2.10479796e-01,   1.62066404e-01,\n",
       "          1.09488218e-01,   3.65482893e-01,   7.81971748e-02,\n",
       "          3.25052507e-01,   1.99211632e-01,   2.02647574e-01,\n",
       "          3.30883785e-01,   9.94011415e-02,   3.55417856e-01,\n",
       "          1.58924343e-01,   2.82323546e-01,   3.08285203e-01,\n",
       "          4.39112372e-01,   5.89879649e-02,   4.61001917e-01,\n",
       "          2.74286273e-01,   1.66085608e-01,   5.24386004e-01,\n",
       "          4.51821559e-01,   2.09765647e-01,   3.20518906e-01,\n",
       "          8.72045599e-02,   1.93375741e-01,   3.44811064e-01,\n",
       "          3.74833077e-01,   3.82067608e-01,   2.56239060e-01,\n",
       "          1.20696943e-01,   1.00842949e-01,   3.85294344e-01,\n",
       "          2.71167853e-01,   1.36031980e-01,   3.54010878e-01,\n",
       "          6.06664168e-02,   6.51385098e-02,   1.13753443e-01,\n",
       "          6.36289101e-01,   3.25557279e-02,   9.72512043e-02,\n",
       "          2.10327444e-01,   2.08984098e-01,   8.06985973e-02,\n",
       "          7.08579278e-02,   4.03120501e-01,   3.99781453e-01,\n",
       "          2.67445613e-01,   3.20739941e-02,   1.18590604e-01,\n",
       "          4.68045777e-02,   1.33676848e-01,   4.54259494e-01,\n",
       "          0.00000000e+00,   7.21946466e-02,   2.40844253e-01,\n",
       "          2.91937560e-01,   2.00331331e-03,   2.18350951e-01,\n",
       "          1.39912615e-01,   1.12764998e-01,   1.05350769e-01,\n",
       "          1.18775864e-01],\n",
       "       [  3.22909941e-01,   4.67499963e-01,   2.50053774e-02,\n",
       "          5.77808954e-01,   3.24113762e-01,   3.42102690e-01,\n",
       "          3.59908037e-01,   1.28151874e-01,   1.41051986e-01,\n",
       "          2.77692660e-01,   1.66412291e-01,   1.48000080e-01,\n",
       "          3.90938306e-01,   2.52585598e-01,   1.14429649e-01,\n",
       "          3.50168287e-01,   4.35401401e-02,   2.71639497e-01,\n",
       "          3.31255740e-01,   1.25977988e-01,   5.36526777e-01,\n",
       "          1.94212861e-01,   1.44667168e-01,   2.58587770e-02,\n",
       "          1.07866547e-01,   6.57005311e-01,   7.03219875e-02,\n",
       "          4.01602468e-01,   6.48122713e-01,   4.75228456e-01,\n",
       "          1.58901554e-01,   2.00736526e-01,   1.12996293e-01,\n",
       "          3.39643432e-01,   2.01419084e-01,   1.67844094e-01,\n",
       "          6.25145276e-01,   1.03250864e-01,   3.52572445e-02,\n",
       "          1.51408278e-01,   2.35066145e-01,   2.13914348e-04,\n",
       "          9.39751707e-02,   7.34041925e-02,   3.34916568e-02,\n",
       "          6.11792861e-01,   3.37597863e-01,   5.34000201e-01,\n",
       "          3.40135201e-01,   7.51517774e-02,   2.87363023e-01,\n",
       "          1.56598134e-01,   1.91487557e-02,   4.42598497e-01,\n",
       "          1.63112418e-01,   3.96940412e-02,   4.45661364e-01,\n",
       "          2.38849133e-01,   1.05084807e-01,   8.96866441e-02,\n",
       "          4.65819591e-02,   4.06689591e-01,   1.01483707e-01,\n",
       "          4.60525550e-01,   1.23866297e-01,   1.82249747e-01,\n",
       "          5.59460263e-02,   1.06373347e-02,   4.95473694e-01,\n",
       "          5.07629171e-01,   2.66462880e-02,   2.59958720e-01,\n",
       "          6.21551486e-04,   1.70088567e-01,   1.22735857e-02,\n",
       "          4.87488894e-01,   1.15755531e-01,   1.52409189e-01,\n",
       "          5.62773275e-02,   4.27755002e-02,   1.03130793e-01,\n",
       "          5.02634212e-03,   1.38881103e-01,   2.20323178e-01,\n",
       "          4.96363464e-01,   1.92933351e-01,   2.51619333e-01,\n",
       "          1.50493148e-01,   3.11881863e-02,   4.26125872e-01,\n",
       "          7.21946466e-02,   0.00000000e+00,   5.36268876e-01,\n",
       "          4.83042345e-01,   5.43659503e-02,   4.23142893e-01,\n",
       "          4.09898821e-01,   3.04306762e-01,   1.71983821e-01,\n",
       "          2.28480728e-01],\n",
       "       [  3.96933088e-02,   1.95372195e-01,   3.34362977e-01,\n",
       "          9.10317765e-02,   3.26866449e-01,   2.59801429e-01,\n",
       "          1.75587203e-02,   2.22537952e-01,   8.34982078e-01,\n",
       "          4.41183592e-02,   1.05455521e-01,   3.39198853e-01,\n",
       "          3.02345004e-02,   7.16326359e-01,   1.64746207e-01,\n",
       "          1.00379605e-01,   8.84961076e-01,   2.42785458e-01,\n",
       "          6.52790486e-02,   1.47617266e-01,   8.51788932e-01,\n",
       "          4.64376167e-01,   1.24054893e-01,   7.87771977e-01,\n",
       "          2.54582481e-01,   1.76020747e-02,   6.02929645e-01,\n",
       "          8.48346866e-01,   1.13934663e-01,   7.96813304e-01,\n",
       "          6.31512725e-01,   9.45989431e-01,   1.13715499e+00,\n",
       "          2.58559988e-02,   6.80636516e-01,   1.02328781e+00,\n",
       "          6.50550309e-03,   5.64277384e-01,   6.28060317e-01,\n",
       "          2.26731291e-01,   6.72590214e-01,   5.56391342e-01,\n",
       "          1.07709245e+00,   6.14526404e-01,   8.32612664e-01,\n",
       "          2.72964920e-02,   1.16556547e-01,   1.37891650e-01,\n",
       "          5.18739036e-02,   1.01247596e+00,   4.17404240e-01,\n",
       "          1.25891386e+00,   4.07923979e-01,   4.98178992e-01,\n",
       "          5.90982008e-01,   6.24151675e-01,   6.49720089e-01,\n",
       "          9.17918434e-01,   5.57618148e-01,   1.05619435e+00,\n",
       "          6.11005333e-01,   3.17032485e-02,   1.07780165e+00,\n",
       "          2.75108636e-01,   1.10042677e+00,   4.99982245e-01,\n",
       "          4.49859021e-01,   6.43739379e-01,   2.45119017e-01,\n",
       "          3.77240685e-02,   5.80339916e-01,   5.86260216e-01,\n",
       "          5.11447381e-01,   1.25816119e-01,   6.73513775e-01,\n",
       "          8.61585211e-01,   3.50074678e-01,   2.02297674e-01,\n",
       "          8.96000074e-01,   8.76058050e-01,   5.38832324e-01,\n",
       "          4.88562708e-01,   1.10887425e+00,   8.07660968e-01,\n",
       "          4.27928354e-02,   1.72240290e-01,   4.35357637e-01,\n",
       "          1.30119335e-01,   7.32054388e-01,   5.11754982e-01,\n",
       "          2.40844253e-01,   5.36268876e-01,   0.00000000e+00,\n",
       "          9.13288323e-02,   2.60273093e-01,   4.68073953e-02,\n",
       "          4.01399916e-02,   3.74590462e-02,   1.85247090e-01,\n",
       "          1.25244306e-01],\n",
       "       [  4.02450228e-02,   2.05688927e-02,   2.93634695e-01,\n",
       "          4.41406619e-03,   9.56074477e-02,   5.21099200e-01,\n",
       "          7.97303687e-02,   3.38938669e-01,   5.54956900e-01,\n",
       "          1.16061254e-01,   1.26097737e-01,   1.58744915e-01,\n",
       "          1.69856553e-01,   3.87163968e-01,   2.14652187e-01,\n",
       "          2.95479012e-01,   7.84090128e-01,   6.55713102e-02,\n",
       "          2.21117975e-01,   1.35119289e-01,   4.18881369e-01,\n",
       "          2.17650789e-01,   1.40294278e-01,   6.77812470e-01,\n",
       "          1.43791831e-01,   5.85959590e-02,   3.98712265e-01,\n",
       "          4.46848497e-01,   1.21571068e-02,   3.87711905e-01,\n",
       "          3.60501369e-01,   6.21973798e-01,   9.92448336e-01,\n",
       "          1.17324119e-01,   3.79682413e-01,   7.28858937e-01,\n",
       "          7.59087764e-02,   3.39988922e-01,   4.62238344e-01,\n",
       "          1.04913695e-01,   3.58391069e-01,   5.03565470e-01,\n",
       "          9.46592129e-01,   4.05881973e-01,   7.23501539e-01,\n",
       "          3.26357288e-02,   3.16794080e-01,   5.36132487e-03,\n",
       "          2.27633884e-02,   9.12605332e-01,   1.56870128e-01,\n",
       "          1.08082633e+00,   3.20359334e-01,   1.79151232e-01,\n",
       "          3.25552849e-01,   4.52176885e-01,   2.82589346e-01,\n",
       "          5.71865745e-01,   3.33392963e-01,   9.11702442e-01,\n",
       "          6.76790500e-01,   2.13640831e-02,   9.04780389e-01,\n",
       "          5.25911203e-02,   8.83308994e-01,   2.47712057e-01,\n",
       "          2.92632909e-01,   6.22682716e-01,   3.79943350e-02,\n",
       "          1.22141607e-02,   4.31760566e-01,   2.81815192e-01,\n",
       "          4.71865513e-01,   8.57712026e-02,   6.43809559e-01,\n",
       "          4.36400880e-01,   4.92159212e-01,   9.73740120e-02,\n",
       "          8.67877993e-01,   8.06006056e-01,   6.78374995e-01,\n",
       "          4.07553744e-01,   8.67947346e-01,   4.80146234e-01,\n",
       "          9.28780994e-03,   3.19655874e-01,   6.81057402e-01,\n",
       "          1.07498552e-01,   7.34466856e-01,   1.90372893e-01,\n",
       "          2.91937560e-01,   4.83042345e-01,   9.13288323e-02,\n",
       "          0.00000000e+00,   2.85306994e-01,   9.88453264e-03,\n",
       "          2.03268609e-01,   5.81053406e-02,   8.20468471e-02,\n",
       "          4.71025745e-02],\n",
       "       [  1.36575142e-01,   3.20524593e-01,   1.32172008e-02,\n",
       "          3.52467103e-01,   2.65819053e-01,   1.58148716e-01,\n",
       "          1.44267660e-01,   2.36536390e-02,   2.86475724e-01,\n",
       "          9.05060034e-02,   3.81911173e-02,   1.31995993e-01,\n",
       "          1.54143766e-01,   3.43679341e-01,   1.13322328e-02,\n",
       "          1.32977764e-01,   1.93245840e-01,   1.93316804e-01,\n",
       "          1.17646768e-01,   2.77478701e-02,   6.07471791e-01,\n",
       "          2.14031986e-01,   2.86589307e-02,   1.55168983e-01,\n",
       "          6.49982244e-02,   3.62522189e-01,   1.54878023e-01,\n",
       "          5.02889315e-01,   4.12632627e-01,   5.43023124e-01,\n",
       "          2.40458259e-01,   3.69633158e-01,   3.22959398e-01,\n",
       "          1.25948057e-01,   2.91016917e-01,   3.61494435e-01,\n",
       "          3.30605787e-01,   1.71902601e-01,   1.28739452e-01,\n",
       "          9.08186055e-02,   3.15721664e-01,   6.00745048e-02,\n",
       "          2.89503321e-01,   1.61260867e-01,   1.73050407e-01,\n",
       "          3.40063380e-01,   1.27398793e-01,   3.43551542e-01,\n",
       "          1.58519474e-01,   2.51518412e-01,   2.70781110e-01,\n",
       "          3.95358443e-01,   3.92927261e-02,   4.17249024e-01,\n",
       "          2.30980501e-01,   1.32110266e-01,   4.71853547e-01,\n",
       "          3.93760056e-01,   1.71344060e-01,   2.83454162e-01,\n",
       "          8.42310867e-02,   1.96896660e-01,   3.03897756e-01,\n",
       "          3.47707046e-01,   3.35464788e-01,   2.16541933e-01,\n",
       "          9.19311535e-02,   8.54807576e-02,   3.61280266e-01,\n",
       "          2.74380704e-01,   1.05607070e-01,   3.07438158e-01,\n",
       "          4.50386218e-02,   5.90880184e-02,   9.67878320e-02,\n",
       "          5.73319872e-01,   4.51503296e-02,   8.12012696e-02,\n",
       "          1.90467198e-01,   1.83829695e-01,   8.94693015e-02,\n",
       "          5.03627655e-02,   3.53562019e-01,   3.45702564e-01,\n",
       "          2.69344083e-01,   4.97831612e-02,   1.45422300e-01,\n",
       "          4.25856535e-02,   1.20164052e-01,   4.09681391e-01,\n",
       "          2.00331331e-03,   5.43659503e-02,   2.60273093e-01,\n",
       "          2.85306994e-01,   0.00000000e+00,   2.18467894e-01,\n",
       "          1.65707736e-01,   1.18403445e-01,   9.01588790e-02,\n",
       "          1.08837271e-01],\n",
       "       [  1.17105129e-02,   5.20526013e-02,   2.43248191e-01,\n",
       "          1.84657204e-02,   1.29867370e-01,   3.90060883e-01,\n",
       "          3.34741359e-02,   2.47276816e-01,   5.63942351e-01,\n",
       "          5.97889809e-02,   7.70542248e-02,   1.63927038e-01,\n",
       "          9.79123136e-02,   4.27195777e-01,   1.48693447e-01,\n",
       "          1.97568250e-01,   7.22070889e-01,   8.30526677e-02,\n",
       "          1.37783467e-01,   9.25090029e-02,   5.03877257e-01,\n",
       "          2.40955124e-01,   9.03141552e-02,   6.23788021e-01,\n",
       "          1.27574771e-01,   3.77866031e-02,   3.91297598e-01,\n",
       "          5.12954071e-01,   3.43474401e-02,   4.64082309e-01,\n",
       "          3.79864744e-01,   6.43055303e-01,   9.34456840e-01,\n",
       "          5.91857510e-02,   4.09006776e-01,   7.32979438e-01,\n",
       "          4.39999367e-02,   3.43886927e-01,   4.37862917e-01,\n",
       "          9.68674389e-02,   3.94842652e-01,   4.42313156e-01,\n",
       "          8.86186524e-01,   3.99480326e-01,   6.66914212e-01,\n",
       "          2.08186221e-02,   2.15351644e-01,   2.97747112e-02,\n",
       "          4.80334019e-03,   8.44390903e-01,   1.93499771e-01,\n",
       "          1.02962209e+00,   2.81340470e-01,   2.40568125e-01,\n",
       "          3.45712798e-01,   4.30440066e-01,   3.51600410e-01,\n",
       "          6.04611207e-01,   3.37787049e-01,   8.57152642e-01,\n",
       "          5.73981203e-01,   2.19602344e-03,   8.59506963e-01,\n",
       "          9.53015137e-02,   8.53283620e-01,   2.70034427e-01,\n",
       "          2.77412179e-01,   5.45742843e-01,   7.93373362e-02,\n",
       "          4.08596728e-03,   4.03802271e-01,   3.21673897e-01,\n",
       "          4.08795044e-01,   5.67153929e-02,   5.68146716e-01,\n",
       "          5.15135392e-01,   3.83073332e-01,   8.50315704e-02,\n",
       "          7.80782225e-01,   7.33815994e-01,   5.57886986e-01,\n",
       "          3.60486502e-01,   8.46563402e-01,   5.12069803e-01,\n",
       "          2.93070691e-03,   2.24277501e-01,   5.39192676e-01,\n",
       "          7.09543069e-02,   6.45270956e-01,   2.50772066e-01,\n",
       "          2.18350951e-01,   4.23142893e-01,   4.68073953e-02,\n",
       "          9.88453264e-03,   2.18467894e-01,   0.00000000e+00,\n",
       "          1.23740442e-01,   2.16173134e-02,   7.13415918e-02,\n",
       "          3.48290719e-02],\n",
       "       [  7.32777352e-02,   3.27648508e-01,   2.53665375e-01,\n",
       "          2.22409063e-01,   4.27676856e-01,   9.59600731e-02,\n",
       "          2.93377072e-02,   1.01198020e-01,   8.02850660e-01,\n",
       "          2.48995347e-02,   7.56300042e-02,   3.66741735e-01,\n",
       "          1.56012700e-03,   7.66229147e-01,   9.20826087e-02,\n",
       "          1.38109393e-02,   7.14980122e-01,   3.19749390e-01,\n",
       "          5.15861116e-03,   1.17679580e-01,   9.96218860e-01,\n",
       "          5.11788359e-01,   8.73683246e-02,   6.41572626e-01,\n",
       "          2.52259731e-01,   1.10852732e-01,   5.64618012e-01,\n",
       "          9.43989112e-01,   2.65118564e-01,   9.26020182e-01,\n",
       "          6.45762674e-01,   9.27301921e-01,   9.49897004e-01,\n",
       "          1.40572570e-02,   7.10640094e-01,   9.61827995e-01,\n",
       "          7.85085041e-02,   5.54242715e-01,   5.53542377e-01,\n",
       "          2.47418178e-01,   7.19961811e-01,   4.25149392e-01,\n",
       "          8.91195933e-01,   5.76786961e-01,   6.77250545e-01,\n",
       "          1.28341289e-01,   2.03196127e-02,   2.74651862e-01,\n",
       "          1.03765665e-01,   8.19563150e-01,   5.05452803e-01,\n",
       "          1.07271740e+00,   3.35765315e-01,   6.37366743e-01,\n",
       "          6.12436781e-01,   5.55132546e-01,   7.82080952e-01,\n",
       "          9.27385228e-01,   5.49526612e-01,   8.82250232e-01,\n",
       "          4.09337321e-01,   9.29683593e-02,   9.18048037e-01,\n",
       "          4.14730909e-01,   9.66084641e-01,   5.39508930e-01,\n",
       "          4.16735893e-01,   4.76218678e-01,   3.90987501e-01,\n",
       "          1.29875719e-01,   5.04979504e-01,   6.53923217e-01,\n",
       "          3.83127357e-01,   1.27151605e-01,   5.04428752e-01,\n",
       "          9.87840895e-01,   1.81283959e-01,   2.19155983e-01,\n",
       "          6.84398717e-01,   6.90174536e-01,   3.24569363e-01,\n",
       "          3.90529886e-01,   9.89813906e-01,   8.27802867e-01,\n",
       "          1.35754671e-01,   5.98115100e-02,   2.18513671e-01,\n",
       "          1.15820941e-01,   5.35183877e-01,   6.45298437e-01,\n",
       "          1.39912615e-01,   4.09898821e-01,   4.01399916e-02,\n",
       "          2.03268609e-01,   1.65707736e-01,   1.23740442e-01,\n",
       "          0.00000000e+00,   5.56223757e-02,   2.09647022e-01,\n",
       "          1.62326611e-01],\n",
       "       [  1.64881095e-03,   1.17921100e-01,   1.55591664e-01,\n",
       "          7.99818019e-02,   1.76277541e-01,   2.31913072e-01,\n",
       "          5.66891701e-03,   1.24761414e-01,   5.20119673e-01,\n",
       "          1.00504966e-02,   2.21209346e-02,   1.57323481e-01,\n",
       "          3.87480271e-02,   4.42402563e-01,   6.27827146e-02,\n",
       "          9.58655342e-02,   5.74972279e-01,   1.10622594e-01,\n",
       "          5.61022111e-02,   3.88989255e-02,   5.89095390e-01,\n",
       "          2.50947586e-01,   3.08037363e-02,   4.93583977e-01,\n",
       "          9.72918740e-02,   6.74382524e-02,   3.39979352e-01,\n",
       "          5.62973560e-01,   1.10255140e-01,   5.37725407e-01,\n",
       "          3.67861143e-01,   6.10425837e-01,   7.77216956e-01,\n",
       "          1.37731640e-02,   4.09206003e-01,   6.69404540e-01,\n",
       "          5.76993693e-02,   3.13048456e-01,   3.59785260e-01,\n",
       "          8.30251229e-02,   4.07659556e-01,   3.20077785e-01,\n",
       "          7.29291228e-01,   3.48746487e-01,   5.30313070e-01,\n",
       "          5.73887268e-02,   1.06719527e-01,   9.69689486e-02,\n",
       "          8.70551072e-03,   6.81329610e-01,   2.32287741e-01,\n",
       "          8.74530437e-01,   2.01592207e-01,   3.17332329e-01,\n",
       "          3.38475129e-01,   3.56440072e-01,   4.25658739e-01,\n",
       "          5.92459475e-01,   3.08294919e-01,   7.09146802e-01,\n",
       "          3.97838112e-01,   1.18120143e-02,   7.22559000e-01,\n",
       "          1.68287168e-01,   7.35841817e-01,   2.74786814e-01,\n",
       "          2.27709366e-01,   3.96977907e-01,   1.56008637e-01,\n",
       "          3.57862509e-02,   3.24410754e-01,   3.48165682e-01,\n",
       "          2.88028289e-01,   2.59812625e-02,   4.18661350e-01,\n",
       "          5.87409577e-01,   2.26529479e-01,   6.78170392e-02,\n",
       "          6.01713100e-01,   5.74374118e-01,   3.69881595e-01,\n",
       "          2.62498006e-01,   7.40737535e-01,   5.06545500e-01,\n",
       "          3.55314737e-02,   1.06637415e-01,   3.44907366e-01,\n",
       "          2.86297400e-02,   4.75137762e-01,   3.23717266e-01,\n",
       "          1.12764998e-01,   3.04306762e-01,   3.74590462e-02,\n",
       "          5.81053406e-02,   1.18403445e-01,   2.16173134e-02,\n",
       "          5.56223757e-02,   0.00000000e+00,   5.92899531e-02,\n",
       "          3.05227295e-02],\n",
       "       [  5.34475449e-02,   7.50922823e-02,   7.29886481e-02,\n",
       "          1.24476308e-01,   5.14193693e-02,   3.83100516e-01,\n",
       "          1.01217765e-01,   1.65918564e-01,   2.38169886e-01,\n",
       "          9.00815568e-02,   4.22781041e-02,   2.34557104e-02,\n",
       "          1.78649287e-01,   1.78275876e-01,   7.72318370e-02,\n",
       "          2.43957528e-01,   3.59515680e-01,   2.02863545e-02,\n",
       "          1.86556374e-01,   2.58730062e-02,   2.98450246e-01,\n",
       "          6.71063498e-02,   4.09702246e-02,   2.88442966e-01,\n",
       "          8.63373883e-03,   2.08270003e-01,   1.28687105e-01,\n",
       "          2.63911524e-01,   1.55761754e-01,   2.58439108e-01,\n",
       "          1.32729987e-01,   2.95511832e-01,   5.03901704e-01,\n",
       "          1.19350957e-01,   1.57021031e-01,   3.49158645e-01,\n",
       "          2.09574156e-01,   1.04770754e-01,   1.57310584e-01,\n",
       "          2.11758888e-03,   1.56410329e-01,   1.84182516e-01,\n",
       "          4.71271591e-01,   1.33500224e-01,   3.18548143e-01,\n",
       "          1.68973194e-01,   2.52058892e-01,   1.00007201e-01,\n",
       "          4.58127520e-02,   4.48173888e-01,   6.77917233e-02,\n",
       "          5.68748765e-01,   7.91838654e-02,   1.36125788e-01,\n",
       "          1.14792595e-01,   1.52305167e-01,   1.90853260e-01,\n",
       "          2.78496907e-01,   1.01664775e-01,   4.46901718e-01,\n",
       "          3.22956703e-01,   7.53058543e-02,   4.43396897e-01,\n",
       "          8.38037403e-02,   4.33367608e-01,   7.89792796e-02,\n",
       "          6.75700817e-02,   2.63224652e-01,   9.19884651e-02,\n",
       "          1.09315567e-01,   1.38466508e-01,   1.23201304e-01,\n",
       "          1.67740068e-01,   1.09480083e-02,   2.74997711e-01,\n",
       "          2.89657596e-01,   2.54642815e-01,   6.56972888e-04,\n",
       "          4.24962693e-01,   3.76724824e-01,   3.58380047e-01,\n",
       "          1.25538702e-01,   4.26949410e-01,   2.19797893e-01,\n",
       "          1.01737990e-01,   1.86029876e-01,   4.37302872e-01,\n",
       "          1.82476736e-02,   3.40888262e-01,   1.35557649e-01,\n",
       "          1.05350769e-01,   1.71983821e-01,   1.85247090e-01,\n",
       "          8.20468471e-02,   9.01588790e-02,   7.13415918e-02,\n",
       "          2.09647022e-01,   5.92899531e-02,   0.00000000e+00,\n",
       "          6.59540400e-03],\n",
       "       [  2.41810984e-02,   5.69998852e-02,   1.05875329e-01,\n",
       "          7.96707196e-02,   6.42975310e-02,   3.59153040e-01,\n",
       "          6.24518673e-02,   1.68106177e-01,   3.23578728e-01,\n",
       "          6.17298883e-02,   3.42838761e-02,   5.24333036e-02,\n",
       "          1.33590378e-01,   2.43278086e-01,   7.87861510e-02,\n",
       "          2.06907871e-01,   4.49532050e-01,   2.68765889e-02,\n",
       "          1.50124764e-01,   2.81124007e-02,   3.54421137e-01,\n",
       "          1.07850998e-01,   3.72989046e-02,   3.70958796e-01,\n",
       "          2.91287090e-02,   1.40748107e-01,   1.93472796e-01,\n",
       "          3.31346852e-01,   1.07042086e-01,   3.13682807e-01,\n",
       "          1.95292634e-01,   3.88621255e-01,   6.14868506e-01,\n",
       "          8.17867976e-02,   2.21967184e-01,   4.51688871e-01,\n",
       "          1.42518067e-01,   1.63485400e-01,   2.25967831e-01,\n",
       "          1.60418914e-02,   2.17909455e-01,   2.42665062e-01,\n",
       "          5.77283015e-01,   1.99398823e-01,   4.04769298e-01,\n",
       "          1.09035486e-01,   2.17614985e-01,   6.69820947e-02,\n",
       "          1.77382411e-02,   5.47808774e-01,   9.51909911e-02,\n",
       "          6.89515129e-01,   1.22768862e-01,   1.59366724e-01,\n",
       "          1.72521075e-01,   2.20473243e-01,   2.31832809e-01,\n",
       "          3.66192587e-01,   1.59518898e-01,   5.52039679e-01,\n",
       "          3.75469762e-01,   3.74050814e-02,   5.51160573e-01,\n",
       "          7.71958257e-02,   5.43684352e-01,   1.24841235e-01,\n",
       "          1.15667992e-01,   3.27646560e-01,   7.79461845e-02,\n",
       "          6.27081712e-02,   2.02189189e-01,   1.72919631e-01,\n",
       "          2.20887556e-01,   8.11703961e-03,   3.42754406e-01,\n",
       "          3.51121519e-01,   2.69475793e-01,   1.10463953e-02,\n",
       "          5.10636138e-01,   4.64152864e-01,   3.93676666e-01,\n",
       "          1.78308428e-01,   5.37968835e-01,   2.97175582e-01,\n",
       "          5.72370717e-02,   1.74828452e-01,   4.41091102e-01,\n",
       "          1.68287464e-02,   4.10801260e-01,   1.61965255e-01,\n",
       "          1.18775864e-01,   2.28480728e-01,   1.25244306e-01,\n",
       "          4.71025745e-02,   1.08837271e-01,   3.48290719e-02,\n",
       "          1.62326611e-01,   3.05227295e-02,   6.59540400e-03,\n",
       "          0.00000000e+00]])"
      ]
     },
     "execution_count": 67,
     "metadata": {},
     "output_type": "execute_result"
    }
   ],
   "source": [
    "(X - X.T)**2+(Y - Y.T)**2 #(100,100) distance matrix"
   ]
  },
  {
   "cell_type": "markdown",
   "metadata": {},
   "source": [
    "#### Solution using scipy"
   ]
  },
  {
   "cell_type": "code",
   "execution_count": 323,
   "metadata": {
    "collapsed": true
   },
   "outputs": [],
   "source": [
    "# import scipy.spatial\n",
    "from scipy import spatial"
   ]
  },
  {
   "cell_type": "code",
   "execution_count": 79,
   "metadata": {
    "collapsed": false,
    "scrolled": true
   },
   "outputs": [
    {
     "data": {
      "text/plain": [
       "array([[ 0.        ,  0.56120102,  0.64289315,  0.91223726,  0.63484856,\n",
       "         0.94805558,  0.48602671,  0.18354624,  0.37433099,  0.26112136],\n",
       "       [ 0.56120102,  0.        ,  0.08174793,  0.53364942,  0.89871832,\n",
       "         0.56358249,  0.76799154,  0.5634082 ,  0.57517587,  0.31961034],\n",
       "       [ 0.64289315,  0.08174793,  0.        ,  0.51069616,  0.96082743,\n",
       "         0.53745835,  0.83482612,  0.64220281,  0.64297759,  0.39892158],\n",
       "       [ 0.91223726,  0.53364942,  0.51069616,  0.        ,  0.85937959,\n",
       "         0.0358185 ,  0.80275922,  0.80292031,  0.67116697,  0.76729453],\n",
       "       [ 0.63484856,  0.89871832,  0.96082743,  0.85937959,  0.        ,\n",
       "         0.88630201,  0.15196332,  0.46113023,  0.3323168 ,  0.77767546],\n",
       "       [ 0.94805558,  0.56358249,  0.53745835,  0.0358185 ,  0.88630201,\n",
       "         0.        ,  0.83325198,  0.83821058,  0.7046646 ,  0.80198736],\n",
       "       [ 0.48602671,  0.76799154,  0.83482612,  0.80275922,  0.15196332,\n",
       "         0.83325198,  0.        ,  0.30969474,  0.19298789,  0.62741602],\n",
       "       [ 0.18354624,  0.5634082 ,  0.64220281,  0.80292031,  0.46113023,\n",
       "         0.83821058,  0.30969474,  0.        ,  0.19468883,  0.33896901],\n",
       "       [ 0.37433099,  0.57517587,  0.64297759,  0.67116697,  0.3323168 ,\n",
       "         0.7046646 ,  0.19298789,  0.19468883,  0.        ,  0.4538703 ],\n",
       "       [ 0.26112136,  0.31961034,  0.39892158,  0.76729453,  0.77767546,\n",
       "         0.80198736,  0.62741602,  0.33896901,  0.4538703 ,  0.        ]])"
      ]
     },
     "execution_count": 79,
     "metadata": {},
     "output_type": "execute_result"
    }
   ],
   "source": [
    "Z = np.random.random((10,2))\n",
    "# D = scipy.spatial.distance.cdist(Z,Z)\n",
    "D = spatial.distance.cdist(Z,Z)\n",
    "D"
   ]
  },
  {
   "cell_type": "markdown",
   "metadata": {},
   "source": [
    "### 53. How to convert a float (32 bits) array into an integer (32 bits) in place?"
   ]
  },
  {
   "cell_type": "code",
   "execution_count": 93,
   "metadata": {
    "collapsed": false
   },
   "outputs": [
    {
     "data": {
      "text/plain": [
       "array([ 0.,  1.,  2.,  3.,  4.,  5.,  6.,  7.,  8.,  9.], dtype=float32)"
      ]
     },
     "execution_count": 93,
     "metadata": {},
     "output_type": "execute_result"
    }
   ],
   "source": [
    "Z = np.arange(10, dtype=np.float32)\n",
    "Z"
   ]
  },
  {
   "cell_type": "code",
   "execution_count": 94,
   "metadata": {
    "collapsed": false
   },
   "outputs": [
    {
     "data": {
      "text/plain": [
       "array([0, 1, 2, 3, 4, 5, 6, 7, 8, 9], dtype=int32)"
      ]
     },
     "execution_count": 94,
     "metadata": {},
     "output_type": "execute_result"
    }
   ],
   "source": [
    "Z = Z.astype(np.int32, copy=False)\n",
    "Z"
   ]
  },
  {
   "cell_type": "markdown",
   "metadata": {},
   "source": [
    "### 54. How to read the following file? (★★☆)"
   ]
  },
  {
   "cell_type": "code",
   "execution_count": 107,
   "metadata": {
    "collapsed": true
   },
   "outputs": [
    {
     "ename": "TypeError",
     "evalue": "Can't convert 'bytes' object to str implicitly",
     "output_type": "error",
     "traceback": [
      "\u001b[0;31m---------------------------------------------------------------------------\u001b[0m",
      "\u001b[0;31mTypeError\u001b[0m                                 Traceback (most recent call last)",
      "\u001b[0;32m<ipython-input-107-88a0abd434df>\u001b[0m in \u001b[0;36m<module>\u001b[0;34m()\u001b[0m\n\u001b[1;32m      3\u001b[0m                 \u001b[0;36m6\u001b[0m\u001b[0;34m,\u001b[0m  \u001b[0;34m,\u001b[0m  \u001b[0;34m,\u001b[0m \u001b[0;36m7\u001b[0m\u001b[0;34m,\u001b[0m \u001b[0;36m8\u001b[0m\u001b[0;31m\\\u001b[0m\u001b[0mn\u001b[0m\u001b[0;34m\u001b[0m\u001b[0m\n\u001b[1;32m      4\u001b[0m                  ,  , 9,10,11\\n\"\"\")\n\u001b[0;32m----> 5\u001b[0;31m \u001b[0mZ\u001b[0m \u001b[0;34m=\u001b[0m \u001b[0mnp\u001b[0m\u001b[0;34m.\u001b[0m\u001b[0mgenfromtxt\u001b[0m\u001b[0;34m(\u001b[0m\u001b[0ms\u001b[0m\u001b[0;34m,\u001b[0m \u001b[0mdelimiter\u001b[0m\u001b[0;34m=\u001b[0m\u001b[0;34m\",\"\u001b[0m\u001b[0;34m,\u001b[0m \u001b[0mdtype\u001b[0m\u001b[0;34m=\u001b[0m\u001b[0mnp\u001b[0m\u001b[0;34m.\u001b[0m\u001b[0mint\u001b[0m\u001b[0;34m)\u001b[0m\u001b[0;34m\u001b[0m\u001b[0m\n\u001b[0m\u001b[1;32m      6\u001b[0m \u001b[0mprint\u001b[0m\u001b[0;34m(\u001b[0m\u001b[0mZ\u001b[0m\u001b[0;34m)\u001b[0m\u001b[0;34m\u001b[0m\u001b[0m\n",
      "\u001b[0;32m/Users/hanzg/.pyenv/versions/anaconda3-2.5.0/lib/python3.5/site-packages/numpy/lib/npyio.py\u001b[0m in \u001b[0;36mgenfromtxt\u001b[0;34m(fname, dtype, comments, delimiter, skip_header, skip_footer, converters, missing_values, filling_values, usecols, names, excludelist, deletechars, replace_space, autostrip, case_sensitive, defaultfmt, unpack, usemask, loose, invalid_raise, max_rows)\u001b[0m\n\u001b[1;32m   1539\u001b[0m                     first_line = (\n\u001b[1;32m   1540\u001b[0m                         asbytes('').join(first_line.split(comments)[1:]))\n\u001b[0;32m-> 1541\u001b[0;31m             \u001b[0mfirst_values\u001b[0m \u001b[0;34m=\u001b[0m \u001b[0msplit_line\u001b[0m\u001b[0;34m(\u001b[0m\u001b[0mfirst_line\u001b[0m\u001b[0;34m)\u001b[0m\u001b[0;34m\u001b[0m\u001b[0m\n\u001b[0m\u001b[1;32m   1542\u001b[0m     \u001b[0;32mexcept\u001b[0m \u001b[0mStopIteration\u001b[0m\u001b[0;34m:\u001b[0m\u001b[0;34m\u001b[0m\u001b[0m\n\u001b[1;32m   1543\u001b[0m         \u001b[0;31m# return an empty array if the datafile is empty\u001b[0m\u001b[0;34m\u001b[0m\u001b[0;34m\u001b[0m\u001b[0m\n",
      "\u001b[0;32m/Users/hanzg/.pyenv/versions/anaconda3-2.5.0/lib/python3.5/site-packages/numpy/lib/_iotools.py\u001b[0m in \u001b[0;36m_delimited_splitter\u001b[0;34m(self, line)\u001b[0m\n\u001b[1;32m    217\u001b[0m     \u001b[0;32mdef\u001b[0m \u001b[0m_delimited_splitter\u001b[0m\u001b[0;34m(\u001b[0m\u001b[0mself\u001b[0m\u001b[0;34m,\u001b[0m \u001b[0mline\u001b[0m\u001b[0;34m)\u001b[0m\u001b[0;34m:\u001b[0m\u001b[0;34m\u001b[0m\u001b[0m\n\u001b[1;32m    218\u001b[0m         \u001b[0;32mif\u001b[0m \u001b[0mself\u001b[0m\u001b[0;34m.\u001b[0m\u001b[0mcomments\u001b[0m \u001b[0;32mis\u001b[0m \u001b[0;32mnot\u001b[0m \u001b[0;32mNone\u001b[0m\u001b[0;34m:\u001b[0m\u001b[0;34m\u001b[0m\u001b[0m\n\u001b[0;32m--> 219\u001b[0;31m             \u001b[0mline\u001b[0m \u001b[0;34m=\u001b[0m \u001b[0mline\u001b[0m\u001b[0;34m.\u001b[0m\u001b[0msplit\u001b[0m\u001b[0;34m(\u001b[0m\u001b[0mself\u001b[0m\u001b[0;34m.\u001b[0m\u001b[0mcomments\u001b[0m\u001b[0;34m)\u001b[0m\u001b[0;34m[\u001b[0m\u001b[0;36m0\u001b[0m\u001b[0;34m]\u001b[0m\u001b[0;34m\u001b[0m\u001b[0m\n\u001b[0m\u001b[1;32m    220\u001b[0m         \u001b[0mline\u001b[0m \u001b[0;34m=\u001b[0m \u001b[0mline\u001b[0m\u001b[0;34m.\u001b[0m\u001b[0mstrip\u001b[0m\u001b[0;34m(\u001b[0m\u001b[0masbytes\u001b[0m\u001b[0;34m(\u001b[0m\u001b[0;34m\" \\r\\n\"\u001b[0m\u001b[0;34m)\u001b[0m\u001b[0;34m)\u001b[0m\u001b[0;34m\u001b[0m\u001b[0m\n\u001b[1;32m    221\u001b[0m         \u001b[0;32mif\u001b[0m \u001b[0;32mnot\u001b[0m \u001b[0mline\u001b[0m\u001b[0;34m:\u001b[0m\u001b[0;34m\u001b[0m\u001b[0m\n",
      "\u001b[0;31mTypeError\u001b[0m: Can't convert 'bytes' object to str implicitly"
     ]
    }
   ],
   "source": [
    "# ^?^ cannot convert byte to string\n",
    "s = StringIO(\"\"\"1, 2, 3, 4, 5\\n\n",
    "                6,  ,  , 7, 8\\n\n",
    "                 ,  , 9,10,11\\n\"\"\")\n",
    "Z = np.genfromtxt(s, delimiter=\",\", dtype=np.int)\n",
    "print(Z)"
   ]
  },
  {
   "cell_type": "markdown",
   "metadata": {},
   "source": [
    "### 55. What is the equivalent of enumerate for numpy arrays? (★★☆)"
   ]
  },
  {
   "cell_type": "code",
   "execution_count": null,
   "metadata": {
    "collapsed": true
   },
   "outputs": [],
   "source": [
    "Z = np.arange(9).reshape(3,3)"
   ]
  },
  {
   "cell_type": "code",
   "execution_count": 112,
   "metadata": {
    "collapsed": false
   },
   "outputs": [
    {
     "name": "stdout",
     "output_type": "stream",
     "text": [
      "(0, 0) 0\n",
      "(0, 1) 1\n",
      "(0, 2) 2\n",
      "(1, 0) 3\n",
      "(1, 1) 4\n",
      "(1, 2) 5\n",
      "(2, 0) 6\n",
      "(2, 1) 7\n",
      "(2, 2) 8\n"
     ]
    }
   ],
   "source": [
    "for index, value in np.ndenumerate(Z):\n",
    "    print(index, value)\n"
   ]
  },
  {
   "cell_type": "code",
   "execution_count": 113,
   "metadata": {
    "collapsed": false
   },
   "outputs": [
    {
     "name": "stdout",
     "output_type": "stream",
     "text": [
      "(0, 0) 0\n",
      "(0, 1) 1\n",
      "(0, 2) 2\n",
      "(1, 0) 3\n",
      "(1, 1) 4\n",
      "(1, 2) 5\n",
      "(2, 0) 6\n",
      "(2, 1) 7\n",
      "(2, 2) 8\n"
     ]
    }
   ],
   "source": [
    "for index in np.ndindex(Z.shape):\n",
    "    print(index, Z[index])"
   ]
  },
  {
   "cell_type": "markdown",
   "metadata": {},
   "source": [
    "### 56. Generate a generic 2D Gaussian-like array (★★☆)"
   ]
  },
  {
   "cell_type": "markdown",
   "metadata": {},
   "source": [
    "$$e^{-\\frac{{(x-\\mu)}^{2}}{2\\sigma^{2}}}$$"
   ]
  },
  {
   "cell_type": "code",
   "execution_count": 114,
   "metadata": {
    "collapsed": false,
    "scrolled": false
   },
   "outputs": [
    {
     "name": "stdout",
     "output_type": "stream",
     "text": [
      "[[ 0.36787944  0.44822088  0.51979489  0.57375342  0.60279818  0.60279818\n",
      "   0.57375342  0.51979489  0.44822088  0.36787944]\n",
      " [ 0.44822088  0.54610814  0.63331324  0.69905581  0.73444367  0.73444367\n",
      "   0.69905581  0.63331324  0.54610814  0.44822088]\n",
      " [ 0.51979489  0.63331324  0.73444367  0.81068432  0.85172308  0.85172308\n",
      "   0.81068432  0.73444367  0.63331324  0.51979489]\n",
      " [ 0.57375342  0.69905581  0.81068432  0.89483932  0.9401382   0.9401382\n",
      "   0.89483932  0.81068432  0.69905581  0.57375342]\n",
      " [ 0.60279818  0.73444367  0.85172308  0.9401382   0.98773022  0.98773022\n",
      "   0.9401382   0.85172308  0.73444367  0.60279818]\n",
      " [ 0.60279818  0.73444367  0.85172308  0.9401382   0.98773022  0.98773022\n",
      "   0.9401382   0.85172308  0.73444367  0.60279818]\n",
      " [ 0.57375342  0.69905581  0.81068432  0.89483932  0.9401382   0.9401382\n",
      "   0.89483932  0.81068432  0.69905581  0.57375342]\n",
      " [ 0.51979489  0.63331324  0.73444367  0.81068432  0.85172308  0.85172308\n",
      "   0.81068432  0.73444367  0.63331324  0.51979489]\n",
      " [ 0.44822088  0.54610814  0.63331324  0.69905581  0.73444367  0.73444367\n",
      "   0.69905581  0.63331324  0.54610814  0.44822088]\n",
      " [ 0.36787944  0.44822088  0.51979489  0.57375342  0.60279818  0.60279818\n",
      "   0.57375342  0.51979489  0.44822088  0.36787944]]\n"
     ]
    }
   ],
   "source": [
    "X, Y = np.meshgrid(np.linspace(-1,1,10), np.linspace(-1,1,10))\n",
    "D = np.sqrt(X*X+Y*Y)\n",
    "sigma, mu = 1.0, 0.0\n",
    "G = np.exp(-( (D-mu)**2 / ( 2.0 * sigma**2 ) ) )\n",
    "print(G)"
   ]
  },
  {
   "cell_type": "markdown",
   "metadata": {},
   "source": [
    "### 57. How to randomly place p elements in a 2D array? (★★☆)"
   ]
  },
  {
   "cell_type": "code",
   "execution_count": 161,
   "metadata": {
    "collapsed": true
   },
   "outputs": [],
   "source": [
    "n = 10\n",
    "p = 3\n",
    "Z = np.zeros((n,n))"
   ]
  },
  {
   "cell_type": "code",
   "execution_count": 165,
   "metadata": {
    "collapsed": false
   },
   "outputs": [
    {
     "name": "stdout",
     "output_type": "stream",
     "text": [
      "[[ 0.  0.  0.  0.  0.  0.  0.  0.  0.  0.]\n",
      " [ 0.  0.  0.  0.  0.  1.  0.  1.  0.  0.]\n",
      " [ 0.  1.  0.  0.  0.  0.  0.  0.  0.  0.]\n",
      " [ 0.  0.  0.  0.  0.  0.  0.  0.  0.  0.]\n",
      " [ 0.  0.  1.  0.  0.  0.  0.  0.  0.  0.]\n",
      " [ 0.  0.  0.  0.  0.  0.  0.  0.  0.  0.]\n",
      " [ 0.  0.  0.  0.  0.  0.  0.  0.  0.  0.]\n",
      " [ 0.  0.  0.  0.  0.  0.  0.  0.  0.  0.]\n",
      " [ 0.  0.  0.  0.  0.  1.  0.  0.  0.  0.]\n",
      " [ 0.  0.  1.  0.  0.  0.  0.  0.  0.  0.]]\n"
     ]
    }
   ],
   "source": [
    "np.put(Z, np.random.choice(range(n*n), p, replace=False),1) #\n",
    "# np.put(Z, np.random.choice(n*n, p, replace=False),1)\n",
    "print(Z)"
   ]
  },
  {
   "cell_type": "markdown",
   "metadata": {},
   "source": [
    "### 58. Subtract the mean of each row of a matrix (★★☆)"
   ]
  },
  {
   "cell_type": "code",
   "execution_count": 176,
   "metadata": {
    "collapsed": false
   },
   "outputs": [],
   "source": [
    "X = np.random.rand(5, 10)"
   ]
  },
  {
   "cell_type": "code",
   "execution_count": 177,
   "metadata": {
    "collapsed": false
   },
   "outputs": [
    {
     "name": "stdout",
     "output_type": "stream",
     "text": [
      "[[ 0.18553863 -0.2261343  -0.60543283  0.13038087  0.23079909 -0.16914367\n",
      "  -0.01217953  0.04724718  0.20066289  0.21826167]\n",
      " [ 0.59868686 -0.19669754  0.0217113  -0.36328705  0.12307717  0.31511727\n",
      "   0.34957546 -0.26461028 -0.19066538 -0.39290781]\n",
      " [ 0.23444285 -0.45347487  0.27895829  0.47213269  0.07519339 -0.02804346\n",
      "  -0.14738129 -0.22546121 -0.32237339  0.116007  ]\n",
      " [-0.47723008 -0.24931488  0.14262366  0.30902146 -0.23980833  0.36501218\n",
      "  -0.17279726 -0.15286     0.39312971  0.08222354]\n",
      " [ 0.01376044 -0.1297766  -0.05918836  0.15645584 -0.15002168  0.2858307\n",
      "  -0.07676698 -0.18344897  0.29652758 -0.15337196]]\n"
     ]
    }
   ],
   "source": [
    "# Recent versions of numpy\n",
    "Y = X - X.mean(axis=1, keepdims=True)\n",
    "print(Y)"
   ]
  },
  {
   "cell_type": "markdown",
   "metadata": {},
   "source": [
    "### 59. How to I sort an array by the nth column? (★★☆)"
   ]
  },
  {
   "cell_type": "code",
   "execution_count": 178,
   "metadata": {
    "collapsed": false
   },
   "outputs": [
    {
     "data": {
      "text/plain": [
       "array([[8, 3, 0],\n",
       "       [7, 9, 8],\n",
       "       [7, 5, 8]])"
      ]
     },
     "execution_count": 178,
     "metadata": {},
     "output_type": "execute_result"
    }
   ],
   "source": [
    "Z = np.random.randint(0,10,(3,3))\n",
    "Z"
   ]
  },
  {
   "cell_type": "code",
   "execution_count": 179,
   "metadata": {
    "collapsed": false
   },
   "outputs": [
    {
     "data": {
      "text/plain": [
       "array([[8, 3, 0],\n",
       "       [7, 5, 8],\n",
       "       [7, 9, 8]])"
      ]
     },
     "execution_count": 179,
     "metadata": {},
     "output_type": "execute_result"
    }
   ],
   "source": [
    "Z[Z[:,1].argsort()]"
   ]
  },
  {
   "cell_type": "markdown",
   "metadata": {},
   "source": [
    "### 60. How to tell if a given 2D array has null columns? (★★☆)"
   ]
  },
  {
   "cell_type": "code",
   "execution_count": 183,
   "metadata": {
    "collapsed": false
   },
   "outputs": [
    {
     "data": {
      "text/plain": [
       "array([[0, 1, 0, 1, 2, 2, 2, 0, 2, 0],\n",
       "       [1, 0, 0, 2, 2, 0, 0, 2, 2, 1],\n",
       "       [1, 2, 0, 1, 0, 2, 2, 1, 2, 0]])"
      ]
     },
     "execution_count": 183,
     "metadata": {},
     "output_type": "execute_result"
    }
   ],
   "source": [
    "Z = np.random.randint(0,3,(3,10))\n",
    "Z"
   ]
  },
  {
   "cell_type": "code",
   "execution_count": 188,
   "metadata": {
    "collapsed": false
   },
   "outputs": [
    {
     "data": {
      "text/plain": [
       "False"
      ]
     },
     "execution_count": 188,
     "metadata": {},
     "output_type": "execute_result"
    }
   ],
   "source": [
    "~Z.any(axis = 0).any()"
   ]
  },
  {
   "cell_type": "markdown",
   "metadata": {},
   "source": [
    "### 61. Find the nearest value from a given value in an array (★★☆)"
   ]
  },
  {
   "cell_type": "code",
   "execution_count": 236,
   "metadata": {
    "collapsed": false,
    "scrolled": false
   },
   "outputs": [
    {
     "data": {
      "text/plain": [
       "array([[ 0.96018128,  0.46230226,  0.81921745,  0.30967039,  0.62805375,\n",
       "         0.57822917,  0.73987094,  0.44575813,  0.37605395,  0.17355742],\n",
       "       [ 0.14278598,  0.46256143,  0.27708001,  0.9993967 ,  0.10691537,\n",
       "         0.53908606,  0.34039314,  0.95393346,  0.87948972,  0.46977036],\n",
       "       [ 0.7176702 ,  0.07396756,  0.81702103,  0.86637122,  0.00271048,\n",
       "         0.81025683,  0.25003138,  0.98014792,  0.85094206,  0.22856153],\n",
       "       [ 0.03074925,  0.88283968,  0.79390079,  0.14816034,  0.59246331,\n",
       "         0.14947036,  0.71832501,  0.44393326,  0.3780032 ,  0.18082757],\n",
       "       [ 0.65130131,  0.34185623,  0.3886104 ,  0.37769426,  0.61421525,\n",
       "         0.29924037,  0.06786067,  0.60960345,  0.10264906,  0.92645535],\n",
       "       [ 0.46340051,  0.73820129,  0.63105872,  0.48193741,  0.94713334,\n",
       "         0.270412  ,  0.62624969,  0.71292625,  0.0808804 ,  0.49330947],\n",
       "       [ 0.31296943,  0.68883089,  0.39804639,  0.96077087,  0.35426713,\n",
       "         0.05586865,  0.01410505,  0.97518865,  0.5722788 ,  0.10886907],\n",
       "       [ 0.53089654,  0.7880434 ,  0.51164867,  0.33973522,  0.29902416,\n",
       "         0.70842481,  0.89913273,  0.94260579,  0.36605668,  0.71115984],\n",
       "       [ 0.02142888,  0.41824869,  0.79000811,  0.89491634,  0.06219334,\n",
       "         0.86487929,  0.85561124,  0.65857291,  0.49553767,  0.8248097 ],\n",
       "       [ 0.82722843,  0.18559846,  0.86531063,  0.41590322,  0.75763509,\n",
       "         0.60995841,  0.11587268,  0.90547032,  0.44663671,  0.1947514 ]])"
      ]
     },
     "execution_count": 236,
     "metadata": {},
     "output_type": "execute_result"
    }
   ],
   "source": [
    "Z = np.random.uniform(0,1,(10,10))\n",
    "Z"
   ]
  },
  {
   "cell_type": "code",
   "execution_count": 237,
   "metadata": {
    "collapsed": true
   },
   "outputs": [],
   "source": [
    "z = 0.5"
   ]
  },
  {
   "cell_type": "code",
   "execution_count": 238,
   "metadata": {
    "collapsed": false
   },
   "outputs": [
    {
     "data": {
      "text/plain": [
       "(88, 0.49553767428012752)"
      ]
     },
     "execution_count": 238,
     "metadata": {},
     "output_type": "execute_result"
    }
   ],
   "source": [
    "iMin = np.abs(Z - z).argmin()\n",
    "iMin, Z.flatten()[iMin]"
   ]
  },
  {
   "cell_type": "markdown",
   "metadata": {},
   "source": [
    "### 62. Considering two arrays with shape (1,3) and (3,1), how to compute their sum using an iterator? (★★☆)\n",
    "\n"
   ]
  },
  {
   "cell_type": "code",
   "execution_count": 252,
   "metadata": {
    "collapsed": false
   },
   "outputs": [],
   "source": [
    "A = np.arange(3).reshape(3,1)\n",
    "B = np.arange(3).reshape(1,3)"
   ]
  },
  {
   "cell_type": "code",
   "execution_count": 260,
   "metadata": {
    "collapsed": false
   },
   "outputs": [
    {
     "name": "stdout",
     "output_type": "stream",
     "text": [
      "[[0]\n",
      " [1]\n",
      " [2]] [[0 1 2]] [[0 1 2]\n",
      " [1 2 3]\n",
      " [2 3 4]]\n"
     ]
    }
   ],
   "source": [
    "it = np.nditer([A,B,None]) #^?^ None, nditer?; ^?^ what is the meaning of using iterator?\n",
    "for x,y,z in it: \n",
    "    z[...] = x + y\n",
    "#     z[...] = x.flatten() + y.flatten()\n",
    "print(it.operands[0],it.operands[1],it.operands[2])"
   ]
  },
  {
   "cell_type": "code",
   "execution_count": 256,
   "metadata": {
    "collapsed": false
   },
   "outputs": [
    {
     "data": {
      "text/plain": [
       "array([[0, 1, 2],\n",
       "       [1, 2, 3],\n",
       "       [2, 3, 4]])"
      ]
     },
     "execution_count": 256,
     "metadata": {},
     "output_type": "execute_result"
    }
   ],
   "source": [
    "A + B"
   ]
  },
  {
   "cell_type": "code",
   "execution_count": 258,
   "metadata": {
    "collapsed": false
   },
   "outputs": [
    {
     "data": {
      "text/plain": [
       "array([0, 1, 2])"
      ]
     },
     "execution_count": 258,
     "metadata": {},
     "output_type": "execute_result"
    }
   ],
   "source": [
    "A.flatten()"
   ]
  },
  {
   "cell_type": "markdown",
   "metadata": {},
   "source": [
    "### 63. Create an array class that has a name attribute (★★☆)"
   ]
  },
  {
   "cell_type": "code",
   "execution_count": 265,
   "metadata": {
    "collapsed": false
   },
   "outputs": [
    {
     "name": "stdout",
     "output_type": "stream",
     "text": [
      "range_10\n"
     ]
    }
   ],
   "source": [
    "class NamedArray(np.ndarray):  #^?^  python classes \n",
    "    def __new__(cls, array, name=\"no name\"):\n",
    "        obj = np.asarray(array).view(cls)\n",
    "        obj.name = name\n",
    "        return obj\n",
    "    def __array_finalize__(self, obj):\n",
    "        if obj is None: return\n",
    "        self.info = getattr(obj, 'name', \"no name\")\n",
    "\n",
    "Z = NamedArray(np.arange(10), \"range_10\")\n",
    "print (Z.name)"
   ]
  },
  {
   "cell_type": "markdown",
   "metadata": {},
   "source": [
    "### 64. Consider a given vector, how to add 1 to each element indexed by a second vector (be careful with repeated indices)? (★★★)"
   ]
  },
  {
   "cell_type": "markdown",
   "metadata": {},
   "source": [
    "#### Solution 1"
   ]
  },
  {
   "cell_type": "code",
   "execution_count": 325,
   "metadata": {
    "collapsed": false
   },
   "outputs": [],
   "source": [
    "Z = np.ones(10)\n",
    "I = np.random.randint(0,len(Z),20)"
   ]
  },
  {
   "cell_type": "code",
   "execution_count": 326,
   "metadata": {
    "collapsed": false
   },
   "outputs": [
    {
     "name": "stdout",
     "output_type": "stream",
     "text": [
      "[ 3.  2.  2.  5.  3.  3.  1.  5.  3.  3.]\n"
     ]
    }
   ],
   "source": [
    "Z += np.bincount(I, minlength=len(Z)) #numpy.bincount https://docs.scipy.org/doc/numpy/reference/generated/numpy.bincount.html\n",
    "print(Z)"
   ]
  },
  {
   "cell_type": "markdown",
   "metadata": {},
   "source": [
    "#### Solution 2"
   ]
  },
  {
   "cell_type": "code",
   "execution_count": 288,
   "metadata": {
    "collapsed": false
   },
   "outputs": [
    {
     "name": "stdout",
     "output_type": "stream",
     "text": [
      "[  3.   7.   5.   1.   1.   3.   5.   9.  11.   5.]\n"
     ]
    }
   ],
   "source": [
    "np.add.at(Z, I, 1) #add.at\n",
    "print(Z)"
   ]
  },
  {
   "cell_type": "markdown",
   "metadata": {},
   "source": [
    "### 65. How to accumulate elements of a vector (X) to an array (F) based on an index list (I)? (★★★)"
   ]
  },
  {
   "cell_type": "code",
   "execution_count": 293,
   "metadata": {
    "collapsed": false
   },
   "outputs": [
    {
     "name": "stdout",
     "output_type": "stream",
     "text": [
      "[ 0.  7.  0.  6.  5.  0.  0.  0.  0.  3.]\n"
     ]
    }
   ],
   "source": [
    "X = [1,2,3,4,5,6]\n",
    "I = [1,3,9,3,4,1]\n",
    "F = np.bincount(I,X) #^?^ bincount\n",
    "print(F)"
   ]
  },
  {
   "cell_type": "markdown",
   "metadata": {
    "collapsed": true
   },
   "source": [
    "### 66. Considering a (w,h,3) image of (dtype=ubyte), compute the number of unique colors (★★★)"
   ]
  },
  {
   "cell_type": "code",
   "execution_count": 275,
   "metadata": {
    "collapsed": true
   },
   "outputs": [],
   "source": [
    "w, h = 16, 16"
   ]
  },
  {
   "cell_type": "code",
   "execution_count": 276,
   "metadata": {
    "collapsed": false,
    "scrolled": true
   },
   "outputs": [],
   "source": [
    "Z = np.random.randint(0,255,(w,h,3),dtype = np.ubyte)\n",
    "# np.random.randint(0,255,(w,h,3)).astype(np.ubyte)"
   ]
  },
  {
   "cell_type": "code",
   "execution_count": 277,
   "metadata": {
    "collapsed": false
   },
   "outputs": [
    {
     "data": {
      "text/plain": [
       "256"
      ]
     },
     "execution_count": 277,
     "metadata": {},
     "output_type": "execute_result"
    }
   ],
   "source": [
    "I = Z.astype('uint32')\n",
    "len(np.unique(I[...,0]*256*256 + I[...,1]*256 + I[...,2]))   #^?^ unique at which level? np.unique"
   ]
  },
  {
   "cell_type": "code",
   "execution_count": 279,
   "metadata": {
    "collapsed": false,
    "scrolled": true
   },
   "outputs": [
    {
     "data": {
      "text/plain": [
       "245"
      ]
     },
     "execution_count": 279,
     "metadata": {},
     "output_type": "execute_result"
    }
   ],
   "source": [
    "len(np.unique(I)) #numbers of unique number element appeared in the array"
   ]
  },
  {
   "cell_type": "markdown",
   "metadata": {},
   "source": [
    "### 67. Considering a four dimensions array, how to get sum over the last two axis at once? (★★★)"
   ]
  },
  {
   "cell_type": "code",
   "execution_count": 328,
   "metadata": {
    "collapsed": false,
    "scrolled": true
   },
   "outputs": [
    {
     "data": {
      "text/plain": [
       "array([[[[5, 0, 9, 7],\n",
       "         [4, 0, 0, 8],\n",
       "         [3, 0, 2, 3]],\n",
       "\n",
       "        [[6, 9, 4, 6],\n",
       "         [2, 5, 4, 4],\n",
       "         [5, 8, 1, 6]],\n",
       "\n",
       "        [[5, 4, 3, 6],\n",
       "         [2, 5, 8, 1],\n",
       "         [7, 1, 1, 6]],\n",
       "\n",
       "        [[6, 3, 1, 2],\n",
       "         [6, 6, 1, 6],\n",
       "         [6, 3, 9, 1]]],\n",
       "\n",
       "\n",
       "       [[[0, 2, 1, 2],\n",
       "         [2, 8, 2, 8],\n",
       "         [7, 1, 6, 5]],\n",
       "\n",
       "        [[1, 3, 1, 9],\n",
       "         [5, 1, 7, 5],\n",
       "         [8, 3, 6, 9]],\n",
       "\n",
       "        [[5, 4, 7, 7],\n",
       "         [8, 3, 4, 8],\n",
       "         [0, 7, 6, 2]],\n",
       "\n",
       "        [[2, 9, 7, 3],\n",
       "         [0, 2, 0, 3],\n",
       "         [4, 7, 8, 4]]],\n",
       "\n",
       "\n",
       "       [[[0, 5, 2, 1],\n",
       "         [7, 8, 2, 2],\n",
       "         [3, 8, 2, 0]],\n",
       "\n",
       "        [[3, 8, 1, 1],\n",
       "         [7, 2, 7, 8],\n",
       "         [5, 8, 3, 2]],\n",
       "\n",
       "        [[2, 2, 3, 7],\n",
       "         [9, 7, 7, 2],\n",
       "         [9, 4, 5, 9]],\n",
       "\n",
       "        [[4, 3, 9, 7],\n",
       "         [4, 2, 6, 4],\n",
       "         [7, 4, 6, 8]]]])"
      ]
     },
     "execution_count": 328,
     "metadata": {},
     "output_type": "execute_result"
    }
   ],
   "source": [
    "Z = np.random.randint(0,10,(3,4,3,4))\n",
    "Z"
   ]
  },
  {
   "cell_type": "markdown",
   "metadata": {},
   "source": [
    "#### Solution by passing a tuple of axes"
   ]
  },
  {
   "cell_type": "code",
   "execution_count": 329,
   "metadata": {
    "collapsed": false
   },
   "outputs": [
    {
     "data": {
      "text/plain": [
       "array([[41, 60, 49, 50],\n",
       "       [44, 58, 61, 49],\n",
       "       [40, 55, 66, 64]])"
      ]
     },
     "execution_count": 329,
     "metadata": {},
     "output_type": "execute_result"
    }
   ],
   "source": [
    "Z.sum(axis=(-2,-1))"
   ]
  },
  {
   "cell_type": "markdown",
   "metadata": {},
   "source": [
    "#### Solution by flattening the last two dimensions into one"
   ]
  },
  {
   "cell_type": "code",
   "execution_count": 330,
   "metadata": {
    "collapsed": false
   },
   "outputs": [
    {
     "name": "stdout",
     "output_type": "stream",
     "text": [
      "<built-in function sum>\n"
     ]
    },
    {
     "data": {
      "text/plain": [
       "array([[41, 60, 49, 50],\n",
       "       [44, 58, 61, 49],\n",
       "       [40, 55, 66, 64]])"
      ]
     },
     "execution_count": 330,
     "metadata": {},
     "output_type": "execute_result"
    }
   ],
   "source": [
    "print(sum)\n",
    "\n",
    "# (useful for functions that don't accept tuples for axis argument)\n",
    "Z.reshape(Z.shape[:-2] + (-1,)).sum(axis=-1) #(3,4) + (-1,) ->(3,4,-1) #tuple\n"
   ]
  },
  {
   "cell_type": "markdown",
   "metadata": {},
   "source": [
    "### 68. Considering a one-dimensional vector D, how to compute means of subsets of D using a vector S of same size describing subset indices? (★★★)"
   ]
  },
  {
   "cell_type": "code",
   "execution_count": 331,
   "metadata": {
    "collapsed": true
   },
   "outputs": [],
   "source": [
    "D = np.random.uniform(0,1,100)\n",
    "S = np.random.randint(0,10,100)"
   ]
  },
  {
   "cell_type": "markdown",
   "metadata": {},
   "source": [
    "#### Numpy solution"
   ]
  },
  {
   "cell_type": "code",
   "execution_count": 315,
   "metadata": {
    "collapsed": false
   },
   "outputs": [
    {
     "data": {
      "text/plain": [
       "array([ 5.50134734,  2.63661096,  3.8361416 ,  3.50684096,  7.70906344,\n",
       "        6.87623692,  6.84284488,  7.9979743 ,  5.02641808,  2.98534634])"
      ]
     },
     "execution_count": 315,
     "metadata": {},
     "output_type": "execute_result"
    }
   ],
   "source": [
    "D_sums = np.bincount(S, weights=D)\n",
    "D_sums"
   ]
  },
  {
   "cell_type": "code",
   "execution_count": 316,
   "metadata": {
    "collapsed": false
   },
   "outputs": [
    {
     "data": {
      "text/plain": [
       "array([ 9,  5,  8, 10, 12, 14, 14, 11, 10,  7])"
      ]
     },
     "execution_count": 316,
     "metadata": {},
     "output_type": "execute_result"
    }
   ],
   "source": [
    "D_counts = np.bincount(S)\n",
    "D_counts"
   ]
  },
  {
   "cell_type": "code",
   "execution_count": 317,
   "metadata": {
    "collapsed": false
   },
   "outputs": [
    {
     "data": {
      "text/plain": [
       "array([ 0.61126082,  0.52732219,  0.4795177 ,  0.3506841 ,  0.64242195,\n",
       "        0.49115978,  0.48877463,  0.72708857,  0.50264181,  0.42647805])"
      ]
     },
     "execution_count": 317,
     "metadata": {},
     "output_type": "execute_result"
    }
   ],
   "source": [
    "D_means = D_sums / D_counts\n",
    "D_means"
   ]
  },
  {
   "cell_type": "markdown",
   "metadata": {},
   "source": [
    "#### Pandas solution"
   ]
  },
  {
   "cell_type": "code",
   "execution_count": 332,
   "metadata": {
    "collapsed": false,
    "scrolled": false
   },
   "outputs": [
    {
     "data": {
      "text/plain": [
       "0    0.287473\n",
       "1    0.459939\n",
       "2    0.481818\n",
       "3    0.537626\n",
       "4    0.432787\n",
       "5    0.346855\n",
       "6    0.473975\n",
       "7    0.333893\n",
       "8    0.528553\n",
       "9    0.479989\n",
       "dtype: float64"
      ]
     },
     "execution_count": 332,
     "metadata": {},
     "output_type": "execute_result"
    }
   ],
   "source": [
    "import pandas as pd\n",
    "pd.Series(D).groupby(S).mean() #length of S should be the same with D"
   ]
  },
  {
   "cell_type": "markdown",
   "metadata": {},
   "source": [
    "### 69. How to get the diagonal of a dot product? (★★★)"
   ]
  },
  {
   "cell_type": "code",
   "execution_count": 337,
   "metadata": {
    "collapsed": true
   },
   "outputs": [],
   "source": [
    "A = np.random.uniform(0,1,(5,5))\n",
    "B = np.random.uniform(0,1,(5,5))"
   ]
  },
  {
   "cell_type": "markdown",
   "metadata": {},
   "source": [
    "#### Slow version"
   ]
  },
  {
   "cell_type": "code",
   "execution_count": 338,
   "metadata": {
    "collapsed": false
   },
   "outputs": [
    {
     "data": {
      "text/plain": [
       "array([ 2.2699983 ,  1.15188364,  1.3312516 ,  1.1119785 ,  1.59274685])"
      ]
     },
     "execution_count": 338,
     "metadata": {},
     "output_type": "execute_result"
    }
   ],
   "source": [
    "np.diag(np.dot(A, B))"
   ]
  },
  {
   "cell_type": "markdown",
   "metadata": {},
   "source": [
    "#### Fast version"
   ]
  },
  {
   "cell_type": "code",
   "execution_count": 339,
   "metadata": {
    "collapsed": false
   },
   "outputs": [
    {
     "data": {
      "text/plain": [
       "array([ 2.2699983 ,  1.15188364,  1.3312516 ,  1.1119785 ,  1.59274685])"
      ]
     },
     "execution_count": 339,
     "metadata": {},
     "output_type": "execute_result"
    }
   ],
   "source": [
    "np.sum(A * B.T, axis=1)"
   ]
  },
  {
   "cell_type": "markdown",
   "metadata": {},
   "source": [
    "#### Faster version"
   ]
  },
  {
   "cell_type": "code",
   "execution_count": 340,
   "metadata": {
    "collapsed": false
   },
   "outputs": [
    {
     "data": {
      "text/plain": [
       "array([ 2.2699983 ,  1.15188364,  1.3312516 ,  1.1119785 ,  1.59274685])"
      ]
     },
     "execution_count": 340,
     "metadata": {},
     "output_type": "execute_result"
    }
   ],
   "source": [
    "np.einsum(\"ij,ji->i\", A, B)"
   ]
  },
  {
   "cell_type": "markdown",
   "metadata": {},
   "source": [
    "### 70. Consider the vector [1, 2, 3, 4, 5], how to build a new vector with 3 consecutive zeros interleaved between each value? (★★★)"
   ]
  },
  {
   "cell_type": "code",
   "execution_count": 345,
   "metadata": {
    "collapsed": true
   },
   "outputs": [],
   "source": [
    "Z = np.array([1,2,3,4,5])\n",
    "nz = 3"
   ]
  },
  {
   "cell_type": "code",
   "execution_count": 346,
   "metadata": {
    "collapsed": false
   },
   "outputs": [
    {
     "data": {
      "text/plain": [
       "array([ 0.,  0.,  0.,  0.,  0.,  0.,  0.,  0.,  0.,  0.,  0.,  0.,  0.,\n",
       "        0.,  0.,  0.,  0.])"
      ]
     },
     "execution_count": 346,
     "metadata": {},
     "output_type": "execute_result"
    }
   ],
   "source": [
    "Z0 = np.zeros(len(Z) + (len(Z)-1)*(nz))\n",
    "Z0"
   ]
  },
  {
   "cell_type": "code",
   "execution_count": 348,
   "metadata": {
    "collapsed": false
   },
   "outputs": [
    {
     "data": {
      "text/plain": [
       "array([ 1.,  0.,  0.,  0.,  2.,  0.,  0.,  0.,  3.,  0.,  0.,  0.,  4.,\n",
       "        0.,  0.,  0.,  5.])"
      ]
     },
     "execution_count": 348,
     "metadata": {},
     "output_type": "execute_result"
    }
   ],
   "source": [
    "Z0[::nz+1] = Z\n",
    "Z0"
   ]
  },
  {
   "cell_type": "markdown",
   "metadata": {},
   "source": [
    "### 71. Consider an array of dimension (5,5,3), how to mulitply it by an array with dimensions (5,5)? (★★★)"
   ]
  },
  {
   "cell_type": "code",
   "execution_count": 350,
   "metadata": {
    "collapsed": false,
    "scrolled": true
   },
   "outputs": [
    {
     "name": "stdout",
     "output_type": "stream",
     "text": [
      "[[[ 2.  2.  2.]\n",
      "  [ 2.  2.  2.]\n",
      "  [ 2.  2.  2.]\n",
      "  [ 2.  2.  2.]\n",
      "  [ 2.  2.  2.]]\n",
      "\n",
      " [[ 2.  2.  2.]\n",
      "  [ 2.  2.  2.]\n",
      "  [ 2.  2.  2.]\n",
      "  [ 2.  2.  2.]\n",
      "  [ 2.  2.  2.]]\n",
      "\n",
      " [[ 2.  2.  2.]\n",
      "  [ 2.  2.  2.]\n",
      "  [ 2.  2.  2.]\n",
      "  [ 2.  2.  2.]\n",
      "  [ 2.  2.  2.]]\n",
      "\n",
      " [[ 2.  2.  2.]\n",
      "  [ 2.  2.  2.]\n",
      "  [ 2.  2.  2.]\n",
      "  [ 2.  2.  2.]\n",
      "  [ 2.  2.  2.]]\n",
      "\n",
      " [[ 2.  2.  2.]\n",
      "  [ 2.  2.  2.]\n",
      "  [ 2.  2.  2.]\n",
      "  [ 2.  2.  2.]\n",
      "  [ 2.  2.  2.]]]\n"
     ]
    }
   ],
   "source": [
    "A = np.ones((5,5,3))\n",
    "B = 2*np.ones((5,5))"
   ]
  },
  {
   "cell_type": "markdown",
   "metadata": {},
   "source": [
    "#### Solution 1"
   ]
  },
  {
   "cell_type": "code",
   "execution_count": null,
   "metadata": {
    "collapsed": true
   },
   "outputs": [],
   "source": [
    "A * B[:,:,np.newaxis]"
   ]
  },
  {
   "cell_type": "markdown",
   "metadata": {},
   "source": [
    "#### Solution 2"
   ]
  },
  {
   "cell_type": "code",
   "execution_count": 353,
   "metadata": {
    "collapsed": false,
    "scrolled": true
   },
   "outputs": [
    {
     "data": {
      "text/plain": [
       "array([[[ 2.,  2.,  2.],\n",
       "        [ 2.,  2.,  2.],\n",
       "        [ 2.,  2.,  2.],\n",
       "        [ 2.,  2.,  2.],\n",
       "        [ 2.,  2.,  2.]],\n",
       "\n",
       "       [[ 2.,  2.,  2.],\n",
       "        [ 2.,  2.,  2.],\n",
       "        [ 2.,  2.,  2.],\n",
       "        [ 2.,  2.,  2.],\n",
       "        [ 2.,  2.,  2.]],\n",
       "\n",
       "       [[ 2.,  2.,  2.],\n",
       "        [ 2.,  2.,  2.],\n",
       "        [ 2.,  2.,  2.],\n",
       "        [ 2.,  2.,  2.],\n",
       "        [ 2.,  2.,  2.]],\n",
       "\n",
       "       [[ 2.,  2.,  2.],\n",
       "        [ 2.,  2.,  2.],\n",
       "        [ 2.,  2.,  2.],\n",
       "        [ 2.,  2.,  2.],\n",
       "        [ 2.,  2.,  2.]],\n",
       "\n",
       "       [[ 2.,  2.,  2.],\n",
       "        [ 2.,  2.,  2.],\n",
       "        [ 2.,  2.,  2.],\n",
       "        [ 2.,  2.,  2.],\n",
       "        [ 2.,  2.,  2.]]])"
      ]
     },
     "execution_count": 353,
     "metadata": {},
     "output_type": "execute_result"
    }
   ],
   "source": [
    "A * B[:,:,None]"
   ]
  },
  {
   "cell_type": "markdown",
   "metadata": {},
   "source": [
    "#### Solution 3"
   ]
  },
  {
   "cell_type": "code",
   "execution_count": 352,
   "metadata": {
    "collapsed": false,
    "scrolled": true
   },
   "outputs": [
    {
     "data": {
      "text/plain": [
       "array([[[ 2.,  2.,  2.],\n",
       "        [ 2.,  2.,  2.],\n",
       "        [ 2.,  2.,  2.],\n",
       "        [ 2.,  2.,  2.],\n",
       "        [ 2.,  2.,  2.]],\n",
       "\n",
       "       [[ 2.,  2.,  2.],\n",
       "        [ 2.,  2.,  2.],\n",
       "        [ 2.,  2.,  2.],\n",
       "        [ 2.,  2.,  2.],\n",
       "        [ 2.,  2.,  2.]],\n",
       "\n",
       "       [[ 2.,  2.,  2.],\n",
       "        [ 2.,  2.,  2.],\n",
       "        [ 2.,  2.,  2.],\n",
       "        [ 2.,  2.,  2.],\n",
       "        [ 2.,  2.,  2.]],\n",
       "\n",
       "       [[ 2.,  2.,  2.],\n",
       "        [ 2.,  2.,  2.],\n",
       "        [ 2.,  2.,  2.],\n",
       "        [ 2.,  2.,  2.],\n",
       "        [ 2.,  2.,  2.]],\n",
       "\n",
       "       [[ 2.,  2.,  2.],\n",
       "        [ 2.,  2.,  2.],\n",
       "        [ 2.,  2.,  2.],\n",
       "        [ 2.,  2.,  2.],\n",
       "        [ 2.,  2.,  2.]]])"
      ]
     },
     "execution_count": 352,
     "metadata": {},
     "output_type": "execute_result"
    }
   ],
   "source": [
    "A * B.reshape(5,5,-1)"
   ]
  },
  {
   "cell_type": "markdown",
   "metadata": {},
   "source": [
    "### 72. How to swap two rows of an array? (★★★)"
   ]
  },
  {
   "cell_type": "code",
   "execution_count": 355,
   "metadata": {
    "collapsed": false
   },
   "outputs": [
    {
     "data": {
      "text/plain": [
       "array([[ 0,  1,  2,  3,  4],\n",
       "       [ 5,  6,  7,  8,  9],\n",
       "       [10, 11, 12, 13, 14],\n",
       "       [15, 16, 17, 18, 19],\n",
       "       [20, 21, 22, 23, 24]])"
      ]
     },
     "execution_count": 355,
     "metadata": {},
     "output_type": "execute_result"
    }
   ],
   "source": [
    "A = np.arange(25).reshape(5,5)\n",
    "A"
   ]
  },
  {
   "cell_type": "code",
   "execution_count": 356,
   "metadata": {
    "collapsed": false
   },
   "outputs": [
    {
     "data": {
      "text/plain": [
       "array([[ 5,  6,  7,  8,  9],\n",
       "       [ 0,  1,  2,  3,  4],\n",
       "       [10, 11, 12, 13, 14],\n",
       "       [15, 16, 17, 18, 19],\n",
       "       [20, 21, 22, 23, 24]])"
      ]
     },
     "execution_count": 356,
     "metadata": {},
     "output_type": "execute_result"
    }
   ],
   "source": [
    "A[[0,1]] = A[[1,0]]\n",
    "A"
   ]
  },
  {
   "cell_type": "markdown",
   "metadata": {},
   "source": [
    "### 73. Consider a set of 10 triplets describing 10 triangles (with shared vertices), find the set of unique line segments composing all the triangles (★★★)"
   ]
  },
  {
   "cell_type": "code",
   "execution_count": 357,
   "metadata": {
    "collapsed": false
   },
   "outputs": [
    {
     "name": "stdout",
     "output_type": "stream",
     "text": [
      "[( 0, 69) ( 0, 83) ( 9, 21) ( 9, 37) (14, 34) (14, 98) (21, 37) (22, 56)\n",
      " (22, 63) (24, 28) (24, 47) (28, 47) (31, 37) (31, 61) (33, 68) (33, 69)\n",
      " (34, 98) (37, 39) (37, 61) (37, 95) (39, 95) (56, 63) (57, 57) (57, 97)\n",
      " (65, 79) (65, 83) (68, 69) (69, 83) (79, 83)]\n"
     ]
    }
   ],
   "source": [
    "faces = np.random.randint(0,100,(10,3))\n",
    "F = np.roll(faces.repeat(2,axis=1),-1,axis=1)   #^?^\n",
    "F = F.reshape(len(F)*3,2)\n",
    "F = np.sort(F,axis=1)\n",
    "G = F.view( dtype=[('p0',F.dtype),('p1',F.dtype)] )\n",
    "G = np.unique(G)\n",
    "print(G)"
   ]
  },
  {
   "cell_type": "code",
   "execution_count": 358,
   "metadata": {
    "collapsed": false
   },
   "outputs": [
    {
     "data": {
      "text/plain": [
       "array([[63, 56, 22],\n",
       "       [65, 79, 83],\n",
       "       [69, 83,  0],\n",
       "       [57, 57, 97],\n",
       "       [24, 28, 47],\n",
       "       [34, 98, 14],\n",
       "       [68, 33, 69],\n",
       "       [37, 61, 31],\n",
       "       [39, 95, 37],\n",
       "       [37, 21,  9]])"
      ]
     },
     "execution_count": 358,
     "metadata": {},
     "output_type": "execute_result"
    }
   ],
   "source": [
    "faces"
   ]
  },
  {
   "cell_type": "code",
   "execution_count": null,
   "metadata": {
    "collapsed": true
   },
   "outputs": [],
   "source": []
  }
 ],
 "metadata": {
  "kernelspec": {
   "display_name": "Python 3",
   "language": "python",
   "name": "python3"
  },
  "language_info": {
   "codemirror_mode": {
    "name": "ipython",
    "version": 3
   },
   "file_extension": ".py",
   "mimetype": "text/x-python",
   "name": "python",
   "nbconvert_exporter": "python",
   "pygments_lexer": "ipython3",
   "version": "3.5.3"
  }
 },
 "nbformat": 4,
 "nbformat_minor": 2
}
