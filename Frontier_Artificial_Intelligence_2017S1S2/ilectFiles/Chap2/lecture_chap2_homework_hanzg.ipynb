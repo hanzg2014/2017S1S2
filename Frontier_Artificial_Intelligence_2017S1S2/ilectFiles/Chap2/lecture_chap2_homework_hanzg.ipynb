{
 "cells": [
  {
   "cell_type": "markdown",
   "metadata": {
    "deletable": true,
    "editable": true
   },
   "source": [
    "# 第2回講義 課題\n",
    "\n",
    "注意事項：\n",
    "\n",
    "- 答えを書く欄は Q7の下にあります\n",
    "\n",
    "\n",
    "- ### 解答を全て書き終わったら Kernel -> Restart -> Restart を押してから Answer Cell がエラーなく実行できる事を確認してください\n",
    "\n",
    "\n",
    "- ### 答えがわからない時は 'return' として下さい (そのままでよい)\n",
    "\n",
    "\n",
    "- 各問題の得点配分は以下の通りです\n",
    "\n",
    "    Q1: 各0.05, Q2: 0.14, Q3: 0.14, Q4: 0.14, Q5:各0.06, Q6: 0.13, Q7: 0.13 (大問7つ 合計 1.0)    \n",
    "\n",
    "\n",
    "- 関数名は書き換えないで下さい\n",
    "\n",
    "\n",
    "- 検算には Checker Cell を使用して下さい\n",
    "\n",
    "\n",
    "- 配列を出力する問題では全て numpy array で出力して下さい\n",
    "\n",
    "\n",
    "- 配列の入力がある場合は numpy array の入力と仮定して構いません (あえてnp.array(x)などでキャストしなくてもよい)\n",
    "\n",
    "\n",
    "- 特定のサイズの配列でしか動かないような書き方はしないで下さい　\n",
    "\n",
    "    解答チェックの際にはここで定義された関数を例とは別のサイズの配列を入力して使用します\n",
    "     \n",
    "\n",
    "- 解答提出時には Answer Cell の内容のみを提出してください"
   ]
  },
  {
   "cell_type": "code",
   "execution_count": 5,
   "metadata": {
    "collapsed": false,
    "scrolled": true
   },
   "outputs": [
    {
     "data": {
      "text/plain": [
       "array([0, 0, 1, 1, 2, 2, 3, 3, 4, 4])"
      ]
     },
     "execution_count": 5,
     "metadata": {},
     "output_type": "execute_result"
    }
   ],
   "source": [
    "import numpy as np\n"
   ]
  },
  {
   "cell_type": "markdown",
   "metadata": {
    "deletable": true,
    "editable": true
   },
   "source": [
    "# Q.1\n",
    "それぞれの結果を与えるコマンドを　A,B,C　から選んで下さい。正解はABCの内一つとは限りません。\n",
    "\n",
    "### 1\n",
    "```\n",
    "array([0, 0, 1, 1, 2, 2, 3, 3, 4, 4])\n",
    "```\n",
    "```\n",
    "A\n",
    "import numpy as np\n",
    "np.arange(10)//2\n",
    "\n",
    "B\n",
    "import numpy as np\n",
    "(np.arange(5)[:,np.newaxis]*(1,1)).flatten()\n",
    "\n",
    "C\n",
    "import numpy as np\n",
    "np.array([(i,i) for i in range(5)]).flatten()\n",
    "```\n",
    "\n",
    "\n",
    "### 2\n",
    "```\n",
    "array([0, 1, 0, 3, 0, 5, 0, 7, 0, 9])\n",
    "```\n",
    "```\n",
    "A\n",
    "import numpy as np\n",
    "x = np.arange(10)\n",
    "x * (x%2==1)\n",
    "\n",
    "B\n",
    "import numpy as np\n",
    "np.array([i if i%2==0 else 0 for i in range(10)])\n",
    "\n",
    "C\n",
    "import numpy as np\n",
    "np.arange(10) * np.tile([0,1], 5)\n",
    "```\n",
    "\n",
    "### 3\n",
    "```\n",
    "array([1, 2, 4, 8 ,16])\n",
    "```\n",
    "```\n",
    "A\n",
    "import numpy as np\n",
    "2**(np.arange(5))\n",
    "\n",
    "B\n",
    "import numpy as np\n",
    "np.apply_along_axis(np.square, 0, (np.arange(5)))\n",
    "\n",
    "C\n",
    "import numpy as np\n",
    "x = [1]\n",
    "[x.append(x[i]*2) for i in range(4)]    \n",
    "np.array(x)\n",
    "```\n",
    "\n",
    "### 4\n",
    "```\n",
    "array([-1., -1., -1., -1., -1., 1., 1., 1., 1., 1.])\n",
    "```\n",
    "```\n",
    "A\n",
    "import numpy as np\n",
    "np.sign(np.arange(10) - 4.5)\n",
    "\n",
    "B\n",
    "import numpy as np\n",
    "np.concatenate([-np.ones(5), np.ones(5)])\n",
    "\n",
    "C\n",
    "import numpy as np\n",
    "(np.arange(10) > 4.5) * 2.0 - 1\n",
    "```\n",
    "\n",
    "答えの書き方例\n",
    "```\n",
    "Q1_1 = 'A'\n",
    "Q1_2 = 'B'\n",
    "Q1_3 = ''\n",
    "Q1_4 = 'ABC' \n",
    "```"
   ]
  },
  {
   "cell_type": "markdown",
   "metadata": {
    "deletable": true,
    "editable": true
   },
   "source": [
    "# Q2\n",
    "以下の関数を実装してください。\n",
    "$$\n",
    "\\sum_k A_{ik} x_k B_{kj} - C_{ji}\n",
    "$$\n",
    "\n",
    "\n",
    "例えば\n",
    "```\n",
    "A = np.array([[1,2,3],[4,5,6]])\n",
    "B = np.array([[1,2],[3,4],[5,6]])\n",
    "C = np.array([[2,3],[1,2]])\n",
    "x = np.array([-1, 1, 3])\n",
    "```\n",
    "の場合この関数は\n",
    "```\n",
    "array([[ 48,  59],\n",
    "       [ 98, 118]])\n",
    "```\n",
    "を与えます。"
   ]
  },
  {
   "cell_type": "markdown",
   "metadata": {
    "deletable": true,
    "editable": true
   },
   "source": [
    "# Q3\n",
    "x, a が shape = (N,M), (M,) の numpy array として与えらえれています。\n",
    "\n",
    "xの各要素をについて、a に近い順に並べ替えて出力する関数を書いてください。\n",
    "\n",
    "ここで、a, b が近いとはノルム $ \\left | a - b \\right| = \\sqrt{\\sum_i \\left(a_i - b_i\\right)^2}  $ が小さい事を意味します。\n",
    "\n",
    "例\n",
    "```\n",
    "x = np.array([[87, 14], [81, 62], [81, 18], [ 8, 63], [51, 15], [38, 63], [80, 36], [69, 78], [26, 9]])\n",
    "a = np.array([25, 75]) \n",
    "```\n",
    "として x, y が与えられた時、この関数は\n",
    "```\n",
    "array([[38, 63],\n",
    "       [ 8, 63],\n",
    "       [69, 78],\n",
    "       [81, 62],\n",
    "       [51, 15],\n",
    "       [26,  9],\n",
    "       [80, 36],\n",
    "       [81, 18],\n",
    "       [87, 14]])\n",
    "```\n",
    "を返します"
   ]
  },
  {
   "cell_type": "markdown",
   "metadata": {
    "deletable": true,
    "editable": true
   },
   "source": [
    "# Q4\n",
    "M x N の領域に図の用に左上から0, 1, 2,...と番号がふられています。\n",
    "\n",
    "左からx0+1番目からx1+1番目まで（x1+1番目は含む）\n",
    "\n",
    "上からy0+1番目からy1+1番目まで（y1+1番目は含む）\n",
    "\n",
    "の領域にある数字の合計を計算して下さい。\n",
    "\n",
    "左上はx0=0, y0=0です。\n",
    "\n",
    "\n",
    "図の例において\n",
    "x0=1, x1=3, y0=1, y1=2 の時の答えは84です。\n",
    "\n",
    "\n",
    "```\n",
    "図\n",
    "M = 8\n",
    "N = 6\n",
    "[  0,   1,  2,  3,  4,  5,  6,  7]\n",
    "[  8,   9, 10, 11, 12, 13, 14, 15]\n",
    "[ 16,  17, 18, 19, 20, 21, 22, 23]\n",
    "[ 24,  25, 26, 27, 28, 29, 30, 31]\n",
    "[ 32,  33, 34, 35, 36, 37, 38, 39]\n",
    "[ 40,  41, 42, 43, 44, 45, 46, 47]\n",
    "\n",
    "x0=1, x1=3, y0=1, y1=2\n",
    "[ 9, 10, 11]\n",
    "[17, 18, 19]\n",
    "sum 84\n",
    "```"
   ]
  },
  {
   "cell_type": "markdown",
   "metadata": {
    "deletable": true,
    "editable": true
   },
   "source": [
    "# Q5\n",
    "\n",
    "category 表現から one-hot 表現を得る関数を作成してください。\n",
    "\n",
    "またその逆関数も作成して下さい。\n",
    "\n",
    "category表現とone-hot表現は例えば以下のような関係です。\n",
    "```\n",
    "category　[0, 1, 2, 1, 0, 2, 2, 1, 0]\n",
    "```\n",
    "```\n",
    "one-hot\n",
    "[[ 1., 0., 0.],\n",
    "[ 0., 1., 0.],\n",
    "[ 0., 0., 1.],\n",
    "[ 0., 1., 0.],\n",
    "[ 1., 0., 0.],\n",
    "[ 0., 0., 1.],\n",
    "[ 0., 0., 1.],\n",
    "[ 0., 1., 0.],\n",
    "[ 1., 0., 0.]]\n",
    "```\n",
    "今、category表現はintegerとして、\n",
    "one-hotのスロット数はcategory表現の最大値+1とします。(例ではcategoryの最大値が２でone-hotは３スロット)"
   ]
  },
  {
   "cell_type": "markdown",
   "metadata": {
    "deletable": true,
    "editable": true
   },
   "source": [
    "# Q6\n",
    "かけ算 $ m \\times n $ の表を作って下さい。\n",
    "\n",
    "for loop は使わずにnumpy.newaxisを使ってください。\n",
    "\n",
    "例として かけ算 $ 4 \\times 5 $ の表は以下のようになります。\n",
    "```\n",
    "array([[ 1,  2,  3,  4],\n",
    "       [ 2,  4,  6,  8],\n",
    "       [ 3,  6,  9, 12],\n",
    "       [ 4,  8, 12, 16],\n",
    "       [ 5, 10, 15, 20]])\n",
    "```"
   ]
  },
  {
   "cell_type": "markdown",
   "metadata": {
    "deletable": true,
    "editable": true
   },
   "source": [
    "# Q7\n",
    "一次元のnumpy array x が与えられた時に xの隣り合った２つの要素の差を与える関数を書きなさい。\n",
    "\n",
    "例\n",
    "\n",
    "入力\n",
    "    array([1,1,2,2,3,4,6,8,9])\n",
    "\n",
    "出力\n",
    "    array([0,1,0,1,1,2,2,1])"
   ]
  },
  {
   "cell_type": "markdown",
   "metadata": {
    "deletable": true,
    "editable": true
   },
   "source": [
    "# Answer Cell"
   ]
  },
  {
   "cell_type": "code",
   "execution_count": 178,
   "metadata": {
    "collapsed": false,
    "deletable": false,
    "editable": true,
    "ilect": {
     "is_homework": true
    }
   },
   "outputs": [],
   "source": [
    "# 答えを書く欄\n",
    "Q1_1 = 'ABC'\n",
    "Q1_2 = 'AC'\n",
    "Q1_3 = 'AC'\n",
    "Q1_4 = 'ABC'\n",
    "\n",
    "import numpy as np\n",
    "\n",
    "\n",
    "def Q2(A, B, C, x):\n",
    "    \"\"\"\n",
    "    Description: \n",
    "        matrix-vector calculation\n",
    "    Arguments: \n",
    "        A: matrix l by m (2-dimensional numpy array)\n",
    "        B: matrix m by n (2-dimensional numpy array)\n",
    "        C: matrix n by l (2-dimensional numpy array)\n",
    "        x: vector size m (1-dimensional numpy array)\n",
    "    Return: \n",
    "        A_ik x_k B_kj - C_ji (k-index summed [0 to m-1])\n",
    "    \"\"\"\n",
    "    # CODEME\n",
    "    return np.einsum('lm,m,mn->nl', A,x,B) - C\n",
    "\n",
    "\n",
    "def Q3(x, a):\n",
    "    \"\"\"\n",
    "    Description:\n",
    "        sorting function\n",
    "    Arguments:\n",
    "        x: 2-dimensional numpy array\n",
    "    Return:\n",
    "        numpy array with the same shape as x\n",
    "    \"\"\"\n",
    "    # CODEME\n",
    "    return x[np.linalg.norm(x-a,axis = 1).argsort()]\n",
    "\n",
    "\n",
    "def Q4(M, N, x0, x1, y0, y1):\n",
    "    \"\"\"\n",
    "    Description:\n",
    "        sum over cropped region\n",
    "    Arguments:\n",
    "        M, N, x0, x1, y0, y1: integer\n",
    "    Return:\n",
    "        the sum over region in (x0, x1), (y0, y1)\n",
    "    \"\"\"\n",
    "    # CODEME\n",
    "    return np.arange(M*N).reshape(N,M)[y0:y1+1,x0:x1+1].sum()\n",
    "\n",
    "\n",
    "def Q5_1(x):\n",
    "    \"\"\"\n",
    "    Description:\n",
    "        get one-hot expression from category expression\n",
    "    Arguments:\n",
    "        x: one-dimensional numpy array, data type integer \n",
    "    Return:\n",
    "        numpy array, one-hot expression of x\n",
    "    \"\"\"\n",
    "    # CODEME\n",
    "    row = len(x)\n",
    "    col = x.max()+1\n",
    "    z = np.zeros(row*col).reshape(row,col)\n",
    "    z[np.arange(row),x] = 1\n",
    "    return z\n",
    "\n",
    "\n",
    "def Q5_2(x):\n",
    "    \"\"\"\n",
    "    Description:\n",
    "        get category expression from one-hot expression\n",
    "    Arguments:\n",
    "        x: numpy array, one-hot expression\n",
    "    Return:\n",
    "        one-dimensional numpy array, category expression of x\n",
    "    \"\"\"\n",
    "    # CODEME\n",
    "    return np.where(x == 1)[1]\n",
    "\n",
    "\n",
    "def Q6(m, n):\n",
    "    \"\"\"\n",
    "    Description:\n",
    "        produce multiplication tables m by n\n",
    "    Arguments:\n",
    "        m, n: integer\n",
    "    Return:\n",
    "        numpy array with shape (m,n)\n",
    "    \"\"\"\n",
    "    # CODEME\n",
    "    return (np.arange(m)[:,np.newaxis] + 1) * (np.arange(n) + 1)\n",
    "\n",
    "\n",
    "def Q7(x):\n",
    "    \"\"\"\n",
    "    Arguments:\n",
    "        x: numpy array 1 dimension\n",
    "    Return:\n",
    "        numpy array 1 dimension\n",
    "        each component is x[i+1] - x[i]  \n",
    "    \"\"\"\n",
    "    # CODEME\n",
    "    return x[1:] - x[:-1]"
   ]
  },
  {
   "cell_type": "markdown",
   "metadata": {
    "deletable": true,
    "editable": true
   },
   "source": [
    "# Checker Cell (for student)"
   ]
  },
  {
   "cell_type": "code",
   "execution_count": 181,
   "metadata": {
    "collapsed": false,
    "deletable": true,
    "editable": true
   },
   "outputs": [
    {
     "data": {
      "text/plain": [
       "array([[ 48,  98],\n",
       "       [ 59, 118]])"
      ]
     },
     "execution_count": 181,
     "metadata": {},
     "output_type": "execute_result"
    }
   ],
   "source": [
    "# Q2\n",
    "import numpy as np\n",
    "\n",
    "A = np.array([[1, 2, 3], [4, 5, 6]])\n",
    "B = np.array([[1, 2], [3, 4], [5, 6]])\n",
    "C = np.array([[2, 3], [1, 2]])\n",
    "x = np.array([-1, 1, 3])\n",
    "\n",
    "Q2(A, B, C, x)\n",
    "\n",
    "# expected\n",
    "# array([[ 48,  59],\n",
    "#       [ 98, 118]])"
   ]
  },
  {
   "cell_type": "code",
   "execution_count": 177,
   "metadata": {
    "collapsed": false,
    "deletable": true,
    "editable": true
   },
   "outputs": [
    {
     "data": {
      "text/plain": [
       "array([[38, 63],\n",
       "       [ 8, 63],\n",
       "       [69, 78],\n",
       "       [81, 62],\n",
       "       [51, 15],\n",
       "       [26,  9],\n",
       "       [80, 36],\n",
       "       [81, 18],\n",
       "       [87, 14]])"
      ]
     },
     "execution_count": 177,
     "metadata": {},
     "output_type": "execute_result"
    }
   ],
   "source": [
    "# Q3\n",
    "import numpy as np\n",
    "\n",
    "x = np.array([[87, 14], [81, 62], [81, 18], [8, 63], [\n",
    "             51, 15], [38, 63], [80, 36], [69, 78], [26, 9]])\n",
    "a = np.array([25, 75])\n",
    "\n",
    "Q3(x, a)\n",
    "\n",
    "# expected\n",
    "# array([[38, 63],\n",
    "#       [ 8, 63],\n",
    "#       [69, 78],\n",
    "#       [81, 62],\n",
    "#       [51, 15],\n",
    "#       [26,  9],\n",
    "#       [80, 36],\n",
    "#       [81, 18],\n",
    "#       [87, 14]])"
   ]
  },
  {
   "cell_type": "code",
   "execution_count": 155,
   "metadata": {
    "collapsed": false,
    "deletable": true,
    "editable": true
   },
   "outputs": [
    {
     "data": {
      "text/plain": [
       "84"
      ]
     },
     "execution_count": 155,
     "metadata": {},
     "output_type": "execute_result"
    }
   ],
   "source": [
    "# Q4\n",
    "\n",
    "M = 8\n",
    "N = 6\n",
    "x0 = 1\n",
    "x1 = 3\n",
    "y0 = 1\n",
    "y1 = 2\n",
    "\n",
    "Q4(M, N, x0, x1, y0, y1)\n",
    "\n",
    "# expected\n",
    "# 84"
   ]
  },
  {
   "cell_type": "code",
   "execution_count": 183,
   "metadata": {
    "collapsed": false,
    "deletable": true,
    "editable": true
   },
   "outputs": [
    {
     "data": {
      "text/plain": [
       "array([ 1.,  1.,  1.,  1.,  1.,  1.,  1.,  1.,  1.])"
      ]
     },
     "execution_count": 183,
     "metadata": {},
     "output_type": "execute_result"
    }
   ],
   "source": [
    "# Q5_1\n",
    "import numpy as np\n",
    "\n",
    "category = np.array([0, 1, 2, 1, 0, 2, 2, 1, 0])\n",
    "\n",
    "Q5_1(category)\n",
    "\n",
    "# expected\n",
    "# array([[ 1.,  0.,  0.],\n",
    "#       [ 0.,  1.,  0.],\n",
    "#       [ 0.,  0.,  1.],\n",
    "#       [ 0.,  1.,  0.],\n",
    "#       [ 1.,  0.,  0.],\n",
    "#       [ 0.,  0.,  1.],\n",
    "#       [ 0.,  0.,  1.],\n",
    "#       [ 0.,  1.,  0.],\n",
    "#       [ 1.,  0.,  0.]])"
   ]
  },
  {
   "cell_type": "code",
   "execution_count": 179,
   "metadata": {
    "collapsed": false,
    "deletable": true,
    "editable": true,
    "scrolled": true
   },
   "outputs": [
    {
     "data": {
      "text/plain": [
       "array([0, 1, 2, 1, 0, 2, 2, 1, 0])"
      ]
     },
     "execution_count": 179,
     "metadata": {},
     "output_type": "execute_result"
    }
   ],
   "source": [
    "# Q5_2\n",
    "import numpy as np\n",
    "\n",
    "onehot = np.array(\n",
    "    [[1., 0., 0.],\n",
    "     [0., 1., 0.],\n",
    "        [0., 0., 1.],\n",
    "        [0., 1., 0.],\n",
    "        [1., 0., 0.],\n",
    "        [0., 0., 1.],\n",
    "        [0., 0., 1.],\n",
    "        [0., 1., 0.],\n",
    "        [1., 0., 0.]])\n",
    "\n",
    "Q5_2(onehot)\n",
    "\n",
    "# expected\n",
    "#array([0, 1, 2, 1, 0, 2, 2, 1, 0])"
   ]
  },
  {
   "cell_type": "code",
   "execution_count": 131,
   "metadata": {
    "collapsed": false,
    "deletable": true,
    "editable": true
   },
   "outputs": [
    {
     "data": {
      "text/plain": [
       "array([[ 1,  2,  3,  4,  5],\n",
       "       [ 2,  4,  6,  8, 10],\n",
       "       [ 3,  6,  9, 12, 15],\n",
       "       [ 4,  8, 12, 16, 20]])"
      ]
     },
     "execution_count": 131,
     "metadata": {},
     "output_type": "execute_result"
    }
   ],
   "source": [
    "# Q6\n",
    "\n",
    "Q6(4, 5)\n",
    "\n",
    "# expected\n",
    "# array([[ 1,  2,  3,  4],\n",
    "#       [ 2,  4,  6,  8],\n",
    "#       [ 3,  6,  9, 12],\n",
    "#       [ 4,  8, 12, 16],\n",
    "#       [ 5, 10, 15, 20]])"
   ]
  },
  {
   "cell_type": "code",
   "execution_count": 26,
   "metadata": {
    "collapsed": false,
    "deletable": true,
    "editable": true
   },
   "outputs": [
    {
     "data": {
      "text/plain": [
       "array([0, 1, 0, 1, 1, 2, 2, 1])"
      ]
     },
     "execution_count": 26,
     "metadata": {},
     "output_type": "execute_result"
    }
   ],
   "source": [
    "# Q7\n",
    "\n",
    "import numpy as np\n",
    "v = np.array([1, 1, 2, 2, 3, 4, 6, 8, 9])\n",
    "\n",
    "Q7(v)\n",
    "\n",
    "# expected\n",
    "#array([0, 1, 0, 1, 1, 2, 2, 1])"
   ]
  }
 ],
 "metadata": {
  "anaconda-cloud": {},
  "kernelspec": {
   "display_name": "Python 3",
   "language": "python",
   "name": "python3"
  },
  "language_info": {
   "codemirror_mode": {
    "name": "ipython",
    "version": 3
   },
   "file_extension": ".py",
   "mimetype": "text/x-python",
   "name": "python",
   "nbconvert_exporter": "python",
   "pygments_lexer": "ipython3",
   "version": "3.5.3"
  }
 },
 "nbformat": 4,
 "nbformat_minor": 0
}
