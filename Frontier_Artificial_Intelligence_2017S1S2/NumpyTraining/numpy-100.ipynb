{
 "cells": [
  {
   "cell_type": "markdown",
   "metadata": {},
   "source": [
    "## 100 numpy exercises ( www.labri.fr/perso/nrougier/teaching/numpy.100/ )"
   ]
  },
  {
   "cell_type": "markdown",
   "metadata": {},
   "source": [
    "### 1. Import the numpy package under the name np (★☆☆)"
   ]
  },
  {
   "cell_type": "code",
   "execution_count": 1,
   "metadata": {
    "collapsed": true
   },
   "outputs": [],
   "source": [
    "import numpy as np"
   ]
  },
  {
   "cell_type": "markdown",
   "metadata": {
    "collapsed": true
   },
   "source": [
    "### 2. Print the numpy version and the configuration (★☆☆)"
   ]
  },
  {
   "cell_type": "code",
   "execution_count": 2,
   "metadata": {
    "collapsed": false
   },
   "outputs": [
    {
     "name": "stdout",
     "output_type": "stream",
     "text": [
      "1.12.0\n"
     ]
    }
   ],
   "source": [
    "print (np.__version__)\n"
   ]
  },
  {
   "cell_type": "code",
   "execution_count": 3,
   "metadata": {
    "collapsed": false
   },
   "outputs": [
    {
     "name": "stdout",
     "output_type": "stream",
     "text": [
      "blas_opt_info:\n",
      "    define_macros = [('SCIPY_MKL_H', None), ('HAVE_CBLAS', None)]\n",
      "    include_dirs = ['/Users/hanzg/.pyenv/versions/anaconda3-2.5.0/include']\n",
      "    library_dirs = ['/Users/hanzg/.pyenv/versions/anaconda3-2.5.0/lib']\n",
      "    libraries = ['mkl_intel_lp64', 'mkl_intel_thread', 'mkl_core', 'iomp5', 'pthread']\n",
      "blas_mkl_info:\n",
      "    define_macros = [('SCIPY_MKL_H', None), ('HAVE_CBLAS', None)]\n",
      "    include_dirs = ['/Users/hanzg/.pyenv/versions/anaconda3-2.5.0/include']\n",
      "    library_dirs = ['/Users/hanzg/.pyenv/versions/anaconda3-2.5.0/lib']\n",
      "    libraries = ['mkl_intel_lp64', 'mkl_intel_thread', 'mkl_core', 'iomp5', 'pthread']\n",
      "lapack_opt_info:\n",
      "    define_macros = [('SCIPY_MKL_H', None), ('HAVE_CBLAS', None)]\n",
      "    include_dirs = ['/Users/hanzg/.pyenv/versions/anaconda3-2.5.0/include']\n",
      "    library_dirs = ['/Users/hanzg/.pyenv/versions/anaconda3-2.5.0/lib']\n",
      "    libraries = ['mkl_intel_lp64', 'mkl_intel_thread', 'mkl_core', 'iomp5', 'pthread']\n",
      "lapack_mkl_info:\n",
      "    define_macros = [('SCIPY_MKL_H', None), ('HAVE_CBLAS', None)]\n",
      "    include_dirs = ['/Users/hanzg/.pyenv/versions/anaconda3-2.5.0/include']\n",
      "    library_dirs = ['/Users/hanzg/.pyenv/versions/anaconda3-2.5.0/lib']\n",
      "    libraries = ['mkl_intel_lp64', 'mkl_intel_thread', 'mkl_core', 'iomp5', 'pthread']\n"
     ]
    }
   ],
   "source": [
    "np.show_config() #^?^ show_config()?"
   ]
  },
  {
   "cell_type": "markdown",
   "metadata": {
    "collapsed": true
   },
   "source": [
    "### 3. Create a null vector of size 10 (★☆☆)"
   ]
  },
  {
   "cell_type": "code",
   "execution_count": 303,
   "metadata": {
    "collapsed": false
   },
   "outputs": [
    {
     "data": {
      "text/plain": [
       "array([ 0.,  0.,  0.,  0.,  0.,  0.,  0.,  0.,  0.,  0.])"
      ]
     },
     "execution_count": 303,
     "metadata": {},
     "output_type": "execute_result"
    }
   ],
   "source": [
    "z = np.zeros(10)\n",
    "z"
   ]
  },
  {
   "cell_type": "markdown",
   "metadata": {},
   "source": [
    "### 4. How to find the memory size of any array (★☆☆)"
   ]
  },
  {
   "cell_type": "code",
   "execution_count": 306,
   "metadata": {
    "collapsed": false
   },
   "outputs": [
    {
     "data": {
      "text/plain": [
       "dtype('float64')"
      ]
     },
     "execution_count": 306,
     "metadata": {},
     "output_type": "execute_result"
    }
   ],
   "source": [
    "Z = np.zeros((10,10))\n",
    "Z.dtype #float64 occupies 8 bytes"
   ]
  },
  {
   "cell_type": "code",
   "execution_count": 307,
   "metadata": {
    "collapsed": false
   },
   "outputs": [
    {
     "data": {
      "text/plain": [
       "800"
      ]
     },
     "execution_count": 307,
     "metadata": {},
     "output_type": "execute_result"
    }
   ],
   "source": [
    "Z.itemsize*Z.size"
   ]
  },
  {
   "cell_type": "markdown",
   "metadata": {
    "collapsed": true
   },
   "source": [
    "### 5. How to get the documentation of the numpy add function from the command line? (★☆☆)"
   ]
  },
  {
   "cell_type": "code",
   "execution_count": 317,
   "metadata": {
    "collapsed": false
   },
   "outputs": [],
   "source": [
    "#run `python -c \"import numpy; numpy.info(numpy.add)\"` #^?^ ERROR: File `'python.py'` not found."
   ]
  },
  {
   "cell_type": "code",
   "execution_count": 318,
   "metadata": {
    "collapsed": false,
    "scrolled": false
   },
   "outputs": [
    {
     "name": "stdout",
     "output_type": "stream",
     "text": [
      "add(x1, x2[, out])\r\n",
      "\r\n",
      "Add arguments element-wise.\r\n",
      "\r\n",
      "Parameters\r\n",
      "----------\r\n",
      "x1, x2 : array_like\r\n",
      "    The arrays to be added.  If ``x1.shape != x2.shape``, they must be\r\n",
      "    broadcastable to a common shape (which may be the shape of one or\r\n",
      "    the other).\r\n",
      "\r\n",
      "Returns\r\n",
      "-------\r\n",
      "add : ndarray or scalar\r\n",
      "    The sum of `x1` and `x2`, element-wise.  Returns a scalar if\r\n",
      "    both  `x1` and `x2` are scalars.\r\n",
      "\r\n",
      "Notes\r\n",
      "-----\r\n",
      "Equivalent to `x1` + `x2` in terms of array broadcasting.\r\n",
      "\r\n",
      "Examples\r\n",
      "--------\r\n",
      ">>> np.add(1.0, 4.0)\r\n",
      "5.0\r\n",
      ">>> x1 = np.arange(9.0).reshape((3, 3))\r\n",
      ">>> x2 = np.arange(3.0)\r\n",
      ">>> np.add(x1, x2)\r\n",
      "array([[  0.,   2.,   4.],\r\n",
      "       [  3.,   5.,   7.],\r\n",
      "       [  6.,   8.,  10.]])\r\n"
     ]
    }
   ],
   "source": [
    "!python -c \"import numpy; numpy.info(numpy.add)\""
   ]
  },
  {
   "cell_type": "code",
   "execution_count": 308,
   "metadata": {
    "collapsed": false,
    "scrolled": true
   },
   "outputs": [
    {
     "name": "stdout",
     "output_type": "stream",
     "text": [
      "Help on ufunc object:\n",
      "\n",
      "add = class ufunc(builtins.object)\n",
      " |  Functions that operate element by element on whole arrays.\n",
      " |  \n",
      " |  To see the documentation for a specific ufunc, use np.info().  For\n",
      " |  example, np.info(np.sin).  Because ufuncs are written in C\n",
      " |  (for speed) and linked into Python with NumPy's ufunc facility,\n",
      " |  Python's help() function finds this page whenever help() is called\n",
      " |  on a ufunc.\n",
      " |  \n",
      " |  A detailed explanation of ufuncs can be found in the \"ufuncs.rst\"\n",
      " |  file in the NumPy reference guide.\n",
      " |  \n",
      " |  Unary ufuncs:\n",
      " |  =============\n",
      " |  \n",
      " |  op(X, out=None)\n",
      " |  Apply op to X elementwise\n",
      " |  \n",
      " |  Parameters\n",
      " |  ----------\n",
      " |  X : array_like\n",
      " |      Input array.\n",
      " |  out : array_like\n",
      " |      An array to store the output. Must be the same shape as `X`.\n",
      " |  \n",
      " |  Returns\n",
      " |  -------\n",
      " |  r : array_like\n",
      " |      `r` will have the same shape as `X`; if out is provided, `r`\n",
      " |      will be equal to out.\n",
      " |  \n",
      " |  Binary ufuncs:\n",
      " |  ==============\n",
      " |  \n",
      " |  op(X, Y, out=None)\n",
      " |  Apply `op` to `X` and `Y` elementwise. May \"broadcast\" to make\n",
      " |  the shapes of `X` and `Y` congruent.\n",
      " |  \n",
      " |  The broadcasting rules are:\n",
      " |  \n",
      " |  * Dimensions of length 1 may be prepended to either array.\n",
      " |  * Arrays may be repeated along dimensions of length 1.\n",
      " |  \n",
      " |  Parameters\n",
      " |  ----------\n",
      " |  X : array_like\n",
      " |      First input array.\n",
      " |  Y : array_like\n",
      " |      Second input array.\n",
      " |  out : array_like\n",
      " |      An array to store the output. Must be the same shape as the\n",
      " |      output would have.\n",
      " |  \n",
      " |  Returns\n",
      " |  -------\n",
      " |  r : array_like\n",
      " |      The return value; if out is provided, `r` will be equal to out.\n",
      " |  \n",
      " |  Methods defined here:\n",
      " |  \n",
      " |  __call__(self, /, *args, **kwargs)\n",
      " |      Call self as a function.\n",
      " |  \n",
      " |  __repr__(self, /)\n",
      " |      Return repr(self).\n",
      " |  \n",
      " |  __str__(self, /)\n",
      " |      Return str(self).\n",
      " |  \n",
      " |  accumulate(...)\n",
      " |      accumulate(array, axis=0, dtype=None, out=None, keepdims=None)\n",
      " |      \n",
      " |      Accumulate the result of applying the operator to all elements.\n",
      " |      \n",
      " |      For a one-dimensional array, accumulate produces results equivalent to::\n",
      " |      \n",
      " |        r = np.empty(len(A))\n",
      " |        t = op.identity        # op = the ufunc being applied to A's  elements\n",
      " |        for i in range(len(A)):\n",
      " |            t = op(t, A[i])\n",
      " |            r[i] = t\n",
      " |        return r\n",
      " |      \n",
      " |      For example, add.accumulate() is equivalent to np.cumsum().\n",
      " |      \n",
      " |      For a multi-dimensional array, accumulate is applied along only one\n",
      " |      axis (axis zero by default; see Examples below) so repeated use is\n",
      " |      necessary if one wants to accumulate over multiple axes.\n",
      " |      \n",
      " |      Parameters\n",
      " |      ----------\n",
      " |      array : array_like\n",
      " |          The array to act on.\n",
      " |      axis : int, optional\n",
      " |          The axis along which to apply the accumulation; default is zero.\n",
      " |      dtype : data-type code, optional\n",
      " |          The data-type used to represent the intermediate results. Defaults\n",
      " |          to the data-type of the output array if such is provided, or the\n",
      " |          the data-type of the input array if no output array is provided.\n",
      " |      out : ndarray, optional\n",
      " |          A location into which the result is stored. If not provided a\n",
      " |          freshly-allocated array is returned.\n",
      " |      keepdims : bool\n",
      " |          Has no effect. Deprecated, and will be removed in future.\n",
      " |      \n",
      " |      Returns\n",
      " |      -------\n",
      " |      r : ndarray\n",
      " |          The accumulated values. If `out` was supplied, `r` is a reference to\n",
      " |          `out`.\n",
      " |      \n",
      " |      Examples\n",
      " |      --------\n",
      " |      1-D array examples:\n",
      " |      \n",
      " |      >>> np.add.accumulate([2, 3, 5])\n",
      " |      array([ 2,  5, 10])\n",
      " |      >>> np.multiply.accumulate([2, 3, 5])\n",
      " |      array([ 2,  6, 30])\n",
      " |      \n",
      " |      2-D array examples:\n",
      " |      \n",
      " |      >>> I = np.eye(2)\n",
      " |      >>> I\n",
      " |      array([[ 1.,  0.],\n",
      " |             [ 0.,  1.]])\n",
      " |      \n",
      " |      Accumulate along axis 0 (rows), down columns:\n",
      " |      \n",
      " |      >>> np.add.accumulate(I, 0)\n",
      " |      array([[ 1.,  0.],\n",
      " |             [ 1.,  1.]])\n",
      " |      >>> np.add.accumulate(I) # no axis specified = axis zero\n",
      " |      array([[ 1.,  0.],\n",
      " |             [ 1.,  1.]])\n",
      " |      \n",
      " |      Accumulate along axis 1 (columns), through rows:\n",
      " |      \n",
      " |      >>> np.add.accumulate(I, 1)\n",
      " |      array([[ 1.,  1.],\n",
      " |             [ 0.,  1.]])\n",
      " |  \n",
      " |  at(...)\n",
      " |      at(a, indices, b=None)\n",
      " |      \n",
      " |      Performs unbuffered in place operation on operand 'a' for elements\n",
      " |      specified by 'indices'. For addition ufunc, this method is equivalent to\n",
      " |      `a[indices] += b`, except that results are accumulated for elements that\n",
      " |      are indexed more than once. For example, `a[[0,0]] += 1` will only\n",
      " |      increment the first element once because of buffering, whereas\n",
      " |      `add.at(a, [0,0], 1)` will increment the first element twice.\n",
      " |      \n",
      " |      .. versionadded:: 1.8.0\n",
      " |      \n",
      " |      Parameters\n",
      " |      ----------\n",
      " |      a : array_like\n",
      " |          The array to perform in place operation on.\n",
      " |      indices : array_like or tuple\n",
      " |          Array like index object or slice object for indexing into first\n",
      " |          operand. If first operand has multiple dimensions, indices can be a\n",
      " |          tuple of array like index objects or slice objects.\n",
      " |      b : array_like\n",
      " |          Second operand for ufuncs requiring two operands. Operand must be\n",
      " |          broadcastable over first operand after indexing or slicing.\n",
      " |      \n",
      " |      Examples\n",
      " |      --------\n",
      " |      Set items 0 and 1 to their negative values:\n",
      " |      \n",
      " |      >>> a = np.array([1, 2, 3, 4])\n",
      " |      >>> np.negative.at(a, [0, 1])\n",
      " |      >>> print(a)\n",
      " |      array([-1, -2, 3, 4])\n",
      " |      \n",
      " |      ::\n",
      " |      \n",
      " |      Increment items 0 and 1, and increment item 2 twice:\n",
      " |      \n",
      " |      >>> a = np.array([1, 2, 3, 4])\n",
      " |      >>> np.add.at(a, [0, 1, 2, 2], 1)\n",
      " |      >>> print(a)\n",
      " |      array([2, 3, 5, 4])\n",
      " |      \n",
      " |      ::\n",
      " |      \n",
      " |      Add items 0 and 1 in first array to second array,\n",
      " |      and store results in first array:\n",
      " |      \n",
      " |      >>> a = np.array([1, 2, 3, 4])\n",
      " |      >>> b = np.array([1, 2])\n",
      " |      >>> np.add.at(a, [0, 1], b)\n",
      " |      >>> print(a)\n",
      " |      array([2, 4, 3, 4])\n",
      " |  \n",
      " |  outer(...)\n",
      " |      outer(A, B, **kwargs)\n",
      " |      \n",
      " |      Apply the ufunc `op` to all pairs (a, b) with a in `A` and b in `B`.\n",
      " |      \n",
      " |      Let ``M = A.ndim``, ``N = B.ndim``. Then the result, `C`, of\n",
      " |      ``op.outer(A, B)`` is an array of dimension M + N such that:\n",
      " |      \n",
      " |      .. math:: C[i_0, ..., i_{M-1}, j_0, ..., j_{N-1}] =\n",
      " |         op(A[i_0, ..., i_{M-1}], B[j_0, ..., j_{N-1}])\n",
      " |      \n",
      " |      For `A` and `B` one-dimensional, this is equivalent to::\n",
      " |      \n",
      " |        r = empty(len(A),len(B))\n",
      " |        for i in range(len(A)):\n",
      " |            for j in range(len(B)):\n",
      " |                r[i,j] = op(A[i], B[j]) # op = ufunc in question\n",
      " |      \n",
      " |      Parameters\n",
      " |      ----------\n",
      " |      A : array_like\n",
      " |          First array\n",
      " |      B : array_like\n",
      " |          Second array\n",
      " |      kwargs : any\n",
      " |          Arguments to pass on to the ufunc. Typically `dtype` or `out`.\n",
      " |      \n",
      " |      Returns\n",
      " |      -------\n",
      " |      r : ndarray\n",
      " |          Output array\n",
      " |      \n",
      " |      See Also\n",
      " |      --------\n",
      " |      numpy.outer\n",
      " |      \n",
      " |      Examples\n",
      " |      --------\n",
      " |      >>> np.multiply.outer([1, 2, 3], [4, 5, 6])\n",
      " |      array([[ 4,  5,  6],\n",
      " |             [ 8, 10, 12],\n",
      " |             [12, 15, 18]])\n",
      " |      \n",
      " |      A multi-dimensional example:\n",
      " |      \n",
      " |      >>> A = np.array([[1, 2, 3], [4, 5, 6]])\n",
      " |      >>> A.shape\n",
      " |      (2, 3)\n",
      " |      >>> B = np.array([[1, 2, 3, 4]])\n",
      " |      >>> B.shape\n",
      " |      (1, 4)\n",
      " |      >>> C = np.multiply.outer(A, B)\n",
      " |      >>> C.shape; C\n",
      " |      (2, 3, 1, 4)\n",
      " |      array([[[[ 1,  2,  3,  4]],\n",
      " |              [[ 2,  4,  6,  8]],\n",
      " |              [[ 3,  6,  9, 12]]],\n",
      " |             [[[ 4,  8, 12, 16]],\n",
      " |              [[ 5, 10, 15, 20]],\n",
      " |              [[ 6, 12, 18, 24]]]])\n",
      " |  \n",
      " |  reduce(...)\n",
      " |      reduce(a, axis=0, dtype=None, out=None, keepdims=False)\n",
      " |      \n",
      " |      Reduces `a`'s dimension by one, by applying ufunc along one axis.\n",
      " |      \n",
      " |      Let :math:`a.shape = (N_0, ..., N_i, ..., N_{M-1})`.  Then\n",
      " |      :math:`ufunc.reduce(a, axis=i)[k_0, ..,k_{i-1}, k_{i+1}, .., k_{M-1}]` =\n",
      " |      the result of iterating `j` over :math:`range(N_i)`, cumulatively applying\n",
      " |      ufunc to each :math:`a[k_0, ..,k_{i-1}, j, k_{i+1}, .., k_{M-1}]`.\n",
      " |      For a one-dimensional array, reduce produces results equivalent to:\n",
      " |      ::\n",
      " |      \n",
      " |       r = op.identity # op = ufunc\n",
      " |       for i in range(len(A)):\n",
      " |         r = op(r, A[i])\n",
      " |       return r\n",
      " |      \n",
      " |      For example, add.reduce() is equivalent to sum().\n",
      " |      \n",
      " |      Parameters\n",
      " |      ----------\n",
      " |      a : array_like\n",
      " |          The array to act on.\n",
      " |      axis : None or int or tuple of ints, optional\n",
      " |          Axis or axes along which a reduction is performed.\n",
      " |          The default (`axis` = 0) is perform a reduction over the first\n",
      " |          dimension of the input array. `axis` may be negative, in\n",
      " |          which case it counts from the last to the first axis.\n",
      " |      \n",
      " |          .. versionadded:: 1.7.0\n",
      " |      \n",
      " |          If this is `None`, a reduction is performed over all the axes.\n",
      " |          If this is a tuple of ints, a reduction is performed on multiple\n",
      " |          axes, instead of a single axis or all the axes as before.\n",
      " |      \n",
      " |          For operations which are either not commutative or not associative,\n",
      " |          doing a reduction over multiple axes is not well-defined. The\n",
      " |          ufuncs do not currently raise an exception in this case, but will\n",
      " |          likely do so in the future.\n",
      " |      dtype : data-type code, optional\n",
      " |          The type used to represent the intermediate results. Defaults\n",
      " |          to the data-type of the output array if this is provided, or\n",
      " |          the data-type of the input array if no output array is provided.\n",
      " |      out : ndarray, optional\n",
      " |          A location into which the result is stored. If not provided, a\n",
      " |          freshly-allocated array is returned.\n",
      " |      keepdims : bool, optional\n",
      " |          If this is set to True, the axes which are reduced are left\n",
      " |          in the result as dimensions with size one. With this option,\n",
      " |          the result will broadcast correctly against the original `arr`.\n",
      " |      \n",
      " |          .. versionadded:: 1.7.0\n",
      " |      \n",
      " |      Returns\n",
      " |      -------\n",
      " |      r : ndarray\n",
      " |          The reduced array. If `out` was supplied, `r` is a reference to it.\n",
      " |      \n",
      " |      Examples\n",
      " |      --------\n",
      " |      >>> np.multiply.reduce([2,3,5])\n",
      " |      30\n",
      " |      \n",
      " |      A multi-dimensional array example:\n",
      " |      \n",
      " |      >>> X = np.arange(8).reshape((2,2,2))\n",
      " |      >>> X\n",
      " |      array([[[0, 1],\n",
      " |              [2, 3]],\n",
      " |             [[4, 5],\n",
      " |              [6, 7]]])\n",
      " |      >>> np.add.reduce(X, 0)\n",
      " |      array([[ 4,  6],\n",
      " |             [ 8, 10]])\n",
      " |      >>> np.add.reduce(X) # confirm: default axis value is 0\n",
      " |      array([[ 4,  6],\n",
      " |             [ 8, 10]])\n",
      " |      >>> np.add.reduce(X, 1)\n",
      " |      array([[ 2,  4],\n",
      " |             [10, 12]])\n",
      " |      >>> np.add.reduce(X, 2)\n",
      " |      array([[ 1,  5],\n",
      " |             [ 9, 13]])\n",
      " |  \n",
      " |  reduceat(...)\n",
      " |      reduceat(a, indices, axis=0, dtype=None, out=None)\n",
      " |      \n",
      " |      Performs a (local) reduce with specified slices over a single axis.\n",
      " |      \n",
      " |      For i in ``range(len(indices))``, `reduceat` computes\n",
      " |      ``ufunc.reduce(a[indices[i]:indices[i+1]])``, which becomes the i-th\n",
      " |      generalized \"row\" parallel to `axis` in the final result (i.e., in a\n",
      " |      2-D array, for example, if `axis = 0`, it becomes the i-th row, but if\n",
      " |      `axis = 1`, it becomes the i-th column).  There are three exceptions to this:\n",
      " |      \n",
      " |      * when ``i = len(indices) - 1`` (so for the last index),\n",
      " |        ``indices[i+1] = a.shape[axis]``.\n",
      " |      * if ``indices[i] >= indices[i + 1]``, the i-th generalized \"row\" is\n",
      " |        simply ``a[indices[i]]``.\n",
      " |      * if ``indices[i] >= len(a)`` or ``indices[i] < 0``, an error is raised.\n",
      " |      \n",
      " |      The shape of the output depends on the size of `indices`, and may be\n",
      " |      larger than `a` (this happens if ``len(indices) > a.shape[axis]``).\n",
      " |      \n",
      " |      Parameters\n",
      " |      ----------\n",
      " |      a : array_like\n",
      " |          The array to act on.\n",
      " |      indices : array_like\n",
      " |          Paired indices, comma separated (not colon), specifying slices to\n",
      " |          reduce.\n",
      " |      axis : int, optional\n",
      " |          The axis along which to apply the reduceat.\n",
      " |      dtype : data-type code, optional\n",
      " |          The type used to represent the intermediate results. Defaults\n",
      " |          to the data type of the output array if this is provided, or\n",
      " |          the data type of the input array if no output array is provided.\n",
      " |      out : ndarray, optional\n",
      " |          A location into which the result is stored. If not provided a\n",
      " |          freshly-allocated array is returned.\n",
      " |      \n",
      " |      Returns\n",
      " |      -------\n",
      " |      r : ndarray\n",
      " |          The reduced values. If `out` was supplied, `r` is a reference to\n",
      " |          `out`.\n",
      " |      \n",
      " |      Notes\n",
      " |      -----\n",
      " |      A descriptive example:\n",
      " |      \n",
      " |      If `a` is 1-D, the function `ufunc.accumulate(a)` is the same as\n",
      " |      ``ufunc.reduceat(a, indices)[::2]`` where `indices` is\n",
      " |      ``range(len(array) - 1)`` with a zero placed\n",
      " |      in every other element:\n",
      " |      ``indices = zeros(2 * len(a) - 1)``, ``indices[1::2] = range(1, len(a))``.\n",
      " |      \n",
      " |      Don't be fooled by this attribute's name: `reduceat(a)` is not\n",
      " |      necessarily smaller than `a`.\n",
      " |      \n",
      " |      Examples\n",
      " |      --------\n",
      " |      To take the running sum of four successive values:\n",
      " |      \n",
      " |      >>> np.add.reduceat(np.arange(8),[0,4, 1,5, 2,6, 3,7])[::2]\n",
      " |      array([ 6, 10, 14, 18])\n",
      " |      \n",
      " |      A 2-D example:\n",
      " |      \n",
      " |      >>> x = np.linspace(0, 15, 16).reshape(4,4)\n",
      " |      >>> x\n",
      " |      array([[  0.,   1.,   2.,   3.],\n",
      " |             [  4.,   5.,   6.,   7.],\n",
      " |             [  8.,   9.,  10.,  11.],\n",
      " |             [ 12.,  13.,  14.,  15.]])\n",
      " |      \n",
      " |      ::\n",
      " |      \n",
      " |       # reduce such that the result has the following five rows:\n",
      " |       # [row1 + row2 + row3]\n",
      " |       # [row4]\n",
      " |       # [row2]\n",
      " |       # [row3]\n",
      " |       # [row1 + row2 + row3 + row4]\n",
      " |      \n",
      " |      >>> np.add.reduceat(x, [0, 3, 1, 2, 0])\n",
      " |      array([[ 12.,  15.,  18.,  21.],\n",
      " |             [ 12.,  13.,  14.,  15.],\n",
      " |             [  4.,   5.,   6.,   7.],\n",
      " |             [  8.,   9.,  10.,  11.],\n",
      " |             [ 24.,  28.,  32.,  36.]])\n",
      " |      \n",
      " |      ::\n",
      " |      \n",
      " |       # reduce such that result has the following two columns:\n",
      " |       # [col1 * col2 * col3, col4]\n",
      " |      \n",
      " |      >>> np.multiply.reduceat(x, [0, 3], 1)\n",
      " |      array([[    0.,     3.],\n",
      " |             [  120.,     7.],\n",
      " |             [  720.,    11.],\n",
      " |             [ 2184.,    15.]])\n",
      " |  \n",
      " |  ----------------------------------------------------------------------\n",
      " |  Data descriptors defined here:\n",
      " |  \n",
      " |  identity\n",
      " |      The identity value.\n",
      " |      \n",
      " |      Data attribute containing the identity element for the ufunc, if it has one.\n",
      " |      If it does not, the attribute value is None.\n",
      " |      \n",
      " |      Examples\n",
      " |      --------\n",
      " |      >>> np.add.identity\n",
      " |      0\n",
      " |      >>> np.multiply.identity\n",
      " |      1\n",
      " |      >>> np.power.identity\n",
      " |      1\n",
      " |      >>> print(np.exp.identity)\n",
      " |      None\n",
      " |  \n",
      " |  nargs\n",
      " |      The number of arguments.\n",
      " |      \n",
      " |      Data attribute containing the number of arguments the ufunc takes, including\n",
      " |      optional ones.\n",
      " |      \n",
      " |      Notes\n",
      " |      -----\n",
      " |      Typically this value will be one more than what you might expect because all\n",
      " |      ufuncs take  the optional \"out\" argument.\n",
      " |      \n",
      " |      Examples\n",
      " |      --------\n",
      " |      >>> np.add.nargs\n",
      " |      3\n",
      " |      >>> np.multiply.nargs\n",
      " |      3\n",
      " |      >>> np.power.nargs\n",
      " |      3\n",
      " |      >>> np.exp.nargs\n",
      " |      2\n",
      " |  \n",
      " |  nin\n",
      " |      The number of inputs.\n",
      " |      \n",
      " |      Data attribute containing the number of arguments the ufunc treats as input.\n",
      " |      \n",
      " |      Examples\n",
      " |      --------\n",
      " |      >>> np.add.nin\n",
      " |      2\n",
      " |      >>> np.multiply.nin\n",
      " |      2\n",
      " |      >>> np.power.nin\n",
      " |      2\n",
      " |      >>> np.exp.nin\n",
      " |      1\n",
      " |  \n",
      " |  nout\n",
      " |      The number of outputs.\n",
      " |      \n",
      " |      Data attribute containing the number of arguments the ufunc treats as output.\n",
      " |      \n",
      " |      Notes\n",
      " |      -----\n",
      " |      Since all ufuncs can take output arguments, this will always be (at least) 1.\n",
      " |      \n",
      " |      Examples\n",
      " |      --------\n",
      " |      >>> np.add.nout\n",
      " |      1\n",
      " |      >>> np.multiply.nout\n",
      " |      1\n",
      " |      >>> np.power.nout\n",
      " |      1\n",
      " |      >>> np.exp.nout\n",
      " |      1\n",
      " |  \n",
      " |  ntypes\n",
      " |      The number of types.\n",
      " |      \n",
      " |      The number of numerical NumPy types - of which there are 18 total - on which\n",
      " |      the ufunc can operate.\n",
      " |      \n",
      " |      See Also\n",
      " |      --------\n",
      " |      numpy.ufunc.types\n",
      " |      \n",
      " |      Examples\n",
      " |      --------\n",
      " |      >>> np.add.ntypes\n",
      " |      18\n",
      " |      >>> np.multiply.ntypes\n",
      " |      18\n",
      " |      >>> np.power.ntypes\n",
      " |      17\n",
      " |      >>> np.exp.ntypes\n",
      " |      7\n",
      " |      >>> np.remainder.ntypes\n",
      " |      14\n",
      " |  \n",
      " |  signature\n",
      " |  \n",
      " |  types\n",
      " |      Returns a list with types grouped input->output.\n",
      " |      \n",
      " |      Data attribute listing the data-type \"Domain-Range\" groupings the ufunc can\n",
      " |      deliver. The data-types are given using the character codes.\n",
      " |      \n",
      " |      See Also\n",
      " |      --------\n",
      " |      numpy.ufunc.ntypes\n",
      " |      \n",
      " |      Examples\n",
      " |      --------\n",
      " |      >>> np.add.types\n",
      " |      ['??->?', 'bb->b', 'BB->B', 'hh->h', 'HH->H', 'ii->i', 'II->I', 'll->l',\n",
      " |      'LL->L', 'qq->q', 'QQ->Q', 'ff->f', 'dd->d', 'gg->g', 'FF->F', 'DD->D',\n",
      " |      'GG->G', 'OO->O']\n",
      " |      \n",
      " |      >>> np.multiply.types\n",
      " |      ['??->?', 'bb->b', 'BB->B', 'hh->h', 'HH->H', 'ii->i', 'II->I', 'll->l',\n",
      " |      'LL->L', 'qq->q', 'QQ->Q', 'ff->f', 'dd->d', 'gg->g', 'FF->F', 'DD->D',\n",
      " |      'GG->G', 'OO->O']\n",
      " |      \n",
      " |      >>> np.power.types\n",
      " |      ['bb->b', 'BB->B', 'hh->h', 'HH->H', 'ii->i', 'II->I', 'll->l', 'LL->L',\n",
      " |      'qq->q', 'QQ->Q', 'ff->f', 'dd->d', 'gg->g', 'FF->F', 'DD->D', 'GG->G',\n",
      " |      'OO->O']\n",
      " |      \n",
      " |      >>> np.exp.types\n",
      " |      ['f->f', 'd->d', 'g->g', 'F->F', 'D->D', 'G->G', 'O->O']\n",
      " |      \n",
      " |      >>> np.remainder.types\n",
      " |      ['bb->b', 'BB->B', 'hh->h', 'HH->H', 'ii->i', 'II->I', 'll->l', 'LL->L',\n",
      " |      'qq->q', 'QQ->Q', 'ff->f', 'dd->d', 'gg->g', 'OO->O']\n",
      "\n"
     ]
    }
   ],
   "source": [
    "help(np.add) #my solution"
   ]
  },
  {
   "cell_type": "code",
   "execution_count": 8,
   "metadata": {
    "collapsed": false
   },
   "outputs": [
    {
     "data": {
      "text/plain": [
       "100"
      ]
     },
     "execution_count": 8,
     "metadata": {},
     "output_type": "execute_result"
    }
   ],
   "source": [
    "z.size"
   ]
  },
  {
   "cell_type": "code",
   "execution_count": 9,
   "metadata": {
    "collapsed": false
   },
   "outputs": [
    {
     "data": {
      "text/plain": [
       "8"
      ]
     },
     "execution_count": 9,
     "metadata": {},
     "output_type": "execute_result"
    }
   ],
   "source": [
    "z.itemsize"
   ]
  },
  {
   "cell_type": "code",
   "execution_count": 10,
   "metadata": {
    "collapsed": false
   },
   "outputs": [
    {
     "name": "stdout",
     "output_type": "stream",
     "text": [
      "[[ 0.  0.  0.  0.  0.  0.  0.  0.  0.  0.]\n",
      " [ 0.  0.  0.  0.  0.  0.  0.  0.  0.  0.]\n",
      " [ 0.  0.  0.  0.  0.  0.  0.  0.  0.  0.]\n",
      " [ 0.  0.  0.  0.  0.  0.  0.  0.  0.  0.]\n",
      " [ 0.  0.  0.  0.  0.  0.  0.  0.  0.  0.]\n",
      " [ 0.  0.  0.  0.  0.  0.  0.  0.  0.  0.]\n",
      " [ 0.  0.  0.  0.  0.  0.  0.  0.  0.  0.]\n",
      " [ 0.  0.  0.  0.  0.  0.  0.  0.  0.  0.]\n",
      " [ 0.  0.  0.  0.  0.  0.  0.  0.  0.  0.]\n",
      " [ 0.  0.  0.  0.  0.  0.  0.  0.  0.  0.]]\n"
     ]
    }
   ],
   "source": [
    "print (z)"
   ]
  },
  {
   "cell_type": "markdown",
   "metadata": {
    "collapsed": true
   },
   "source": [
    "### 6. Create a null vector of size 10 but the fifth value which is 1 (★☆☆)"
   ]
  },
  {
   "cell_type": "code",
   "execution_count": 320,
   "metadata": {
    "collapsed": false
   },
   "outputs": [
    {
     "data": {
      "text/plain": [
       "array([ 0.46937807,  0.87797773,  0.35506066,  0.57895522,  1.        ,\n",
       "        0.837703  ,  0.25614186,  0.5963887 ,  0.19736902,  0.0262696 ])"
      ]
     },
     "execution_count": 320,
     "metadata": {},
     "output_type": "execute_result"
    }
   ],
   "source": [
    "Z = np.random.random(10)\n",
    "Z[4] = 1\n",
    "Z"
   ]
  },
  {
   "cell_type": "markdown",
   "metadata": {
    "collapsed": true
   },
   "source": [
    "### 7. Create a vector with values ranging from 10 to 49 (★☆☆)"
   ]
  },
  {
   "cell_type": "code",
   "execution_count": 322,
   "metadata": {
    "collapsed": false
   },
   "outputs": [
    {
     "data": {
      "text/plain": [
       "array([10, 11, 12, 13, 14, 15, 16, 17, 18, 19, 20, 21, 22, 23, 24, 25, 26,\n",
       "       27, 28, 29, 30, 31, 32, 33, 34, 35, 36, 37, 38, 39, 40, 41, 42, 43,\n",
       "       44, 45, 46, 47, 48, 49])"
      ]
     },
     "execution_count": 322,
     "metadata": {},
     "output_type": "execute_result"
    }
   ],
   "source": [
    "np.arange(10,50)"
   ]
  },
  {
   "cell_type": "markdown",
   "metadata": {
    "collapsed": true
   },
   "source": [
    "### 8. Reverse a vector (first element becomes last) (★☆☆)"
   ]
  },
  {
   "cell_type": "code",
   "execution_count": 323,
   "metadata": {
    "collapsed": false
   },
   "outputs": [
    {
     "data": {
      "text/plain": [
       "array([49, 48, 47, 46, 45, 44, 43, 42, 41, 40, 39, 38, 37, 36, 35, 34, 33,\n",
       "       32, 31, 30, 29, 28, 27, 26, 25, 24, 23, 22, 21, 20, 19, 18, 17, 16,\n",
       "       15, 14, 13, 12, 11, 10,  9,  8,  7,  6,  5,  4,  3,  2,  1,  0])"
      ]
     },
     "execution_count": 323,
     "metadata": {},
     "output_type": "execute_result"
    }
   ],
   "source": [
    "Z = np.arange(50)\n",
    "Z[::-1]"
   ]
  },
  {
   "cell_type": "markdown",
   "metadata": {},
   "source": [
    "### 9. Create a 3x3 matrix with values ranging from 0 to 8 (★☆☆)"
   ]
  },
  {
   "cell_type": "code",
   "execution_count": 324,
   "metadata": {
    "collapsed": false,
    "scrolled": false
   },
   "outputs": [
    {
     "data": {
      "text/plain": [
       "array([[0, 1, 2],\n",
       "       [3, 4, 5],\n",
       "       [6, 7, 8]])"
      ]
     },
     "execution_count": 324,
     "metadata": {},
     "output_type": "execute_result"
    }
   ],
   "source": [
    "np.arange(0,9).reshape(3,3)"
   ]
  },
  {
   "cell_type": "markdown",
   "metadata": {},
   "source": [
    "### 10. Find indices of non-zero elements from [1,2,0,0,4,0] (★☆☆)"
   ]
  },
  {
   "cell_type": "code",
   "execution_count": 329,
   "metadata": {
    "collapsed": false
   },
   "outputs": [
    {
     "data": {
      "text/plain": [
       "(array([0, 1, 4]),)"
      ]
     },
     "execution_count": 329,
     "metadata": {},
     "output_type": "execute_result"
    }
   ],
   "source": [
    "Z = np.nonzero([1,2,0,0,4,0])\n",
    "Z #tuple type"
   ]
  },
  {
   "cell_type": "markdown",
   "metadata": {},
   "source": [
    "### 11. Create a 3x3 identity matrix (★☆☆)"
   ]
  },
  {
   "cell_type": "code",
   "execution_count": 331,
   "metadata": {
    "collapsed": false
   },
   "outputs": [
    {
     "data": {
      "text/plain": [
       "array([[ 1.,  0.,  0.],\n",
       "       [ 0.,  1.,  0.],\n",
       "       [ 0.,  0.,  1.]])"
      ]
     },
     "execution_count": 331,
     "metadata": {},
     "output_type": "execute_result"
    }
   ],
   "source": [
    "Z = np.eye(3)\n",
    "Z"
   ]
  },
  {
   "cell_type": "markdown",
   "metadata": {},
   "source": [
    "### 12. Create a 3x3x3 array with random values (★☆☆)"
   ]
  },
  {
   "cell_type": "code",
   "execution_count": 334,
   "metadata": {
    "collapsed": false
   },
   "outputs": [
    {
     "data": {
      "text/plain": [
       "array([[[ 0.85251296,  0.02040971,  0.02438156],\n",
       "        [ 0.72825261,  0.1094073 ,  0.08439685],\n",
       "        [ 0.28189019,  0.39519301,  0.9178116 ]],\n",
       "\n",
       "       [[ 0.1462066 ,  0.84654966,  0.18785799],\n",
       "        [ 0.28623353,  0.14123667,  0.62240703],\n",
       "        [ 0.96865407,  0.19721165,  0.59561673]],\n",
       "\n",
       "       [[ 0.96695458,  0.93635317,  0.86975932],\n",
       "        [ 0.77836616,  0.72085438,  0.23568886],\n",
       "        [ 0.68888303,  0.58919403,  0.74995615]]])"
      ]
     },
     "execution_count": 334,
     "metadata": {},
     "output_type": "execute_result"
    }
   ],
   "source": [
    "Z = np.random.random((3,3,3)) #the shape should be as a tuple (3,3,3)\n",
    "Z"
   ]
  },
  {
   "cell_type": "markdown",
   "metadata": {},
   "source": [
    "### 13. Create a 10x10 array with random values and find the minimum and maximum values (★☆☆)"
   ]
  },
  {
   "cell_type": "code",
   "execution_count": 337,
   "metadata": {
    "collapsed": false
   },
   "outputs": [
    {
     "data": {
      "text/plain": [
       "(0.99412943675560717, 0.0019059606314421051)"
      ]
     },
     "execution_count": 337,
     "metadata": {},
     "output_type": "execute_result"
    }
   ],
   "source": [
    "Z = np.random.random((10,10))\n",
    "Z.max(),Z.min()"
   ]
  },
  {
   "cell_type": "markdown",
   "metadata": {},
   "source": [
    "### 14. Create a random vector of size 30 and find the mean value (★☆☆)"
   ]
  },
  {
   "cell_type": "code",
   "execution_count": 340,
   "metadata": {
    "collapsed": false
   },
   "outputs": [
    {
     "data": {
      "text/plain": [
       "0.50614543465060957"
      ]
     },
     "execution_count": 340,
     "metadata": {},
     "output_type": "execute_result"
    }
   ],
   "source": [
    "Z = np.random.random(30)\n",
    "Z.mean()"
   ]
  },
  {
   "cell_type": "markdown",
   "metadata": {},
   "source": [
    "### 15.Create a 2d array with 1 on the border and 0 inside (★☆☆)"
   ]
  },
  {
   "cell_type": "code",
   "execution_count": 344,
   "metadata": {
    "collapsed": false
   },
   "outputs": [
    {
     "data": {
      "text/plain": [
       "array([[ 1.,  1.,  1.,  1.,  1.],\n",
       "       [ 1.,  0.,  0.,  0.,  1.],\n",
       "       [ 1.,  0.,  0.,  0.,  1.],\n",
       "       [ 1.,  0.,  0.,  0.,  1.],\n",
       "       [ 1.,  1.,  1.,  1.,  1.]])"
      ]
     },
     "execution_count": 344,
     "metadata": {},
     "output_type": "execute_result"
    }
   ],
   "source": [
    "Z = np.ones((5,5))\n",
    "Z[1:-1,1:-1] = 0\n",
    "Z"
   ]
  },
  {
   "cell_type": "markdown",
   "metadata": {},
   "source": [
    "### 16. How to add a border (filled with 0's) around an existing array? (★☆☆)"
   ]
  },
  {
   "cell_type": "code",
   "execution_count": 349,
   "metadata": {
    "collapsed": false
   },
   "outputs": [
    {
     "data": {
      "text/plain": [
       "array([[ 0.,  0.,  0.,  0.,  0.,  0.,  0.],\n",
       "       [ 0.,  1.,  1.,  1.,  1.,  1.,  0.],\n",
       "       [ 0.,  1.,  1.,  1.,  1.,  1.,  0.],\n",
       "       [ 0.,  1.,  1.,  1.,  1.,  1.,  0.],\n",
       "       [ 0.,  1.,  1.,  1.,  1.,  1.,  0.],\n",
       "       [ 0.,  1.,  1.,  1.,  1.,  1.,  0.],\n",
       "       [ 0.,  0.,  0.,  0.,  0.,  0.,  0.]])"
      ]
     },
     "execution_count": 349,
     "metadata": {},
     "output_type": "execute_result"
    }
   ],
   "source": [
    "Z = np.ones((5,5)) \n",
    "np.pad(Z,pad_width = 1, mode = 'constant', constant_values = 0) #^*^ numpy.pad: https://docs.scipy.org/doc/numpy/reference/generated/numpy.pad.html"
   ]
  },
  {
   "cell_type": "markdown",
   "metadata": {},
   "source": [
    "### 17. What is the result of the following expression? (★☆☆)"
   ]
  },
  {
   "cell_type": "code",
   "execution_count": 351,
   "metadata": {
    "collapsed": false
   },
   "outputs": [
    {
     "data": {
      "text/plain": [
       "nan"
      ]
     },
     "execution_count": 351,
     "metadata": {},
     "output_type": "execute_result"
    }
   ],
   "source": [
    "0 * np.nan"
   ]
  },
  {
   "cell_type": "code",
   "execution_count": 352,
   "metadata": {
    "collapsed": false
   },
   "outputs": [
    {
     "data": {
      "text/plain": [
       "False"
      ]
     },
     "execution_count": 352,
     "metadata": {},
     "output_type": "execute_result"
    }
   ],
   "source": [
    "np.nan == np.nan"
   ]
  },
  {
   "cell_type": "code",
   "execution_count": 354,
   "metadata": {
    "collapsed": false
   },
   "outputs": [
    {
     "data": {
      "text/plain": [
       "False"
      ]
     },
     "execution_count": 354,
     "metadata": {},
     "output_type": "execute_result"
    }
   ],
   "source": [
    "np.inf > np.nan"
   ]
  },
  {
   "cell_type": "code",
   "execution_count": 355,
   "metadata": {
    "collapsed": false
   },
   "outputs": [
    {
     "data": {
      "text/plain": [
       "nan"
      ]
     },
     "execution_count": 355,
     "metadata": {},
     "output_type": "execute_result"
    }
   ],
   "source": [
    "np.nan - np.nan"
   ]
  },
  {
   "cell_type": "code",
   "execution_count": 356,
   "metadata": {
    "collapsed": false
   },
   "outputs": [
    {
     "data": {
      "text/plain": [
       "False"
      ]
     },
     "execution_count": 356,
     "metadata": {},
     "output_type": "execute_result"
    }
   ],
   "source": [
    "0.3 == 3 * 0.1"
   ]
  },
  {
   "cell_type": "code",
   "execution_count": 357,
   "metadata": {
    "collapsed": false
   },
   "outputs": [
    {
     "data": {
      "text/plain": [
       "0.30000000000000004"
      ]
     },
     "execution_count": 357,
     "metadata": {},
     "output_type": "execute_result"
    }
   ],
   "source": [
    "#3*0.1"
   ]
  },
  {
   "cell_type": "markdown",
   "metadata": {},
   "source": [
    "### 18. Create a 5x5 matrix with values 1,2,3,4 just below the diagonal (★☆☆)"
   ]
  },
  {
   "cell_type": "code",
   "execution_count": 362,
   "metadata": {
    "collapsed": false
   },
   "outputs": [
    {
     "data": {
      "text/plain": [
       "array([[0, 0, 0, 0],\n",
       "       [0, 1, 0, 0],\n",
       "       [0, 0, 2, 0],\n",
       "       [0, 0, 0, 3]])"
      ]
     },
     "execution_count": 362,
     "metadata": {},
     "output_type": "execute_result"
    }
   ],
   "source": [
    "np.diag(np.arange(4), k = 0)"
   ]
  },
  {
   "cell_type": "code",
   "execution_count": 363,
   "metadata": {
    "collapsed": false
   },
   "outputs": [
    {
     "data": {
      "text/plain": [
       "array([[0, 0, 0, 0, 0],\n",
       "       [1, 0, 0, 0, 0],\n",
       "       [0, 2, 0, 0, 0],\n",
       "       [0, 0, 3, 0, 0],\n",
       "       [0, 0, 0, 4, 0]])"
      ]
     },
     "execution_count": 363,
     "metadata": {},
     "output_type": "execute_result"
    }
   ],
   "source": [
    "np.diag(1 + np.arange(4), k=-1)"
   ]
  },
  {
   "cell_type": "markdown",
   "metadata": {},
   "source": [
    "### 19. Create a 8x8 matrix and fill it with a checkerboard pattern (★☆☆)"
   ]
  },
  {
   "cell_type": "code",
   "execution_count": 368,
   "metadata": {
    "collapsed": false
   },
   "outputs": [
    {
     "data": {
      "text/plain": [
       "array([[0, 1, 0, 1, 0, 1, 0, 1],\n",
       "       [1, 0, 1, 0, 1, 0, 1, 0],\n",
       "       [0, 1, 0, 1, 0, 1, 0, 1],\n",
       "       [1, 0, 1, 0, 1, 0, 1, 0],\n",
       "       [0, 1, 0, 1, 0, 1, 0, 1],\n",
       "       [1, 0, 1, 0, 1, 0, 1, 0],\n",
       "       [0, 1, 0, 1, 0, 1, 0, 1],\n",
       "       [1, 0, 1, 0, 1, 0, 1, 0]])"
      ]
     },
     "execution_count": 368,
     "metadata": {},
     "output_type": "execute_result"
    }
   ],
   "source": [
    "Z = np.zeros((8,8),dtype=int)\n",
    "Z[1::2,::2] = 1\n",
    "Z[::2,1::2] = 1\n",
    "Z"
   ]
  },
  {
   "cell_type": "markdown",
   "metadata": {},
   "source": [
    "### 20. Consider a (6,7,8) shape array, what is the index (x,y,z) of the 100th element?"
   ]
  },
  {
   "cell_type": "code",
   "execution_count": 392,
   "metadata": {
    "collapsed": false
   },
   "outputs": [],
   "source": [
    "#My solution\n",
    "Z = np.random.random((6,7,8))"
   ]
  },
  {
   "cell_type": "code",
   "execution_count": 393,
   "metadata": {
    "collapsed": false,
    "scrolled": true
   },
   "outputs": [
    {
     "data": {
      "text/plain": [
       "(1, 5, 4)"
      ]
     },
     "execution_count": 393,
     "metadata": {},
     "output_type": "execute_result"
    }
   ],
   "source": [
    "np.unravel_index(100,Z.shape)"
   ]
  },
  {
   "cell_type": "code",
   "execution_count": 394,
   "metadata": {
    "collapsed": false
   },
   "outputs": [
    {
     "data": {
      "text/plain": [
       "(0.22421911767952474, 0.22421911767952474)"
      ]
     },
     "execution_count": 394,
     "metadata": {},
     "output_type": "execute_result"
    }
   ],
   "source": [
    "#My solution\n",
    "Z.flatten()[100], Z[100//56,100%56//8,(100%56)%8]"
   ]
  },
  {
   "cell_type": "markdown",
   "metadata": {},
   "source": [
    "### 21. Create a checkerboard 8x8 matrix using the tile function (★☆☆)"
   ]
  },
  {
   "cell_type": "code",
   "execution_count": 395,
   "metadata": {
    "collapsed": false
   },
   "outputs": [
    {
     "data": {
      "text/plain": [
       "array([[0, 1],\n",
       "       [1, 0]])"
      ]
     },
     "execution_count": 395,
     "metadata": {},
     "output_type": "execute_result"
    }
   ],
   "source": [
    "np.array([[0,1],[1,0]])"
   ]
  },
  {
   "cell_type": "code",
   "execution_count": 396,
   "metadata": {
    "collapsed": false
   },
   "outputs": [
    {
     "data": {
      "text/plain": [
       "array([[0, 1, 0, 1, 0, 1, 0, 1],\n",
       "       [1, 0, 1, 0, 1, 0, 1, 0],\n",
       "       [0, 1, 0, 1, 0, 1, 0, 1],\n",
       "       [1, 0, 1, 0, 1, 0, 1, 0],\n",
       "       [0, 1, 0, 1, 0, 1, 0, 1],\n",
       "       [1, 0, 1, 0, 1, 0, 1, 0],\n",
       "       [0, 1, 0, 1, 0, 1, 0, 1],\n",
       "       [1, 0, 1, 0, 1, 0, 1, 0]])"
      ]
     },
     "execution_count": 396,
     "metadata": {},
     "output_type": "execute_result"
    }
   ],
   "source": [
    "np.tile(np.array([[0,1],[1,0]]),(4,4))"
   ]
  },
  {
   "cell_type": "markdown",
   "metadata": {},
   "source": [
    "### 22. Normalize a 5x5 random matrix (★☆☆)"
   ]
  },
  {
   "cell_type": "code",
   "execution_count": 401,
   "metadata": {
    "collapsed": false
   },
   "outputs": [
    {
     "data": {
      "text/plain": [
       "array([[ 0.20936567,  0.31796651,  0.57173178,  0.78588419,  0.31485275],\n",
       "       [ 0.68863708,  0.08626318,  0.20652899,  0.1169288 ,  0.45021389],\n",
       "       [ 0.59085111,  0.81157903,  0.07139666,  0.95970017,  0.62780412],\n",
       "       [ 0.8079448 ,  0.75363945,  0.29656622,  0.24929122,  0.30144745],\n",
       "       [ 0.92973026,  0.25260032,  0.9942387 ,  0.00145471,  0.75763168]])"
      ]
     },
     "execution_count": 401,
     "metadata": {},
     "output_type": "execute_result"
    }
   ],
   "source": [
    "Z = np.random.random((5,5))\n",
    "Z"
   ]
  },
  {
   "cell_type": "code",
   "execution_count": 402,
   "metadata": {
    "collapsed": false
   },
   "outputs": [
    {
     "data": {
      "text/plain": [
       "array([[ 0.20644782,  0.31504867,  0.56881394,  0.78296634,  0.3119349 ],\n",
       "       [ 0.68571923,  0.08334533,  0.20361115,  0.11401095,  0.44729604],\n",
       "       [ 0.58793326,  0.80866118,  0.06847881,  0.95678232,  0.62488627],\n",
       "       [ 0.80502695,  0.75072161,  0.29364837,  0.24637337,  0.2985296 ],\n",
       "       [ 0.92681241,  0.24968247,  0.99132085, -0.00146314,  0.75471384]])"
      ]
     },
     "execution_count": 402,
     "metadata": {},
     "output_type": "execute_result"
    }
   ],
   "source": [
    "Z-Z.min()/Z.max()-Z.min()"
   ]
  },
  {
   "cell_type": "markdown",
   "metadata": {},
   "source": [
    "### 23. Create a custom dtype that describes a color as four unsigned bytes (RGBA) (★☆☆)"
   ]
  },
  {
   "cell_type": "code",
   "execution_count": 418,
   "metadata": {
    "collapsed": false
   },
   "outputs": [],
   "source": [
    "color = np.dtype([(\"r\",np.ubyte,1),\n",
    "                 (\"g\",np.ubyte,1),\n",
    "                 (\"b\",np.ubyte,1),\n",
    "                 (\"a\",np.ubyte,1)]) #^?^ test = np.dtype([(\"r\",np.ubyte,1)?"
   ]
  },
  {
   "cell_type": "markdown",
   "metadata": {},
   "source": [
    "### 24. Multiply a 5x3 matrix by a 3x2 matrix (real matrix product) (★☆☆)"
   ]
  },
  {
   "cell_type": "code",
   "execution_count": 430,
   "metadata": {
    "collapsed": false
   },
   "outputs": [],
   "source": [
    "A = np.random.random((5,3))\n",
    "B = np.random.random((3,2))"
   ]
  },
  {
   "cell_type": "code",
   "execution_count": 431,
   "metadata": {
    "collapsed": false
   },
   "outputs": [
    {
     "data": {
      "text/plain": [
       "array([[ 0.30818588,  0.60489729],\n",
       "       [ 1.14773158,  1.52282234],\n",
       "       [ 0.41393972,  0.3950827 ],\n",
       "       [ 1.1391056 ,  1.20586926],\n",
       "       [ 1.29999598,  1.63816228]])"
      ]
     },
     "execution_count": 431,
     "metadata": {},
     "output_type": "execute_result"
    }
   ],
   "source": [
    "np.dot(A,B) #solution1"
   ]
  },
  {
   "cell_type": "code",
   "execution_count": 434,
   "metadata": {
    "collapsed": false
   },
   "outputs": [
    {
     "data": {
      "text/plain": [
       "array([[ 0.30818588,  0.60489729],\n",
       "       [ 1.14773158,  1.52282234],\n",
       "       [ 0.41393972,  0.3950827 ],\n",
       "       [ 1.1391056 ,  1.20586926],\n",
       "       [ 1.29999598,  1.63816228]])"
      ]
     },
     "execution_count": 434,
     "metadata": {},
     "output_type": "execute_result"
    }
   ],
   "source": [
    "A.dot(B) #solution2"
   ]
  },
  {
   "cell_type": "code",
   "execution_count": 436,
   "metadata": {
    "collapsed": false
   },
   "outputs": [
    {
     "data": {
      "text/plain": [
       "array([[ 0.30818588,  0.60489729],\n",
       "       [ 1.14773158,  1.52282234],\n",
       "       [ 0.41393972,  0.3950827 ],\n",
       "       [ 1.1391056 ,  1.20586926],\n",
       "       [ 1.29999598,  1.63816228]])"
      ]
     },
     "execution_count": 436,
     "metadata": {},
     "output_type": "execute_result"
    }
   ],
   "source": [
    "A @ B #solution3 for Python3 or above"
   ]
  },
  {
   "cell_type": "markdown",
   "metadata": {},
   "source": [
    "### 25. Given a 1D array, negate all elements which are between 3 and 8, in place. (★☆☆)"
   ]
  },
  {
   "cell_type": "code",
   "execution_count": 438,
   "metadata": {
    "collapsed": false
   },
   "outputs": [
    {
     "data": {
      "text/plain": [
       "array([ 0,  1,  2,  3,  4,  5,  6,  7,  8,  9, 10, 11])"
      ]
     },
     "execution_count": 438,
     "metadata": {},
     "output_type": "execute_result"
    }
   ],
   "source": [
    "Z = np.arange(12)\n",
    "Z"
   ]
  },
  {
   "cell_type": "code",
   "execution_count": 443,
   "metadata": {
    "collapsed": false
   },
   "outputs": [
    {
     "data": {
      "text/plain": [
       "array([ 0,  1,  2,  3, -4, -5, -6, -7,  8,  9, 10, 11])"
      ]
     },
     "execution_count": 443,
     "metadata": {},
     "output_type": "execute_result"
    }
   ],
   "source": [
    "Z[(Z < 8) & (Z > 3)] *= -1\n",
    "Z"
   ]
  },
  {
   "cell_type": "markdown",
   "metadata": {},
   "source": [
    "### 26. What is the output of the following script? (★☆☆)"
   ]
  },
  {
   "cell_type": "code",
   "execution_count": 444,
   "metadata": {
    "collapsed": false
   },
   "outputs": [
    {
     "data": {
      "text/plain": [
       "9"
      ]
     },
     "execution_count": 444,
     "metadata": {},
     "output_type": "execute_result"
    }
   ],
   "source": [
    "sum(range(5),-1) #sum(), sum up, then minus 1"
   ]
  },
  {
   "cell_type": "code",
   "execution_count": 446,
   "metadata": {
    "collapsed": false
   },
   "outputs": [
    {
     "data": {
      "text/plain": [
       "10"
      ]
     },
     "execution_count": 446,
     "metadata": {},
     "output_type": "execute_result"
    }
   ],
   "source": [
    "np.sum(range(5),-1) #np.sum(), along the last axis"
   ]
  },
  {
   "cell_type": "markdown",
   "metadata": {},
   "source": [
    "### 27. Consider an integer vector Z, which of these expressions are legal? (★☆☆)"
   ]
  },
  {
   "cell_type": "code",
   "execution_count": 449,
   "metadata": {
    "collapsed": false
   },
   "outputs": [
    {
     "data": {
      "text/plain": [
       "array([3, 7, 1, 6, 0, 7, 2, 1, 9, 4])"
      ]
     },
     "execution_count": 449,
     "metadata": {},
     "output_type": "execute_result"
    }
   ],
   "source": [
    "Z = np.random.randint(0,10,10)\n",
    "Z"
   ]
  },
  {
   "cell_type": "code",
   "execution_count": 450,
   "metadata": {
    "collapsed": false
   },
   "outputs": [
    {
     "data": {
      "text/plain": [
       "array([       27,    823543,         1,     46656,         1,    823543,\n",
       "               4,         1, 387420489,       256])"
      ]
     },
     "execution_count": 450,
     "metadata": {},
     "output_type": "execute_result"
    }
   ],
   "source": [
    "Z**Z"
   ]
  },
  {
   "cell_type": "code",
   "execution_count": 461,
   "metadata": {
    "collapsed": false
   },
   "outputs": [
    {
     "data": {
      "text/plain": [
       "array([False, False, False, False, False, False, False, False, False, False], dtype=bool)"
      ]
     },
     "execution_count": 461,
     "metadata": {},
     "output_type": "execute_result"
    }
   ],
   "source": [
    "Z <- Z"
   ]
  },
  {
   "cell_type": "code",
   "execution_count": 462,
   "metadata": {
    "collapsed": false
   },
   "outputs": [
    {
     "data": {
      "text/plain": [
       "array([ 0.+3.j,  0.+7.j,  0.+1.j,  0.+6.j,  0.+0.j,  0.+7.j,  0.+2.j,\n",
       "        0.+1.j,  0.+9.j,  0.+4.j])"
      ]
     },
     "execution_count": 462,
     "metadata": {},
     "output_type": "execute_result"
    }
   ],
   "source": [
    "1j*Z"
   ]
  },
  {
   "cell_type": "code",
   "execution_count": null,
   "metadata": {
    "collapsed": true
   },
   "outputs": [],
   "source": []
  },
  {
   "cell_type": "code",
   "execution_count": 451,
   "metadata": {
    "collapsed": false,
    "scrolled": true
   },
   "outputs": [
    {
     "data": {
      "text/plain": [
       "array([  4,  64,   1,  32,   0,  64,   2,   1, 256,   8])"
      ]
     },
     "execution_count": 451,
     "metadata": {},
     "output_type": "execute_result"
    }
   ],
   "source": [
    "2 << Z >> 2"
   ]
  },
  {
   "cell_type": "code",
   "execution_count": 495,
   "metadata": {
    "collapsed": false
   },
   "outputs": [
    {
     "data": {
      "text/plain": [
       "array([  24,  384,    6,  192,    3,  384,   12,    6, 1536,   48])"
      ]
     },
     "execution_count": 495,
     "metadata": {},
     "output_type": "execute_result"
    }
   ],
   "source": [
    "2<<Z   # ^?^ pow(2,z + 1)?"
   ]
  },
  {
   "cell_type": "code",
   "execution_count": null,
   "metadata": {
    "collapsed": true
   },
   "outputs": [],
   "source": []
  },
  {
   "cell_type": "code",
   "execution_count": 473,
   "metadata": {
    "collapsed": false
   },
   "outputs": [
    {
     "data": {
      "text/plain": [
       "array([0, 1, 0, 1, 0, 1, 0, 0, 2, 1])"
      ]
     },
     "execution_count": 473,
     "metadata": {},
     "output_type": "execute_result"
    }
   ],
   "source": [
    "Z >> 2 #right shift for 2 bits, with 0s filled in from the left"
   ]
  },
  {
   "cell_type": "code",
   "execution_count": null,
   "metadata": {
    "collapsed": true
   },
   "outputs": [],
   "source": [
    "Z << 2 #left shift for 2 bits, with 0s filled in from the right"
   ]
  },
  {
   "cell_type": "code",
   "execution_count": 494,
   "metadata": {
    "collapsed": false
   },
   "outputs": [
    {
     "data": {
      "text/plain": [
       "-32"
      ]
     },
     "execution_count": 494,
     "metadata": {},
     "output_type": "execute_result"
    }
   ],
   "source": [
    "-127 >> 2 #2's complement?\n"
   ]
  },
  {
   "cell_type": "code",
   "execution_count": null,
   "metadata": {
    "collapsed": true
   },
   "outputs": [],
   "source": []
  },
  {
   "cell_type": "code",
   "execution_count": 463,
   "metadata": {
    "collapsed": false,
    "scrolled": true
   },
   "outputs": [
    {
     "data": {
      "text/plain": [
       "array([ 3.,  7.,  1.,  6.,  0.,  7.,  2.,  1.,  9.,  4.])"
      ]
     },
     "execution_count": 463,
     "metadata": {},
     "output_type": "execute_result"
    }
   ],
   "source": [
    "Z/1/1"
   ]
  },
  {
   "cell_type": "code",
   "execution_count": null,
   "metadata": {
    "collapsed": true
   },
   "outputs": [],
   "source": [
    "Z <- Z"
   ]
  },
  {
   "cell_type": "code",
   "execution_count": 496,
   "metadata": {
    "collapsed": false
   },
   "outputs": [
    {
     "ename": "ValueError",
     "evalue": "The truth value of an array with more than one element is ambiguous. Use a.any() or a.all()",
     "output_type": "error",
     "traceback": [
      "\u001b[0;31m---------------------------------------------------------------------------\u001b[0m",
      "\u001b[0;31mValueError\u001b[0m                                Traceback (most recent call last)",
      "\u001b[0;32m<ipython-input-496-6a7a0f3065d7>\u001b[0m in \u001b[0;36m<module>\u001b[0;34m()\u001b[0m\n\u001b[0;32m----> 1\u001b[0;31m \u001b[0mZ\u001b[0m\u001b[0;34m<\u001b[0m\u001b[0mZ\u001b[0m\u001b[0;34m>\u001b[0m\u001b[0mZ\u001b[0m \u001b[0;31m#^?^ the order of concatenation?\u001b[0m\u001b[0;34m\u001b[0m\u001b[0m\n\u001b[0m\u001b[1;32m      2\u001b[0m \u001b[0;34m(\u001b[0m\u001b[0mZ\u001b[0m\u001b[0;34m<\u001b[0m\u001b[0mZ\u001b[0m\u001b[0;34m)\u001b[0m\u001b[0;34m>\u001b[0m\u001b[0mZ\u001b[0m\u001b[0;34m\u001b[0m\u001b[0m\n\u001b[1;32m      3\u001b[0m \u001b[0mZ\u001b[0m\u001b[0;34m<\u001b[0m\u001b[0;34m(\u001b[0m\u001b[0mZ\u001b[0m\u001b[0;34m>\u001b[0m\u001b[0mZ\u001b[0m\u001b[0;34m)\u001b[0m\u001b[0;34m\u001b[0m\u001b[0m\n",
      "\u001b[0;31mValueError\u001b[0m: The truth value of an array with more than one element is ambiguous. Use a.any() or a.all()"
     ]
    }
   ],
   "source": [
    "Z<Z>Z #^?^ the order of concatenation?\n",
    "(Z<Z)>Z\n",
    "Z<(Z>Z)"
   ]
  },
  {
   "cell_type": "markdown",
   "metadata": {},
   "source": [
    "### 28. What are the result of the following expressions?"
   ]
  },
  {
   "cell_type": "code",
   "execution_count": 506,
   "metadata": {
    "collapsed": false,
    "scrolled": true
   },
   "outputs": [
    {
     "name": "stderr",
     "output_type": "stream",
     "text": [
      "/Users/hanzg/.pyenv/versions/anaconda3-2.5.0/lib/python3.5/site-packages/ipykernel/__main__.py:1: RuntimeWarning: invalid value encountered in true_divide\n",
      "  if __name__ == '__main__':\n"
     ]
    },
    {
     "data": {
      "text/plain": [
       "nan"
      ]
     },
     "execution_count": 506,
     "metadata": {},
     "output_type": "execute_result"
    }
   ],
   "source": [
    "np.array(0) / np.array(0) #^?^ np.array(0)"
   ]
  },
  {
   "cell_type": "code",
   "execution_count": 507,
   "metadata": {
    "collapsed": false
   },
   "outputs": [
    {
     "name": "stderr",
     "output_type": "stream",
     "text": [
      "/Users/hanzg/.pyenv/versions/anaconda3-2.5.0/lib/python3.5/site-packages/ipykernel/__main__.py:1: RuntimeWarning: divide by zero encountered in floor_divide\n",
      "  if __name__ == '__main__':\n"
     ]
    },
    {
     "data": {
      "text/plain": [
       "0"
      ]
     },
     "execution_count": 507,
     "metadata": {},
     "output_type": "execute_result"
    }
   ],
   "source": [
    "np.array(0) // np.array(0) "
   ]
  },
  {
   "cell_type": "code",
   "execution_count": 508,
   "metadata": {
    "collapsed": false
   },
   "outputs": [
    {
     "data": {
      "text/plain": [
       "array([-9223372036854775808])"
      ]
     },
     "execution_count": 508,
     "metadata": {},
     "output_type": "execute_result"
    }
   ],
   "source": [
    "np.array([np.nan]).astype(int)"
   ]
  },
  {
   "cell_type": "code",
   "execution_count": 509,
   "metadata": {
    "collapsed": false
   },
   "outputs": [
    {
     "data": {
      "text/plain": [
       "array([ -9.22337204e+18])"
      ]
     },
     "execution_count": 509,
     "metadata": {},
     "output_type": "execute_result"
    }
   ],
   "source": [
    "np.array([np.nan]).astype(int).astype(float)"
   ]
  },
  {
   "cell_type": "markdown",
   "metadata": {},
   "source": [
    "### 29. How to round away from zero a float array ? (★☆☆)"
   ]
  },
  {
   "cell_type": "code",
   "execution_count": 510,
   "metadata": {
    "collapsed": false
   },
   "outputs": [
    {
     "data": {
      "text/plain": [
       "array([-5.83444393, -5.45501451,  0.16768349,  4.94148358, -5.24809363,\n",
       "       -0.3253481 ,  1.29319381, -8.21089825,  2.20495641, -1.80475405])"
      ]
     },
     "execution_count": 510,
     "metadata": {},
     "output_type": "execute_result"
    }
   ],
   "source": [
    "Z = np.random.uniform(-10,+10,10)\n",
    "Z"
   ]
  },
  {
   "cell_type": "code",
   "execution_count": 515,
   "metadata": {
    "collapsed": false
   },
   "outputs": [
    {
     "data": {
      "text/plain": [
       "(array([ 6.,  6.,  1.,  5.,  6.,  1.,  2.,  9.,  3.,  2.]),\n",
       " array([-5.83444393, -5.45501451,  0.16768349,  4.94148358, -5.24809363,\n",
       "        -0.3253481 ,  1.29319381, -8.21089825,  2.20495641, -1.80475405]))"
      ]
     },
     "execution_count": 515,
     "metadata": {},
     "output_type": "execute_result"
    }
   ],
   "source": [
    "np.ceil(np.abs(Z)), Z"
   ]
  },
  {
   "cell_type": "code",
   "execution_count": 511,
   "metadata": {
    "collapsed": false
   },
   "outputs": [
    {
     "data": {
      "text/plain": [
       "array([-6., -6.,  1.,  5., -6., -1.,  2., -9.,  3., -2.])"
      ]
     },
     "execution_count": 511,
     "metadata": {},
     "output_type": "execute_result"
    }
   ],
   "source": [
    "np.copysign(np.ceil(np.abs(Z)), Z)"
   ]
  },
  {
   "cell_type": "markdown",
   "metadata": {},
   "source": [
    "### 30. How to find common values between two arrays? (★☆☆)"
   ]
  },
  {
   "cell_type": "code",
   "execution_count": 518,
   "metadata": {
    "collapsed": false
   },
   "outputs": [
    {
     "data": {
      "text/plain": [
       "(array([3, 6, 2, 2, 7, 8, 5, 1, 6, 6]), array([2, 8, 5, 1, 8, 4, 5, 5, 3, 6]))"
      ]
     },
     "execution_count": 518,
     "metadata": {},
     "output_type": "execute_result"
    }
   ],
   "source": [
    "Z1 = np.random.randint(0,10,10)\n",
    "Z2 = np.random.randint(0,10,10)\n",
    "Z1,Z2"
   ]
  },
  {
   "cell_type": "code",
   "execution_count": 519,
   "metadata": {
    "collapsed": false
   },
   "outputs": [
    {
     "data": {
      "text/plain": [
       "array([1, 2, 3, 5, 6, 8])"
      ]
     },
     "execution_count": 519,
     "metadata": {},
     "output_type": "execute_result"
    }
   ],
   "source": [
    "np.intersect1d(Z1,Z2)"
   ]
  },
  {
   "cell_type": "markdown",
   "metadata": {},
   "source": [
    "### 31. How to ignore all numpy warnings (not recommended)? (★☆☆)"
   ]
  },
  {
   "cell_type": "code",
   "execution_count": 546,
   "metadata": {
    "collapsed": false
   },
   "outputs": [
    {
     "data": {
      "text/plain": [
       "(array([ inf]),\n",
       " {'divide': 'ignore',\n",
       "  'invalid': 'ignore',\n",
       "  'over': 'ignore',\n",
       "  'under': 'ignore'})"
      ]
     },
     "execution_count": 546,
     "metadata": {},
     "output_type": "execute_result"
    }
   ],
   "source": [
    "defaults = np.seterr(all='ignore')\n",
    "Z = np.ones(1) / 0  #the warnings supposed to be generated by Numpy becomes ignored now\n",
    "Z, defaults"
   ]
  },
  {
   "cell_type": "code",
   "execution_count": 542,
   "metadata": {
    "collapsed": true
   },
   "outputs": [],
   "source": [
    "# Back to sanity\n",
    "_ = np.seterr(**defaults)"
   ]
  },
  {
   "cell_type": "code",
   "execution_count": 551,
   "metadata": {
    "collapsed": false
   },
   "outputs": [
    {
     "data": {
      "text/plain": [
       "(array([ inf]),\n",
       " {'divide': 'ignore',\n",
       "  'invalid': 'ignore',\n",
       "  'over': 'ignore',\n",
       "  'under': 'ignore'})"
      ]
     },
     "execution_count": 551,
     "metadata": {},
     "output_type": "execute_result"
    }
   ],
   "source": [
    "#^?^ not working?\n",
    "#back to sanity\n",
    "_ = np.seterr(**defaults)\n",
    "Z = np.ones(1) / 0\n",
    "Z, _"
   ]
  },
  {
   "cell_type": "code",
   "execution_count": 556,
   "metadata": {
    "collapsed": true
   },
   "outputs": [],
   "source": [
    "#with context manager\n",
    "with np.errstate(divide='ignore'):\n",
    "    Z = np.ones(1) / 0"
   ]
  },
  {
   "cell_type": "markdown",
   "metadata": {},
   "source": [
    "### 32. Is the following expressions true? (★☆☆)"
   ]
  },
  {
   "cell_type": "code",
   "execution_count": 558,
   "metadata": {
    "collapsed": false
   },
   "outputs": [
    {
     "data": {
      "text/plain": [
       "nan"
      ]
     },
     "execution_count": 558,
     "metadata": {},
     "output_type": "execute_result"
    }
   ],
   "source": [
    "np.sqrt(-1)"
   ]
  },
  {
   "cell_type": "code",
   "execution_count": 559,
   "metadata": {
    "collapsed": false
   },
   "outputs": [
    {
     "data": {
      "text/plain": [
       "1j"
      ]
     },
     "execution_count": 559,
     "metadata": {},
     "output_type": "execute_result"
    }
   ],
   "source": [
    "np.emath.sqrt(-1) #with complex number"
   ]
  },
  {
   "cell_type": "code",
   "execution_count": 557,
   "metadata": {
    "collapsed": false
   },
   "outputs": [
    {
     "data": {
      "text/plain": [
       "False"
      ]
     },
     "execution_count": 557,
     "metadata": {},
     "output_type": "execute_result"
    }
   ],
   "source": [
    "np.sqrt(-1) == np.emath.sqrt(-1)"
   ]
  },
  {
   "cell_type": "markdown",
   "metadata": {},
   "source": [
    "### 33. How to get the dates of yesterday, today and tomorrow? (★☆☆)"
   ]
  },
  {
   "cell_type": "code",
   "execution_count": 573,
   "metadata": {
    "collapsed": false
   },
   "outputs": [],
   "source": [
    "yesterday = np.datetime64('today','D') - np.timedelta64(1, 'D')\n",
    "today = np.datetime64('today', 'D')\n",
    "tomorrow = np.datetime64('today','D') + np.timedelta64(1,'D')"
   ]
  },
  {
   "cell_type": "code",
   "execution_count": 574,
   "metadata": {
    "collapsed": false
   },
   "outputs": [
    {
     "data": {
      "text/plain": [
       "(numpy.datetime64('2017-04-15'),\n",
       " numpy.datetime64('2017-04-16'),\n",
       " numpy.datetime64('2017-04-17'))"
      ]
     },
     "execution_count": 574,
     "metadata": {},
     "output_type": "execute_result"
    }
   ],
   "source": [
    "yesterday, today, tomorrow"
   ]
  },
  {
   "cell_type": "markdown",
   "metadata": {},
   "source": [
    "### 34. How to get all the dates corresponding to the month of July 2016? (★★☆)"
   ]
  },
  {
   "cell_type": "code",
   "execution_count": 589,
   "metadata": {
    "collapsed": false
   },
   "outputs": [
    {
     "data": {
      "text/plain": [
       "array(['2016-07-01', '2016-07-02', '2016-07-03', '2016-07-04',\n",
       "       '2016-07-05', '2016-07-06', '2016-07-07', '2016-07-08',\n",
       "       '2016-07-09', '2016-07-10', '2016-07-11', '2016-07-12',\n",
       "       '2016-07-13', '2016-07-14', '2016-07-15', '2016-07-16',\n",
       "       '2016-07-17', '2016-07-18', '2016-07-19', '2016-07-20',\n",
       "       '2016-07-21', '2016-07-22', '2016-07-23', '2016-07-24',\n",
       "       '2016-07-25', '2016-07-26', '2016-07-27', '2016-07-28',\n",
       "       '2016-07-29', '2016-07-30', '2016-07-31'], dtype='datetime64[D]')"
      ]
     },
     "execution_count": 589,
     "metadata": {},
     "output_type": "execute_result"
    }
   ],
   "source": [
    "np.arange('2016-07', '2016-08', dtype = 'datetime64[D]') #datetime64[M] is optional"
   ]
  },
  {
   "cell_type": "markdown",
   "metadata": {},
   "source": [
    "## 35. How to compute ((A+B)*(-A/2)) in place (without copy)? (★★☆)"
   ]
  },
  {
   "cell_type": "code",
   "execution_count": 614,
   "metadata": {
    "collapsed": false
   },
   "outputs": [
    {
     "data": {
      "text/plain": [
       "(array([ 1.,  1.,  1.]), array([ 2.,  2.,  2.]), array([ 3.,  3.,  3.]))"
      ]
     },
     "execution_count": 614,
     "metadata": {},
     "output_type": "execute_result"
    }
   ],
   "source": [
    "A = np.ones(3)*1\n",
    "B = np.ones(3)*2\n",
    "C = np.ones(3)*3\n",
    "A,B,C"
   ]
  },
  {
   "cell_type": "code",
   "execution_count": 615,
   "metadata": {
    "collapsed": false
   },
   "outputs": [
    {
     "data": {
      "text/plain": [
       "(array([ 1.,  1.,  1.]), array([ 3.,  3.,  3.]), array([ 3.,  3.,  3.]))"
      ]
     },
     "execution_count": 615,
     "metadata": {},
     "output_type": "execute_result"
    }
   ],
   "source": [
    "np.add(A,B,out = B)\n",
    "A,B,C"
   ]
  },
  {
   "cell_type": "code",
   "execution_count": 616,
   "metadata": {
    "collapsed": false
   },
   "outputs": [
    {
     "data": {
      "text/plain": [
       "(array([ 0.5,  0.5,  0.5]), array([ 3.,  3.,  3.]), array([ 3.,  3.,  3.]))"
      ]
     },
     "execution_count": 616,
     "metadata": {},
     "output_type": "execute_result"
    }
   ],
   "source": [
    "np.divide(A,2, out = A)\n",
    "A,B,C"
   ]
  },
  {
   "cell_type": "code",
   "execution_count": 617,
   "metadata": {
    "collapsed": false
   },
   "outputs": [
    {
     "data": {
      "text/plain": [
       "(array([-0.5, -0.5, -0.5]), array([ 3.,  3.,  3.]), array([ 3.,  3.,  3.]))"
      ]
     },
     "execution_count": 617,
     "metadata": {},
     "output_type": "execute_result"
    }
   ],
   "source": [
    "np.negative(A, out = A)\n",
    "A,B,C"
   ]
  },
  {
   "cell_type": "code",
   "execution_count": 618,
   "metadata": {
    "collapsed": false,
    "scrolled": true
   },
   "outputs": [
    {
     "data": {
      "text/plain": [
       "(array([-1.5, -1.5, -1.5]), array([ 3.,  3.,  3.]), array([ 3.,  3.,  3.]))"
      ]
     },
     "execution_count": 618,
     "metadata": {},
     "output_type": "execute_result"
    }
   ],
   "source": [
    "np.multiply(A, B, out = A)\n",
    "A,B,C"
   ]
  },
  {
   "cell_type": "markdown",
   "metadata": {},
   "source": [
    "### 36. Extract the integer part of a random array using 5 different methods (★★☆)"
   ]
  },
  {
   "cell_type": "code",
   "execution_count": 620,
   "metadata": {
    "collapsed": false
   },
   "outputs": [
    {
     "data": {
      "text/plain": [
       "array([ 7.01843308,  4.83948271,  8.18627892,  5.65228203,  8.8623302 ,\n",
       "        2.82721522,  4.16574847,  8.54583522,  4.12780231,  0.26110065])"
      ]
     },
     "execution_count": 620,
     "metadata": {},
     "output_type": "execute_result"
    }
   ],
   "source": [
    "Z = np.random.uniform(0,10,10)\n",
    "Z"
   ]
  },
  {
   "cell_type": "code",
   "execution_count": 621,
   "metadata": {
    "collapsed": false
   },
   "outputs": [
    {
     "data": {
      "text/plain": [
       "array([ 7.,  4.,  8.,  5.,  8.,  2.,  4.,  8.,  4.,  0.])"
      ]
     },
     "execution_count": 621,
     "metadata": {},
     "output_type": "execute_result"
    }
   ],
   "source": [
    "Z - Z%1"
   ]
  },
  {
   "cell_type": "code",
   "execution_count": 624,
   "metadata": {
    "collapsed": false
   },
   "outputs": [
    {
     "data": {
      "text/plain": [
       "array([ 7.,  4.,  8.,  5.,  8.,  2.,  4.,  8.,  4.,  0.])"
      ]
     },
     "execution_count": 624,
     "metadata": {},
     "output_type": "execute_result"
    }
   ],
   "source": [
    "np.floor(Z)"
   ]
  },
  {
   "cell_type": "code",
   "execution_count": 626,
   "metadata": {
    "collapsed": false
   },
   "outputs": [
    {
     "data": {
      "text/plain": [
       "array([ 7.,  4.,  8.,  5.,  8.,  2.,  4.,  8.,  4.,  0.])"
      ]
     },
     "execution_count": 626,
     "metadata": {},
     "output_type": "execute_result"
    }
   ],
   "source": [
    "np.ceil(Z)-1"
   ]
  },
  {
   "cell_type": "code",
   "execution_count": 627,
   "metadata": {
    "collapsed": false
   },
   "outputs": [
    {
     "data": {
      "text/plain": [
       "array([7, 4, 8, 5, 8, 2, 4, 8, 4, 0])"
      ]
     },
     "execution_count": 627,
     "metadata": {},
     "output_type": "execute_result"
    }
   ],
   "source": [
    "Z.astype(int)"
   ]
  },
  {
   "cell_type": "code",
   "execution_count": 628,
   "metadata": {
    "collapsed": false
   },
   "outputs": [
    {
     "data": {
      "text/plain": [
       "array([ 7.,  4.,  8.,  5.,  8.,  2.,  4.,  8.,  4.,  0.])"
      ]
     },
     "execution_count": 628,
     "metadata": {},
     "output_type": "execute_result"
    }
   ],
   "source": [
    "np.trunc(Z)"
   ]
  },
  {
   "cell_type": "markdown",
   "metadata": {},
   "source": [
    "### 37. Create a 5x5 matrix with row values ranging from 0 to 4 (★★☆)"
   ]
  },
  {
   "cell_type": "code",
   "execution_count": 640,
   "metadata": {
    "collapsed": false
   },
   "outputs": [
    {
     "data": {
      "text/plain": [
       "array([[ 0.,  1.,  2.,  3.,  4.],\n",
       "       [ 0.,  1.,  2.,  3.,  4.],\n",
       "       [ 0.,  1.,  2.,  3.,  4.],\n",
       "       [ 0.,  1.,  2.,  3.,  4.],\n",
       "       [ 0.,  1.,  2.,  3.,  4.]])"
      ]
     },
     "execution_count": 640,
     "metadata": {},
     "output_type": "execute_result"
    }
   ],
   "source": [
    "Z = np.zeros((5,5))\n",
    "Z += np.arange(5) #propagation\n",
    "Z"
   ]
  },
  {
   "cell_type": "markdown",
   "metadata": {},
   "source": [
    "### 38. Consider a generator function that generates 10 integers and use it to build an array (★☆☆)"
   ]
  },
  {
   "cell_type": "code",
   "execution_count": 646,
   "metadata": {
    "collapsed": true
   },
   "outputs": [],
   "source": [
    "def generate():\n",
    "    for x in range(10):\n",
    "        yield x"
   ]
  },
  {
   "cell_type": "code",
   "execution_count": 653,
   "metadata": {
    "collapsed": false
   },
   "outputs": [
    {
     "data": {
      "text/plain": [
       "array([ 0.,  1.,  2.,  3.,  4.,  5.,  6.,  7.,  8.,  9.])"
      ]
     },
     "execution_count": 653,
     "metadata": {},
     "output_type": "execute_result"
    }
   ],
   "source": [
    "Z = np.fromiter(generate(),dtype=float,count=-1)  #^?^ fromiter(); default count = -1 means all data will be read  #https://docs.scipy.org/doc/numpy/reference/generated/numpy.fromiter.html\n",
    "Z"
   ]
  },
  {
   "cell_type": "markdown",
   "metadata": {},
   "source": [
    "### 39. Create a vector of size 10 with values ranging from 0 to 1, both excluded (★★☆)"
   ]
  },
  {
   "cell_type": "code",
   "execution_count": 662,
   "metadata": {
    "collapsed": false
   },
   "outputs": [
    {
     "data": {
      "text/plain": [
       "array([ 0.90909091,  1.81818182,  2.72727273,  3.63636364,  4.54545455,\n",
       "        5.45454545,  6.36363636,  7.27272727,  8.18181818,  9.09090909])"
      ]
     },
     "execution_count": 662,
     "metadata": {},
     "output_type": "execute_result"
    }
   ],
   "source": [
    "np.linspace(0,10,12, endpoint= True)[1:-1]"
   ]
  },
  {
   "cell_type": "markdown",
   "metadata": {},
   "source": [
    "### 40. Create a random vector of size 10 and sort it (★★☆)"
   ]
  },
  {
   "cell_type": "code",
   "execution_count": 673,
   "metadata": {
    "collapsed": false
   },
   "outputs": [],
   "source": [
    "Z = np.random.random(10)\n",
    "Z.sort()"
   ]
  },
  {
   "cell_type": "code",
   "execution_count": 674,
   "metadata": {
    "collapsed": false
   },
   "outputs": [
    {
     "data": {
      "text/plain": [
       "array([ 0.12709871,  0.17264642,  0.24318241,  0.37099115,  0.38227671,\n",
       "        0.42131952,  0.48331237,  0.5266422 ,  0.88604157,  0.93846475])"
      ]
     },
     "execution_count": 674,
     "metadata": {},
     "output_type": "execute_result"
    }
   ],
   "source": [
    "Z"
   ]
  },
  {
   "cell_type": "code",
   "execution_count": null,
   "metadata": {
    "collapsed": true
   },
   "outputs": [],
   "source": []
  },
  {
   "cell_type": "code",
   "execution_count": null,
   "metadata": {
    "collapsed": true
   },
   "outputs": [],
   "source": []
  },
  {
   "cell_type": "markdown",
   "metadata": {
    "collapsed": true
   },
   "source": [
    "### No.50 Subtract the mean of each row of a matrix (★★☆)"
   ]
  },
  {
   "cell_type": "code",
   "execution_count": 14,
   "metadata": {
    "collapsed": false
   },
   "outputs": [
    {
     "data": {
      "text/plain": [
       "array([[ 0.93410427,  0.67379227,  0.88338146,  0.44811689,  0.31507984],\n",
       "       [ 0.19936049,  0.20305681,  0.45024992,  0.08654554,  0.71393222],\n",
       "       [ 0.98898066,  0.22089623,  0.51181213,  0.9353755 ,  0.1140818 ],\n",
       "       [ 0.44865318,  0.44437098,  0.21384027,  0.47715187,  0.31609073],\n",
       "       [ 0.95122818,  0.06468361,  0.46089041,  0.2273167 ,  0.20635827],\n",
       "       [ 0.19383945,  0.60496262,  0.15516869,  0.20438439,  0.40144749],\n",
       "       [ 0.16060401,  0.21061711,  0.43886717,  0.30739568,  0.15532012],\n",
       "       [ 0.36415632,  0.67038416,  0.28938311,  0.59353741,  0.33265015],\n",
       "       [ 0.33213298,  0.08778509,  0.34516742,  0.65183081,  0.15970114],\n",
       "       [ 0.286805  ,  0.06390393,  0.25689698,  0.94284406,  0.69304893]])"
      ]
     },
     "execution_count": 14,
     "metadata": {},
     "output_type": "execute_result"
    }
   ],
   "source": [
    "Z = np.random.random((10,5))\n",
    "Z"
   ]
  },
  {
   "cell_type": "code",
   "execution_count": 20,
   "metadata": {
    "collapsed": false
   },
   "outputs": [
    {
     "data": {
      "text/plain": [
       "array([[ 0.93410427,  0.67379227,  0.88338146,  0.44811689,  0.31507984],\n",
       "       [ 0.19936049,  0.20305681,  0.45024992,  0.08654554,  0.71393222],\n",
       "       [ 0.98898066,  0.22089623,  0.51181213,  0.9353755 ,  0.1140818 ],\n",
       "       [ 0.44865318,  0.44437098,  0.21384027,  0.47715187,  0.31609073],\n",
       "       [ 0.95122818,  0.06468361,  0.46089041,  0.2273167 ,  0.20635827],\n",
       "       [ 0.19383945,  0.60496262,  0.15516869,  0.20438439,  0.40144749],\n",
       "       [ 0.16060401,  0.21061711,  0.43886717,  0.30739568,  0.15532012],\n",
       "       [ 0.36415632,  0.67038416,  0.28938311,  0.59353741,  0.33265015],\n",
       "       [ 0.33213298,  0.08778509,  0.34516742,  0.65183081,  0.15970114],\n",
       "       [ 0.286805  ,  0.06390393,  0.25689698,  0.94284406,  0.69304893]])"
      ]
     },
     "execution_count": 20,
     "metadata": {},
     "output_type": "execute_result"
    }
   ],
   "source": [
    "#solution1\n",
    "Z - Z.mean(axis = 1, keepdims = True) #horizontal; if keepdims option is false by default, and the operation between (10,5) and (10,) is not broadcastable \n",
    "Z"
   ]
  },
  {
   "cell_type": "code",
   "execution_count": 21,
   "metadata": {
    "collapsed": false
   },
   "outputs": [
    {
     "data": {
      "text/plain": [
       "array([[ 0.93410427,  0.67379227,  0.88338146,  0.44811689,  0.31507984],\n",
       "       [ 0.19936049,  0.20305681,  0.45024992,  0.08654554,  0.71393222],\n",
       "       [ 0.98898066,  0.22089623,  0.51181213,  0.9353755 ,  0.1140818 ],\n",
       "       [ 0.44865318,  0.44437098,  0.21384027,  0.47715187,  0.31609073],\n",
       "       [ 0.95122818,  0.06468361,  0.46089041,  0.2273167 ,  0.20635827],\n",
       "       [ 0.19383945,  0.60496262,  0.15516869,  0.20438439,  0.40144749],\n",
       "       [ 0.16060401,  0.21061711,  0.43886717,  0.30739568,  0.15532012],\n",
       "       [ 0.36415632,  0.67038416,  0.28938311,  0.59353741,  0.33265015],\n",
       "       [ 0.33213298,  0.08778509,  0.34516742,  0.65183081,  0.15970114],\n",
       "       [ 0.286805  ,  0.06390393,  0.25689698,  0.94284406,  0.69304893]])"
      ]
     },
     "execution_count": 21,
     "metadata": {},
     "output_type": "execute_result"
    }
   ],
   "source": [
    "#solution2\n",
    "Z - Z.mean(axis = 1).reshape(10,1) #horizontal; broadcastable in this way\n",
    "Z\n"
   ]
  },
  {
   "cell_type": "markdown",
   "metadata": {},
   "source": [
    "### No.51 How to I sort an array by the nth column? (★★☆)"
   ]
  },
  {
   "cell_type": "code",
   "execution_count": 32,
   "metadata": {
    "collapsed": false
   },
   "outputs": [
    {
     "data": {
      "text/plain": [
       "array([[0, 7, 0],\n",
       "       [9, 4, 9],\n",
       "       [6, 2, 6]])"
      ]
     },
     "execution_count": 32,
     "metadata": {},
     "output_type": "execute_result"
    }
   ],
   "source": [
    "Z = np.random.randint(0,10,(3,3))\n",
    "Z"
   ]
  },
  {
   "cell_type": "code",
   "execution_count": 33,
   "metadata": {
    "collapsed": false,
    "scrolled": true
   },
   "outputs": [
    {
     "data": {
      "text/plain": [
       "array([[6, 2, 6],\n",
       "       [9, 4, 9],\n",
       "       [0, 7, 0]])"
      ]
     },
     "execution_count": 33,
     "metadata": {},
     "output_type": "execute_result"
    }
   ],
   "source": [
    "Z[Z[:,1].argsort()]"
   ]
  },
  {
   "cell_type": "markdown",
   "metadata": {},
   "source": [
    "### No.52 How to tell if a given 2D array has null columns? (★★☆)"
   ]
  },
  {
   "cell_type": "code",
   "execution_count": 41,
   "metadata": {
    "collapsed": false
   },
   "outputs": [
    {
     "data": {
      "text/plain": [
       "array([[1, 2, 1, 0, 0, 1, 2, 0, 1, 2],\n",
       "       [1, 0, 0, 1, 0, 1, 0, 1, 0, 1],\n",
       "       [2, 2, 1, 1, 0, 2, 1, 0, 1, 0]])"
      ]
     },
     "execution_count": 41,
     "metadata": {},
     "output_type": "execute_result"
    }
   ],
   "source": [
    "Z = np.random.randint(0,3,(3,10))\n",
    "Z"
   ]
  },
  {
   "cell_type": "code",
   "execution_count": 45,
   "metadata": {
    "collapsed": false
   },
   "outputs": [
    {
     "data": {
      "text/plain": [
       "True"
      ]
     },
     "execution_count": 45,
     "metadata": {},
     "output_type": "execute_result"
    }
   ],
   "source": [
    "(~Z.any(axis=0)).any() ##^*^ numpy.any() https://docs.scipy.org/doc/numpy-1.10.1/reference/generated/numpy.any.html"
   ]
  },
  {
   "cell_type": "markdown",
   "metadata": {},
   "source": [
    "### No.53 Find the nearest value from a given value in an array (★★☆)"
   ]
  },
  {
   "cell_type": "code",
   "execution_count": 55,
   "metadata": {
    "collapsed": false
   },
   "outputs": [
    {
     "data": {
      "text/plain": [
       "array([ 0.8019924 ,  0.55812004,  0.98339659,  0.05513788,  0.48069263,\n",
       "        0.16687099,  0.8343183 ,  0.16984431,  0.61935177,  0.87900648])"
      ]
     },
     "execution_count": 55,
     "metadata": {},
     "output_type": "execute_result"
    }
   ],
   "source": [
    "Z = np.random.uniform(0,1,10)\n",
    "z = 0.5 # 0.5 is the given value\n",
    "Z"
   ]
  },
  {
   "cell_type": "code",
   "execution_count": 56,
   "metadata": {
    "collapsed": false
   },
   "outputs": [
    {
     "data": {
      "text/plain": [
       "<numpy.flatiter at 0x7f99bd120400>"
      ]
     },
     "execution_count": 56,
     "metadata": {},
     "output_type": "execute_result"
    }
   ],
   "source": [
    "Z.flat #flatiter object\n",
    "# Z.flatten()"
   ]
  },
  {
   "cell_type": "code",
   "execution_count": 57,
   "metadata": {
    "collapsed": false
   },
   "outputs": [
    {
     "data": {
      "text/plain": [
       "0.48069263400602491"
      ]
     },
     "execution_count": 57,
     "metadata": {},
     "output_type": "execute_result"
    }
   ],
   "source": [
    "m = Z.flat[np.abs(Z - z).argmin()]\n",
    "m"
   ]
  },
  {
   "cell_type": "markdown",
   "metadata": {},
   "source": [
    "### No.54 Create an array class that has a name attribute (★★☆)"
   ]
  },
  {
   "cell_type": "code",
   "execution_count": 72,
   "metadata": {
    "collapsed": false
   },
   "outputs": [
    {
     "data": {
      "text/plain": [
       "NamedArray([0, 1, 2, 3, 4, 5, 6, 7, 8, 9])"
      ]
     },
     "execution_count": 72,
     "metadata": {},
     "output_type": "execute_result"
    }
   ],
   "source": [
    "Z.view()"
   ]
  },
  {
   "cell_type": "code",
   "execution_count": 73,
   "metadata": {
    "collapsed": false
   },
   "outputs": [
    {
     "name": "stdout",
     "output_type": "stream",
     "text": [
      "range_10\n"
     ]
    }
   ],
   "source": [
    "# ^*^ https://docs.python.org/3/tutorial/classes.html\n",
    "class NamedArray(np.ndarray):\n",
    "    def __new__(cls, array, name=\"no name\"):\n",
    "        obj = np.asarray(array).view(cls)\n",
    "        obj.name = name\n",
    "        return obj\n",
    "    def __array_finalize__(self, obj):\n",
    "        if obj is None: return\n",
    "        self.info = getattr(obj, 'name', \"no name\")\n",
    "\n",
    "Z = NamedArray(np.arange(10), \"range_10\")\n",
    "print (Z.name)"
   ]
  },
  {
   "cell_type": "markdown",
   "metadata": {},
   "source": [
    "### No.55 Consider a given vector, how to add 1 to each element indexed by a second vector (be careful with repeated indices)? (★★★)"
   ]
  },
  {
   "cell_type": "code",
   "execution_count": 96,
   "metadata": {
    "collapsed": false,
    "scrolled": false
   },
   "outputs": [],
   "source": [
    "#I.append([1]) #^?^ how to append a new element to np.ndarray"
   ]
  },
  {
   "cell_type": "code",
   "execution_count": 98,
   "metadata": {
    "collapsed": false
   },
   "outputs": [
    {
     "data": {
      "text/plain": [
       "array([3, 4, 2, 2, 0, 1, 4, 1, 0, 3, 0, 0, 0, 0, 0])"
      ]
     },
     "execution_count": 98,
     "metadata": {},
     "output_type": "execute_result"
    }
   ],
   "source": [
    "np.bincount(I, minlength=15)"
   ]
  },
  {
   "cell_type": "code",
   "execution_count": 87,
   "metadata": {
    "collapsed": false
   },
   "outputs": [
    {
     "data": {
      "text/plain": [
       "array([ 4.,  5.,  3.,  3.,  1.,  2.,  5.,  2.,  1.,  4.])"
      ]
     },
     "execution_count": 87,
     "metadata": {},
     "output_type": "execute_result"
    }
   ],
   "source": [
    "# https://docs.scipy.org/doc/numpy/reference/generated/numpy.bincount.html\n",
    "Z = np.ones(10)\n",
    "I = np.random.randint(0,len(Z),20)\n",
    "Z += np.bincount(I, minlength=len(Z)) #  is minlength is optional\n",
    "Z"
   ]
  },
  {
   "cell_type": "markdown",
   "metadata": {},
   "source": [
    "### No.56 How to accumulate elements of a vector (X) to an array (F) based on an index list (I)? (★★★)"
   ]
  },
  {
   "cell_type": "code",
   "execution_count": 105,
   "metadata": {
    "collapsed": false
   },
   "outputs": [
    {
     "name": "stdout",
     "output_type": "stream",
     "text": [
      "[ 0.  7.  0.  6.  5.  0.  0.  0.  0.  3.]\n"
     ]
    }
   ],
   "source": [
    "# ^?^ what does the question mean?\n",
    "X = [1,2,3,4,5,6]\n",
    "I = [1,3,9,3,4,1]\n",
    "F = np.bincount(I, X)\n",
    "print(F)"
   ]
  },
  {
   "cell_type": "code",
   "execution_count": 103,
   "metadata": {
    "collapsed": false
   },
   "outputs": [
    {
     "data": {
      "text/plain": [
       "array([0, 1, 1, 1, 1, 1, 1])"
      ]
     },
     "execution_count": 103,
     "metadata": {},
     "output_type": "execute_result"
    }
   ],
   "source": [
    "np.bincount(X)"
   ]
  },
  {
   "cell_type": "markdown",
   "metadata": {},
   "source": [
    "### No.57 Considering a (w,h,3) image of (dtype=ubyte), compute the number of unique colors (★★★)"
   ]
  },
  {
   "cell_type": "code",
   "execution_count": 235,
   "metadata": {
    "collapsed": true
   },
   "outputs": [],
   "source": [
    "h,w = 16,16"
   ]
  },
  {
   "cell_type": "code",
   "execution_count": 236,
   "metadata": {
    "collapsed": false,
    "scrolled": true
   },
   "outputs": [
    {
     "data": {
      "text/plain": [
       "array([[[ 4, 15,  3],\n",
       "        [ 4,  8, 15],\n",
       "        [15,  3,  1],\n",
       "        [ 4,  5,  1],\n",
       "        [ 0,  1,  6],\n",
       "        [ 7, 13,  8],\n",
       "        [ 5, 10, 11],\n",
       "        [14,  0,  1],\n",
       "        [ 1, 12, 14],\n",
       "        [13,  7,  4],\n",
       "        [ 4,  5,  7],\n",
       "        [10,  2, 15],\n",
       "        [15,  7, 12],\n",
       "        [ 1, 14, 11],\n",
       "        [ 4, 15,  9],\n",
       "        [ 4,  9, 14]],\n",
       "\n",
       "       [[12,  7,  0],\n",
       "        [ 8, 12,  5],\n",
       "        [ 2,  3,  2],\n",
       "        [12, 12,  2],\n",
       "        [ 3,  4, 13],\n",
       "        [ 6,  4,  4],\n",
       "        [ 6,  9,  1],\n",
       "        [ 6, 11, 14],\n",
       "        [ 2,  0,  2],\n",
       "        [ 9,  0, 12],\n",
       "        [15,  9,  4],\n",
       "        [15, 10, 15],\n",
       "        [ 1,  1,  2],\n",
       "        [10,  0,  1],\n",
       "        [ 4, 10,  2],\n",
       "        [ 5,  2,  4]],\n",
       "\n",
       "       [[ 5,  2,  7],\n",
       "        [ 5, 13,  0],\n",
       "        [ 3,  7,  9],\n",
       "        [15, 14,  6],\n",
       "        [ 1, 13,  2],\n",
       "        [14,  4, 10],\n",
       "        [ 4, 13, 14],\n",
       "        [ 6,  1,  8],\n",
       "        [13,  5,  1],\n",
       "        [13,  1,  0],\n",
       "        [10, 15,  5],\n",
       "        [ 0, 12,  9],\n",
       "        [ 6, 15, 11],\n",
       "        [ 0, 12, 10],\n",
       "        [10, 13,  9],\n",
       "        [11,  1, 15]],\n",
       "\n",
       "       [[ 7,  4, 15],\n",
       "        [ 4,  5, 10],\n",
       "        [ 7,  3,  6],\n",
       "        [ 6, 14, 10],\n",
       "        [ 6,  2,  8],\n",
       "        [ 8, 14,  8],\n",
       "        [ 3,  0,  1],\n",
       "        [ 9,  5,  2],\n",
       "        [ 8, 11, 11],\n",
       "        [ 5,  8, 15],\n",
       "        [14,  1,  0],\n",
       "        [12, 12,  3],\n",
       "        [ 2, 12,  7],\n",
       "        [ 5, 10, 10],\n",
       "        [10,  9,  2],\n",
       "        [13, 12, 11]],\n",
       "\n",
       "       [[12,  4, 12],\n",
       "        [14,  1, 15],\n",
       "        [ 2, 10,  6],\n",
       "        [15, 11,  0],\n",
       "        [ 1, 12, 13],\n",
       "        [15, 11,  3],\n",
       "        [12, 13,  1],\n",
       "        [14,  1, 12],\n",
       "        [15,  0, 11],\n",
       "        [14,  2,  2],\n",
       "        [ 0,  1,  0],\n",
       "        [11,  8, 10],\n",
       "        [10,  1,  9],\n",
       "        [ 0,  1,  9],\n",
       "        [15, 12,  1],\n",
       "        [15, 14, 14]],\n",
       "\n",
       "       [[ 6, 11, 12],\n",
       "        [ 1, 14, 12],\n",
       "        [ 7, 14, 10],\n",
       "        [13,  9,  9],\n",
       "        [ 3, 10,  2],\n",
       "        [15, 11,  0],\n",
       "        [ 4,  0,  0],\n",
       "        [15, 12,  9],\n",
       "        [12,  6, 13],\n",
       "        [14,  9, 12],\n",
       "        [ 4,  6, 14],\n",
       "        [15,  3,  7],\n",
       "        [ 5,  3, 11],\n",
       "        [ 8,  7,  6],\n",
       "        [13, 11,  4],\n",
       "        [ 5, 13,  8]],\n",
       "\n",
       "       [[11,  7, 10],\n",
       "        [ 6, 13, 13],\n",
       "        [ 5,  0, 12],\n",
       "        [ 5,  7,  4],\n",
       "        [15,  0, 15],\n",
       "        [15, 15, 14],\n",
       "        [12,  5,  9],\n",
       "        [12, 12,  0],\n",
       "        [ 2,  0, 12],\n",
       "        [ 5, 11,  3],\n",
       "        [ 8, 15,  8],\n",
       "        [ 3,  0,  4],\n",
       "        [ 0,  6,  6],\n",
       "        [15,  6, 14],\n",
       "        [ 8,  5, 15],\n",
       "        [12,  5, 10]],\n",
       "\n",
       "       [[ 1,  0, 13],\n",
       "        [14, 15, 15],\n",
       "        [ 8,  7,  5],\n",
       "        [ 5,  8,  2],\n",
       "        [ 5,  0,  7],\n",
       "        [ 3,  9,  3],\n",
       "        [13, 10,  5],\n",
       "        [ 4, 12,  2],\n",
       "        [ 1,  8, 14],\n",
       "        [14, 11,  0],\n",
       "        [ 8,  5, 14],\n",
       "        [ 2, 15,  0],\n",
       "        [ 0,  9, 14],\n",
       "        [12,  0,  5],\n",
       "        [ 6,  1,  2],\n",
       "        [ 1,  8, 14]],\n",
       "\n",
       "       [[15, 15, 11],\n",
       "        [ 9, 12,  6],\n",
       "        [11,  6,  1],\n",
       "        [ 5, 12,  8],\n",
       "        [ 1,  1, 13],\n",
       "        [ 3,  9,  9],\n",
       "        [ 8,  7,  6],\n",
       "        [ 1,  3,  5],\n",
       "        [ 6,  6, 10],\n",
       "        [ 4,  6,  9],\n",
       "        [ 3,  0,  1],\n",
       "        [ 8, 13, 11],\n",
       "        [ 8,  5,  0],\n",
       "        [ 8, 11, 10],\n",
       "        [ 1,  4, 12],\n",
       "        [ 6, 10,  3]],\n",
       "\n",
       "       [[ 4, 10, 10],\n",
       "        [11,  9,  4],\n",
       "        [ 1,  0,  5],\n",
       "        [ 4,  9,  0],\n",
       "        [ 2,  0,  6],\n",
       "        [15,  5,  0],\n",
       "        [ 0,  3,  7],\n",
       "        [ 2,  7,  3],\n",
       "        [ 9, 14,  6],\n",
       "        [12,  4,  3],\n",
       "        [ 5,  1,  8],\n",
       "        [12,  6,  3],\n",
       "        [ 0,  6,  4],\n",
       "        [13,  1, 14],\n",
       "        [11,  3, 11],\n",
       "        [12, 14, 13]],\n",
       "\n",
       "       [[11,  0,  8],\n",
       "        [13,  5,  1],\n",
       "        [ 4,  8,  0],\n",
       "        [13, 12, 14],\n",
       "        [ 3, 15, 14],\n",
       "        [14, 11,  6],\n",
       "        [12, 12,  3],\n",
       "        [ 8,  6,  5],\n",
       "        [15,  4, 15],\n",
       "        [ 0,  9,  9],\n",
       "        [ 0,  1,  6],\n",
       "        [ 0,  2,  0],\n",
       "        [ 6,  3,  3],\n",
       "        [ 5,  9, 10],\n",
       "        [14, 11,  5],\n",
       "        [ 1,  4, 11]],\n",
       "\n",
       "       [[13,  5, 14],\n",
       "        [13,  1,  5],\n",
       "        [15,  4, 15],\n",
       "        [ 9, 15,  4],\n",
       "        [10, 15, 13],\n",
       "        [13, 13,  9],\n",
       "        [ 7,  9, 10],\n",
       "        [11, 13,  7],\n",
       "        [10,  2, 10],\n",
       "        [ 0,  1,  2],\n",
       "        [12,  9, 10],\n",
       "        [14,  6,  3],\n",
       "        [ 1, 14,  0],\n",
       "        [ 8,  5,  9],\n",
       "        [ 2,  3, 11],\n",
       "        [ 4,  7, 14]],\n",
       "\n",
       "       [[ 3,  4,  9],\n",
       "        [11,  7,  6],\n",
       "        [ 6, 14,  4],\n",
       "        [ 4,  2,  7],\n",
       "        [ 0,  2,  5],\n",
       "        [ 3, 13,  3],\n",
       "        [ 2, 15, 14],\n",
       "        [ 9,  7,  1],\n",
       "        [10, 15, 12],\n",
       "        [10, 10,  8],\n",
       "        [ 9,  2,  4],\n",
       "        [10,  6,  0],\n",
       "        [13,  0, 13],\n",
       "        [ 9,  7,  9],\n",
       "        [15,  1,  6],\n",
       "        [12,  1, 14]],\n",
       "\n",
       "       [[ 6,  8,  0],\n",
       "        [12,  8, 14],\n",
       "        [11, 11, 11],\n",
       "        [13,  8,  5],\n",
       "        [ 6, 13, 11],\n",
       "        [ 1, 11,  4],\n",
       "        [15,  0,  9],\n",
       "        [13,  2,  8],\n",
       "        [ 1, 14,  5],\n",
       "        [ 3,  6,  2],\n",
       "        [ 4,  6,  3],\n",
       "        [ 0, 14, 12],\n",
       "        [ 7,  6, 10],\n",
       "        [ 0,  3,  7],\n",
       "        [ 7, 13,  5],\n",
       "        [15,  2,  8]],\n",
       "\n",
       "       [[ 2, 13, 12],\n",
       "        [ 4,  5,  7],\n",
       "        [13,  5,  3],\n",
       "        [ 1,  0,  0],\n",
       "        [11,  1,  3],\n",
       "        [ 8,  5,  6],\n",
       "        [ 8,  9,  6],\n",
       "        [14,  9,  7],\n",
       "        [15, 12, 13],\n",
       "        [ 4,  5,  8],\n",
       "        [ 8,  2,  9],\n",
       "        [ 4, 10,  8],\n",
       "        [12, 14,  7],\n",
       "        [10,  0, 12],\n",
       "        [ 1,  1,  1],\n",
       "        [ 6, 14, 10]],\n",
       "\n",
       "       [[10, 10,  8],\n",
       "        [ 5,  8,  4],\n",
       "        [ 4,  9, 13],\n",
       "        [12,  0,  5],\n",
       "        [13, 11,  3],\n",
       "        [ 2,  4,  6],\n",
       "        [13,  0, 14],\n",
       "        [ 4,  1,  5],\n",
       "        [ 1, 11,  2],\n",
       "        [12, 11, 11],\n",
       "        [ 9, 15,  1],\n",
       "        [11, 13,  2],\n",
       "        [ 3,  6, 14],\n",
       "        [ 6,  3, 14],\n",
       "        [15, 14,  0],\n",
       "        [10, 13,  2]]], dtype=uint8)"
      ]
     },
     "execution_count": 236,
     "metadata": {},
     "output_type": "execute_result"
    }
   ],
   "source": [
    "I = np.random.randint(0,16,(h,w,3)).astype(np.ubyte)\n",
    "I"
   ]
  },
  {
   "cell_type": "code",
   "execution_count": 237,
   "metadata": {
    "collapsed": false
   },
   "outputs": [
    {
     "data": {
      "text/plain": [
       "152"
      ]
     },
     "execution_count": 237,
     "metadata": {},
     "output_type": "execute_result"
    }
   ],
   "source": [
    "F = I[...,0]*64+I[...,1]*16 + I[...,0] #^?^ when * 256 * 256 rather than * 65536, the result of the first item will be 0\n",
    "U = np.unique(F)\n",
    "Z = len(U)\n",
    "Z"
   ]
  },
  {
   "cell_type": "markdown",
   "metadata": {},
   "source": [
    "### No. 58 Considering a four dimensions array, how to get sum over the last two axis at once? (★★★)"
   ]
  },
  {
   "cell_type": "code",
   "execution_count": 278,
   "metadata": {
    "collapsed": false,
    "scrolled": true
   },
   "outputs": [
    {
     "data": {
      "text/plain": [
       "array([[[[5, 0, 4, 6],\n",
       "         [1, 6, 8, 1],\n",
       "         [9, 4, 9, 9]],\n",
       "\n",
       "        [[4, 6, 9, 5],\n",
       "         [7, 9, 2, 3],\n",
       "         [8, 6, 3, 6]],\n",
       "\n",
       "        [[0, 0, 2, 2],\n",
       "         [5, 8, 7, 8],\n",
       "         [9, 9, 3, 9]],\n",
       "\n",
       "        [[2, 8, 0, 1],\n",
       "         [3, 5, 4, 0],\n",
       "         [5, 9, 8, 7]]],\n",
       "\n",
       "\n",
       "       [[[1, 1, 4, 0],\n",
       "         [3, 9, 7, 5],\n",
       "         [9, 0, 0, 8]],\n",
       "\n",
       "        [[2, 8, 4, 0],\n",
       "         [8, 1, 7, 5],\n",
       "         [5, 9, 4, 5]],\n",
       "\n",
       "        [[6, 6, 0, 5],\n",
       "         [0, 8, 8, 5],\n",
       "         [2, 8, 7, 1]],\n",
       "\n",
       "        [[6, 5, 5, 0],\n",
       "         [6, 0, 8, 3],\n",
       "         [8, 5, 0, 6]]],\n",
       "\n",
       "\n",
       "       [[[5, 3, 0, 7],\n",
       "         [0, 4, 4, 6],\n",
       "         [6, 6, 3, 3]],\n",
       "\n",
       "        [[6, 8, 0, 3],\n",
       "         [3, 8, 7, 3],\n",
       "         [6, 6, 6, 8]],\n",
       "\n",
       "        [[5, 3, 5, 3],\n",
       "         [1, 6, 3, 5],\n",
       "         [7, 6, 2, 1]],\n",
       "\n",
       "        [[6, 6, 3, 2],\n",
       "         [5, 0, 6, 9],\n",
       "         [5, 0, 6, 5]]]])"
      ]
     },
     "execution_count": 278,
     "metadata": {},
     "output_type": "execute_result"
    }
   ],
   "source": [
    "A = np.random.randint(0,10,(3,4,3,4))\n",
    "A"
   ]
  },
  {
   "cell_type": "code",
   "execution_count": 293,
   "metadata": {
    "collapsed": false
   },
   "outputs": [
    {
     "data": {
      "text/plain": [
       "array([[62, 68, 62, 52],\n",
       "       [47, 58, 56, 52],\n",
       "       [47, 64, 47, 53]])"
      ]
     },
     "execution_count": 293,
     "metadata": {},
     "output_type": "execute_result"
    }
   ],
   "source": [
    "A.reshape(A.shape[:-2]+(-1,)).sum(axis=-1) # along the last axis"
   ]
  },
  {
   "cell_type": "code",
   "execution_count": 289,
   "metadata": {
    "collapsed": false,
    "scrolled": false
   },
   "outputs": [
    {
     "data": {
      "text/plain": [
       "array([5, 0, 4, 6, 1, 6, 8, 1, 9, 4, 9, 9, 4, 6, 9, 5, 7, 9, 2, 3, 8, 6, 3,\n",
       "       6, 0, 0, 2, 2, 5, 8, 7, 8, 9, 9, 3, 9, 2, 8, 0, 1, 3, 5, 4, 0, 5, 9,\n",
       "       8, 7, 1, 1, 4, 0, 3, 9, 7, 5, 9, 0, 0, 8, 2, 8, 4, 0, 8, 1, 7, 5, 5,\n",
       "       9, 4, 5, 6, 6, 0, 5, 0, 8, 8, 5, 2, 8, 7, 1, 6, 5, 5, 0, 6, 0, 8, 3,\n",
       "       8, 5, 0, 6, 5, 3, 0, 7, 0, 4, 4, 6, 6, 6, 3, 3, 6, 8, 0, 3, 3, 8, 7,\n",
       "       3, 6, 6, 6, 8, 5, 3, 5, 3, 1, 6, 3, 5, 7, 6, 2, 1, 6, 6, 3, 2, 5, 0,\n",
       "       6, 9, 5, 0, 6, 5])"
      ]
     },
     "execution_count": 289,
     "metadata": {},
     "output_type": "execute_result"
    }
   ],
   "source": [
    "# A[...,:,:].flatten() #^?^ flatten() not to the dimensions?"
   ]
  },
  {
   "cell_type": "markdown",
   "metadata": {},
   "source": [
    "### No.59 Considering a one-dimensional vector D, how to compute means of subsets of D using a vector S of same size describing subset indices? (★★★)"
   ]
  },
  {
   "cell_type": "code",
   "execution_count": null,
   "metadata": {
    "collapsed": true
   },
   "outputs": [],
   "source": []
  },
  {
   "cell_type": "code",
   "execution_count": null,
   "metadata": {
    "collapsed": true
   },
   "outputs": [],
   "source": []
  },
  {
   "cell_type": "code",
   "execution_count": null,
   "metadata": {
    "collapsed": true
   },
   "outputs": [],
   "source": []
  },
  {
   "cell_type": "code",
   "execution_count": null,
   "metadata": {
    "collapsed": true
   },
   "outputs": [],
   "source": []
  },
  {
   "cell_type": "code",
   "execution_count": null,
   "metadata": {
    "collapsed": true
   },
   "outputs": [],
   "source": []
  },
  {
   "cell_type": "code",
   "execution_count": 677,
   "metadata": {
    "collapsed": false
   },
   "outputs": [
    {
     "data": {
      "text/plain": [
       "array([ 6.,  6.,  6.,  6.,  6.])"
      ]
     },
     "execution_count": 677,
     "metadata": {},
     "output_type": "execute_result"
    }
   ],
   "source": [
    "np.array([6.] * 5)"
   ]
  },
  {
   "cell_type": "code",
   "execution_count": 680,
   "metadata": {
    "collapsed": false
   },
   "outputs": [
    {
     "data": {
      "text/plain": [
       "array([[[ 10.,  10.,  10.],\n",
       "        [ 10.,  10.,  10.],\n",
       "        [ 10.,  10.,  10.]],\n",
       "\n",
       "       [[ 10.,  10.,  10.],\n",
       "        [ 10.,  10.,  10.],\n",
       "        [ 10.,  10.,  10.]]])"
      ]
     },
     "execution_count": 680,
     "metadata": {},
     "output_type": "execute_result"
    }
   ],
   "source": [
    "np.array([10.] * 18).reshape(2,3,3)\n",
    "\n"
   ]
  },
  {
   "cell_type": "code",
   "execution_count": null,
   "metadata": {
    "collapsed": true
   },
   "outputs": [],
   "source": []
  }
 ],
 "metadata": {
  "kernelspec": {
   "display_name": "Python 3",
   "language": "python",
   "name": "python3"
  },
  "language_info": {
   "codemirror_mode": {
    "name": "ipython",
    "version": 3
   },
   "file_extension": ".py",
   "mimetype": "text/x-python",
   "name": "python",
   "nbconvert_exporter": "python",
   "pygments_lexer": "ipython3",
   "version": "3.5.3"
  }
 },
 "nbformat": 4,
 "nbformat_minor": 2
}
