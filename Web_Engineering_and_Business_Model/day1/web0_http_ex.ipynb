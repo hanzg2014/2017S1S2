{
 "cells": [
  {
   "cell_type": "markdown",
   "metadata": {},
   "source": [
    "## Jupyterの使い方1 [ターミナル]"
   ]
  },
  {
   "cell_type": "markdown",
   "metadata": {},
   "source": [
    "\n",
    "### ターミナルの練習\n",
    "\n",
    "\n",
    "![alt text](http://connolab.com/weben1/img/jupyter_ex1.png \"test\")"
   ]
  },
  {
   "cell_type": "markdown",
   "metadata": {},
   "source": [
    "---\n",
    "\n",
    "### ファインダー操作の練習\n",
    "\n",
    "![alt text](http://connolab.com/weben1/img/terminals_ex1.png \"test\")"
   ]
  },
  {
   "cell_type": "markdown",
   "metadata": {},
   "source": [
    "## Apacheサーバーを起動する"
   ]
  },
  {
   "cell_type": "markdown",
   "metadata": {},
   "source": [
    "---\n",
    "\n",
    "### terminalでApacheの操作\n",
    "\n",
    "- サーバを起動する\n",
    "```\n",
    "$ apachectl start\n",
    "```\n",
    "\n",
    "- サーバを停止する\n",
    "```\n",
    "$ apachectl stop\n",
    "```\n",
    "\n",
    "- サーバを停止する\n",
    "```\n",
    "$ apachectl restart\n",
    "```"
   ]
  },
  {
   "cell_type": "markdown",
   "metadata": {},
   "source": [
    "---\n",
    "### 公開する情報（html）を作成\n",
    "\n",
    "- 公開用に関連付けられたフォルダ -> \"apache\"\n",
    "- https://a.proxy.ilect.net/a/ \n"
   ]
  },
  {
   "cell_type": "markdown",
   "metadata": {},
   "source": [
    "---\n",
    "## WEBのしくみ [HTTPの実験]\n",
    "\n",
    "### curl コマンド\n",
    "\n",
    "HTTPアクセスをしてコンテンツを取得できるコマンド\n",
    "URLをパラメータにしてそのコンテンツを標準出力させるのが、基本的な使い方\n"
   ]
  },
  {
   "cell_type": "markdown",
   "metadata": {},
   "source": [
    "Jupyter Notebookでも\n",
    "\n",
    ">!curl\n",
    "\n",
    "と打つことで、コマンドを実行できます"
   ]
  },
  {
   "cell_type": "markdown",
   "metadata": {},
   "source": [
    "---\n",
    "#### 基本 [GET]\n",
    "\n",
    "```\n",
    "$ curl [オプション] 接続先URL\n",
    "```\n",
    "\n",
    "#### 取得情報の保存\n",
    "```\n",
    "$ curl 接続先URL > 保存ファイル名\n",
    "```\n",
    "\n",
    "---\n",
    "\n",
    "#### HTTPヘッダ情報をリダイレクト 保存\n",
    "#### -i (--include) ヘッダ付き で情報取得\n",
    "#### -v (--verbose)\tリクエストとレス本をを表示する\n",
    "\n",
    "\n",
    "```\n",
    "$ curl -i -v 'http://connolab.com/weben1/' > http1.html\n",
    "```\n",
    "\n",
    "#### -I (--head) HTTPヘッダのみで情報取得\n",
    "\n",
    "```\n",
    "$ curl -I 'http://connolab.com/weben1/' > http1.html\n",
    "```\n",
    "\n",
    "#### データの保存\n",
    "####  -O (--remote-name) 取得したデータを標準出力ではなくファイルに出力する\n",
    "\n",
    "```\n",
    "$ curl -O 'http://connolab.com/weben1/img/photo[1-3].jpg' \n",
    "```\n",
    "\n",
    "#### ちょっと詐称してみる\n",
    "#### -A  (--user-agent AGENT) ユーザーエージェントAGENTを指定する\n",
    "\n",
    "```\n",
    "$ curl -A 'Mozilla/4.0' -v 'http://connolab.com/weben1/' > http2.html\n",
    "```"
   ]
  },
  {
   "cell_type": "code",
   "execution_count": 13,
   "metadata": {
    "collapsed": false
   },
   "outputs": [
    {
     "name": "stdout",
     "output_type": "stream",
     "text": [
      "  % Total    % Received % Xferd  Average Speed   Time    Time     Time  Current\n",
      "                                 Dload  Upload   Total   Spent    Left  Speed\n",
      "100  2140  100  2140    0     0  25787      0 --:--:-- --:--:-- --:--:-- 36271\n"
     ]
    }
   ],
   "source": [
    "!curl -i 'http://connolab.com/weben1/' > http1.html "
   ]
  },
  {
   "cell_type": "code",
   "execution_count": 11,
   "metadata": {
    "collapsed": false
   },
   "outputs": [
    {
     "name": "stdout",
     "output_type": "stream",
     "text": [
      "*   Trying 180.147.239.11...\n",
      "* TCP_NODELAY set\n",
      "  % Total    % Received % Xferd  Average Speed   Time    Time     Time  Current\n",
      "                                 Dload  Upload   Total   Spent    Left  Speed\n",
      "  0     0    0     0    0     0      0      0 --:--:-- --:--:-- --:--:--     0* Connected to connolab.com (180.147.239.11) port 80 (#0)\n",
      "> GET /weben1/ HTTP/1.1\n",
      "> Host: connolab.com\n",
      "> User-Agent: curl/7.52.1\n",
      "> Accept: */*\n",
      "> \n",
      "< HTTP/1.1 200 OK\n",
      "< Date: Fri, 28 Apr 2017 10:40:43 GMT\n",
      "< Server: Apache\n",
      "< Content-Length: 2140\n",
      "< Connection: close\n",
      "< Content-Type: text/html; charset=UTF-8\n",
      "< \n",
      "{ [2140 bytes data]\n",
      "* Curl_http_done: called premature == 0\n",
      "100  2140  100  2140    0     0  34650      0 --:--:-- --:--:-- --:--:-- 36896\n",
      "* Closing connection 0\n"
     ]
    }
   ],
   "source": [
    "!curl -v 'http://connolab.com/weben1/' > http1.html"
   ]
  },
  {
   "cell_type": "code",
   "execution_count": 14,
   "metadata": {
    "collapsed": false
   },
   "outputs": [
    {
     "name": "stdout",
     "output_type": "stream",
     "text": [
      "  % Total    % Received % Xferd  Average Speed   Time    Time     Time  Current\n",
      "                                 Dload  Upload   Total   Spent    Left  Speed\n",
      "  0     0    0     0    0     0      0      0 --:--:-- --:--:-- --:--:--     0\n"
     ]
    }
   ],
   "source": [
    "!curl -I 'http://connolab.com/weben1/' > http1.html"
   ]
  },
  {
   "cell_type": "code",
   "execution_count": 1,
   "metadata": {
    "collapsed": false
   },
   "outputs": [
    {
     "name": "stdout",
     "output_type": "stream",
     "text": [
      "\n",
      "[1/3]: http://connolab.com/weben1/img/photo1.jpg --> photo1.jpg\n",
      "--_curl_--http://connolab.com/weben1/img/photo1.jpg\n",
      "  % Total    % Received % Xferd  Average Speed   Time    Time     Time  Current\n",
      "                                 Dload  Upload   Total   Spent    Left  Speed\n",
      "100  200k  100  200k    0     0  59455      0  0:00:03  0:00:03 --:--:--  482k\n",
      "\n",
      "[2/3]: http://connolab.com/weben1/img/photo2.jpg --> photo2.jpg\n",
      "--_curl_--http://connolab.com/weben1/img/photo2.jpg\n",
      "100  138k  100  138k    0     0   734k      0 --:--:-- --:--:-- --:--:-- 1114k\n",
      "\n",
      "[3/3]: http://connolab.com/weben1/img/photo3.jpg --> photo3.jpg\n",
      "--_curl_--http://connolab.com/weben1/img/photo3.jpg\n",
      "100  614k  100  614k    0     0   775k      0 --:--:-- --:--:-- --:--:--  775k\n"
     ]
    }
   ],
   "source": [
    "!curl -O 'http://connolab.com/weben1/img/photo[1-3].jpg'"
   ]
  },
  {
   "cell_type": "code",
   "execution_count": 6,
   "metadata": {
    "collapsed": false
   },
   "outputs": [
    {
     "name": "stdout",
     "output_type": "stream",
     "text": [
      "*   Trying 180.147.239.11...\n",
      "* TCP_NODELAY set\n",
      "  % Total    % Received % Xferd  Average Speed   Time    Time     Time  Current\n",
      "                                 Dload  Upload   Total   Spent    Left  Speed\n",
      "  0     0    0     0    0     0      0      0 --:--:-- --:--:-- --:--:--     0* Connected to connolab.com (180.147.239.11) port 80 (#0)\n",
      "> GET /weben1/ HTTP/1.1\n",
      "> Host: connolab.com\n",
      "> User-Agent: curl/7.52.1\n",
      "> Accept: */*\n",
      "> \n",
      "< HTTP/1.1 200 OK\n",
      "< Date: Fri, 28 Apr 2017 10:37:45 GMT\n",
      "< Server: Apache\n",
      "< Content-Length: 2140\n",
      "< Connection: close\n",
      "< Content-Type: text/html; charset=UTF-8\n",
      "< \n",
      "{ [2140 bytes data]\n",
      "* Curl_http_done: called premature == 0\n",
      "100  2140  100  2140    0     0  59132      0 --:--:-- --:--:-- --:--:-- 64848\n",
      "* Closing connection 0\n"
     ]
    }
   ],
   "source": [
    "!curl -v 'http://connolab.com/weben1/' > http1.html "
   ]
  },
  {
   "cell_type": "code",
   "execution_count": 8,
   "metadata": {
    "collapsed": false
   },
   "outputs": [
    {
     "name": "stdout",
     "output_type": "stream",
     "text": [
      "*   Trying 180.147.239.11...\n",
      "* TCP_NODELAY set\n",
      "  % Total    % Received % Xferd  Average Speed   Time    Time     Time  Current\n",
      "                                 Dload  Upload   Total   Spent    Left  Speed\n",
      "  0     0    0     0    0     0      0      0 --:--:-- --:--:-- --:--:--     0* Connected to connolab.com (180.147.239.11) port 80 (#0)\n",
      "> GET /weben1/ HTTP/1.1\n",
      "> Host: connolab.com\n",
      "> User-Agent: Mozilla/4.0\n",
      "> Accept: */*\n",
      "> \n",
      "< HTTP/1.1 200 OK\n",
      "< Date: Fri, 28 Apr 2017 10:38:30 GMT\n",
      "< Server: Apache\n",
      "< Content-Length: 2140\n",
      "< Connection: close\n",
      "< Content-Type: text/html; charset=UTF-8\n",
      "< \n",
      "{ [2140 bytes data]\n",
      "* Curl_http_done: called premature == 0\n",
      "100  2140  100  2140    0     0  58040      0 --:--:-- --:--:-- --:--:-- 64848\n",
      "* Closing connection 0\n"
     ]
    }
   ],
   "source": [
    "!curl -A 'Mozilla/4.0' -v 'http://connolab.com/weben1/' > http2.html"
   ]
  },
  {
   "cell_type": "markdown",
   "metadata": {},
   "source": [
    "---\n",
    "#### 基本 [POST]\n",
    "\n",
    "```\n",
    "$ curl -i -d [変数名]=[インプット情報] -L 接続先URL > 保存ファイル名\n",
    "```\n",
    "-L はリダイレクト先（ページが遷移した先）の情報をとる\n",
    "\n",
    "```\n",
    "$ curl -i -d sirname=James -d firstname=Bond 'http://connolab.com/weben1/apply.php' > res.html\n",
    "```\n",
    "\n",
    "---\n",
    "\n",
    "フォームのHTML\n",
    "```html\n",
    "<form action=\"\" method=\"POST\" target=\"_self\">\n",
    "    <p>名前急募<p>\n",
    "            名字\n",
    "            <input type=\"text\" name=\"sirname\">\n",
    "            名前\n",
    "            <input type=\"text\" name=\"firstname\">\n",
    "            <input type=\"submit\" name=\"submit\" value=\"送信\">\n",
    "</form>\n",
    "```\n",
    "---"
   ]
  },
  {
   "cell_type": "code",
   "execution_count": 15,
   "metadata": {
    "collapsed": false
   },
   "outputs": [
    {
     "name": "stdout",
     "output_type": "stream",
     "text": [
      "  % Total    % Received % Xferd  Average Speed   Time    Time     Time  Current\n",
      "                                 Dload  Upload   Total   Spent    Left  Speed\n",
      "100  2635  100  2607  100    28  48511    521 --:--:-- --:--:-- --:--:-- 52140\n"
     ]
    }
   ],
   "source": [
    "!curl -i -d sirname=James -d firstname=Bond 'http://connolab.com/weben1/apply.php' > res.html"
   ]
  },
  {
   "cell_type": "code",
   "execution_count": 19,
   "metadata": {
    "collapsed": false
   },
   "outputs": [
    {
     "name": "stdout",
     "output_type": "stream",
     "text": [
      "  % Total    % Received % Xferd  Average Speed   Time    Time     Time  Current\n",
      "                                 Dload  Upload   Total   Spent    Left  Speed\n",
      "100 94429  100 94429    0     0  92091      0  0:00:01  0:00:01 --:--:-- 92305\n"
     ]
    }
   ],
   "source": [
    "!curl -L http://connolab.com/weben1/img/yagi.jpg > ./img/yagi.jpg #図を貼り付ける"
   ]
  },
  {
   "cell_type": "markdown",
   "metadata": {},
   "source": [
    "#### おまけ\n",
    "\n",
    "下記のようにCurlで写真をダウンロードして、表示することも可能"
   ]
  },
  {
   "cell_type": "code",
   "execution_count": 16,
   "metadata": {
    "collapsed": false,
    "scrolled": true
   },
   "outputs": [
    {
     "name": "stdout",
     "output_type": "stream",
     "text": [
      "  % Total    % Received % Xferd  Average Speed   Time    Time     Time  Current\n",
      "                                 Dload  Upload   Total   Spent    Left  Speed\n",
      "100 86307  100 86307    0     0  98256      0 --:--:-- --:--:-- --:--:--  100k\n"
     ]
    }
   ],
   "source": [
    "!curl -L https://upload.wikimedia.org/wikipedia/commons/0/08/Waterbear.jpg > image.jpg"
   ]
  },
  {
   "cell_type": "markdown",
   "metadata": {},
   "source": [
    "![alt text](./image.jpg \"test\")"
   ]
  },
  {
   "cell_type": "markdown",
   "metadata": {
    "collapsed": true
   },
   "source": [
    "いろいろ遊んでみて下さい。"
   ]
  },
  {
   "cell_type": "code",
   "execution_count": 19,
   "metadata": {
    "collapsed": false
   },
   "outputs": [
    {
     "name": "stdout",
     "output_type": "stream",
     "text": [
      "  % Total    % Received % Xferd  Average Speed   Time    Time     Time  Current\n",
      "                                 Dload  Upload   Total   Spent    Left  Speed\n",
      "100 94429  100 94429    0     0  92091      0  0:00:01  0:00:01 --:--:-- 92305\n"
     ]
    }
   ],
   "source": [
    "!curl -L http://connolab.com/weben1/img/yagi.jpg > ./img/yagi.jpg"
   ]
  }
 ],
 "metadata": {
  "kernelspec": {
   "display_name": "Python 2",
   "language": "python",
   "name": "python2"
  },
  "language_info": {
   "codemirror_mode": {
    "name": "ipython",
    "version": 2
   },
   "file_extension": ".py",
   "mimetype": "text/x-python",
   "name": "python",
   "nbconvert_exporter": "python",
   "pygments_lexer": "ipython2",
   "version": "2.7.7"
  }
 },
 "nbformat": 4,
 "nbformat_minor": 2
}
