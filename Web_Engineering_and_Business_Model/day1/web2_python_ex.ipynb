{
 "cells": [
  {
   "cell_type": "markdown",
   "metadata": {},
   "source": [
    "# Jupyter Notebook\n",
    "\n",
    "\n",
    "- Jupyter Notebookは、Pythonのコードを含んだドキュメントを作成できるインターフェース\n",
    "- 記入したPythonコードは実行できる\n",
    "- 実行可能なコードとその結果を併せて保存しておくことができる\n"
   ]
  },
  {
   "cell_type": "markdown",
   "metadata": {},
   "source": [
    ">[参考URL]\n",
    "\n",
    ">http://pythondatascience.plavox.info/pythonの開発環境/jupyter-notebookを使ってみよう/\n",
    "\n",
    ">http://jupyter-notebook.readthedocs.io/en/latest/examples/Notebook/Working%20With%20Markdown%20Cells.html"
   ]
  },
  {
   "cell_type": "markdown",
   "metadata": {},
   "source": [
    "![dd](https://qiita-image-store.s3.amazonaws.com/0/67592/6634bd1a-4e49-7fcf-4a6f-700009ea0594.png)"
   ]
  },
  {
   "cell_type": "markdown",
   "metadata": {},
   "source": [
    "### ショートカットキー\n",
    "- 効率よく作業をすすめるためにを使いこなせるように！\n",
    "\n",
    "-- 編集モード(エンター) <--> 編集モードでない状態（esc）\n",
    "\n",
    "-- 編集モードでない状態 + 「h」を押す -> 以下のようなチートシート画面が出てくる"
   ]
  },
  {
   "cell_type": "markdown",
   "metadata": {},
   "source": [
    "![comment](http://www.perfectlyrandom.org/assets/jupyter-keyboard-shortcuts.png)"
   ]
  },
  {
   "cell_type": "markdown",
   "metadata": {},
   "source": [
    "### 重要ショートカット\n",
    "\n",
    "- Codeモード-> 編集モードでない状態 + 「Y」\n",
    "- Markdown モード-> 編集モードでない状態 + 「M」\n",
    "- Pythonの実行 -> 「Shift」+ 「Enter」\n",
    "- 新しいセルを下に追加したい場合 -> 「b」\n",
    "- コピー ->「c」\n",
    "- 貼り付け ->「v」\n",
    "- セルの消去 ->「d」\n",
    "\n"
   ]
  },
  {
   "cell_type": "markdown",
   "metadata": {},
   "source": [
    "# python ことはじめ\n",
    "\n",
    "- アンケートから、python経験者が多いので、簡単な練習問題を通して基礎を復習します。 \n"
   ]
  },
  {
   "cell_type": "markdown",
   "metadata": {},
   "source": [
    "### Jupyter Notebook でHello World :)\n",
    "\n",
    "- 上の再生ボタン（▶︎｜）を押しても、実行できる"
   ]
  },
  {
   "cell_type": "code",
   "execution_count": null,
   "metadata": {
    "collapsed": false
   },
   "outputs": [],
   "source": [
    "print(\"Hello, world !\")"
   ]
  },
  {
   "cell_type": "code",
   "execution_count": null,
   "metadata": {
    "collapsed": false
   },
   "outputs": [],
   "source": [
    "# 演算とその出力例\n",
    "print(1 + 1)\n",
    "print(2 * 5)\n",
    "print(10 ** 3) # 10の3乗,〜乗は**を使う"
   ]
  },
  {
   "cell_type": "code",
   "execution_count": null,
   "metadata": {
    "collapsed": false
   },
   "outputs": [],
   "source": [
    "# 文字の操作 ： 抜き出し : 0から始まる -> 数字を変えてみよう\n",
    "\n",
    "sample_char = \"sample_char\"\n",
    "sample_char[0]"
   ]
  },
  {
   "cell_type": "code",
   "execution_count": null,
   "metadata": {
    "collapsed": false
   },
   "outputs": [],
   "source": [
    "# list\n",
    "sample_data_list = [1,2,3,4,5,6,7,8,9,10]\n",
    "print(sample_data_list)\n",
    "\n",
    "print(\"変数のタイプ:\",type(sample_data_list))\n",
    "\n",
    "# 1つの要素を指定。0から始まり、[1]は2番目になるので注意。\n",
    "print(\"2番目の数：\",sample_data_list[1])\n",
    "\n",
    "# lenで要素の数を出力。ここでは1から10までの10個なので、結果は10。\n",
    "print(\"要素数：\",len(sample_data_list))"
   ]
  },
  {
   "cell_type": "code",
   "execution_count": null,
   "metadata": {
    "collapsed": false
   },
   "outputs": [],
   "source": [
    "# dictionary\n",
    "sample_dic_data = {'key_1':100,'key_2':100,'key_3':300,'key_4':400,'key_5':500}\n",
    "print(sample_dic_data['key_5'])"
   ]
  },
  {
   "cell_type": "code",
   "execution_count": null,
   "metadata": {
    "collapsed": false
   },
   "outputs": [],
   "source": [
    "# 条件分岐\n",
    "sample_int = 5\n",
    "sample_data_list = [1,2,3,4,5,6,7,8,9,10]\n",
    "\n",
    "if sample_int in sample_data_list:\n",
    "    print(\" %d は入っています。\" %(sample_int))\n",
    "else:\n",
    "    print(\" %d は入っていません。\" %(sample_int))"
   ]
  },
  {
   "cell_type": "code",
   "execution_count": null,
   "metadata": {
    "collapsed": false
   },
   "outputs": [],
   "source": [
    "sample_dic_data = {'key_1':100,'key_2':100,'key_3':300,'key_4':400,'key_5':500}\n",
    "\n",
    "# for 文\n",
    "for dic_key in sample_dic_data:\n",
    "    print(dic_key,sample_dic_data[dic_key])"
   ]
  },
  {
   "cell_type": "code",
   "execution_count": null,
   "metadata": {
    "collapsed": false
   },
   "outputs": [],
   "source": [
    "# 関数\n",
    "def bmi(h,w):\n",
    "    bmi=w/(h/100)/(h/100)\n",
    "    #print(bmi)\n",
    "    \n",
    "    if bmi<18.5:\n",
    "        return \"少し痩せている\"       \n",
    "    elif 18.5<=bmi<25.0:\n",
    "        return \"標準的な体型\"\n",
    "    else:\n",
    "       return \"少し太っている\"\n",
    "\n",
    "height=165\n",
    "weight=60\n",
    "\n",
    "#関数+引数\n",
    "message = bmi(height, weight)\n",
    "print(message)"
   ]
  },
  {
   "cell_type": "markdown",
   "metadata": {},
   "source": [
    "---\n",
    "\n",
    "### 問題1\n",
    "\n",
    "#### シンプルな「割り勘計算機」を作成してください\n",
    "-  \"input()\"で請求代金と参加参加人数を取得\n",
    "- \"pront\"で一人頭の価格をPrintで書き出す"
   ]
  },
  {
   "cell_type": "code",
   "execution_count": null,
   "metadata": {
    "collapsed": true
   },
   "outputs": [],
   "source": [
    "# コードを下記に記入\n",
    "#  解答は下 （解答はわかりやすいように、変数を増やして記入しています）\n",
    "#\n",
    "#"
   ]
  },
  {
   "cell_type": "code",
   "execution_count": null,
   "metadata": {
    "collapsed": false
   },
   "outputs": [],
   "source": [
    "#  解答\n",
    "\n",
    "# エンコード指定\n",
    "# -*- coding: utf-8 -*-\n",
    "\n",
    "#モジュール\n",
    "import math\n",
    "\n",
    "#文字\n",
    "print ('割り勘 計算機')\n",
    "\n",
    "# 変数  \n",
    "account= int(input('お勘定'))\n",
    "persons = int(input('参加人数'))\n",
    "\n",
    "# 計算\n",
    "#モジュールの使用 -> 数値の切り上げ\n",
    "price = math.ceil( account/persons )\n",
    "\n",
    "# 文字列置換（フォーマット） %dは10進数に変換される\n",
    "print ('金額: %d円ください' % price)"
   ]
  },
  {
   "cell_type": "markdown",
   "metadata": {},
   "source": [
    "***\n",
    "### 応用問題\n",
    "上のコードをCopy&Pasteして、下記の条件を書き加えて下さい\n",
    "\n",
    "- 一人頭の支払代金が細かい価格になるため、割り勘がめんどくさい\n",
    "- 10の位は切り上げて、精算後のお釣りは幹事のご褒美としましょう"
   ]
  },
  {
   "cell_type": "code",
   "execution_count": null,
   "metadata": {
    "collapsed": true
   },
   "outputs": [],
   "source": [
    "# コードを下記に記入\n",
    "#  解答は下 （解答はわかりやすいように、変数を増やして記入しています）\n",
    "#\n",
    "#"
   ]
  },
  {
   "cell_type": "code",
   "execution_count": null,
   "metadata": {
    "collapsed": false
   },
   "outputs": [],
   "source": [
    "import math\n",
    "\n",
    "print ('幹事に優しい割り勘 計算機')\n",
    " \n",
    "account= int(input('お勘定'))\n",
    "persons = int(input('参加人数'))\n",
    "\n",
    "# 　// 整数の返り値\n",
    "res = account//persons\n",
    "# 　きりの良い価格へ変換\n",
    "price = math.ceil(res/100)*100\n",
    "reward = price*persons-account\n",
    "\n",
    "# 　複数の文字置換\n",
    "print ('「お一人金額: %d円」「幹事のご褒美: %d円」' % (price, reward))"
   ]
  },
  {
   "cell_type": "markdown",
   "metadata": {},
   "source": [
    "---\n",
    "## 問題2\n",
    "上のコードをCopy&Pasteして、下記の条件を書き加えて下さい\n",
    "\n",
    "- \"input()\"で新入生の人数を取得\n",
    "- ゼミに新入生がいるか確認し、いたら、彼らの支払いを半額にする\n",
    "- 関数と条件分岐をつかう"
   ]
  },
  {
   "cell_type": "code",
   "execution_count": null,
   "metadata": {
    "collapsed": true
   },
   "outputs": [],
   "source": [
    "# コードを下記に記入\n",
    "#  解答は下 （解答はわかりやすいように、変数を増やして記入しています）\n",
    "#\n",
    "#"
   ]
  },
  {
   "cell_type": "code",
   "execution_count": null,
   "metadata": {
    "collapsed": false,
    "scrolled": true
   },
   "outputs": [],
   "source": [
    "#解答\n",
    "\n",
    "import math\n",
    "\n",
    "print ('新歓 割り勘 計算機')\n",
    " \n",
    "account= int(input('お勘定'))\n",
    "senpais = int(input('先輩人数'))\n",
    "fleshmans = int(input('新入生人数'))\n",
    "   \n",
    "#   関数 ： 新入生 有りの時の計算\n",
    "def cal1():\n",
    "    res = account/(senpais*2+fleshmans) \n",
    "    p1 = getRound(res*2)\n",
    "    p2 = getRound(res)\n",
    "    psum = p1*senpais + p2*fleshmans\n",
    "    reward = psum - account \n",
    "    # list\n",
    "    return p1, p2, reward\n",
    "\n",
    "#   関数 ： 新入生 無しの時の計算\n",
    "def cal2(): \n",
    "    price = getRound(account//(senpais+fleshmans))\n",
    "    reward = price*(senpais+fleshmans) - account \n",
    "    # list\n",
    "    return [price, reward]\n",
    "\n",
    "#   関数 ： きりの良い価格に整形\n",
    "def getRound(num):\n",
    "    return math.ceil(num/100)*100 \n",
    "\n",
    "#条件分岐 \n",
    "if fleshmans > 0:\n",
    "    print('新入生有り')\n",
    "    #返り値の受け取り方1\n",
    "    amount, p2, reward = cal1()\n",
    "    msg = '「　先輩: %d円」「新入生: %d円」「幹事のご褒美: %d円」' % (amount, p2, reward) \n",
    "else:\n",
    "    print('新入生無し')\n",
    "    #返り値の受け取り方2\n",
    "    amount = cal2()\n",
    "    msg = '「お一人金額: %d円」「幹事のご褒美: %d円」' % (amount[0], amount[1]) \n",
    "    \n",
    "print (msg)"
   ]
  },
  {
   "cell_type": "code",
   "execution_count": null,
   "metadata": {
    "collapsed": true
   },
   "outputs": [],
   "source": []
  }
 ],
 "metadata": {
  "kernelspec": {
   "display_name": "Python 3",
   "language": "python",
   "name": "python3"
  },
  "language_info": {
   "codemirror_mode": {
    "name": "ipython",
    "version": 3
   },
   "file_extension": ".py",
   "mimetype": "text/x-python",
   "name": "python",
   "nbconvert_exporter": "python",
   "pygments_lexer": "ipython3",
   "version": "3.6.0"
  }
 },
 "nbformat": 4,
 "nbformat_minor": 2
}
